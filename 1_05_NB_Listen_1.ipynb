{
 "cells": [
  {
   "cell_type": "markdown",
   "metadata": {},
   "source": [
    "Notebook zu Datentypen in Python: Listen (Teil 1)\n",
    "\n",
    "Version 1.3, 26. Oktober 2023, Informatik, EAH Jena\n",
    "\n",
    "(c) Christina B. Class"
   ]
  },
  {
   "cell_type": "markdown",
   "metadata": {},
   "source": [
    "# Listen"
   ]
  },
  {
   "cell_type": "markdown",
   "metadata": {},
   "source": [
    "## 1. Definition und Zugriff"
   ]
  },
  {
   "cell_type": "markdown",
   "metadata": {},
   "source": [
    "### 1.1 Definition einer Liste"
   ]
  },
  {
   "cell_type": "markdown",
   "metadata": {},
   "source": [
    "Listen erlauben es, Werte des gleichen oder verschiedener Datentypen *zusammenhängend* abzuspeichern. Listen sind ein **sequenzieller Datentyp**, d.h. die Elemente in der Liste haben eine wohl definierte Reihenfolge. Der Python Datentyp für eine Liste heißt `list`. "
   ]
  },
  {
   "cell_type": "markdown",
   "metadata": {},
   "source": [
    "Eine Liste definieren Sie durch Angabe der Listenelemente in eckigen Klammern `[]`. Einzelne Listenelemente werden durch Kommata `,` getrennt."
   ]
  },
  {
   "cell_type": "code",
   "execution_count": null,
   "metadata": {},
   "outputs": [],
   "source": [
    "bspListe1=[1,2,3]\n",
    "print(bspListe1)"
   ]
  },
  {
   "cell_type": "markdown",
   "metadata": {},
   "source": [
    "Listen können Werte beliebiger Datentypen beinhalten sowie Werte unterschiedlicher Datentypen innerhalb einer Liste. "
   ]
  },
  {
   "cell_type": "code",
   "execution_count": null,
   "metadata": {},
   "outputs": [],
   "source": [
    "bspListe2=[True,False,False,True]\n",
    "bspListe3=[13,'Heute ist Montag',-3,12.4,False]\n",
    "\n",
    "print(bspListe2)\n",
    "print(bspListe3)"
   ]
  },
  {
   "cell_type": "markdown",
   "metadata": {},
   "source": [
    "Eine leere Liste erzeugen Sie mit `[]` oder `list()`."
   ]
  },
  {
   "cell_type": "code",
   "execution_count": null,
   "metadata": {},
   "outputs": [],
   "source": [
    "leereListe1=[]\n",
    "leereListe2=list()\n",
    "\n",
    "print(leereListe1)\n",
    "print(leereListe2)"
   ]
  },
  {
   "cell_type": "markdown",
   "metadata": {},
   "source": [
    "### 1.2 Eine Liste mit Hilfe von `range()` erzeugen"
   ]
  },
  {
   "cell_type": "markdown",
   "metadata": {},
   "source": [
    "Mit Hilfe der \"Funktion\" `list()` können Sie eine durch `range()` erzeugte Zahlenfolge in eine Liste umwandeln."
   ]
  },
  {
   "cell_type": "code",
   "execution_count": null,
   "metadata": {},
   "outputs": [],
   "source": [
    "folgenListe1=list(range(1,11))\n",
    "folgenListe2=list(range(1,11,3))\n",
    "\n",
    "print(folgenListe1)\n",
    "print(folgenListe2)"
   ]
  },
  {
   "cell_type": "markdown",
   "metadata": {},
   "source": [
    "### 1.3 Zugriff auf einzelne Elemente über `[]` und den Index"
   ]
  },
  {
   "cell_type": "markdown",
   "metadata": {},
   "source": [
    "Listen können verändert werden. Darauf gehen wir später ein. Aktuell greifen wir *nur lesend* auf Listen zu.  "
   ]
  },
  {
   "cell_type": "markdown",
   "metadata": {},
   "source": [
    "Listen sind sequenzielle Datentypen, d.h. die einzelnen Elemente werden in einer bestimmten Reihenfolge abgespeichert. Der Zugriff auf ein einzelnes Element erfolgt durch den Operator `[]` und den **Index** des Elementes. Das erste Element in der Liste steht an **Index 0**, das letzte Element einer Liste mit n Elementen hat den Index n-1. "
   ]
  },
  {
   "cell_type": "markdown",
   "metadata": {},
   "source": [
    "Gegeben ist folgende Liste:"
   ]
  },
  {
   "cell_type": "code",
   "execution_count": null,
   "metadata": {},
   "outputs": [],
   "source": [
    "dieListe=[1,2,3,4,5]"
   ]
  },
  {
   "cell_type": "markdown",
   "metadata": {},
   "source": [
    "Mit `dieListe[0]` greifen Sie auf das erste Element (mit dem Wert 1), mit `dieListe[3]` auf das vierte Element (mit dem Wert 4) und mit `dieListe[4]`  auf das letzte Element (mit dem Wert 5) in der Liste zu."
   ]
  },
  {
   "cell_type": "markdown",
   "metadata": {},
   "source": [
    "Die Liste `dieListe` hat 5 verschiedene Elemente an den Indices 0 bis 4. Ein Zugriff auf den Index 5 führt zu einem Fehler. Bitte notieren Sie sich die Fehlermeldung."
   ]
  },
  {
   "cell_type": "code",
   "execution_count": null,
   "metadata": {},
   "outputs": [],
   "source": [
    "print(dieListe[5])"
   ]
  },
  {
   "cell_type": "markdown",
   "metadata": {},
   "source": [
    "### 1.4 Negativer Index"
   ]
  },
  {
   "cell_type": "markdown",
   "metadata": {},
   "source": [
    "Der Index kann auch einen negativen Wert haben. Der Index -1 greift auf das **letzte Element** der Liste zu. Das kann man sich folgendermaßen verdeutlichen:"
   ]
  },
  {
   "cell_type": "markdown",
   "metadata": {},
   "source": [
    "Gegeben sei eine List `dieListe` mit n Elementen. Ist der Index negativ, also -i, so wird auf das Element an Index n-i zugegriffen. \n",
    "\n",
    "Unsere obige Liste `dieListe` hat 5 verschiedene Elemente. n ist also 5.\n",
    "\n",
    "`dieListe[-1]` greift also auf das Element n-1 bzw. 5-1=4 zu: `dieListe[4]`, das heißt das letzte Element (Wert 5).\n",
    "\n",
    "`dieListe[-3]` greift also auf das Element n-3 bzw. 5-3=2 zu: `dieListe[2]`, das heißt das dritte Element (Wert 3).\n",
    "\n",
    "Testen Sie:"
   ]
  },
  {
   "cell_type": "code",
   "execution_count": null,
   "metadata": {},
   "outputs": [],
   "source": [
    "dieListe=[1,2,3,4,5]\n",
    "\n",
    "print('dieListe[-1]=',dieListe[-1])\n",
    "print('dieListe[4]=',dieListe[4])\n",
    "print('dieListe[-3]=',dieListe[-3])\n",
    "print('dieListe[2]=',dieListe[2])\n",
    "print('dieListe[-5]=',dieListe[-5])"
   ]
  },
  {
   "cell_type": "markdown",
   "metadata": {},
   "source": [
    "\n",
    "\n",
    "## 2. Ausgabe einer Liste"
   ]
  },
  {
   "cell_type": "markdown",
   "metadata": {},
   "source": [
    "Gegeben sei folgende Liste:"
   ]
  },
  {
   "cell_type": "code",
   "execution_count": null,
   "metadata": {},
   "outputs": [],
   "source": [
    "dieListe=[1,2,3,4,5]"
   ]
  },
  {
   "cell_type": "markdown",
   "metadata": {},
   "source": [
    "Wir können die einzelnen Listenelemente folgendermaßen ausgeben:"
   ]
  },
  {
   "cell_type": "code",
   "execution_count": null,
   "metadata": {},
   "outputs": [],
   "source": [
    "print(dieListe[0])\n",
    "print(dieListe[1])\n",
    "print(dieListe[2])\n",
    "print(dieListe[3])\n",
    "print(dieListe[4])"
   ]
  },
  {
   "cell_type": "markdown",
   "metadata": {},
   "source": [
    "Dies können wir nun als `for` Schleife definieren:"
   ]
  },
  {
   "cell_type": "code",
   "execution_count": null,
   "metadata": {},
   "outputs": [],
   "source": [
    "for i in range(0,5):\n",
    "    print(dieListe[i])"
   ]
  },
  {
   "cell_type": "markdown",
   "metadata": {},
   "source": [
    "Mit Hilfe von `len()` können wir die Länge (= Anzahl Elemente) einer Liste bestimmen. "
   ]
  },
  {
   "cell_type": "code",
   "execution_count": null,
   "metadata": {},
   "outputs": [],
   "source": [
    "print('dieListe hat',len(dieListe),'Anzahl Elemente.')"
   ]
  },
  {
   "cell_type": "markdown",
   "metadata": {},
   "source": [
    "Daher können wir obige `for` Schleife allgemein formulieren, um eine Liste auszugeben:"
   ]
  },
  {
   "cell_type": "code",
   "execution_count": null,
   "metadata": {},
   "outputs": [],
   "source": [
    "for i in range(0,len(dieListe)):\n",
    "    print(dieListe[i])"
   ]
  },
  {
   "cell_type": "markdown",
   "metadata": {},
   "source": [
    "Wenn wir uns nun daran erinnern, dass der Startwert in `range()` 0 ist, wenn nichts anderes angegeben wird, lautet **eine Variante, eine Liste mit Hilfe der `for` Schleife und des Index auszugeben**"
   ]
  },
  {
   "cell_type": "code",
   "execution_count": null,
   "metadata": {},
   "outputs": [],
   "source": [
    "for i in range(len(dieListe)):\n",
    "    print(dieListe[i])"
   ]
  },
  {
   "cell_type": "markdown",
   "metadata": {},
   "source": [
    "Diese `for` Schleife kann einfach in eine `while` Schleife umgewandelt werden. Hierzu muss die Variable `i` im Code-Segment definiert und erhöht werden. Somit lautet die **Variante, eine Liste mit Hilfe der `while` Schleife auszugeben**, folgendermaßen:"
   ]
  },
  {
   "cell_type": "code",
   "execution_count": null,
   "metadata": {},
   "outputs": [],
   "source": [
    "i=0\n",
    "while i < len(dieListe):\n",
    "    print(dieListe[i])\n",
    "    i+=1"
   ]
  },
  {
   "cell_type": "markdown",
   "metadata": {},
   "source": [
    "Listen sind, wie alle sequenziellen Datentypen sogenannte Iterable. Daher kann eine **Liste auch direkt mit Hilfe einer `for` Schleife ausgegeben** werden wie in dieser **Variante**:"
   ]
  },
  {
   "cell_type": "code",
   "execution_count": null,
   "metadata": {},
   "outputs": [],
   "source": [
    "for el in dieListe:\n",
    "    print(el)"
   ]
  },
  {
   "cell_type": "markdown",
   "metadata": {},
   "source": [
    "## 3. `min()` und `max()`"
   ]
  },
  {
   "cell_type": "markdown",
   "metadata": {},
   "source": [
    "Neben `len()` gibt noch zahlreiche weitere Listenfunktionen und -operationen, auf die wir später eingehen werden. Aktuell betrachten wir `min()` und `max()`. Diese Funktionen können nur auf Listen angewendet werden, wenn der Vergleich aller Listenelemente definiert ist. "
   ]
  },
  {
   "cell_type": "markdown",
   "metadata": {},
   "source": [
    "**Beispiel 1: Liste von Zahlen**"
   ]
  },
  {
   "cell_type": "code",
   "execution_count": null,
   "metadata": {},
   "outputs": [],
   "source": [
    "dieListe=[13,-3,0,12,41,32.4]\n",
    "print('minimum:',min(dieListe))\n",
    "print('maximum:',max(dieListe))"
   ]
  },
  {
   "cell_type": "markdown",
   "metadata": {},
   "source": [
    "**Zur Erinnerung:** auch Boolesche Werte (also Werte des Datentyps `bool`) gehören zu den nummerischen Datentypen. Daher ist Folgendes definiert:"
   ]
  },
  {
   "cell_type": "code",
   "execution_count": null,
   "metadata": {},
   "outputs": [],
   "source": [
    "dieListe=[13,False,12,True,41,32.4,99.92]\n",
    "print('minimum:',min(dieListe))\n",
    "print('maximum:',max(dieListe))"
   ]
  },
  {
   "cell_type": "markdown",
   "metadata": {},
   "source": [
    "Hinweis: `False` hat den nummerischen Wert 0 und `True` hat den nummerischen Wert 1."
   ]
  },
  {
   "cell_type": "markdown",
   "metadata": {},
   "source": [
    "**Beispiel 2: Liste von Zeichenketten**"
   ]
  },
  {
   "cell_type": "markdown",
   "metadata": {},
   "source": [
    "Testen Sie folgendes Beispiel:"
   ]
  },
  {
   "cell_type": "code",
   "execution_count": null,
   "metadata": {},
   "outputs": [],
   "source": [
    "dieListe=['Montag','Dienstag','Mittwoch','Donnerstag',\n",
    "         'Freitag', 'Samstag', 'Sonntag']\n",
    "print('minimum:',min(dieListe))\n",
    "print('maximum:',max(dieListe))"
   ]
  },
  {
   "cell_type": "markdown",
   "metadata": {},
   "source": [
    "Das Beispiel funktioniert wie erwartet."
   ]
  },
  {
   "cell_type": "markdown",
   "metadata": {},
   "source": [
    "Testen Sie nun bitte das folgende Beispiel:"
   ]
  },
  {
   "cell_type": "code",
   "execution_count": null,
   "metadata": {},
   "outputs": [],
   "source": [
    "dieListe=['Guten','Tag','wie','geht','es','Ihnen','allen']\n",
    "print('minimum:',min(dieListe))\n",
    "print('maximum:',max(dieListe))"
   ]
  },
  {
   "cell_type": "markdown",
   "metadata": {},
   "source": [
    "Wahrscheinlich sind Sie etwas erstaunt, dass `Guten` das Minimum ist und nicht `allen`. Dies liegt daran, dass die Zeichen in Zeichenketten gemäß der Codierung und nicht alphabetisch verglichen werden. Wie bereits besprochen, kommen im ASCII Code, und daher auch in den darauf aufbauenden Codes, alle Großbuchstaben (ohne Umlaute) vor allen Kleinbuchstaben (ohne Umlaute). \n",
    "\n",
    "Betrachten Sie folgendes:"
   ]
  },
  {
   "cell_type": "code",
   "execution_count": null,
   "metadata": {},
   "outputs": [],
   "source": [
    "print(\"'A'<'Z':\",'A'<'Z')\n",
    "print(\"'a'<'z':\",'a'<'z')\n",
    "print(\"'a'<'Z':\",'a'<'Z')\n",
    "print(\"'z'<'ä':\",'z'<'ä')"
   ]
  },
  {
   "cell_type": "markdown",
   "metadata": {},
   "source": [
    "**Beispiel 3: Liste von gemischten Werten**"
   ]
  },
  {
   "cell_type": "markdown",
   "metadata": {},
   "source": [
    "Es kann nicht einfach festgelegt werden, wie eine Zahl mit einer Zeichenkette verglichen werden soll. Aus diesem Grund ist der Vergleich zwischen einer Zahl und einer Zeichenkette in Python nicht definiert."
   ]
  },
  {
   "cell_type": "markdown",
   "metadata": {},
   "source": [
    "Testen Sie das folgende Code-Segment und notieren Sie sich die Fehlermeldung."
   ]
  },
  {
   "cell_type": "code",
   "execution_count": null,
   "metadata": {},
   "outputs": [],
   "source": [
    "dieListe=[1,-12,'2.3',0,132]\n",
    "print('minimum:',min(dieListe))"
   ]
  },
  {
   "cell_type": "markdown",
   "metadata": {},
   "source": [
    "## 4. Beispiel für `break`"
   ]
  },
  {
   "cell_type": "markdown",
   "metadata": {},
   "source": [
    "Eine Liste geben wir mit Hilfe von Schleifen aus. Hierbei betrachten wir alle Werte einer Liste.\n",
    "\n",
    "Manchmal möchte man nur wissen, ob ein bestimmter Wert in einer Liste vorkommt. In diesem Beispiel soll der Wert $\\geq$ eines bestimmten anderen Wertes (in der Variablen `gesuchteUntereGrenze` sein.\n",
    "\n",
    "Wie zählen hier zusätzlich die Anzahl Vergleiche, die durchgeführt wurden."
   ]
  },
  {
   "cell_type": "code",
   "execution_count": null,
   "metadata": {},
   "outputs": [],
   "source": [
    "gesuchteUntereGrenze=90\n",
    "\n",
    "# Liste mit Zahlen\n",
    "dieListe=[35, 95, 4, 17, 40, 49, 77, 53, 98, \n",
    "          53, 40, 91, 40, 15, 67, 79, 10, 63, 3, 94]\n",
    "\n",
    "# Variable um die Anzahl Vergleiche zu zählen\n",
    "anzahlVergleiche=0\n",
    "\n",
    "# Bestimmung ob es einen Wert >= gesuchteUntereGrenze gibt\n",
    "for el in dieListe:\n",
    "    # die Variable muss vor dem if erhöht werden, da der Vergleich in jedem Fall ausgeführt wird\n",
    "    anzahlVergleiche+=1\n",
    "    if el>=gesuchteUntereGrenze:\n",
    "        print('mind. ein Wert ist >=',gesuchteUntereGrenze)\n",
    "        \n",
    "# Ausgabe\n",
    "print(\"Länge der Liste:\",len(dieListe))\n",
    "print(\"Es wurden\", anzahlVergleiche, \"Vergleiche durchgeführt.\")"
   ]
  },
  {
   "cell_type": "markdown",
   "metadata": {},
   "source": [
    "Es macht wenig Sinn mehrfach auszugeben, dass ein bestimmter Wert mindestens einmal vorkommt. Auch ist wichtig, auszugeben, wenn dieser Wert nicht vorkommt. Testen Sie das, indem Sie die Variable `gesuchteUntereGrenze` in obigem Code einmal auf 100 statt 90 setzen. Es erfolgt keine Ausgabe, dass der Wert nicht vorhanden ist.\n",
    "\n",
    "Im folgenden Code verwenden wir eine weitere Variable und eine Selektion für die Ausgabe nach der Schleife. "
   ]
  },
  {
   "cell_type": "code",
   "execution_count": null,
   "metadata": {},
   "outputs": [],
   "source": [
    "gesuchteUntereGrenze=90\n",
    "\n",
    "# Liste mit Zahlen\n",
    "dieListe=[35, 95, 4, 17, 40, 49, 77, 53, 98, \n",
    "          53, 40, 91, 40, 15, 67, 79, 10, 63, 3, 94]\n",
    "\n",
    "# Weitere Variable\n",
    "wertExistiert=False\n",
    "\n",
    "# Variable um die Anzahl Vergleiche zu zählen\n",
    "anzahlVergleiche=0\n",
    "\n",
    "# Bestimmung ob es einen Wert >= gesuchteUntereGrenze gibt\n",
    "for el in dieListe:\n",
    "    # die Variable muss vor dem if erhöht werden, da der Vergleich in jedem Fall ausgeführt wird\n",
    "    anzahlVergleiche+=1\n",
    "    \n",
    "    if el>=gesuchteUntereGrenze:\n",
    "        wertExistiert=True\n",
    "\n",
    "# Ausgabe\n",
    "print(\"Länge der Liste:\",len(dieListe))\n",
    "print(\"Es wurden\", anzahlVergleiche, \"Vergleiche durchgeführt.\")\n",
    "\n",
    "if wertExistiert:        \n",
    "    print('mind. ein Wert ist >=',gesuchteUntereGrenze)\n",
    "else:\n",
    "    print('kein Wert ist >=',gesuchteUntereGrenze)\n",
    "        "
   ]
  },
  {
   "cell_type": "markdown",
   "metadata": {},
   "source": [
    "Sobald man den gesuchten Wert gefunden hat, kann man die Suche beenden. Hier kann man dann `break` verwenden. Das verringert die Anzahl der durchgeführten Vergleiche:"
   ]
  },
  {
   "cell_type": "code",
   "execution_count": null,
   "metadata": {},
   "outputs": [],
   "source": [
    "gesuchteUntereGrenze=90\n",
    "\n",
    "# Liste mit Zahlen\n",
    "dieListe=[35, 95, 4, 17, 40, 49, 77, 53, 98, \n",
    "          53, 40, 91, 40, 15, 67, 79, 10, 63, 3, 94]\n",
    "\n",
    "# Weitere Variable\n",
    "wertExistiert=False\n",
    "\n",
    "# Variable um die Anzahl Vergleiche zu zählen\n",
    "anzahlVergleiche=0\n",
    "\n",
    "# Bestimmung ob es einen Wert >= gesuchteUntereGrenze gibt\n",
    "for el in dieListe:\n",
    "    # die Variable muss vor dem if erhöht werden, da der Vergleich in jedem Fall ausgeführt wird\n",
    "    anzahlVergleiche+=1\n",
    "    \n",
    "    if el>=gesuchteUntereGrenze:\n",
    "        wertExistiert=True\n",
    "        break\n",
    "\n",
    "# Ausgabe\n",
    "print(\"Länge der Liste:\",len(dieListe))\n",
    "print(\"Es wurden\", anzahlVergleiche, \"Vergleiche durchgeführt.\")\n",
    "\n",
    "if wertExistiert:        \n",
    "    print('mind. ein Wert ist >=',gesuchteUntereGrenze)\n",
    "else:\n",
    "    print('kein Wert ist >=',gesuchteUntereGrenze)\n",
    "        "
   ]
  },
  {
   "cell_type": "markdown",
   "metadata": {},
   "source": [
    "Durch die Verwendung von `break` müssen in obigem Beispiel nur die ersten beiden Zahlen verglichen werden, um festzustellen, dass mind. ein Wert $\\ge$90 ist."
   ]
  },
  {
   "cell_type": "markdown",
   "metadata": {},
   "source": [
    "Wir können nun auf die beiden Variablen `wertExistiert` und `anzahlVergleiche` verzichten (sofern wir diese nicht in einem anderen Zusammenhang benötigen) und die `for`-Schleife mit einem `else` verwenden:"
   ]
  },
  {
   "cell_type": "code",
   "execution_count": null,
   "metadata": {},
   "outputs": [],
   "source": [
    "gesuchteUntereGrenze=90\n",
    "\n",
    "# Liste mit Zahlen\n",
    "dieListe=[35, 95, 4, 17, 40, 49, 77, 53, 98, \n",
    "          53, 40, 91, 40, 15, 67, 79, 10, 63, 3, 94]\n",
    "\n",
    "# Bestimmung ob es einen Wert >= gesuchteUntereGrenze gibt\n",
    "for el in dieListe:\n",
    "    if el>=gesuchteUntereGrenze:\n",
    "        print('mind. ein Wert ist >=',gesuchteUntereGrenze)\n",
    "        break\n",
    "else:\n",
    "    print('kein Wert ist >=',gesuchteUntereGrenze)"
   ]
  },
  {
   "cell_type": "markdown",
   "metadata": {},
   "source": [
    "Bitte beachten Sie, dass in obigem Beispiel `else` zur `for` Schleife gehört. \n",
    "\n",
    "**Aufgabe:** Rücken Sie das `else` in obigem Code nun so ein, dass es zu `if` gehört. Testen Sie den Code erneut. Erklären Sie, was passiert.\n"
   ]
  },
  {
   "cell_type": "markdown",
   "metadata": {},
   "source": [
    "*Ende des Notebooks*"
   ]
  },
  {
   "cell_type": "markdown",
   "metadata": {
    "deletable": false,
    "editable": false
   },
   "source": [
    "<a rel=\"license\" href=\"http://creativecommons.org/licenses/by-nc-nd/4.0/\"><img alt=\"Creative Commons Lizenzvertrag\" style=\"border-width:0\" src=\"https://i.creativecommons.org/l/by-nc-nd/4.0/88x31.png\" /></a><br /><span xmlns:dct=\"http://purl.org/dc/terms/\" property=\"dct:title\">Dieses Notebook wurde von Christina B. Class für die Lehre an der EAH Jena erstellt. Es ist lizenziert unter einer <a rel=\"license\" href=\"http://creativecommons.org/licenses/by-nc-nd/4.0/\">Creative Commons Namensnennung - Nicht kommerziell - Keine Bearbeitungen 4.0 International Lizenz</a>."
   ]
  }
 ],
 "metadata": {
  "kernelspec": {
   "display_name": "Python 3 (ipykernel)",
   "language": "python",
   "name": "python3"
  },
  "language_info": {
   "codemirror_mode": {
    "name": "ipython",
    "version": 3
   },
   "file_extension": ".py",
   "mimetype": "text/x-python",
   "name": "python",
   "nbconvert_exporter": "python",
   "pygments_lexer": "ipython3",
   "version": "3.10.13"
  }
 },
 "nbformat": 4,
 "nbformat_minor": 4
}
