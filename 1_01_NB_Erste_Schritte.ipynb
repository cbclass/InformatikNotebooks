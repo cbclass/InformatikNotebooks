{
 "cells": [
  {
   "cell_type": "markdown",
   "metadata": {},
   "source": [
    "Notebook zu Python: Erste Schritte\n",
    "\n",
    "Version 1.3, 12. November 2024, Informatik, EAH Jena\n",
    "\n",
    "(c) Christina B. Class\n"
   ]
  },
  {
   "cell_type": "markdown",
   "metadata": {},
   "source": [
    "# Erste Schritte mit Python"
   ]
  },
  {
   "cell_type": "markdown",
   "metadata": {},
   "source": [
    "## 1. Rechnen mit Python\n"
   ]
  },
  {
   "cell_type": "markdown",
   "metadata": {},
   "source": [
    "Sie können in Python direkt mathematische Ausdrücke zur Berechnung eingeben. So berechnen Sie den Kehrwert von drei mit:"
   ]
  },
  {
   "cell_type": "code",
   "execution_count": null,
   "metadata": {},
   "outputs": [],
   "source": [
    "1/3"
   ]
  },
  {
   "cell_type": "markdown",
   "metadata": {},
   "source": [
    "und das Quadrat von 4 mit:"
   ]
  },
  {
   "cell_type": "code",
   "execution_count": null,
   "metadata": {},
   "outputs": [],
   "source": [
    "4**2"
   ]
  },
  {
   "cell_type": "markdown",
   "metadata": {},
   "source": [
    "**Aufgabe**: Berechnen Sie die folgenden Ausdrücke mit Python. Nehmen Sie hierfür die Folie des Inputs zu mathematischen Operatoren zu Hilfe:"
   ]
  },
  {
   "cell_type": "markdown",
   "metadata": {},
   "source": [
    "- $2^5$"
   ]
  },
  {
   "cell_type": "code",
   "execution_count": null,
   "metadata": {},
   "outputs": [],
   "source": [
    "# Loesung\n"
   ]
  },
  {
   "cell_type": "markdown",
   "metadata": {},
   "source": [
    "- $\\frac{3-4}{2^3}$"
   ]
  },
  {
   "cell_type": "code",
   "execution_count": null,
   "metadata": {},
   "outputs": [],
   "source": [
    "# Loesung\n"
   ]
  },
  {
   "cell_type": "markdown",
   "metadata": {},
   "source": [
    "-  $3 + 4 \\cdot (3 - 4)$"
   ]
  },
  {
   "cell_type": "code",
   "execution_count": null,
   "metadata": {},
   "outputs": [],
   "source": [
    "# Loesung\n"
   ]
  },
  {
   "cell_type": "markdown",
   "metadata": {},
   "source": [
    "- $\\frac{4}{17}$"
   ]
  },
  {
   "cell_type": "code",
   "execution_count": null,
   "metadata": {},
   "outputs": [],
   "source": [
    "# Loesung\n"
   ]
  },
  {
   "cell_type": "markdown",
   "metadata": {},
   "source": [
    "- Den abgerundeten Quotienten von 14 durch 3"
   ]
  },
  {
   "cell_type": "code",
   "execution_count": null,
   "metadata": {},
   "outputs": [],
   "source": [
    "# Loesung"
   ]
  },
  {
   "cell_type": "markdown",
   "metadata": {},
   "source": [
    "- Den Rest der Division von 14 durch 3"
   ]
  },
  {
   "cell_type": "code",
   "execution_count": null,
   "metadata": {},
   "outputs": [],
   "source": [
    "# Loesung\n"
   ]
  },
  {
   "cell_type": "markdown",
   "metadata": {},
   "source": [
    "## 2. Ausgabe von Text"
   ]
  },
  {
   "cell_type": "markdown",
   "metadata": {},
   "source": [
    "Die Funktion `print()` dient dazu, Text oder Werte auszugeben.\n",
    "Wenn wir Text ausgeben, muss dieser in Anführungszeichen eingeschlossen sein. Diese können entweder einfache `'das ist der Text'` oder doppelte Anführungszeichen `\"das ist der Text\"` sein. Der Text muss mit dem gleichen Anführungszeichen enden, mit dem er beginnt. \n",
    "In dem Text selber kann dann der andere Typ Anführungszeichen verwendet werden. "
   ]
  },
  {
   "cell_type": "markdown",
   "metadata": {},
   "source": [
    "**Beispiel:** Ausgabe der Hochschule"
   ]
  },
  {
   "cell_type": "code",
   "execution_count": null,
   "metadata": {},
   "outputs": [],
   "source": [
    "print(\"Ernst-Abbe Hochschule\")"
   ]
  },
  {
   "cell_type": "markdown",
   "metadata": {},
   "source": [
    "**Aufgabe:** Geben Sie Ihren Namen mit der Funktion `print()` aus. Verwenden Sie das einfache Anführungszeichen."
   ]
  },
  {
   "cell_type": "code",
   "execution_count": null,
   "metadata": {},
   "outputs": [],
   "source": [
    "# Loesung\n"
   ]
  },
  {
   "cell_type": "markdown",
   "metadata": {},
   "source": [
    "**Aufgabe:** Geben Sie Ihren Namen mit der Funktion `print()` aus. Verwenden Sie zu Beginn und am Ende jeweils ein anderes Anführungszeichen. Notieren Sie sich die Fehlermeldung."
   ]
  },
  {
   "cell_type": "code",
   "execution_count": null,
   "metadata": {},
   "outputs": [],
   "source": [
    "# Loesung\n",
    "      "
   ]
  },
  {
   "cell_type": "markdown",
   "metadata": {},
   "source": [
    "**Hinweis**: Wenn Sie sich Fehlermeldungen genau ansehen, kann das sehr nützlich sein. Wenn Sie diesen Fehler später nochmals machen, und die Fehlermeldung wiedererkennen und interpretieren können, ist das sehr hilfreich, den Fehler schnell zu finden und zu korrigieren. "
   ]
  },
  {
   "cell_type": "markdown",
   "metadata": {},
   "source": [
    "**Aufgabe:** Geben Sie den folgenden Text aus: `print(\"Hallo Welt\")`.\n",
    "\n",
    "*Tipp*: Denken Sie daran, diesen Text in einfache Anführungszeichen einzuschließen"
   ]
  },
  {
   "cell_type": "code",
   "execution_count": null,
   "metadata": {},
   "outputs": [],
   "source": [
    "# Loesung\n"
   ]
  },
  {
   "cell_type": "markdown",
   "metadata": {},
   "source": [
    "Sie können mehrere Worte / Zeichenketten in einer Zeile ausgeben, indem Sie diese in einer `print()` Anweisung durch Kommata getrennt angeben:"
   ]
  },
  {
   "cell_type": "code",
   "execution_count": null,
   "metadata": {},
   "outputs": [],
   "source": [
    "print('Hallo',\"Welt\")"
   ]
  },
  {
   "cell_type": "markdown",
   "metadata": {},
   "source": [
    "**Aufgabe:** Geben Sie Ihren Namen und Ihre Adresse in einer Zeile aus. Name und Adresse sollen verschiedene Zeichenketten sein."
   ]
  },
  {
   "cell_type": "code",
   "execution_count": null,
   "metadata": {},
   "outputs": [],
   "source": [
    "# Loesung\n"
   ]
  },
  {
   "cell_type": "markdown",
   "metadata": {},
   "source": [
    "**Aufgabe:** Geben Sie Ihren Namen und Ihre Adresse jeweils in einer eigenen Zeile aus. Verwenden Sie dafür jeweils ein `print()`, also eine **Sequenz**. Schreiben Sie diese `print()` **genau untereinander**."
   ]
  },
  {
   "cell_type": "code",
   "execution_count": null,
   "metadata": {},
   "outputs": [],
   "source": [
    "# Loesung\n"
   ]
  },
  {
   "cell_type": "markdown",
   "metadata": {},
   "source": [
    "Wenn Sie Codezeilen in einer Sequenz nicht direkt untereinander schreiben, erzeugt Python einen Fehler. \n",
    "\n",
    "**Aufgabe:** Testen Sie folgendes Code-Segment und notieren Sie sich die Fehlermeldung."
   ]
  },
  {
   "cell_type": "code",
   "execution_count": null,
   "metadata": {},
   "outputs": [],
   "source": [
    "print(\"Hallo Welt\") \n",
    " print('Ich liebe Informatik')"
   ]
  },
  {
   "cell_type": "markdown",
   "metadata": {},
   "source": [
    "## 3. Variable"
   ]
  },
  {
   "cell_type": "markdown",
   "metadata": {},
   "source": [
    "Das folgende Code-Segment definiert eine Variable mit dem Wert 13 und gibt diese aus:"
   ]
  },
  {
   "cell_type": "code",
   "execution_count": null,
   "metadata": {},
   "outputs": [],
   "source": [
    "meineVariable=13\n",
    "print(meineVariable)\n"
   ]
  },
  {
   "cell_type": "markdown",
   "metadata": {},
   "source": [
    "**Aufgabe**: Definieren Sie eine neue Variable `name` mit Ihrem Namen (vergessen Sie die Anführungszeichen nicht) und geben Sie sie aus."
   ]
  },
  {
   "cell_type": "code",
   "execution_count": null,
   "metadata": {},
   "outputs": [],
   "source": [
    "# Loesung"
   ]
  },
  {
   "cell_type": "markdown",
   "metadata": {},
   "source": [
    "**Aufgabe**: Es gibt Regeln für gültige Variablennamen. Vergleichen Sie hierzu den Input. `1zweidrei`ist kein gültiger Variablenname. Definieren Sie eine Variable mit diesem ungültigen Variablennamen und notieren Sie sich die Fehlermeldung. "
   ]
  },
  {
   "cell_type": "code",
   "execution_count": null,
   "metadata": {},
   "outputs": [],
   "source": [
    "# Loesung\n"
   ]
  },
  {
   "cell_type": "markdown",
   "metadata": {},
   "source": [
    "**Aufgabe**: Das folgende Code-Segment enthält einen Fehler.  \n",
    "    \n",
    "- Lesen Sie sich den Code durch.\n",
    "- Beschreiben Sie, was es tun soll.\n",
    "- Testen Sie den Code und notieren Sie die Fehlermeldung.\n",
    "- Korrigieren Sie den Code und lassen ihn erneut laufen."
   ]
  },
  {
   "cell_type": "code",
   "execution_count": null,
   "metadata": {},
   "outputs": [],
   "source": [
    "zahl=13\n",
    "wert=5\n",
    "ergebnis=zah1**wert\n",
    "print(zahl,'**',wert,'=',ergebnis)"
   ]
  },
  {
   "cell_type": "markdown",
   "metadata": {},
   "source": [
    "Es ist leicht, Fehler wie in obigem Beispiel zu übersehen. Umso wichtiger ist es dann, Fehlermeldungen richtig interpretieren zu können."
   ]
  },
  {
   "cell_type": "markdown",
   "metadata": {},
   "source": [
    "Werte in Python haben einen **Datentyp**. Der Datentyp einer Variablen ist der Datentyp des Wertes, der in ihr gespeichert ist. Mit `type(x)` bestimmen wir den Typ der Variablen `x`. Diesen könnnen wir mit `print()`ausgeben. "
   ]
  },
  {
   "cell_type": "markdown",
   "metadata": {},
   "source": [
    "**Beispiel**:"
   ]
  },
  {
   "cell_type": "code",
   "execution_count": null,
   "metadata": {},
   "outputs": [],
   "source": [
    "x=-12.1\n",
    "print(x, \"hat den Typ\",type(x) )"
   ]
  },
  {
   "cell_type": "markdown",
   "metadata": {},
   "source": [
    "Der Datentyp ist `float`.\n",
    "\n",
    "**Aufgabe**: Bestimmen Sie analog den Datentyp der folgenden Werte: `12`, `3*4`, `1/3`, `\"Montag\"`, `'Dienstag'`."
   ]
  },
  {
   "cell_type": "code",
   "execution_count": null,
   "metadata": {},
   "outputs": [],
   "source": [
    "# Loesung"
   ]
  },
  {
   "cell_type": "markdown",
   "metadata": {},
   "source": [
    "## 4. Eingabe"
   ]
  },
  {
   "cell_type": "markdown",
   "metadata": {},
   "source": [
    "Mit der Funktion `input()` wird ein Wert vom Benutzer eingegeben. Die Eingabe endet erst, wenn der Benutzer die \"Enter\" / \"Return\" Taste drückt.\n",
    "\n",
    "Testen Sie folgenden Code. Geben Sie in das leere Feld einen Wert ein. Vergessen Sie nicht, die \"Enter\" Taste zu drücken."
   ]
  },
  {
   "cell_type": "code",
   "execution_count": null,
   "metadata": {},
   "outputs": [],
   "source": [
    "input()"
   ]
  },
  {
   "cell_type": "markdown",
   "metadata": {},
   "source": [
    "\n",
    "Sie sehen eine Zeile `[]` mit einer Nummer in den `[]`, in der Ihre Eingabe in `''` wieder gegeben wird. Um diese Eingabe verwenden zu können, müssen wir sie in einer Variable speichern:"
   ]
  },
  {
   "cell_type": "code",
   "execution_count": null,
   "metadata": {},
   "outputs": [],
   "source": [
    "eingegebenerWert=input()"
   ]
  },
  {
   "cell_type": "markdown",
   "metadata": {},
   "source": [
    "**Aufgabe**: Testen Sie obigen Code und geben Sie `12` ein. Geben Sie aus, welchen Datentyp `eingegebenerWert` hat. "
   ]
  },
  {
   "cell_type": "code",
   "execution_count": null,
   "metadata": {},
   "outputs": [],
   "source": [
    "# Loesung"
   ]
  },
  {
   "cell_type": "markdown",
   "metadata": {},
   "source": [
    "Um den eingelesenen Wert (die `'12'`) als ganze Zahl verwenden zu können, müssen wir eine Typumwandlung in eine Zahl vornehmen. Hierzu verwenden wir den Befehl (die Funktion): `int()` und speichern das Ergebnis in einer neuen Variable ab. "
   ]
  },
  {
   "cell_type": "code",
   "execution_count": null,
   "metadata": {
    "scrolled": true
   },
   "outputs": [],
   "source": [
    "ganzeZahl=int(eingegebenerWert)"
   ]
  },
  {
   "cell_type": "markdown",
   "metadata": {},
   "source": [
    "**Aufgabe**: Testen Sie obenstehenden Code. Überprüfen Sie, ob `ganzeZahl`wirklich den Datentyp `int` hat, indem Sie ihn ausgeben."
   ]
  },
  {
   "cell_type": "code",
   "execution_count": null,
   "metadata": {},
   "outputs": [],
   "source": [
    "# Loesung"
   ]
  },
  {
   "cell_type": "markdown",
   "metadata": {},
   "source": [
    "**Aufgabe**: Lesen Sie eine Kommazahl ein und speichern Sie diese als Kommazahl in der Variablen `kommaZahl` ab. Verwenden Sie für die Typumwandlung die Funktion `float()`."
   ]
  },
  {
   "cell_type": "code",
   "execution_count": null,
   "metadata": {},
   "outputs": [],
   "source": [
    "# Loesung"
   ]
  },
  {
   "cell_type": "markdown",
   "metadata": {},
   "source": [
    "*Ende des Notebooks*"
   ]
  },
  {
   "cell_type": "markdown",
   "metadata": {
    "deletable": false,
    "editable": false
   },
   "source": [
    "<a rel=\"license\" href=\"http://creativecommons.org/licenses/by-nc-nd/4.0/\"><img alt=\"Creative Commons Lizenzvertrag\" style=\"border-width:0\" src=\"https://i.creativecommons.org/l/by-nc-nd/4.0/88x31.png\" /></a><br /><span xmlns:dct=\"http://purl.org/dc/terms/\" property=\"dct:title\">Dieses Notebook wurde von Christina B. Class für die Lehre an der EAH Jena erstellt. Es ist lizenziert unter einer <a rel=\"license\" href=\"http://creativecommons.org/licenses/by-nc-nd/4.0/\">Creative Commons Namensnennung - Nicht kommerziell - Keine Bearbeitungen 4.0 International Lizenz</a>."
   ]
  }
 ],
 "metadata": {
  "kernelspec": {
   "display_name": "Python 3 (ipykernel)",
   "language": "python",
   "name": "python3"
  },
  "language_info": {
   "codemirror_mode": {
    "name": "ipython",
    "version": 3
   },
   "file_extension": ".py",
   "mimetype": "text/x-python",
   "name": "python",
   "nbconvert_exporter": "python",
   "pygments_lexer": "ipython3",
   "version": "3.10.13"
  }
 },
 "nbformat": 4,
 "nbformat_minor": 4
}
