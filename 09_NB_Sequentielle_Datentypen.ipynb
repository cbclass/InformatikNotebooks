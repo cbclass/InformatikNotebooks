{
 "cells": [
  {
   "cell_type": "markdown",
   "metadata": {},
   "source": [
    "Notebook zu Sequentiellen Datentypen\n",
    "\n",
    "Version 1.2, 6. Dezember 2021, Informatik, EAH Jena\n",
    "\n",
    "(c) Christina B. Class"
   ]
  },
  {
   "cell_type": "markdown",
   "metadata": {},
   "source": [
    "# Sequentielle Datentypen"
   ]
  },
  {
   "cell_type": "markdown",
   "metadata": {},
   "source": [
    "## 1. `in` und `not in`"
   ]
  },
  {
   "cell_type": "markdown",
   "metadata": {},
   "source": [
    "Mit `in` und `not in` kann überprüft werden, ob ein bestimmter Wert Teil des sequentiellen Datentyps ist."
   ]
  },
  {
   "cell_type": "code",
   "execution_count": null,
   "metadata": {},
   "outputs": [],
   "source": [
    "dieListe=[1,2,3,4,5]\n",
    "\n",
    "print(1 in dieListe)\n",
    "print(6 in dieListe)\n",
    "print(1 not in dieListe)\n",
    "print(6 not in dieListe)"
   ]
  },
  {
   "cell_type": "markdown",
   "metadata": {},
   "source": [
    "und"
   ]
  },
  {
   "cell_type": "code",
   "execution_count": null,
   "metadata": {},
   "outputs": [],
   "source": [
    "derString='Ein Notebook'\n",
    "\n",
    "print('e' in derString)\n",
    "print('I' in derString)\n",
    "print('' in derString)\n",
    "print('e' not in derString)\n",
    "print('I' not in derString)\n",
    "print('' not in derString)"
   ]
  },
  {
   "cell_type": "markdown",
   "metadata": {},
   "source": [
    "Bei Zeichenketten können Sie mit `in` auch auf ein Teilwort überprüfen:"
   ]
  },
  {
   "cell_type": "code",
   "execution_count": null,
   "metadata": {},
   "outputs": [],
   "source": [
    "derString='Ein Notebook'\n",
    "\n",
    "print('Ein' in derString)\n",
    "print(' No' in derString)"
   ]
  },
  {
   "cell_type": "markdown",
   "metadata": {},
   "source": [
    "Bei Listen können Sie nicht auf \"Teillisten\" überprüfen, da Listen wiederum Element von Listen sein können:"
   ]
  },
  {
   "cell_type": "code",
   "execution_count": null,
   "metadata": {},
   "outputs": [],
   "source": [
    "dieListe1=[1,2,3,4]\n",
    "dieListe2=[[1,2],3,4]\n",
    "\n",
    "print([1,2] in dieListe1)\n",
    "print(1 in dieListe2)\n",
    "print([1,2] in dieListe2)"
   ]
  },
  {
   "cell_type": "markdown",
   "metadata": {},
   "source": [
    "## 2. Slicing"
   ]
  },
  {
   "cell_type": "markdown",
   "metadata": {},
   "source": [
    "Der Zugriffoperator für sequentielle Datentypen ist `[]`, d.h. Sie greifen über einen Index auf ein Element zu. Der Index beginnt bei 0.\n",
    "\n",
    "Der Zugriff auf einzelne Listenelemente mit `[]` wurde bereits diskuiert. Dieser gilt für alle sequentiellen Datentypen. "
   ]
  },
  {
   "cell_type": "markdown",
   "metadata": {},
   "source": [
    "Mit dem `[]` Operator können Sie auch auf mehr als ein Element gleichzeitig zugreifen. Wir nennen das **Slicing** (to slice - abschneiden, in Scheiben schneiden)."
   ]
  },
  {
   "cell_type": "markdown",
   "metadata": {},
   "source": [
    "Hierbei spezifizieren Sie den Anfangsindex (inklusive) und den Endindex (**ex**klusive) des zu betrachtenden Bereichs. Optional können Sie auch eine Schrittweite definieren. Die einzelnen Werte werden durch Doppelpunkte `:` getrennt.\n",
    "Werden beim Slicing Indices  außerhalb des existierenden Bereichs verwendet, ist der zurückgegebene Bereich leer. "
   ]
  },
  {
   "cell_type": "code",
   "execution_count": null,
   "metadata": {},
   "outputs": [],
   "source": [
    "dieListe=list(range(0,21))\n",
    "print('dieListe[0]',dieListe[0])\n",
    "print('dieListe[0:4]',dieListe[0:4])\n",
    "print('dieListe[19:22]',dieListe[19:22])\n",
    "print('dieListe[22:24]',dieListe[22:24])\n",
    "print('dieListe[15:10:-1]',dieListe[15:10:-1])\n",
    "print('dieListe[0:21:4]',dieListe[0:21:4])"
   ]
  },
  {
   "cell_type": "markdown",
   "metadata": {},
   "source": [
    "Slicing bei Zeichenketten:"
   ]
  },
  {
   "cell_type": "code",
   "execution_count": null,
   "metadata": {},
   "outputs": [],
   "source": [
    "derString=\"Das Notebook\"\n",
    "print('derString[0:5]',derString[0:5])\n",
    "print('derString[10:2:-1]',derString[10:2:-1])\n",
    "print('derString[0:len(derString):2]',derString[0:len(derString):2])"
   ]
  },
  {
   "cell_type": "markdown",
   "metadata": {},
   "source": [
    "## 3. Verkettung"
   ]
  },
  {
   "cell_type": "markdown",
   "metadata": {},
   "source": [
    "Mit `+` können zwei Variable eines sequentiellen Datentyps aneinandergehängt werden. Man nennt das Verkettung oder *Konkatenation*. Es muss sich hierbei um **denselben** Datentyp handeln, sonst ist diese Operation nicht definiert."
   ]
  },
  {
   "cell_type": "markdown",
   "metadata": {},
   "source": [
    "Die Verkettung zweier Listen ergibt eine neue Liste mit den Elementen der beiden Listen:"
   ]
  },
  {
   "cell_type": "code",
   "execution_count": null,
   "metadata": {},
   "outputs": [],
   "source": [
    "liste1=[1,2]\n",
    "liste2=[3,4]\n",
    "liste3=liste1+liste2\n",
    "print(liste3)"
   ]
  },
  {
   "cell_type": "markdown",
   "metadata": {},
   "source": [
    "Die Verkettung zweier Zeichenkette gibt eine aus diesen Zeichenketten zusammengesetzte Zeichenkette. Bitte beachten Sie, dass diese *nicht* durch ein Leerzeichen getrennt werden:"
   ]
  },
  {
   "cell_type": "code",
   "execution_count": null,
   "metadata": {},
   "outputs": [],
   "source": [
    "wort1='Hallo'\n",
    "wort2='Welt!'\n",
    "wort3=wort1+wort2\n",
    "wort4=wort1+' '+wort2\n",
    "print(wort3)\n",
    "print(wort4)"
   ]
  },
  {
   "cell_type": "markdown",
   "metadata": {},
   "source": [
    "Um eine Liste oder eine Zeichenkette zu erzeugen, die aus mehrfachem Aneinanderhängen einer Liste oder einer Zeichenkette besteht, kann der `*` Operator genutzt werden: "
   ]
  },
  {
   "cell_type": "code",
   "execution_count": null,
   "metadata": {},
   "outputs": [],
   "source": [
    "dieListe=[1,2]\n",
    "dasWort='Hallo'\n",
    "print(3*dieListe)\n",
    "print(4*dasWort)"
   ]
  },
  {
   "cell_type": "markdown",
   "metadata": {},
   "source": [
    "## 4. `index()`"
   ]
  },
  {
   "cell_type": "markdown",
   "metadata": {},
   "source": [
    "Die Methode `index()` gibt den Index des ersten Vorkommens eines Wertes in einem sequentiellen Datentyp zurück. Mit einem optionalen (zweiten) Parameter  kann der erste Index angegeben werden, an dem gesucht werden soll. Man kann noch einen weiteren (dritten) optionalen Parameter angeben, der den Index beschreibt, ab dem nicht mehr gesucht werden soll.  \n",
    "\n",
    "Wird kein Element gefunden, wird die Ausnahme `ValueError` ausgelöst."
   ]
  },
  {
   "cell_type": "code",
   "execution_count": null,
   "metadata": {},
   "outputs": [],
   "source": [
    "wort='eine Zeichenkette'\n",
    "print('index des ersten e',wort.index('e'))\n",
    "print('index des ersten e nach dem 5 Zeichen',wort.index('e',5))"
   ]
  },
  {
   "cell_type": "markdown",
   "metadata": {},
   "source": [
    "Gegeben ist eine Liste der `[0,1,...,10,0,1,...10]`. Der Index der ersten 3 ist 4."
   ]
  },
  {
   "cell_type": "code",
   "execution_count": null,
   "metadata": {},
   "outputs": [],
   "source": [
    "dieListe=2*list(range(11))\n",
    "print('index von 3:',dieListe.index(3))"
   ]
  },
  {
   "cell_type": "markdown",
   "metadata": {},
   "source": [
    "Um die zweite 3 in der Liste zu finden, beginnen wir bei Index 4:"
   ]
  },
  {
   "cell_type": "code",
   "execution_count": null,
   "metadata": {},
   "outputs": [],
   "source": [
    "dieListe=2*list(range(11))\n",
    "print('index von 3:',dieListe.index(3,4))"
   ]
  },
  {
   "cell_type": "markdown",
   "metadata": {},
   "source": [
    "Mit dem dritten Parameter kann eingeschränkt werden, in welchem Bereich gesucht werden soll. Im Folgenden Beispiel suchen wir eine 3 im Bereich der Indizes 4 bis 10. Da dort keine 3 vorhanden ist, erhalten wir einen Fehler:"
   ]
  },
  {
   "cell_type": "code",
   "execution_count": null,
   "metadata": {
    "scrolled": true
   },
   "outputs": [],
   "source": [
    "dieListe=2*list(range(11))\n",
    "print('index von 3:',dieListe.index(3,4,10))"
   ]
  },
  {
   "cell_type": "markdown",
   "metadata": {},
   "source": [
    "Genauer gesagt, handelt es sich hierbei um eine **Ausnahme**, die wir abfangen können (siehe entsprechendes Kapitel)."
   ]
  },
  {
   "cell_type": "markdown",
   "metadata": {},
   "source": [
    "**Beispiel:** \n",
    "\n",
    "Unter Verwendung von `count()` und `index` können wir alle Indizes ausgeben: "
   ]
  },
  {
   "cell_type": "code",
   "execution_count": null,
   "metadata": {},
   "outputs": [],
   "source": [
    "wort='eine Zeichenkette'\n",
    "anz=wort.count('e')\n",
    "print('es gibt',anz,\"'e' an den Indizes\")\n",
    "ind=-1\n",
    "for i in range(anz):\n",
    "    ind=wort.index('e',ind+1)\n",
    "    print(' -',ind)"
   ]
  },
  {
   "cell_type": "markdown",
   "metadata": {},
   "source": [
    "**Aufgabe:**\n",
    "\n",
    "Warum wird die Methode `index()` mit `ind+1` aufgerufen? Testen Sie obigen Code und rufen Sie `index()` mit `ind` auf. Erklären Sie."
   ]
  },
  {
   "cell_type": "markdown",
   "metadata": {},
   "source": [
    "*Ende des Notebooks*"
   ]
  },
  {
   "cell_type": "markdown",
   "metadata": {
    "deletable": false,
    "editable": false
   },
   "source": [
    "<a rel=\"license\" href=\"http://creativecommons.org/licenses/by-nc-nd/4.0/\"><img alt=\"Creative Commons Lizenzvertrag\" style=\"border-width:0\" src=\"https://i.creativecommons.org/l/by-nc-nd/4.0/88x31.png\" /></a><br /><span xmlns:dct=\"http://purl.org/dc/terms/\" property=\"dct:title\">Dieses Notebook wurde von Christina B. Class für die Lehre an der EAH Jena erstellt. Es ist lizenziert unter einer <a rel=\"license\" href=\"http://creativecommons.org/licenses/by-nc-nd/4.0/\">Creative Commons Namensnennung - Nicht kommerziell - Keine Bearbeitungen 4.0 International Lizenz</a>.\n"
   ]
  }
 ],
 "metadata": {
  "kernelspec": {
   "display_name": "Python 3 (ipykernel)",
   "language": "python",
   "name": "python3"
  },
  "language_info": {
   "codemirror_mode": {
    "name": "ipython",
    "version": 3
   },
   "file_extension": ".py",
   "mimetype": "text/x-python",
   "name": "python",
   "nbconvert_exporter": "python",
   "pygments_lexer": "ipython3",
   "version": "3.10.13"
  }
 },
 "nbformat": 4,
 "nbformat_minor": 4
}
