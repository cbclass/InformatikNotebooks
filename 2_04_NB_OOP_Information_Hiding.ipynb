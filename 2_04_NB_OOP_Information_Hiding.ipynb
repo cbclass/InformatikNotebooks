{
 "cells": [
  {
   "cell_type": "markdown",
   "metadata": {},
   "source": [
    "Notebook zu Python: Objektorientierte Programmierung: Information Hiding \n",
    "\n",
    "Version 1.2, 3. Mai 2022, Informatik, EAH Jena\n",
    "\n",
    "(c) Christina B. Class\n"
   ]
  },
  {
   "cell_type": "markdown",
   "metadata": {},
   "source": [
    "**Hinweis**: Information Hiding wird von `jdc` nicht unterstützt, daher werden wir hier immer den kompletten Klassencode angeben."
   ]
  },
  {
   "cell_type": "markdown",
   "metadata": {},
   "source": [
    "# Information Hiding"
   ]
  },
  {
   "cell_type": "markdown",
   "metadata": {},
   "source": [
    "## 1. Private Attribute"
   ]
  },
  {
   "cell_type": "markdown",
   "metadata": {},
   "source": [
    "Gegeben ist die folgende Klasse Punkt:"
   ]
  },
  {
   "attachments": {
    "Punkt1.png": {
     "image/png": "[encoded data removed]"
    }
   },
   "cell_type": "markdown",
   "metadata": {},
   "source": [
    "![Punkt1.png](attachment:Punkt1.png)\n",
    "\n",
    "Dabei ist `x` ein öffentliches (markiert durch das +) und `y` ein privates Attribut (markiert durch das -)."
   ]
  },
  {
   "cell_type": "code",
   "execution_count": null,
   "metadata": {},
   "outputs": [],
   "source": [
    "class Punkt:\n",
    "    def __init__(self,x,y):\n",
    "        self.x=x\n",
    "        self.__y=y\n",
    "        \n",
    "    def __str__(self):\n",
    "        return '('+str(self.x)+','+str(self.__y)+\")\"\n",
    "    "
   ]
  },
  {
   "cell_type": "markdown",
   "metadata": {},
   "source": [
    "**Aufgabe:** Erzeugen Sie ein Objekt `p1`  der Klasse `Punkt` mit den Werten (1,3). Geben Sie das Objekt mit `print()` aus."
   ]
  },
  {
   "cell_type": "code",
   "execution_count": null,
   "metadata": {},
   "outputs": [],
   "source": [
    "# Ihre Loesung\n"
   ]
  },
  {
   "cell_type": "markdown",
   "metadata": {},
   "source": [
    "**Aufgabe:** Geben Sie nun nur den Wert von `x` aus. "
   ]
  },
  {
   "cell_type": "code",
   "execution_count": null,
   "metadata": {},
   "outputs": [],
   "source": [
    "# Ihre Loesung"
   ]
  },
  {
   "cell_type": "markdown",
   "metadata": {},
   "source": [
    "**Aufgabe:**  Verwenden Sie analogen Code, um den Wert von `y` auszugeben. Notieren Sie sich die Fehlermeldung, um sie gegebenfalls wiederzuerkennen."
   ]
  },
  {
   "cell_type": "code",
   "execution_count": null,
   "metadata": {},
   "outputs": [],
   "source": [
    "# Ihre Loesung"
   ]
  },
  {
   "cell_type": "markdown",
   "metadata": {},
   "source": [
    "Der direkte Zugriff auf `y` ist nicht möglich. Durch die führenden `__` im Attributnamen ist das Attribut `y` **privat**, d.h. man kann von außen nicht direkt darauf zugreifen. "
   ]
  },
  {
   "cell_type": "markdown",
   "metadata": {},
   "source": [
    "**Hinweis:** Im Gegensatz zu anderen Programmiersprachen verhindern die führenden `__` nicht komplett den Zugriff von außen. Information Hiding ist in Python weniger strikt umgesetzt als z.B. in Java, daher könnte man das privat auch in \"\" setzen."
   ]
  },
  {
   "cell_type": "markdown",
   "metadata": {},
   "source": [
    "## 2. getter und setter Methoden"
   ]
  },
  {
   "cell_type": "markdown",
   "metadata": {},
   "source": [
    "Um dennoch auf private Attribute kontrolliert zugreifen zu können, werden bei Bedarf sogenannte getter und setter Methoden implementiert. Mit einer getter Methode wird der Attributwert gelesen, mit einer setter Methode geschrieben.\n",
    "\n",
    "Wir fügen nun eine getter Methode für `y` in obige Klasse hinzu."
   ]
  },
  {
   "cell_type": "code",
   "execution_count": null,
   "metadata": {},
   "outputs": [],
   "source": [
    "class Punkt:\n",
    "    def __init__(self,x,y):\n",
    "        self.x=x\n",
    "        self.__y=y\n",
    "        \n",
    "    def __str__(self):\n",
    "        return '('+str(self.x)+','+str(self.__y)+\")\"\n",
    "    \n",
    "    def getY(self): # neu\n",
    "        return self.__y"
   ]
  },
  {
   "cell_type": "markdown",
   "metadata": {},
   "source": [
    "**Aufgabe:**  Erzeugen Sie nun ein `Punkt` Objekt `p2` der neuen Version der Klasse und geben Sie unter Verwendung der getter Methode den Wert von `y` aus.\n"
   ]
  },
  {
   "cell_type": "code",
   "execution_count": null,
   "metadata": {},
   "outputs": [],
   "source": [
    "# Ihre Loesung\n"
   ]
  },
  {
   "cell_type": "markdown",
   "metadata": {},
   "source": [
    "**Aufgabe:** Ergänzen Sie nun untenstehende Klassendefinition um die Implementation der setter Methode `setY()` für das Attribut `y`. Diese Methode erhält eine Zahl `wert` als Parameter und setzt `y` auf diesen Wert."
   ]
  },
  {
   "cell_type": "code",
   "execution_count": null,
   "metadata": {},
   "outputs": [],
   "source": [
    "# Ihre Loesung\n",
    "class Punkt:\n",
    "    def __init__(self,x,y):\n",
    "        self.x=x\n",
    "        self.__y=y\n",
    "        \n",
    "    def __str__(self):\n",
    "        return '('+str(self.x)+','+str(self.__y)+\")\"\n",
    "    \n",
    "    def getY(self):\n",
    "        return self.__y\n",
    "    \n",
    "    # die setter Methode\n",
    "    def setY(self,wert):\n",
    "        pass"
   ]
  },
  {
   "cell_type": "markdown",
   "metadata": {},
   "source": [
    "**Aufgabe:** Erzeugen Sie einen neuen Punkt und geben Sie ihn aus. Verändern Sie den `y` Wert mit Hilfe der setter Methode und geben Sie den Punkt erneut aus."
   ]
  },
  {
   "cell_type": "code",
   "execution_count": null,
   "metadata": {},
   "outputs": [],
   "source": [
    "# Ihre Lösung"
   ]
  },
  {
   "attachments": {
    "Punkt2.png": {
     "image/png": "[encoded data removed]"
    }
   },
   "cell_type": "markdown",
   "metadata": {},
   "source": [
    "Das Klassendiagramm unserer Klasse `Punkt` lautet nun:\n",
    "\n",
    "![Punkt2.png](attachment:Punkt2.png)"
   ]
  },
  {
   "cell_type": "markdown",
   "metadata": {},
   "source": [
    "**Hinweise**:\n",
    "- In der Regel sollten Attribute standardmäßig privat sein. Gibt es einen guten Grund, und nur dann, macht man sie öffentlich.\n",
    "- getter und setter Methoden definiert man nach Bedarf.\n",
    "- Auch wenn ein Attribut öffentlich ist, also direkt gelesen und verändert werdern kann, definiert man häufig dennoch getter und setter Methoden."
   ]
  },
  {
   "cell_type": "markdown",
   "metadata": {},
   "source": [
    "## 3. Anwendung"
   ]
  },
  {
   "cell_type": "markdown",
   "metadata": {},
   "source": [
    "Durch Information Hiding kann sicher gestellt werden, dass Attriute nur gültige Werte erhalten. Es ist daher ein wichtiger Ansatz, um die fehlerhafte Verwendung von Klassen zu verhindern."
   ]
  },
  {
   "attachments": {
    "Angestellter-3.png": {
     "image/png": "[encoded data removed]"
    }
   },
   "cell_type": "markdown",
   "metadata": {},
   "source": [
    "Als Beispiel implementieren wir nun die Klasse `Angestellter`:\n",
    "\n",
    "![Angestellter-3.png](attachment:Angestellter-3.png)\n",
    "\n",
    "Im Konstruktor überprüfen wir, dass der angegebene Lohn positiv (also > 0) ist. Ist er dies nicht, wird also z.B. -13 als Lohn angegeben, wird er zu 1000 gesetzt."
   ]
  },
  {
   "cell_type": "code",
   "execution_count": null,
   "metadata": {},
   "outputs": [],
   "source": [
    "class Angestellter:\n",
    "    def __init__(self,name,lohn):\n",
    "        self.__name=name\n",
    "        if lohn>0:\n",
    "            self.__lohn=lohn\n",
    "        else:\n",
    "            self.__lohn=1000\n",
    "            \n",
    "    def __str__(self):\n",
    "        return self.__name+' verdient '+str(self.__lohn)\n",
    "    \n",
    "    def getName(self):\n",
    "        return self.__name\n",
    "    \n",
    "    def getLohn(self):\n",
    "        return self.__lohn\n",
    "    \n",
    "    def setLohn(self,neuerLohn):\n",
    "        self.__lohn=neuerLohn"
   ]
  },
  {
   "cell_type": "markdown",
   "metadata": {},
   "source": [
    "Wir haben in unserem Konstruktor also sichergestellt, dass ein Angestellter zu Beginn keinen negativen Lohn hat. \n",
    "\n",
    "Allerdings erlaubt es die setter Methode, den Lohn zu einem späteren Zeitpunkt auf einen negativen Lohn zu setzen.\n",
    "\n",
    "**Aufgabe**:\n",
    "- Erzeugen Sie einen Angestellten mit einem initialen Lohn von -5.\n",
    "- Geben Sie den Angestellten aus. Was ist sein initialer Lohn?\n",
    "- Setzen Sie seinen Lohn nun auf -5.\n",
    "- Geben Sie den Angestellten erneut aus. Welchen Lohn hat er nun?"
   ]
  },
  {
   "cell_type": "code",
   "execution_count": null,
   "metadata": {},
   "outputs": [],
   "source": [
    "# Ihre Loesung\n"
   ]
  },
  {
   "cell_type": "markdown",
   "metadata": {},
   "source": [
    "Es ist also möglich, den Lohn eines Angestellten zu verringern oder im Nachhinein auf einen negativen Lohn zu setzen.\n",
    "\n",
    "**Aufgabe:** Verändern Sie im folgenden die setter Methode für den Lohn so, dass ein Lohn nur verändert wird, wenn der neue Lohn größer ist, als der bisherige. Es sind also nur Lohnerhöhungen möglich."
   ]
  },
  {
   "cell_type": "code",
   "execution_count": null,
   "metadata": {},
   "outputs": [],
   "source": [
    "class Angestellter:\n",
    "    def __init__(self,name,lohn):\n",
    "        self.__name=name\n",
    "        if lohn>0:\n",
    "            self.__lohn=lohn\n",
    "        else:\n",
    "            self.__lohn=1000\n",
    "            \n",
    "    def __str__(self):\n",
    "        return self.__name+' verdient '+str(self.__lohn)\n",
    "    \n",
    "    def getName(self):\n",
    "        return self.__name\n",
    "    \n",
    "    def getLohn(self):\n",
    "        return self.__lohn\n",
    "    \n",
    "    # Aendern Sie diese Methodenimplementation\n",
    "    def setLohn(self,neuerLohn):\n",
    "        self.__lohn=neuerLohn"
   ]
  },
  {
   "cell_type": "markdown",
   "metadata": {},
   "source": [
    "**Aufgabe:**\n",
    "- Erzeugen Sie einen Angestellten mit dem Lohn von 500.\n",
    "- Geben Sie ihn aus.\n",
    "- Rufen Sie die Methode `setLohn()` mit einem neuen Lohn von 450 auf. \n",
    "- Geben Sie den Angestellten erneut aus, um sicherzustellen, dass der Lohn immer noch bei 500 ist."
   ]
  },
  {
   "cell_type": "code",
   "execution_count": null,
   "metadata": {},
   "outputs": [],
   "source": [
    "# Ihre Loesung"
   ]
  },
  {
   "cell_type": "markdown",
   "metadata": {},
   "source": [
    "**Aufgabe:** Betrachten Sie das folgende Codesegment. Welchen Lohn hat der Angestellte nach Ausführung des Codes? Überprüfen Sie Ihre Vermutung, indem Sie den Angestellten ausgeben."
   ]
  },
  {
   "cell_type": "code",
   "execution_count": null,
   "metadata": {},
   "outputs": [],
   "source": [
    "a=Angestellter('arbeitet gerne',-550)\n",
    "a.setLohn(550)"
   ]
  },
  {
   "cell_type": "code",
   "execution_count": null,
   "metadata": {},
   "outputs": [],
   "source": [
    "# Ausgabe des Angestellten"
   ]
  },
  {
   "cell_type": "markdown",
   "metadata": {},
   "source": [
    "**Hinweis**: Im obigem Beispiel konnten Sie sehen, dass der Konstruktor und setter Methoden dazu genutzt werden können, um sicherzustellen, dass Attribute nur sinnvolle Werte erhalten (Konstruktor) und nur sinnvolle Veränderungen (setter Methoden) möglich sind. Hierfür ist das Konzept von Information Hiding wichtig."
   ]
  },
  {
   "cell_type": "markdown",
   "metadata": {},
   "source": [
    "*Ende des Notebooks*"
   ]
  },
  {
   "cell_type": "markdown",
   "metadata": {
    "deletable": false,
    "editable": false
   },
   "source": [
    "<a rel=\"license\" href=\"http://creativecommons.org/licenses/by-nc-nd/4.0/\"><img alt=\"Creative Commons Lizenzvertrag\" style=\"border-width:0\" src=\"https://i.creativecommons.org/l/by-nc-nd/4.0/88x31.png\" /></a><br /><span xmlns:dct=\"http://purl.org/dc/terms/\" property=\"dct:title\">Dieses Notebook wurde von Christina B. Class für die Lehre an der EAH Jena erstellt. Es ist lizenziert unter einer <a rel=\"license\" href=\"http://creativecommons.org/licenses/by-nc-nd/4.0/\">Creative Commons Namensnennung - Nicht kommerziell - Keine Bearbeitungen 4.0 International Lizenz</a>.\n",
    "\n"
   ]
  }
 ],
 "metadata": {
  "kernelspec": {
   "display_name": "Python 3 (ipykernel)",
   "language": "python",
   "name": "python3"
  },
  "language_info": {
   "codemirror_mode": {
    "name": "ipython",
    "version": 3
   },
   "file_extension": ".py",
   "mimetype": "text/x-python",
   "name": "python",
   "nbconvert_exporter": "python",
   "pygments_lexer": "ipython3",
   "version": "3.10.13"
  }
 },
 "nbformat": 4,
 "nbformat_minor": 4
}
