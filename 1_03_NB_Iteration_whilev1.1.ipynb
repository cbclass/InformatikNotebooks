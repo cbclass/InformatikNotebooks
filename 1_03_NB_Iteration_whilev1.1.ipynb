{
 "cells": [
  {
   "cell_type": "markdown",
   "metadata": {},
   "source": [
    "Notebook zu Python: Iteration mit while\n",
    "\n",
    "Version 1.3, 15. April 2024, Informatik, EAH Jena\n",
    "\n",
    "(c) Christina B. Class\n"
   ]
  },
  {
   "cell_type": "markdown",
   "metadata": {},
   "source": [
    "# Iteration: Die `while` Schleife"
   ]
  },
  {
   "cell_type": "markdown",
   "metadata": {},
   "source": [
    "Die `while` Schleife ist eine kopfgesteuerte Schleife. \n",
    "Ihre Syntax ist:\n",
    "\n",
    "```python\n",
    "while Bedingung:\n",
    "    Anweisung\n",
    "```"
   ]
  },
  {
   "cell_type": "markdown",
   "metadata": {},
   "source": [
    "Abhängig von der `Bedingung` wird die Schleife ausgeführt. Dann wird die `Bedingung` erneut geprüft, etc. Die Schleife endet, wenn die `Bedingung` **nicht mehr** gilt.\n",
    "\n",
    "**Wichtig:** Es muss sicher gestellt werden, dass die Bedingung nach **endlich vielen** Schritten nicht mehr erfüllt ist, damit die Schleife beendet wird (Ausnahme: die Verwendung von `break`, siehe Ende des Notebooks). "
   ]
  },
  {
   "cell_type": "markdown",
   "metadata": {},
   "source": [
    "## 1. Einführungsbeispiel"
   ]
  },
  {
   "cell_type": "markdown",
   "metadata": {},
   "source": [
    "Eine Bedingung kann mit Hilfe von Vergleichsoperatoren und den Boolschen Operatoren formuliert werden.\n",
    "\n",
    "Im Notebook zur Selektion hatten wir folgenden Code gesehen:"
   ]
  },
  {
   "cell_type": "code",
   "execution_count": null,
   "metadata": {},
   "outputs": [],
   "source": [
    "zahl=int(input('zahl: '))\n",
    "if zahl!=0:\n",
    "    print('Der Kehrwert ist',1/zahl)\n",
    "print('Ende des Codes')"
   ]
  },
  {
   "cell_type": "markdown",
   "metadata": {},
   "source": [
    "Dieser soll nun angepasst werden. Anstatt den Kehrwert nur für eine Zahl zu berechnen soll er für verschiedene, eingebene Zahlen berechnet werden, *solange* die eingegebene Zahl ungleich 0 ist.\n",
    "\n",
    "Damit wir den Kehrwert immer wieder neu von anderen Zahlen berechnen, lesen wir **innerhalb** der Schleife erneut eine Zahl ein.\n",
    "\n",
    "Der Code lautet nun also:"
   ]
  },
  {
   "cell_type": "code",
   "execution_count": null,
   "metadata": {},
   "outputs": [],
   "source": [
    "zahl=int(input('zahl: '))\n",
    "# die while Schleife\n",
    "while zahl!=0:\n",
    "    print('Der Kehrwert ist',1/zahl)\n",
    "    # erneutes Einlesen der Zahl\n",
    "    zahl=int(input('weitere zahl: '))\n",
    "print('Ende des Codes')"
   ]
  },
  {
   "cell_type": "markdown",
   "metadata": {},
   "source": [
    "**Aufgabe:** Testen Sie obiges Beispiel mit den Werten -2, 1, 5 und 0. Wenn Sie bereits beim ersten Mal eine 0 eingeben, wird die Schleife nicht ausgeführt. Testen Sie das. "
   ]
  },
  {
   "cell_type": "markdown",
   "metadata": {},
   "source": [
    "**Aufgabe:** Testen Sie folgendes Beispiel, das auf den ersten Blick recht ähnlich aussieht, ebenfalls mit den Werten -2, 1, 5 und 0. Erklären Sie die Unterschiede:"
   ]
  },
  {
   "cell_type": "code",
   "execution_count": null,
   "metadata": {
    "scrolled": true
   },
   "outputs": [],
   "source": [
    "zahl=1\n",
    "# die while Schleife\n",
    "while zahl!=0:\n",
    "    # einlesen der Zahl\n",
    "    zahl=int(input('weitere zahl: '))\n",
    "    print('Der Kehrwert ist',1/zahl)\n",
    "print('Ende des Codes')"
   ]
  },
  {
   "cell_type": "markdown",
   "metadata": {},
   "source": [
    "**Aufgabe:** Verbessern Sie untenstehende Kopie des Codes, indem Sie eine if Anweisung hinzufügen. Testen Sie Ihren korrigierten Code mit den Werten -2, 1, 5 und 0."
   ]
  },
  {
   "cell_type": "code",
   "execution_count": null,
   "metadata": {},
   "outputs": [],
   "source": [
    "# Ihre Loesung\n",
    "zahl=1\n",
    "# die while Schleife\n",
    "while zahl!=0:\n",
    "    # einlesen der Zahl\n",
    "    zahl=int(input('weitere zahl: '))\n",
    "    print('Der Kehrwert ist',1/zahl)\n",
    "print('Ende des Codes')"
   ]
  },
  {
   "cell_type": "markdown",
   "metadata": {},
   "source": [
    "## 2. Achtung: Endlosschleife"
   ]
  },
  {
   "cell_type": "markdown",
   "metadata": {},
   "source": [
    "Wenn die Bedingung der Schleife immer erfüllt ist, wird die Schleife immer ausgeführt, es liegt also eine **Endlosschleife** vor. \n",
    "\n",
    "Diese kann manuell unterbrochen werden, indem Sie den Button \"interrupt the kernel\" rechts neben \"Run\" betätigen:"
   ]
  },
  {
   "attachments": {
    "interrupt.png": {
     "image/png": "[encoded data removed]"
    }
   },
   "cell_type": "markdown",
   "metadata": {},
   "source": [
    "![interrupt.png](attachment:interrupt.png)"
   ]
  },
  {
   "cell_type": "markdown",
   "metadata": {},
   "source": [
    "Wenn wir in obigem Beispiel das erneute Einlesen der Zahl in  der Schleife vergessen, liegt eine Endlosschleife vor.\n",
    "\n",
    "Testen Sie folgendes Beispiel. Zum Beenden clicken Sie bitte auf \"interrupt the kernel\"."
   ]
  },
  {
   "cell_type": "code",
   "execution_count": null,
   "metadata": {},
   "outputs": [],
   "source": [
    "zahl=int(input('zahl: '))\n",
    "# die while Schleife\n",
    "while zahl!=0:\n",
    "    print('Der Kehrwert ist',1/zahl)\n",
    "    # wir vergessen das erneute Einlesen der Zahl\n",
    "print('Ende des Codes')"
   ]
  },
  {
   "cell_type": "markdown",
   "metadata": {},
   "source": [
    "Wenn Sie die 0 eingeben, wird die Schleife auch in diesem Beispiel nie ausgeführt.\n",
    "\n",
    "Eine Endlosschleife kann auch entstehen, wenn wir falsch einrücken. Im folgenden Code haben wir zwar den Code zum erneuten Einlesen der Zahl geschrieben. Durch die falsche Einrückungstiefe, wird dieser aber erst *nach* der Schleife ausgeführt. Da es sich aber, wenn die erste Eingabe ungleich 0 ist, um eine Endlosschleife handelt (der Wert von `zahl` ändert sich nicht), wird dieser Code nie ausgeführt. Testen Sie es. "
   ]
  },
  {
   "cell_type": "code",
   "execution_count": null,
   "metadata": {},
   "outputs": [],
   "source": [
    "zahl=int(input('zahl: '))\n",
    "# die while Schleife\n",
    "while zahl!=0:\n",
    "    print('Der Kehrwert ist',1/zahl)\n",
    "    # erneutes Einlesen der Zahl, falsch eingerueckt!!\n",
    "zahl=int(input('zahl: '))\n",
    "print('Ende des Codes')"
   ]
  },
  {
   "cell_type": "markdown",
   "metadata": {},
   "source": [
    "## 3. Weitere Beispiele"
   ]
  },
  {
   "cell_type": "markdown",
   "metadata": {},
   "source": [
    "<a id='Beispiel1'></a>\n",
    "### 3.1 Beispiel 1: Addieren von eingegebenen Zahlen"
   ]
  },
  {
   "cell_type": "markdown",
   "metadata": {},
   "source": [
    "Noch einmal obiges Beispiel, allerdings geben wir nun die eingegebene Zahl und nicht den Kehrwert aus. Testen Sie den Code:"
   ]
  },
  {
   "cell_type": "code",
   "execution_count": null,
   "metadata": {},
   "outputs": [],
   "source": [
    "zahl=int(input('zahl: '))\n",
    "# die while Schleife\n",
    "while zahl!=0:\n",
    "    print('Die Zahl ist',zahl)\n",
    "    # erneutes Einlesen der Zahl\n",
    "    zahl=int(input('zahl: '))\n",
    "print('Ende des Codes')"
   ]
  },
  {
   "cell_type": "markdown",
   "metadata": {},
   "source": [
    "Nun möchten wir alle Zahlen, die eingegeben werden, addieren. Hierzu müssen wir das (Zwischen-)Ergebnis in einer Variablen speichern. Nennen wir diese Variable `ergebnis`. \n",
    "Um eine Variable in Python zu definieren, müssen wir ihr einen intialen Wert geben. Da wir Zahlen addieren wollen, geben wir ihr nun den initalen Wert 0, das ist das neutrale Element der Addition:"
   ]
  },
  {
   "cell_type": "code",
   "execution_count": null,
   "metadata": {},
   "outputs": [],
   "source": [
    "# wir definieren die Variable ergebnis und initialisieren sie\n",
    "ergebnis=0\n",
    "# wir lesen die erste Zahl ein\n",
    "zahl=int(input('zahl: '))\n",
    "# die while Schleife: solange die eingelesene Zahl ungleich 0 ist\n",
    "while zahl!=0:\n",
    "    # wir addieren die eingelesene Zahl zum Ergebnis\n",
    "    ergebnis=ergebnis+zahl\n",
    "    # erneutes Einlesen der Zahl\n",
    "    zahl=int(input('zahl: '))\n",
    "# und nun geben wir das Endergebnis aus:\n",
    "print('Das Ergebnis ist',ergebnis)\n",
    "print('Ende des Codes')"
   ]
  },
  {
   "cell_type": "markdown",
   "metadata": {},
   "source": [
    "Testen Sie obigen Code.\n",
    "\n",
    "Auch hier gilt natürlich, dass die Schleife nicht ausgeführt wird, wenn Sie bereits beim ersten Mal eine 0 eingeben.\n",
    "\n",
    "**Aufgabe**:\n",
    "Schreiben Sie Python Code, der positive Zahlen einliest und diese ausgibt. Sobald der Benutzer eine Zahl $\\le0$ einliest, wird die Eingabe abgebrochen."
   ]
  },
  {
   "cell_type": "code",
   "execution_count": null,
   "metadata": {},
   "outputs": [],
   "source": [
    "# Ihr Code"
   ]
  },
  {
   "cell_type": "markdown",
   "metadata": {},
   "source": [
    "**Aufgabe:** Schreiben Sie Python Code, der positive Zahlen einliest, deren Summe berechnet und diese ausgibt. Sobald der Benutzer eine Zahl $≤0$ einliest, wird die Eingabe abgebrochen."
   ]
  },
  {
   "cell_type": "code",
   "execution_count": null,
   "metadata": {},
   "outputs": [],
   "source": [
    "# Ihr Code"
   ]
  },
  {
   "cell_type": "markdown",
   "metadata": {},
   "source": [
    "**Frage:** Was müssen Sie in obigem Code ändern, um nicht nur das Endergebnis, sondern auch alle Zwischenergebnisse auszugeben? (Hinweis: Denken Sie an die Einrückungstiefe.)\n"
   ]
  },
  {
   "cell_type": "markdown",
   "metadata": {},
   "source": [
    "### 3.2 Beispiel 2: Ausgeben einer Folge von Zahlen"
   ]
  },
  {
   "cell_type": "markdown",
   "metadata": {},
   "source": [
    "Wir können eine Schleife auch verwenden, um eine Folge von Zahlen zu erzeugen. \n",
    "\n",
    "Die folgende Schleife gibt alle Zahlen von 1 bis 5 aus:"
   ]
  },
  {
   "cell_type": "code",
   "execution_count": null,
   "metadata": {},
   "outputs": [],
   "source": [
    "zahl=1\n",
    "while zahl<=5:\n",
    "    print('Die Zahl ist:',zahl)\n",
    "    zahl+=1"
   ]
  },
  {
   "cell_type": "markdown",
   "metadata": {},
   "source": [
    "Auch hier ist natürlich wichtig, sicherzustellen, dass die Bedingung der `while` Schleife nach endlich vielen Schritten  nicht mehr erfüllt ist.\n",
    "\n",
    "Im folgenden Beispiel liegt eine Endlosschleife vor, weil die Einrückung fehlerhaft ist:"
   ]
  },
  {
   "cell_type": "code",
   "execution_count": null,
   "metadata": {},
   "outputs": [],
   "source": [
    "zahl=1\n",
    "while zahl<=5:\n",
    "    print('Die Zahl ist:',zahl)\n",
    "zahl+=1"
   ]
  },
  {
   "cell_type": "markdown",
   "metadata": {},
   "source": [
    "Wenn man statt `+=` aus Versehen `=+` schreibt, liegt auch eine Endlosschleife vor, da in diesem Fall `zahl` immer auf 1 gesetzt wird:"
   ]
  },
  {
   "cell_type": "code",
   "execution_count": null,
   "metadata": {},
   "outputs": [],
   "source": [
    "zahl=1\n",
    "while zahl<=5:\n",
    "    print('Die Zahl ist:',zahl)\n",
    "    zahl=+1"
   ]
  },
  {
   "cell_type": "markdown",
   "metadata": {},
   "source": [
    "Wenn die Zahlen in umgekehrter Reihenfolge ausgegeben werden sollen, ist es wichtig, dass die Variable `zahl` in jedem Schritt verringert wird:"
   ]
  },
  {
   "cell_type": "code",
   "execution_count": null,
   "metadata": {},
   "outputs": [],
   "source": [
    "zahl=5\n",
    "while zahl>0:\n",
    "    print('Die Zahl ist:',zahl)\n",
    "    zahl-=1"
   ]
  },
  {
   "cell_type": "markdown",
   "metadata": {},
   "source": [
    "Wenn Sie hier aus Versehen `+=1` schreiben, haben Sie wieder eine Endlosschleife:"
   ]
  },
  {
   "cell_type": "code",
   "execution_count": null,
   "metadata": {},
   "outputs": [],
   "source": [
    "zahl=5\n",
    "while zahl>0:\n",
    "    print('Die Zahl ist:',zahl)\n",
    "    zahl+=1"
   ]
  },
  {
   "cell_type": "markdown",
   "metadata": {},
   "source": [
    "**Aufgabe**: Schreiben Sie Code, um alle Zahlen von 1 bis 5 zu addieren. Verwenden Sie eine `while` Schleife. Denken Sie an die Verwendung der Variable `ergebnis` aus [Beispiel 1: Addieren von eingegebenen Zahlen](#Beispiel1)."
   ]
  },
  {
   "cell_type": "code",
   "execution_count": null,
   "metadata": {},
   "outputs": [],
   "source": [
    "# Ihr Code"
   ]
  },
  {
   "cell_type": "markdown",
   "metadata": {},
   "source": [
    "## 4. `break` und `continue` "
   ]
  },
  {
   "cell_type": "markdown",
   "metadata": {},
   "source": [
    "In diesem Abschnitt lernen Sie die Anweisungen `break` und `continue` kennen. Ein schönes Beispiel für die Verwendung von `break` werden Sie im Zusammenhang mit der `for` Schleife kennenlernen."
   ]
  },
  {
   "cell_type": "markdown",
   "metadata": {},
   "source": [
    "### 4.1 `break`"
   ]
  },
  {
   "cell_type": "markdown",
   "metadata": {},
   "source": [
    "`break` beendet die Schleife sofort. Python fährt dann mit der ersten Codezeile *nach* der Schleife fort.\n",
    "\n",
    "Beachten Sie hierzu bitte folgendes Beispiel:"
   ]
  },
  {
   "cell_type": "code",
   "execution_count": null,
   "metadata": {},
   "outputs": [],
   "source": [
    "zahl=1\n",
    "# das hier ist nun eine Endlosschleife\n",
    "while True:\n",
    "    print('Die Zahl ist:',zahl)\n",
    "    if zahl==5:\n",
    "        print('jetzt kommt break..')\n",
    "        break\n",
    "        print('in der Selektion nach break')\n",
    "    print('nach der Selektion')\n",
    "    zahl+=1\n",
    "print('nach der Schleife')"
   ]
  },
  {
   "cell_type": "markdown",
   "metadata": {},
   "source": [
    "Wenn Sie obigen Code ausführen, werden Sie feststellen, dass nach `break` keine Anweisung mehr innerhalb der `while` Schleife ausgeführt wird. Der Text `in der Selektion nach break` wird nie ausgegeben."
   ]
  },
  {
   "cell_type": "markdown",
   "metadata": {},
   "source": [
    "**Aufgabe:** Gegeben sind folgende Code Beispiele. \n",
    "Lesen Sie den Code durch und notieren Sie sich die Ausgabe des Codes.  Testen Sie **danach**, ob Ihre Vermutung stimmt, indem Sie den Code laufen lassen."
   ]
  },
  {
   "cell_type": "markdown",
   "metadata": {},
   "source": [
    "- Beispiel 1:"
   ]
  },
  {
   "cell_type": "code",
   "execution_count": null,
   "metadata": {},
   "outputs": [],
   "source": [
    "zahl=1\n",
    "ergebnis=0\n",
    "while zahl<=10:\n",
    "    ergebnis+=zahl\n",
    "    zahl+=1\n",
    "    if zahl>=5:\n",
    "        break\n",
    "print(zahl,ergebnis)"
   ]
  },
  {
   "cell_type": "markdown",
   "metadata": {},
   "source": [
    "- Beispiel 2"
   ]
  },
  {
   "cell_type": "code",
   "execution_count": null,
   "metadata": {},
   "outputs": [],
   "source": [
    "zahl=1\n",
    "ergebnis=0\n",
    "while zahl<=10:\n",
    "    ergebnis+=zahl\n",
    "    zahl+=1\n",
    "    if ergebnis>=5:\n",
    "        break\n",
    "print(zahl,ergebnis)"
   ]
  },
  {
   "cell_type": "markdown",
   "metadata": {},
   "source": [
    "### 4.2 `else`"
   ]
  },
  {
   "cell_type": "markdown",
   "metadata": {},
   "source": [
    "In Python kann eine `while` Schleife ein `else` haben. Dieses wird dann ausgeführt, wenn die `while` Schleife **regulär** beendet wird, *weil die Bedingung nicht mehr erfüllt ist*. Sofern die Schleife mit einem `break` beendet wird, werden die Anweisungen im `else` Teil nicht ausgeführt."
   ]
  },
  {
   "cell_type": "markdown",
   "metadata": {},
   "source": [
    "**Aufgabe:** Testen Sie folgenden Code mit verschiedenen Eingaben. Wiederholen Sie dies so lange, bis Ihnen der Code klar ist. Wir werden dieses Beispiel im Praktikum / der Übung gemeinsam ansehen."
   ]
  },
  {
   "cell_type": "code",
   "execution_count": null,
   "metadata": {},
   "outputs": [],
   "source": [
    "anzahl=0\n",
    "while anzahl <5:\n",
    "    zahl=int(input('zahl: '))\n",
    "    if zahl==0:\n",
    "        print('Sie haben keine Lust mehr')\n",
    "        break\n",
    "    print('Der Kehrwert von',zahl,'ist',1/zahl)\n",
    "    anzahl+=1\n",
    "else:\n",
    "    print('5 Kehrwerte wurden berechnet')\n",
    "print('Auf Wiedersehen')"
   ]
  },
  {
   "cell_type": "markdown",
   "metadata": {},
   "source": [
    "### 4.3 `continue`"
   ]
  },
  {
   "cell_type": "markdown",
   "metadata": {},
   "source": [
    "Mit `continue` wird der aktuelle Schleifendurchlauf beendet und die Bedingung erneut überprüft. \n",
    "\n",
    "Vergleichen Sie die folgenden zwei Code Beispiele und erklären Sie den Unterschied. Wir werden diese im Praktikum / der Übung besprechen. "
   ]
  },
  {
   "cell_type": "markdown",
   "metadata": {},
   "source": [
    "- Beispiel 1"
   ]
  },
  {
   "cell_type": "code",
   "execution_count": null,
   "metadata": {},
   "outputs": [],
   "source": [
    "zahl=0\n",
    "anzahl=0\n",
    "while zahl<5:\n",
    "    zahl+=1\n",
    "    if zahl==2:\n",
    "        print('zwei')\n",
    "    anzahl+=1\n",
    "print('anzahl=',anzahl)"
   ]
  },
  {
   "cell_type": "markdown",
   "metadata": {},
   "source": [
    "- Beispiel 2"
   ]
  },
  {
   "cell_type": "code",
   "execution_count": null,
   "metadata": {},
   "outputs": [],
   "source": [
    "zahl=0\n",
    "anzahl=0\n",
    "while zahl<5:\n",
    "    zahl+=1\n",
    "    if zahl==2:\n",
    "        print('zwei')\n",
    "        continue\n",
    "    anzahl+=1\n",
    "print('anzahl=',anzahl)"
   ]
  },
  {
   "cell_type": "markdown",
   "metadata": {},
   "source": [
    "*Ende des Notebooks*"
   ]
  },
  {
   "cell_type": "markdown",
   "metadata": {
    "deletable": false,
    "editable": false
   },
   "source": [
    "<a rel=\"license\" href=\"http://creativecommons.org/licenses/by-nc-nd/4.0/\"><img alt=\"Creative Commons Lizenzvertrag\" style=\"border-width:0\" src=\"https://i.creativecommons.org/l/by-nc-nd/4.0/88x31.png\" /></a><br /><span xmlns:dct=\"http://purl.org/dc/terms/\" property=\"dct:title\">Dieses Notebook wurde von Christina B. Class für die Lehre an der EAH Jena erstellt. Es ist lizenziert unter einer <a rel=\"license\" href=\"http://creativecommons.org/licenses/by-nc-nd/4.0/\">Creative Commons Namensnennung - Nicht kommerziell - Keine Bearbeitungen 4.0 International Lizenz</a>."
   ]
  }
 ],
 "metadata": {
  "kernelspec": {
   "display_name": "Python 3 (ipykernel)",
   "language": "python",
   "name": "python3"
  },
  "language_info": {
   "codemirror_mode": {
    "name": "ipython",
    "version": 3
   },
   "file_extension": ".py",
   "mimetype": "text/x-python",
   "name": "python",
   "nbconvert_exporter": "python",
   "pygments_lexer": "ipython3",
   "version": "3.10.13"
  }
 },
 "nbformat": 4,
 "nbformat_minor": 4
}
