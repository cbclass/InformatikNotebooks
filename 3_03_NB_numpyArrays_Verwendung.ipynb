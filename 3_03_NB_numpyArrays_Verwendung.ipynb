{
 "cells": [
  {
   "cell_type": "markdown",
   "metadata": {},
   "source": [
    "Notebook zu Python: Verwendung von numpy Arrays\n",
    "\n",
    "Version 1.3, 5. Januar 2024, Informatik, EAH Jena\n",
    "\n",
    "(c) Christina B. Class\n"
   ]
  },
  {
   "cell_type": "markdown",
   "metadata": {},
   "source": [
    "### Vorspann"
   ]
  },
  {
   "cell_type": "markdown",
   "metadata": {},
   "source": [
    "In diesem Notebook wird `numpy` verwendet, daher ist folgende `import` Zeile relevant. "
   ]
  },
  {
   "cell_type": "code",
   "execution_count": null,
   "metadata": {},
   "outputs": [],
   "source": [
    "import numpy as np"
   ]
  },
  {
   "cell_type": "markdown",
   "metadata": {},
   "source": [
    "Die folgende Funktion wird immer wieder verwendet."
   ]
  },
  {
   "cell_type": "code",
   "execution_count": null,
   "metadata": {},
   "outputs": [],
   "source": [
    "def initM():\n",
    "    m=np.array([[1,2,3,4,5],[3.2,1.2,4.3,5.2,3.21],[1,3,4,5,12],[4,1,3,2,6]])\n",
    "    return m"
   ]
  },
  {
   "cell_type": "markdown",
   "metadata": {},
   "source": [
    "# 1. Attribute"
   ]
  },
  {
   "cell_type": "markdown",
   "metadata": {},
   "source": [
    "Wir erzeugen die Matrix `mat` mit obiger Funktion: "
   ]
  },
  {
   "cell_type": "code",
   "execution_count": null,
   "metadata": {},
   "outputs": [],
   "source": [
    "mat=initM()\n",
    "print(mat)"
   ]
  },
  {
   "cell_type": "markdown",
   "metadata": {},
   "source": [
    "`mat` ist eine zwei-dimensionale Matrix mit 4 Zeilen und 5 Spalten. Die Anzahl Elemente ist 20."
   ]
  },
  {
   "cell_type": "code",
   "execution_count": null,
   "metadata": {},
   "outputs": [],
   "source": [
    "print('Dimensionen:',mat.ndim)\n",
    "print('Anzahl Zeilen, Spalten:',mat.shape)\n",
    "print('Anzahl Elemente:',mat.size)\n",
    "print('Datentyp der Elemente:',mat.dtype)"
   ]
  },
  {
   "cell_type": "markdown",
   "metadata": {},
   "source": [
    "# 2. Methoden: Informationen über Werte"
   ]
  },
  {
   "cell_type": "markdown",
   "metadata": {},
   "source": [
    "## 2.1 Minimum und Maximum"
   ]
  },
  {
   "cell_type": "markdown",
   "metadata": {},
   "source": [
    "`min()` und `max()` sind Methoden, die den minimalen bzw. maximalen Wert des Arrays bestimmen:"
   ]
  },
  {
   "cell_type": "code",
   "execution_count": null,
   "metadata": {},
   "outputs": [],
   "source": [
    "mat=initM()\n",
    "print('minimum:',mat.min())\n",
    "print('maximum:',mat.max())"
   ]
  },
  {
   "cell_type": "markdown",
   "metadata": {},
   "source": [
    "Manchmal wollen wir wissen, wo ein minimaler bzw. maximaler Wert steht:"
   ]
  },
  {
   "cell_type": "code",
   "execution_count": null,
   "metadata": {},
   "outputs": [],
   "source": [
    "print(mat)"
   ]
  },
  {
   "cell_type": "markdown",
   "metadata": {},
   "source": [
    "In unserer Matrix gibt es den Wert 12 nur einmal. Dagegen steht der Wert 1 insgesamt dreimal in der Matrix. Die Methoden `argmin()` und `argmax()` bestimmen den Index **eines Elements** mit dem minimalen bzw. maximalen Wert, genauer bestimmen Sie den Index des **ersten** Elementes mit dem minimalen bzw. maximalen Wert:"
   ]
  },
  {
   "cell_type": "code",
   "execution_count": null,
   "metadata": {},
   "outputs": [],
   "source": [
    "print('index minimum:',mat.argmin())\n",
    "print('index maximum:',mat.argmax())"
   ]
  },
  {
   "cell_type": "markdown",
   "metadata": {},
   "source": [
    "Wenn Sie obigen Code laufen lassen, erhalten Sie die Indices als eine einzelne Zahl und nicht als Angabe von Zeile und Spalte. Die 12 steht hierbei an Index 14. \n",
    "\n",
    "Der Index ergibt sich  als der Index des Elements nach Umwandlung der Matrix **zeilenweise** in ein eindimensionales Array."
   ]
  },
  {
   "cell_type": "markdown",
   "metadata": {},
   "source": [
    "`min()`, `max()`, `argmin()` und `argmax()` haben ein optionales Attribut (`axis`), das bestimmt von welchen Werten das Minimum etc. gesucht wird:\n",
    "- keine Angabe: die Bestimmung erfolgt für die **zeilenweise als eindimensionales Array angeordnete Matrix** (siehe oben). Die Rückgabe ist ein einzelner Wert.\n",
    "- 0: die Bestimmung erfogt **spaltenweise**. Die Rückgabe ist ein Array mit so vielen Elementen wie die Matrix Spalten hat.\n",
    "- 1: die Bestimmung erfogt **zeilenweise**. Die Rückgabe ist ein Array mit so vielen Elementen wie die Matrix Zeilen hat.\n"
   ]
  },
  {
   "cell_type": "code",
   "execution_count": null,
   "metadata": {},
   "outputs": [],
   "source": [
    "print(mat)\n",
    "print('spaltenweise: maximum:',mat.max(axis=0))\n",
    "print('spaltenweise: index maximum:',mat.argmax(axis=0))\n",
    "print('zeilenweise: minimum:',mat.min(axis=1))\n",
    "print('zeilenweise: index minimum:',mat.argmin(axis=1))"
   ]
  },
  {
   "cell_type": "markdown",
   "metadata": {},
   "source": [
    "## 2.2 Summe und Produkt"
   ]
  },
  {
   "cell_type": "markdown",
   "metadata": {},
   "source": [
    "Die Methoden `sum()` und `product()` berechnen die Summe bzw. das Produkt von Array Elementen. Mit dem optionalen Parameter `initial` spezifizieren Sie den initalien Wert."
   ]
  },
  {
   "cell_type": "code",
   "execution_count": null,
   "metadata": {},
   "outputs": [],
   "source": [
    "a=np.array([1,2,3,4])\n",
    "print(a.sum())\n",
    "print(a.sum(initial=10))\n",
    "print(a.prod())\n",
    "print(a.prod(initial=10))"
   ]
  },
  {
   "cell_type": "markdown",
   "metadata": {},
   "source": [
    "`sum()` und `axis()` verfügen auch über den oben diskutierten optionalen Parameter `axis`:"
   ]
  },
  {
   "cell_type": "code",
   "execution_count": null,
   "metadata": {},
   "outputs": [],
   "source": [
    "a=np.array([[1,1,1],[2,2,2],[3,3,3]])\n",
    "\n",
    "print(a)\n",
    "print('spaltenweise:',a.sum(axis=0))\n",
    "print('zeilenweise:',a.sum(axis=1))"
   ]
  },
  {
   "cell_type": "markdown",
   "metadata": {},
   "source": [
    "## 2.3 Test auf 0"
   ]
  },
  {
   "cell_type": "markdown",
   "metadata": {},
   "source": [
    "**Zur Erinnerung**: Der Datentyp `bool` ist ein numerischer Datentyp. Es gilt, dass alle Zahlenwerte ungleich 0 wahr, also `True` sind."
   ]
  },
  {
   "cell_type": "code",
   "execution_count": null,
   "metadata": {},
   "outputs": [],
   "source": [
    "print(bool(1.2))\n",
    "print(bool(0.0))\n",
    "print(bool(-0.001))"
   ]
  },
  {
   "cell_type": "markdown",
   "metadata": {},
   "source": [
    "Die Methoden `any()` und `all()` testen, ob alle bzw. mindestens ein Wert im Array `True` sind. Sie können also auch genutzt werden, um zu testen, ob Werte ungleich 0 sind."
   ]
  },
  {
   "cell_type": "markdown",
   "metadata": {},
   "source": [
    "Gegeben sind die folgenden Arrays:"
   ]
  },
  {
   "cell_type": "code",
   "execution_count": null,
   "metadata": {},
   "outputs": [],
   "source": [
    "a1=np.array(range(11))\n",
    "a2=np.array(range(1,11))\n",
    "a3=np.zeros((1,5))"
   ]
  },
  {
   "cell_type": "markdown",
   "metadata": {},
   "source": [
    "Mit `all()` geben wir aus, ob alle Elemente ungleich 0 sind:"
   ]
  },
  {
   "cell_type": "code",
   "execution_count": null,
   "metadata": {},
   "outputs": [],
   "source": [
    "print(a1)\n",
    "print('alle Werte ungleich 0:',a1.all())\n",
    "print(a2)\n",
    "print('alle Werte ungleich 0:',a2.all())\n",
    "print(a3)\n",
    "print('alle Werte ungleich 0:',a3.all())"
   ]
  },
  {
   "cell_type": "markdown",
   "metadata": {},
   "source": [
    "Mit `any()` geben wir aus, ob mind. ein Element ungleich 0 ist:"
   ]
  },
  {
   "cell_type": "code",
   "execution_count": null,
   "metadata": {},
   "outputs": [],
   "source": [
    "print(a1)\n",
    "print('mind. ein Wert ungleich 0:',a1.any())\n",
    "print(a2)\n",
    "print('mind. ein Wert ungleich 0:',a2.any())\n",
    "print(a3)\n",
    "print('mind. ein Wert ungleich 0:',a3.any())"
   ]
  },
  {
   "cell_type": "markdown",
   "metadata": {},
   "source": [
    "**Hinweis:** Auch `any()` und `all()` verfügen über den optionalen Parameter `axis`."
   ]
  },
  {
   "cell_type": "markdown",
   "metadata": {},
   "source": [
    "**Aufgabe:** Geben Sie aus\n",
    "- ob mind. ein Wert gleich Null ist\n",
    "- ob alle Werte gleich Null sind.\n",
    "\n",
    "Verwenden Sie nur `any()` und `all()`."
   ]
  },
  {
   "cell_type": "code",
   "execution_count": null,
   "metadata": {},
   "outputs": [],
   "source": [
    "# Ihre Loesung"
   ]
  },
  {
   "cell_type": "markdown",
   "metadata": {},
   "source": [
    "## 2.4 Statistische Informationen"
   ]
  },
  {
   "cell_type": "markdown",
   "metadata": {},
   "source": [
    "`numpy` bietet einige Methoden mit statistischen Informationen für `numpy` arrays an. Diese Methoden bieten alle auch den optionalen `axis` Parameter an. "
   ]
  },
  {
   "cell_type": "markdown",
   "metadata": {},
   "source": [
    "| Methode | Bedeutung|\n",
    "|--------------|-----------------------|\n",
    "|`mean()` | Mittelwert|\n",
    "|`var()`| Varianz|\n",
    "| `std()` | Standardabweichung |"
   ]
  },
  {
   "cell_type": "markdown",
   "metadata": {},
   "source": [
    "**Aufgabe:** Geben Sie für die durch `initM()` erzeugte Matrix folgende Werte aus:\n",
    "- den Mittelwert aller Werte\n",
    "- die zeilenweise berechnete Varianz\n",
    "- die spaltenweise berechnete Standardabweichung"
   ]
  },
  {
   "cell_type": "code",
   "execution_count": null,
   "metadata": {},
   "outputs": [],
   "source": [
    "# Ihre Loesung"
   ]
  },
  {
   "cell_type": "markdown",
   "metadata": {},
   "source": [
    "# 3. Methoden: Veränderung von Werten"
   ]
  },
  {
   "cell_type": "markdown",
   "metadata": {},
   "source": [
    "## 3.1 `clip()`"
   ]
  },
  {
   "cell_type": "markdown",
   "metadata": {},
   "source": [
    "**Einführendes Beispiel:** Gehen wir davon aus, dass wir eine Reihe von Messdaten erheben. Wir wissen, dass die Werte nur zwischen 0 und 10 liegen können. Auf Grund der Messungenauigkeit der vorhandenen Sensoren, ist es jedoch möglich, dass einige Werte leicht unter 0 oder leicht über 10 sind. Um keine Fehler in der Auswertung zu erhalten, müssen diese dann auf 0 bzw 10 geändert werden. \n",
    "\n",
    "Dies ist die Aufgabe der Methode `clip()`. Sie erzeugt ein neues Array, in dem alle Werte im Interall `[min,max]` liegen und vergrößert zu kleine Werte zu `min` und verkleinert zu große Werte zu `max`:  "
   ]
  },
  {
   "cell_type": "code",
   "execution_count": null,
   "metadata": {},
   "outputs": [],
   "source": [
    "a=np.array([5.29, 5.68, 3.77, 6.84, 5.09, 7.69, 5.16, 1.36, 3.69, 10.01, 5.59,\n",
    " -0.04, 7.48])\n",
    "print(a.min())\n",
    "print(a.max())\n",
    "b=a.clip(0,10)\n",
    "print(a)\n",
    "print(b)"
   ]
  },
  {
   "cell_type": "markdown",
   "metadata": {},
   "source": [
    "## 3.2 `fill()` "
   ]
  },
  {
   "cell_type": "markdown",
   "metadata": {},
   "source": [
    "`fill()` setzt alle Werte in einem gegebenen Array auf einen bestimmten nummerischen Wert.\n",
    "\n",
    "Soll zum Beispiel ein Array der Länge 20 erzeugt werden, das überall den Wert -99 enthält, könnte man folgendermaßen vorgehen:"
   ]
  },
  {
   "cell_type": "code",
   "execution_count": null,
   "metadata": {},
   "outputs": [],
   "source": [
    "a=np.empty(20)\n",
    "a.fill(-99)\n",
    "print(a)"
   ]
  },
  {
   "cell_type": "markdown",
   "metadata": {},
   "source": [
    "# 4. Methoden zu shape und der Form"
   ]
  },
  {
   "cell_type": "markdown",
   "metadata": {},
   "source": [
    "## 4.1 `reshape()`, `copy()` und `resize()` "
   ]
  },
  {
   "cell_type": "markdown",
   "metadata": {},
   "source": [
    "Gegeben ist folgendes Array"
   ]
  },
  {
   "cell_type": "code",
   "execution_count": null,
   "metadata": {},
   "outputs": [],
   "source": [
    "a=np.array([[1,2,3,4],[11,12,13,14],[21,22,23,24]])\n",
    "print(a.shape)"
   ]
  },
  {
   "cell_type": "markdown",
   "metadata": {},
   "source": [
    "Es handelt sich um eine $3 \\times 4$ Matrix."
   ]
  },
  {
   "cell_type": "markdown",
   "metadata": {},
   "source": [
    "Mit `reshape()` erhalten wir eine Kopie des Arrays in einer anderen Form. Diese Kopie teilt sich die Daten mit dem übrigen Array."
   ]
  },
  {
   "cell_type": "markdown",
   "metadata": {},
   "source": [
    "Wir erzeuen eine $6 \\times 2$ Kopie des Arrays:"
   ]
  },
  {
   "cell_type": "code",
   "execution_count": null,
   "metadata": {},
   "outputs": [],
   "source": [
    "kopie=a.reshape((2,6))\n",
    "print('Array:\\n',a)\n",
    "print('Kopie:\\n',kopie)"
   ]
  },
  {
   "cell_type": "markdown",
   "metadata": {},
   "source": [
    "und verändern nun einen einzelnen Wert in der Kopie:"
   ]
  },
  {
   "cell_type": "code",
   "execution_count": null,
   "metadata": {},
   "outputs": [],
   "source": [
    "kopie[1,3]=-99"
   ]
  },
  {
   "cell_type": "markdown",
   "metadata": {},
   "source": [
    "Auch der Wert im ursprünglichen Array hat sich geändert:"
   ]
  },
  {
   "cell_type": "code",
   "execution_count": null,
   "metadata": {},
   "outputs": [],
   "source": [
    "print('Array:\\n',a)\n",
    "print('Kopie:\\n',kopie)"
   ]
  },
  {
   "cell_type": "markdown",
   "metadata": {},
   "source": [
    "Mit `copy()` können Sie eine Kopie eines Arrays erstellen:"
   ]
  },
  {
   "cell_type": "code",
   "execution_count": null,
   "metadata": {},
   "outputs": [],
   "source": [
    "a=np.array([1,2,3,4])\n",
    "kopie=a.copy()"
   ]
  },
  {
   "cell_type": "code",
   "execution_count": null,
   "metadata": {},
   "outputs": [],
   "source": [
    "print('Array:\\n',a)\n",
    "print('Kopie:\\n',kopie)"
   ]
  },
  {
   "cell_type": "markdown",
   "metadata": {},
   "source": [
    "Diese Kopie teilt sich keine Daten mit dem Originalarray:"
   ]
  },
  {
   "cell_type": "code",
   "execution_count": null,
   "metadata": {},
   "outputs": [],
   "source": [
    "kopie[0]=-99\n",
    "print('Array:\\n',a)\n",
    "print('Kopie:\\n',kopie)"
   ]
  },
  {
   "cell_type": "markdown",
   "metadata": {},
   "source": [
    "Die Form eines gegebenen Arrays können Sie mit `resize()` verändern."
   ]
  },
  {
   "cell_type": "code",
   "execution_count": null,
   "metadata": {},
   "outputs": [],
   "source": [
    "a=np.array([[1,2,3,4],[5,6,7,8],[9,10,11,12]])\n",
    "print('Array:\\n',a)\n",
    "a.resize((2,6))\n",
    "print('neue Form:\\n',a)"
   ]
  },
  {
   "cell_type": "markdown",
   "metadata": {},
   "source": [
    "## 4.2 `flatten()` und `ravel()`"
   ]
  },
  {
   "cell_type": "markdown",
   "metadata": {},
   "source": [
    "Mit `flatten()` und `ravel()` erzeugen Sie eine Kopie des Arrays als eindimensionales Array. Hierbei teilt sich die durch `ravel()` erzeugte Kopie die Daten mit dem Originalarray:"
   ]
  },
  {
   "cell_type": "code",
   "execution_count": null,
   "metadata": {},
   "outputs": [],
   "source": [
    "a=np.array([[1,2,3],[4,5,6],[7,8,9]])\n",
    "geteilteDaten=a.ravel()\n",
    "kopierteDaten=a.flatten()"
   ]
  },
  {
   "cell_type": "code",
   "execution_count": null,
   "metadata": {},
   "outputs": [],
   "source": [
    "print('Array:\\n',a)\n",
    "print('Kopie geteilte Daten:\\n',geteilteDaten)\n",
    "print('Kopie kopierte Daten:\\n',kopierteDaten)"
   ]
  },
  {
   "cell_type": "markdown",
   "metadata": {},
   "source": [
    "Wir verändern jetzt einen Wert im Originalarray:"
   ]
  },
  {
   "cell_type": "code",
   "execution_count": null,
   "metadata": {},
   "outputs": [],
   "source": [
    "a[0,0]=-99\n",
    "print('Array:\\n',a)\n",
    "print('Kopie geteilte Daten:\\n',geteilteDaten)\n",
    "print('Kopie kopierte Daten:\\n',kopierteDaten)"
   ]
  },
  {
   "cell_type": "markdown",
   "metadata": {},
   "source": [
    "## 4.3 `transpose()`"
   ]
  },
  {
   "cell_type": "markdown",
   "metadata": {},
   "source": [
    "Die transponierte Matrix $M_T$ einer $N \\times M$ Matrix $M_O$ ist eine $M \\times N$ Matrix mit den an der Hauptdiagonalen gespiegelten Werten: $a_{ij}$ in $M_O$ ist $a_{ji}$ in $M_T$.\n",
    "\n",
    "Da die Transponierte eine wichtige Rolle spielt, gibt es eine Methode `transpose()` um sie zu erzeugen. Diese erzeugt die transponierte Matrix als Kopie, die sich mit der Originalmatrix die Daten teilt."
   ]
  },
  {
   "cell_type": "code",
   "execution_count": null,
   "metadata": {},
   "outputs": [],
   "source": [
    "a=np.array([[1,2,3],[4,5,6],[7,8,9]])\n",
    "trans=a.transpose()\n",
    "print('Array:\\n',a)\n",
    "print('Transponierte:\\n',trans)"
   ]
  },
  {
   "cell_type": "markdown",
   "metadata": {},
   "source": [
    "Wird in einer der beiden Matrizen ein Wert verändert, sehen beide die Veränderung, da sie sich die Daten teilen:"
   ]
  },
  {
   "cell_type": "code",
   "execution_count": null,
   "metadata": {},
   "outputs": [],
   "source": [
    "a[0,1]=-99\n",
    "print('Array:\\n',a)\n",
    "print('Transponierte:\\n',trans)"
   ]
  },
  {
   "cell_type": "markdown",
   "metadata": {},
   "source": [
    "## 4.4 `astype()`"
   ]
  },
  {
   "cell_type": "markdown",
   "metadata": {},
   "source": [
    "Wie bereits im Notebook zur Erzeugung von `numpy` Arrays erwähnt, wird der Datentyp bei Erzeugung eines Arrays festgelegt. "
   ]
  },
  {
   "cell_type": "code",
   "execution_count": null,
   "metadata": {},
   "outputs": [],
   "source": [
    "a=np.array([1,2,3,4])\n",
    "print(a)\n",
    "print(a.dtype)"
   ]
  },
  {
   "cell_type": "markdown",
   "metadata": {},
   "source": [
    "und wird nicht verändert, wenn ein Element eines anderen Datentyps in das Array geschrieben wird:"
   ]
  },
  {
   "cell_type": "code",
   "execution_count": null,
   "metadata": {},
   "outputs": [],
   "source": [
    "a[0]=5.3\n",
    "print(a)\n",
    "print(a.dtype)"
   ]
  },
  {
   "cell_type": "markdown",
   "metadata": {},
   "source": [
    "Die Methode `astype()` erzeugt eine Kopie eines Arrays mit einem anderen Datentyp:"
   ]
  },
  {
   "cell_type": "code",
   "execution_count": null,
   "metadata": {},
   "outputs": [],
   "source": [
    "aInt=np.array([1,2,3,4])\n",
    "aFloat=aInt.astype('float')\n",
    "print('integer Array:\\n',aInt)\n",
    "print('float Kopie:\\n',aFloat)"
   ]
  },
  {
   "cell_type": "markdown",
   "metadata": {},
   "source": [
    "Auch hier werden die Nachkommastellen von `float` Werten bei der Umwandlung zu `int` abgeschnitten. Die Werte werden nicht gerundet."
   ]
  },
  {
   "cell_type": "code",
   "execution_count": null,
   "metadata": {},
   "outputs": [],
   "source": [
    "aFloat=np.array([1.73,2,3.99,4.04])\n",
    "aInt=aInt.astype('int')\n",
    "print('float Array:\\n',aFloat)\n",
    "print('integer Kopie:\\n',aInt)"
   ]
  },
  {
   "cell_type": "markdown",
   "metadata": {},
   "source": [
    "## 4.5 `tolist()`"
   ]
  },
  {
   "cell_type": "markdown",
   "metadata": {},
   "source": [
    "Mit `tolist()` können Sie ein Array in eine Liste umwandeln:"
   ]
  },
  {
   "cell_type": "code",
   "execution_count": null,
   "metadata": {},
   "outputs": [],
   "source": [
    "a=np.array([[1,2,3,4],[11,12,13,14],[21,22,23,24]])\n",
    "aL=a.tolist()\n",
    "print('a', type(a))\n",
    "print(a)\n",
    "print('aL', type(aL))\n",
    "print(aL)"
   ]
  },
  {
   "cell_type": "markdown",
   "metadata": {},
   "source": [
    "**Abschließende Bemerkungen:**"
   ]
  },
  {
   "cell_type": "markdown",
   "metadata": {},
   "source": [
    "- Es gibt weitere als die hier vorgestellten Attribute und Methoden. Bitte sehen Sie hier in der Python Dokumentation nach: https://numpy.org/doc/stable/reference/arrays.ndarray.html"
   ]
  },
  {
   "cell_type": "markdown",
   "metadata": {},
   "source": [
    "- Alle oben genannten Methoden **verändern nicht** die Größe des Arrays, also die Anzahl Elemente."
   ]
  },
  {
   "cell_type": "markdown",
   "metadata": {},
   "source": [
    "- Bitte beachten Sie, ob Kopien sich **Daten mit dem Originalarray teilen**, oder eine Kopie aller Daten erzeugt haben!"
   ]
  },
  {
   "cell_type": "markdown",
   "metadata": {},
   "source": [
    "# 5. Vektorisierung"
   ]
  },
  {
   "cell_type": "markdown",
   "metadata": {},
   "source": [
    "Gegeben ist folgendes Array:"
   ]
  },
  {
   "cell_type": "code",
   "execution_count": null,
   "metadata": {},
   "outputs": [],
   "source": [
    "a=np.array([1.,2,3,4,5])"
   ]
  },
  {
   "cell_type": "markdown",
   "metadata": {},
   "source": [
    "Einfache mathematische Operatoren sind für das Array definiert und werden elementweise ausgeführt:"
   ]
  },
  {
   "cell_type": "code",
   "execution_count": null,
   "metadata": {},
   "outputs": [],
   "source": [
    "print(a)\n",
    "print(2*a)\n",
    "print(1/a)"
   ]
  },
  {
   "cell_type": "markdown",
   "metadata": {},
   "source": [
    "Funktionen des Moduls `math` können nicht für `numpy` Arrays aufgerufen werden, da diese nur für ein einzelnes Element definiert sind. Sehen Sie sich bitte die Fehlermeldung an."
   ]
  },
  {
   "cell_type": "code",
   "execution_count": null,
   "metadata": {},
   "outputs": [],
   "source": [
    "import math\n",
    "b=math.sin(a)"
   ]
  },
  {
   "cell_type": "markdown",
   "metadata": {},
   "source": [
    "Um Funktionen elementweise auf Arrays anzuwenden, müssen diese *vektorisiert* sein. `numpy` bietet vektorisierte mathematische Funktionen an:"
   ]
  },
  {
   "cell_type": "code",
   "execution_count": null,
   "metadata": {},
   "outputs": [],
   "source": [
    "b=np.sin(a)\n",
    "print(b)"
   ]
  },
  {
   "cell_type": "markdown",
   "metadata": {},
   "source": [
    "Betrachten Sie bitte folgendes Beispiel."
   ]
  },
  {
   "cell_type": "code",
   "execution_count": null,
   "metadata": {},
   "outputs": [],
   "source": [
    "a=np.array(range(-5,6))\n",
    "print(a)\n",
    "b=np.sqrt(a)\n",
    "print(b)"
   ]
  },
  {
   "cell_type": "markdown",
   "metadata": {},
   "source": [
    "Da die Wurzel einer negativen Zahl für reele Zahlen **nicht definiert** ist, wird das Ergebnis zu `nan` (not a number) definiert."
   ]
  },
  {
   "cell_type": "markdown",
   "metadata": {},
   "source": [
    "Viele Funktionen mit einer Zahl als Parameter (einem skalaren Parameter), die wir selber geschrieben haben, können für numpy Arrays aufgerufen werden, sofern sie eine einfache Berechnung definieren: "
   ]
  },
  {
   "cell_type": "code",
   "execution_count": null,
   "metadata": {},
   "outputs": [],
   "source": [
    "def f(x):\n",
    "    return x**3-2*x+27-np.sqrt(x)"
   ]
  },
  {
   "cell_type": "code",
   "execution_count": null,
   "metadata": {},
   "outputs": [],
   "source": [
    "a=np.array([1,2,3,4,5])\n",
    "print(f(a))"
   ]
  },
  {
   "cell_type": "markdown",
   "metadata": {},
   "source": [
    "und"
   ]
  },
  {
   "cell_type": "code",
   "execution_count": null,
   "metadata": {},
   "outputs": [],
   "source": [
    "a=np.array(range(-5,6))\n",
    "print(f(a))  # hier gibt es Fehler das die Quadratwurzel aus negativen Zahlen nicht definiert ist"
   ]
  },
  {
   "cell_type": "markdown",
   "metadata": {},
   "source": [
    "Da die Wurzeln für negative Zahlen nicht definiert ist, wird in diesem Fall `nan` zurück gegeben. Wir verbessern nun unsere Funktion und verwenden die Selektion. Die Funktion gibt nun die 0 zurück, falls $x < 0$ ist:"
   ]
  },
  {
   "cell_type": "code",
   "execution_count": null,
   "metadata": {},
   "outputs": [],
   "source": [
    "def f2(x):\n",
    "    if x > 0:\n",
    "        return x**3-2*x+27-np.sqrt(x)\n",
    "    else:\n",
    "        return 0"
   ]
  },
  {
   "cell_type": "code",
   "execution_count": null,
   "metadata": {},
   "outputs": [],
   "source": [
    "print('f2(3):',f2(3))\n",
    "print('f2(-3):',f2(-3))"
   ]
  },
  {
   "cell_type": "markdown",
   "metadata": {},
   "source": [
    "Enthält eine Funktion eine Selektion (`if`) kann diese aber mit einem `numpy` Array als Parameter nicht mehr aufgerufen werden:"
   ]
  },
  {
   "cell_type": "code",
   "execution_count": null,
   "metadata": {},
   "outputs": [],
   "source": [
    "a=np.array([1,2,3,4,5])\n",
    "print(f2(a))"
   ]
  },
  {
   "cell_type": "markdown",
   "metadata": {},
   "source": [
    "`any()` oder `all()` zu nutzen, wie vorgeschlagen,  ist für obige Funktion keine Variante, da die Selektion ja für jedes einzelne Vektorelement ausgeführt werden soll. \n",
    "\n",
    "Um solche Funktionen dennoch aufrufen zu können, können diese mit dem Dekorator `@np.vectorize` vektorisiert werden. Dann wird die Selektion und die Berechnung des Ergebnisses elementweise ausgeführt."
   ]
  },
  {
   "cell_type": "code",
   "execution_count": null,
   "metadata": {},
   "outputs": [],
   "source": [
    "@np.vectorize\n",
    "def f3(x):\n",
    "    if x > 0:\n",
    "        return x**3-2*x+27-np.sqrt(x)\n",
    "    else:\n",
    "        return 0"
   ]
  },
  {
   "cell_type": "code",
   "execution_count": null,
   "metadata": {},
   "outputs": [],
   "source": [
    "a=np.array([1,2,3,4,5])\n",
    "print(f3(a))"
   ]
  },
  {
   "cell_type": "markdown",
   "metadata": {},
   "source": [
    "und"
   ]
  },
  {
   "cell_type": "code",
   "execution_count": null,
   "metadata": {},
   "outputs": [],
   "source": [
    "a=np.array(range(-5,6))\n",
    "print(f(a)) # hier gibt es Fehler das die Quadratwurzel aus negativen Zahlen nicht definiert ist\n",
    "print(f3(a))"
   ]
  },
  {
   "cell_type": "markdown",
   "metadata": {},
   "source": [
    "**Hinweise:** \n",
    "\n",
    "Die Vektorisierung der Funktionen in `numpy` und `scipy` ist hardwarenah umgesetzt und daher schnell. Wenn eigene Funktionen vektorisiert werden, ist das deutlich langsamer. Versuchen Sie dies zu vermeiden."
   ]
  },
  {
   "cell_type": "markdown",
   "metadata": {},
   "source": [
    "Eine Liste der mathematischen Funktionen in `numpy` finden Sie hier: https://numpy.org/doc/stable/reference/routines.math.html"
   ]
  },
  {
   "cell_type": "markdown",
   "metadata": {},
   "source": [
    "# 6. Zugriff auf einzelne Elemente und Teile der Matrix"
   ]
  },
  {
   "cell_type": "markdown",
   "metadata": {},
   "source": [
    "## 6.1 Zugriff"
   ]
  },
  {
   "cell_type": "markdown",
   "metadata": {},
   "source": [
    "Gegeben ist die mit `initM()` erzeugte Matrix:"
   ]
  },
  {
   "cell_type": "code",
   "execution_count": null,
   "metadata": {},
   "outputs": [],
   "source": [
    "mat=initM()\n",
    "print(mat)"
   ]
  },
  {
   "cell_type": "markdown",
   "metadata": {},
   "source": [
    "Der Zugriff auf ein einzelnes Element erfolgt über die Angabe des Zeilen und Spaltenindex, durch ein Komma getrennt, in `[]`."
   ]
  },
  {
   "cell_type": "code",
   "execution_count": null,
   "metadata": {},
   "outputs": [],
   "source": [
    "print(mat[1,2])"
   ]
  },
  {
   "cell_type": "markdown",
   "metadata": {},
   "source": [
    "Wie im \"slicing\" beim Zugriff auf sequentielle Datentypen ([Notebook zu Listen (Teil 2)](10_NB_Listen_2.ipynb)) können die Indices hier auch eingegrenzt werden. Zugriff auf die 1. bis 3. Spalte in Zeile 1:"
   ]
  },
  {
   "cell_type": "code",
   "execution_count": null,
   "metadata": {},
   "outputs": [],
   "source": [
    "print(mat[0,0:3])"
   ]
  },
  {
   "cell_type": "markdown",
   "metadata": {},
   "source": [
    "und"
   ]
  },
  {
   "cell_type": "code",
   "execution_count": null,
   "metadata": {},
   "outputs": [],
   "source": [
    "print(mat[1:3,1:3])"
   ]
  },
  {
   "cell_type": "markdown",
   "metadata": {},
   "source": [
    "Zur Erinnerung: Beim Slicing ist der erste Wert inklusive, der zweite exklusive. Auch hier kann einen Schrittweite definiert werden:"
   ]
  },
  {
   "cell_type": "code",
   "execution_count": null,
   "metadata": {},
   "outputs": [],
   "source": [
    "print(mat[0,0:6:2])"
   ]
  },
  {
   "cell_type": "markdown",
   "metadata": {},
   "source": [
    "Um ganze Spalten oder ganze Zeilen auszugeben, können Sie den Index weglassen und durch : ersetzen:"
   ]
  },
  {
   "cell_type": "code",
   "execution_count": null,
   "metadata": {},
   "outputs": [],
   "source": [
    "print('erste Zeile:', mat[0,:])\n",
    "print('erste Spalte:',mat[:,0])"
   ]
  },
  {
   "cell_type": "markdown",
   "metadata": {},
   "source": [
    "## 6.2 Indexvektor"
   ]
  },
  {
   "cell_type": "markdown",
   "metadata": {},
   "source": [
    "Gegeben ist folgendes Array:"
   ]
  },
  {
   "cell_type": "code",
   "execution_count": null,
   "metadata": {},
   "outputs": [],
   "source": [
    "a=np.array(range(10))"
   ]
  },
  {
   "cell_type": "markdown",
   "metadata": {},
   "source": [
    "sowie eine Liste mit 10 boolschen Werten:"
   ]
  },
  {
   "cell_type": "code",
   "execution_count": null,
   "metadata": {},
   "outputs": [],
   "source": [
    "werte=[True,False,False,True,True,False,False,False,True,True]\n",
    "print(len(werte))\n",
    "print(werte)"
   ]
  },
  {
   "cell_type": "markdown",
   "metadata": {},
   "source": [
    "Man kann diese boolschen Werte nun nehmen, um auf das Array zuzugreifen. Das resultierende Array enthält dann die Werte, für die der Index `True` ist."
   ]
  },
  {
   "cell_type": "code",
   "execution_count": null,
   "metadata": {},
   "outputs": [],
   "source": [
    "print(a[werte])"
   ]
  },
  {
   "cell_type": "markdown",
   "metadata": {},
   "source": [
    "Vergleichsoperatoren werden elementweise auf ein Array ausgefürt:"
   ]
  },
  {
   "cell_type": "code",
   "execution_count": null,
   "metadata": {},
   "outputs": [],
   "source": [
    "print(a)\n",
    "print('>5:',a>5)"
   ]
  },
  {
   "cell_type": "markdown",
   "metadata": {},
   "source": [
    "Nehmen wir noch einmal die Matrix `mat`:"
   ]
  },
  {
   "cell_type": "code",
   "execution_count": null,
   "metadata": {},
   "outputs": [],
   "source": [
    "print(mat)"
   ]
  },
  {
   "cell_type": "markdown",
   "metadata": {},
   "source": [
    "Wir werden nun eine Teilmatrix erzeugen, die nur die Zeilen enthält, die in der ersten Spalte einen Wert größer 1 ($> 1$)enthalten."
   ]
  },
  {
   "cell_type": "markdown",
   "metadata": {},
   "source": [
    "Zuerst müssen wir bestimmen, welche Zeilen dies sind. Dies machen wir, indem wir den Vergleichsoperator auf die erste Spalte anwenden:"
   ]
  },
  {
   "cell_type": "code",
   "execution_count": null,
   "metadata": {},
   "outputs": [],
   "source": [
    "erg=mat[:,0]>1\n",
    "print(erg)"
   ]
  },
  {
   "cell_type": "markdown",
   "metadata": {},
   "source": [
    "Den so entstandenen Vektor können wir dann nutzen, um unsere Matrix auf die spezifischen Zeilen zu reduzieren. Der Vektor beschreibt die Zeilen, die uns interessieren:"
   ]
  },
  {
   "cell_type": "code",
   "execution_count": null,
   "metadata": {},
   "outputs": [],
   "source": [
    "mat2=mat[erg,:]\n",
    "print(mat2)"
   ]
  },
  {
   "cell_type": "markdown",
   "metadata": {},
   "source": [
    "Dieses Vorgehen bezeichne ich als **\"Reduktion\"**."
   ]
  },
  {
   "cell_type": "markdown",
   "metadata": {},
   "source": [
    "## 6.3 Beispiele"
   ]
  },
  {
   "cell_type": "markdown",
   "metadata": {},
   "source": [
    "Gehen wir wieder von der Matrix `mat` aus."
   ]
  },
  {
   "cell_type": "code",
   "execution_count": null,
   "metadata": {},
   "outputs": [],
   "source": [
    "print(mat)"
   ]
  },
  {
   "cell_type": "markdown",
   "metadata": {},
   "source": [
    "Wenn Sie für einen gegebene Matrix bestimmen sollten, ob sie einen Wert größer 5 enthält, würden Sie wahrscheinlich eine Schleife nutzen und jedes einzelne Element mit 5 vergleichen. Mit `break` können Sie dies etwas optimieren, aber der Code wäre dennoch recht langsam. Wenn Sie mit großen Datenmengen arbeiten, würde Sie dies merken. "
   ]
  },
  {
   "cell_type": "markdown",
   "metadata": {},
   "source": [
    "Die Anwendung von Vergleichsoperatoren auf `numpy` Arrays ist effizient implementiert und kann genutzt werden, um obige Frage effizient zu lösen."
   ]
  },
  {
   "cell_type": "markdown",
   "metadata": {},
   "source": [
    "**Beispiel 1: Gibt es einen Wert größer $x$?**"
   ]
  },
  {
   "cell_type": "markdown",
   "metadata": {},
   "source": [
    "Wir wollen festellen, ob es einen Wert größer 5 (im allgemeinen Fall $> x$) in unserer Matrix gibt."
   ]
  },
  {
   "cell_type": "markdown",
   "metadata": {},
   "source": [
    "Zuerst erstellen wir die Ergebnismatrix des Vergleichs:"
   ]
  },
  {
   "cell_type": "code",
   "execution_count": null,
   "metadata": {},
   "outputs": [],
   "source": [
    "vergleich=mat>5\n",
    "print(vergleich)"
   ]
  },
  {
   "cell_type": "markdown",
   "metadata": {},
   "source": [
    "Und nun wenden wir die Methode `any()` an. Diese gibt `True` zurück, wenn mindestens ein Wert ungleich 0 ist. \n",
    "\n",
    "**Zur Erinnerung:** `bool` ist ein numerischer Datentyp. `True` hat den Wert 1, `False` den Wert 0. "
   ]
  },
  {
   "cell_type": "code",
   "execution_count": null,
   "metadata": {},
   "outputs": [],
   "source": [
    "print('gibt es Wert groesser 5?', vergleich.any())"
   ]
  },
  {
   "cell_type": "markdown",
   "metadata": {},
   "source": [
    "Sofern wir die Ergebnismatrix nicht brauchen, müssen wir sie nicht abspeichern:"
   ]
  },
  {
   "cell_type": "code",
   "execution_count": null,
   "metadata": {},
   "outputs": [],
   "source": [
    "print('gibt es Wert groesser 5?', (mat>5).any())"
   ]
  },
  {
   "cell_type": "markdown",
   "metadata": {},
   "source": [
    "**Beispiel 2: Wie viele Werte sind größer $x$?** "
   ]
  },
  {
   "cell_type": "markdown",
   "metadata": {},
   "source": [
    "Hier basieren wir auf einer ähnlichen Idee: Allerdings verwenden wir nun die Methode `sum()`:"
   ]
  },
  {
   "cell_type": "code",
   "execution_count": null,
   "metadata": {},
   "outputs": [],
   "source": [
    "print('Wie viele Werte sind groesser 5?', (mat>5).sum())"
   ]
  },
  {
   "cell_type": "markdown",
   "metadata": {},
   "source": [
    "**Aufgabe:** Geben Sie alle Werte größer 5 aus."
   ]
  },
  {
   "cell_type": "code",
   "execution_count": null,
   "metadata": {},
   "outputs": [],
   "source": [
    "# Ihre Loesung"
   ]
  },
  {
   "cell_type": "markdown",
   "metadata": {},
   "source": [
    "**Aufgabe:** Geben Sie aus, ob *alle* Werte größer 0 sind."
   ]
  },
  {
   "cell_type": "code",
   "execution_count": null,
   "metadata": {},
   "outputs": [],
   "source": [
    "# Ihre Lösung"
   ]
  },
  {
   "cell_type": "markdown",
   "metadata": {},
   "source": [
    "*Ende des Notebooks*"
   ]
  },
  {
   "cell_type": "markdown",
   "metadata": {
    "deletable": false,
    "editable": false
   },
   "source": [
    "<a rel=\"license\" href=\"http://creativecommons.org/licenses/by-nc-nd/4.0/\"><img alt=\"Creative Commons Lizenzvertrag\" style=\"border-width:0\" src=\"https://i.creativecommons.org/l/by-nc-nd/4.0/88x31.png\" /></a><br /><span xmlns:dct=\"http://purl.org/dc/terms/\" property=\"dct:title\">Dieses Notebook wurde von Christina B. Class für die Lehre an der EAH Jena erstellt. Es ist lizenziert unter einer <a rel=\"license\" href=\"http://creativecommons.org/licenses/by-nc-nd/4.0/\">Creative Commons Namensnennung - Nicht kommerziell - Keine Bearbeitungen 4.0 International Lizenz</a>.\n"
   ]
  }
 ],
 "metadata": {
  "kernelspec": {
   "display_name": "Python 3 (ipykernel)",
   "language": "python",
   "name": "python3"
  },
  "language_info": {
   "codemirror_mode": {
    "name": "ipython",
    "version": 3
   },
   "file_extension": ".py",
   "mimetype": "text/x-python",
   "name": "python",
   "nbconvert_exporter": "python",
   "pygments_lexer": "ipython3",
   "version": "3.10.13"
  }
 },
 "nbformat": 4,
 "nbformat_minor": 4
}
