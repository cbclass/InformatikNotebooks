{
 "cells": [
  {
   "cell_type": "markdown",
   "metadata": {},
   "source": [
    "Notebook zu Funktionen: Teil 2\n",
    "\n",
    "Version 1.2, 17. Mai 2023, Informatik, EAH Jena\n",
    "\n",
    "(c) Christina B. Class\n"
   ]
  },
  {
   "cell_type": "markdown",
   "metadata": {},
   "source": [
    "## Vorbemerkung\n",
    "\n",
    "Den Scope von Variablen kann in einem Notebook nicht vollständig erklärt werden, da Variablen im Kontext eines Notebooks anders behandelt werden. Hier wird der Versuch unternommen, dies soweit als möglich darzustellen.\n",
    "\n",
    "Der Begriff \"globale Variable\" bezieht sich im Folgenden auf die Variablen, die im Notebook außerhalb der Funktionen definiert werden. Wir verzichten auf eine exakte Abgrenzung des Begriffes, da hier verschiedene Fälle genauer zu präzisieren wären."
   ]
  },
  {
   "cell_type": "markdown",
   "metadata": {},
   "source": [
    "# Funktionen: Scope von Variablen"
   ]
  },
  {
   "cell_type": "markdown",
   "metadata": {},
   "source": [
    "## 1. Lokale Variable"
   ]
  },
  {
   "cell_type": "markdown",
   "metadata": {},
   "source": [
    "Eine **lokale Variable** wird *innerhalb* einer Funktion definiert. Man kann von außerhalb der Funktion nicht auf sie zugreifen."
   ]
  },
  {
   "cell_type": "code",
   "execution_count": null,
   "metadata": {},
   "outputs": [],
   "source": [
    "def f():\n",
    "    lokaleVar=1\n",
    "    print('f: lokaleVar=',lokaleVar)\n",
    "    \n",
    "f()"
   ]
  },
  {
   "cell_type": "markdown",
   "metadata": {},
   "source": [
    "Versuch von außerhalb zuzugreifen:"
   ]
  },
  {
   "cell_type": "code",
   "execution_count": null,
   "metadata": {},
   "outputs": [],
   "source": [
    "def f():\n",
    "    lokaleVar=1\n",
    "    print('f: lokaleVar=',lokaleVar)\n",
    "    \n",
    "f()\n",
    "print('ausserhalb: lokaleVar=',lokaleVar)"
   ]
  },
  {
   "cell_type": "markdown",
   "metadata": {},
   "source": [
    "## 2. Lokale Variable und Globale Variable"
   ]
  },
  {
   "cell_type": "markdown",
   "metadata": {},
   "source": [
    "Variable innerhalb verschiedener Funktionen oder globale und lokale Variable können denselben Namen haben. Es handelt sich um verschiedene, voneinander unabhängige Variable."
   ]
  },
  {
   "cell_type": "code",
   "execution_count": null,
   "metadata": {},
   "outputs": [],
   "source": [
    "def f():\n",
    "    a=1\n",
    "    print('in f(): a=',a)\n",
    " \n",
    "a=5 \n",
    "print('ausserhalb: a=',a)\n",
    "f()\n",
    "print('ausserhalb: a=',a)   \n"
   ]
  },
  {
   "cell_type": "markdown",
   "metadata": {},
   "source": [
    "## 3. Globaler Scope Lesend"
   ]
  },
  {
   "cell_type": "markdown",
   "metadata": {},
   "source": [
    "Eine Funktion kann **lesend** auf eine Variable zugreifen, die außerhalb definiert wurde."
   ]
  },
  {
   "cell_type": "code",
   "execution_count": null,
   "metadata": {},
   "outputs": [],
   "source": [
    "def f():\n",
    "    print('b=',b)\n",
    "\n",
    "b=3.4\n",
    "f()"
   ]
  },
  {
   "cell_type": "markdown",
   "metadata": {},
   "source": [
    "Dies funktioniert natürlich nur, wenn die Variable definiert ist. Andernfalls gibt es einen Fehler.\n",
    "Notieren Sie sich bitte die Fehlermeldung."
   ]
  },
  {
   "cell_type": "code",
   "execution_count": null,
   "metadata": {},
   "outputs": [],
   "source": [
    "def f():\n",
    "    print('c=',c)\n",
    "\n",
    "f()"
   ]
  },
  {
   "cell_type": "markdown",
   "metadata": {},
   "source": [
    "## 4. Globaler Scope Schreibend"
   ]
  },
  {
   "cell_type": "markdown",
   "metadata": {},
   "source": [
    "Auf existierende Variable im globalen Scope kann nur schreibend zugegriffen werden, wenn dieser Zugriff durch den Befehl `global` deklariert wurde. "
   ]
  },
  {
   "cell_type": "code",
   "execution_count": null,
   "metadata": {},
   "outputs": [],
   "source": [
    "def f():\n",
    "    global d\n",
    "    d=2*d\n",
    "    print(\"f(): d=\",d)\n",
    "    \n",
    "d=3\n",
    "f()"
   ]
  },
  {
   "cell_type": "markdown",
   "metadata": {},
   "source": [
    "Dies funktioniert natürlich nur, wenn die globale Variable definiert ist:"
   ]
  },
  {
   "cell_type": "code",
   "execution_count": null,
   "metadata": {},
   "outputs": [],
   "source": [
    "def f():\n",
    "    global e\n",
    "    e=2*e\n",
    "    print(\"f(): e=\",e)\n",
    "    \n",
    "f()"
   ]
  },
  {
   "cell_type": "markdown",
   "metadata": {},
   "source": [
    "Ein schreibender Zugriff ohne die Deklaration der Variablen als `global` führt zu einem Fehler. Bitte notieren Sie sich die Fehlermeldung:"
   ]
  },
  {
   "cell_type": "code",
   "execution_count": null,
   "metadata": {},
   "outputs": [],
   "source": [
    "def f():\n",
    "    g=2*g\n",
    "    print(\"f(): g=\",g)\n",
    "    \n",
    "g=3\n",
    "f()"
   ]
  },
  {
   "cell_type": "markdown",
   "metadata": {},
   "source": [
    "Der schreibende Zugriff verändert natürlich die globale Variable:"
   ]
  },
  {
   "cell_type": "code",
   "execution_count": null,
   "metadata": {},
   "outputs": [],
   "source": [
    "def f():\n",
    "    global h\n",
    "    h=2*h\n",
    "    print(\"f(): h=\",h)\n",
    "    \n",
    "h=3\n",
    "print('h vor Funktionsaufruf:',h)\n",
    "f()\n",
    "print('h nach Funktionsaufruf:',h)\n"
   ]
  },
  {
   "cell_type": "markdown",
   "metadata": {},
   "source": [
    "## 5. Achtung, Fehlerteufel!"
   ]
  },
  {
   "cell_type": "markdown",
   "metadata": {},
   "source": [
    "Bitte führen Sie alle Code Cells in diesem Abschnitt in der Reihenfolge aus."
   ]
  },
  {
   "cell_type": "markdown",
   "metadata": {},
   "source": [
    "Als Beispiel nehmen wir folgende Funktion:"
   ]
  },
  {
   "cell_type": "code",
   "execution_count": null,
   "metadata": {},
   "outputs": [],
   "source": [
    "def bsp(x):\n",
    "    print('Quadratzahl von',x,'ist',x**2)"
   ]
  },
  {
   "cell_type": "markdown",
   "metadata": {},
   "source": [
    "wir rufen die Funktion `bsp()` auf:"
   ]
  },
  {
   "cell_type": "code",
   "execution_count": null,
   "metadata": {},
   "outputs": [],
   "source": [
    "bsp(12)"
   ]
  },
  {
   "cell_type": "markdown",
   "metadata": {},
   "source": [
    "und schreiben nun folgenden Code:"
   ]
  },
  {
   "cell_type": "code",
   "execution_count": null,
   "metadata": {},
   "outputs": [],
   "source": [
    "x=3\n",
    "bsp(x)"
   ]
  },
  {
   "cell_type": "markdown",
   "metadata": {},
   "source": [
    "Nun kommen wir auf die Idee, dass der Parameter besser `zahl` heißen soll. Wir vergessen aber die Anpassung des `print()` Statements (wenn eine Funktion viele Anweisungen hat, kann so was schon mal passieren):\n"
   ]
  },
  {
   "cell_type": "code",
   "execution_count": null,
   "metadata": {},
   "outputs": [],
   "source": [
    "def bsp(zahl):\n",
    "    print('Quadratzahl von',x,'ist',x**2)"
   ]
  },
  {
   "cell_type": "markdown",
   "metadata": {},
   "source": [
    "Lassen Sie obige Code Cell laufen. Achten Sie darauf, dass eine Nummer in den `[]` ist.\n",
    "\n",
    "Nun rufen wir die Funktion auf, um die Quadratzahl von 4 auszugeben. \n",
    "\n",
    "Bitte überlegen Sie, was der folgende Code ausgeben wird, **bevor** Sie ihn testen:"
   ]
  },
  {
   "cell_type": "code",
   "execution_count": null,
   "metadata": {},
   "outputs": [],
   "source": [
    "bsp(4)"
   ]
  },
  {
   "cell_type": "markdown",
   "metadata": {},
   "source": [
    "Die Ausgabe entspricht nicht unserer Erwartung. Er wird **nicht** die Quadratzahl von 4 ausgegeben. Falls Sie nicht nachvollziehen können, was passiert, fragen Sie bitte nach."
   ]
  },
  {
   "cell_type": "markdown",
   "metadata": {},
   "source": [
    "Diese Art von Fehler zu finden, ist schwer, da der Code ja läuft, weil es eine globale Variable `x` gibt. Daher ist es wichtig, zu wissen, dass es den lesenden Zugriff auf globale Variable gibt."
   ]
  },
  {
   "cell_type": "markdown",
   "metadata": {},
   "source": [
    "Nehmen wir an, wir hätten die Funktion folgendermaßen aufgerufen:"
   ]
  },
  {
   "cell_type": "code",
   "execution_count": null,
   "metadata": {},
   "outputs": [],
   "source": [
    "bsp(3)"
   ]
  },
  {
   "cell_type": "markdown",
   "metadata": {},
   "source": [
    "Dann hätten wir das Problem nicht erkannt, da das Ergebnis unseren Erwartungen entspricht. Daher ist es wichtig, eine Funktio (bzw. Code im allgemeinen) **nicht nur** mit einem Wert, sonderen mit **unterschiedlichen** Werten zu testen. \n",
    "\n",
    "Wenn wir zu einem späteren Zeitpunkt oder in einem anderen Kontext, wenn keine globale Variable `x` definiert ist, die Funktion noch einmal aufrufen, werden wir einen `NameError` erhalten. Um dann zu verstehen, warum man \"plötzlich\" einen `NameError` bekommen kann in Code, der zuvor gelaufen ist und den man nicht verändert hat, ist es ebenfalls wichtig, das Konzept des lesenden Zugriffs auf globale Variable zu kennen."
   ]
  },
  {
   "cell_type": "markdown",
   "metadata": {},
   "source": [
    "**Tipp:** Wenn Sie Funktionen implementieren sollten Sie diese immer isoliert nach einem Neustart des Kernels, oder nachdem Sie alle Variablen gelöscht haben, testen. Nur so können Sie sicher sein, dass die Funktion nicht von der Exitenz globaler Variablen abhängt.\n",
    "\n",
    "**Tipp:** Lesenden Zugriff auf globale Variable sollten Sie nur nutzen, wenn Sie dies sehr gut begründen können. Dies muss dann sehr genau dokumentiert werden, da es sonst zu vielen Fehlern führen kann.\n"
   ]
  },
  {
   "cell_type": "markdown",
   "metadata": {},
   "source": [
    "\n",
    "## 6. Aufgabe"
   ]
  },
  {
   "cell_type": "markdown",
   "metadata": {},
   "source": [
    "Gegeben ist folgendes Programm:"
   ]
  },
  {
   "cell_type": "code",
   "execution_count": null,
   "metadata": {},
   "outputs": [],
   "source": [
    "import math\n",
    "\n",
    "def eingabe():\n",
    "    global zahl\n",
    "    zahl=int(input('Geben Sie eine Zahl ein: '))\n",
    "    \n",
    "def berechnung():\n",
    "    global erg\n",
    "    erg=math.sin(zahl)\n",
    "    \n",
    "def ausgabe():\n",
    "    print('Der sinus von',zahl,'ist',erg)\n",
    "    \n",
    "zahl=0\n",
    "erg=0\n",
    "eingabe()\n",
    "berechnung()\n",
    "ausgabe()"
   ]
  },
  {
   "cell_type": "markdown",
   "metadata": {},
   "source": [
    "- Was macht das Programm?\n",
    "\n",
    "- Verändern Sie das untenstehende Programm und verwenden Sie **keine** globalen Variablen mit lesendem oder schreibendem Zugriff sondern **ausschließlich** Parameter, lokale Variable und Rückgabewerte. \n",
    "\n",
    "In der folgenden Cell haben Sie eine Kopie des obigen Codes, so dass Sie später beide Versionen vergleichen können.\n"
   ]
  },
  {
   "cell_type": "code",
   "execution_count": null,
   "metadata": {},
   "outputs": [],
   "source": [
    "# Ihre Loesung\n",
    "\n",
    "import math\n",
    "\n",
    "def eingabe():\n",
    "    global zahl\n",
    "    zahl=int(input('Geben Sie eine Zahl ein: '))\n",
    "    \n",
    "def berechnung():\n",
    "    global erg\n",
    "    erg=math.sin(zahl)\n",
    "    \n",
    "def ausgabe():\n",
    "    print('Der sinus von',zahl,'ist',erg)\n",
    "    \n",
    "zahl=0\n",
    "erg=0\n",
    "eingabe()\n",
    "berechnung()\n",
    "ausgabe()"
   ]
  },
  {
   "cell_type": "markdown",
   "metadata": {},
   "source": [
    "*Ende des Notebooks*"
   ]
  },
  {
   "cell_type": "markdown",
   "metadata": {
    "deletable": false,
    "editable": false
   },
   "source": [
    "<a rel=\"license\" href=\"http://creativecommons.org/licenses/by-nc-nd/4.0/\"><img alt=\"Creative Commons Lizenzvertrag\" style=\"border-width:0\" src=\"https://i.creativecommons.org/l/by-nc-nd/4.0/88x31.png\" /></a><br /><span xmlns:dct=\"http://purl.org/dc/terms/\" property=\"dct:title\">Dieses Notebook wurde von Christina B. Class für die Lehre an der EAH Jena erstellt. Es ist lizenziert unter einer <a rel=\"license\" href=\"http://creativecommons.org/licenses/by-nc-nd/4.0/\">Creative Commons Namensnennung - Nicht kommerziell - Keine Bearbeitungen 4.0 International Lizenz</a>.\n"
   ]
  }
 ],
 "metadata": {
  "kernelspec": {
   "display_name": "Python 3 (ipykernel)",
   "language": "python",
   "name": "python3"
  },
  "language_info": {
   "codemirror_mode": {
    "name": "ipython",
    "version": 3
   },
   "file_extension": ".py",
   "mimetype": "text/x-python",
   "name": "python",
   "nbconvert_exporter": "python",
   "pygments_lexer": "ipython3",
   "version": "3.10.13"
  }
 },
 "nbformat": 4,
 "nbformat_minor": 4
}
