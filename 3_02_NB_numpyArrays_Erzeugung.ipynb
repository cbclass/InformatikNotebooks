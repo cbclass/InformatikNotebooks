{
 "cells": [
  {
   "cell_type": "markdown",
   "metadata": {},
   "source": [
    "Notebook zu Python: Erzeugung von numpy Arrays\n",
    "\n",
    "Version 1.2, 5. Januar 2024, Informatik, EAH Jena\n",
    "\n",
    "(c) Christina B. Class"
   ]
  },
  {
   "cell_type": "markdown",
   "metadata": {},
   "source": [
    "In diesem Notebook wird `numpy` verwendet, daher ist folgende `import` Zeile relevant. "
   ]
  },
  {
   "cell_type": "code",
   "execution_count": null,
   "metadata": {},
   "outputs": [],
   "source": [
    "import numpy as np"
   ]
  },
  {
   "cell_type": "markdown",
   "metadata": {},
   "source": [
    "# Erzeugung von `numpy` Arrays"
   ]
  },
  {
   "cell_type": "markdown",
   "metadata": {},
   "source": [
    "In diesem Notebook lernen Sie die verschiedenen Funktionen kennen, um ein `numpy` Array zu erzeugen."
   ]
  },
  {
   "cell_type": "markdown",
   "metadata": {},
   "source": [
    "### 1. Die Funktion `array()`"
   ]
  },
  {
   "cell_type": "markdown",
   "metadata": {},
   "source": [
    "`array(object)` erzeugt ein `numpy` Array aus den in `object` übergebenen Daten. Häufig übergibt man eine verschachtelte Liste von Werten."
   ]
  },
  {
   "cell_type": "code",
   "execution_count": null,
   "metadata": {},
   "outputs": [],
   "source": [
    "import numpy as np\n",
    "\n",
    "a=np.array([1,2,3])\n",
    "print(a)"
   ]
  },
  {
   "cell_type": "markdown",
   "metadata": {},
   "source": [
    "Bitte beachten Sie:\n",
    "- Werte in einem `numpy` Array können verändert werden.\n",
    "- **Die Anzahl Elemente kann nicht verändert werden.** Obiges Array hat also permanent 3 Werte."
   ]
  },
  {
   "cell_type": "markdown",
   "metadata": {},
   "source": [
    "Testen Sie folgenden Code:"
   ]
  },
  {
   "cell_type": "code",
   "execution_count": null,
   "metadata": {},
   "outputs": [],
   "source": [
    "print(a)\n",
    "a[1]=15\n",
    "print(a)"
   ]
  },
  {
   "cell_type": "markdown",
   "metadata": {},
   "source": [
    "Nun testen Sie bitte folgenden Code:"
   ]
  },
  {
   "cell_type": "code",
   "execution_count": null,
   "metadata": {},
   "outputs": [],
   "source": [
    "print(a)\n",
    "a[0]=3.75\n",
    "print(a)"
   ]
  },
  {
   "cell_type": "markdown",
   "metadata": {},
   "source": [
    "Sie werden feststellen, dass `a[0]` nun den Wert 3 und **nicht** den Wert 3.75 hat.\n",
    "\n",
    "**Der Datentyp der Werte eines `numpy` Arrays wird bei der Erzeung festgelegt und kann nicht verändert werden.** Da bei der Definition des `numpy` Arrays oben nur ganzzahlige Werte übergeben werden, enthält unser Array nur ganze Zahlen:"
   ]
  },
  {
   "cell_type": "code",
   "execution_count": null,
   "metadata": {},
   "outputs": [],
   "source": [
    "print(a.dtype)"
   ]
  },
  {
   "cell_type": "markdown",
   "metadata": {},
   "source": [
    "Werden Kommazahlen in das Array geschrieben, wird der *abgerundete* Quotient gespeichert."
   ]
  },
  {
   "cell_type": "code",
   "execution_count": null,
   "metadata": {},
   "outputs": [],
   "source": [
    "print(a)\n",
    "a[0]=3.99999999\n",
    "print(a)"
   ]
  },
  {
   "cell_type": "markdown",
   "metadata": {},
   "source": [
    "Sollen in einem `numpy` Array Kommazahlen gespeichert werden, was meistens der Fall ist, muss man also entweder\n",
    "\n",
    "- von vornherein mindestens eine Kommazahl abspeichern"
   ]
  },
  {
   "cell_type": "code",
   "execution_count": null,
   "metadata": {},
   "outputs": [],
   "source": [
    "import numpy as np\n",
    "\n",
    "a=np.array([1.0,2,3]) # oder: a=np.array([1.,2,3])\n",
    "print(a)\n",
    "print(a.dtype)"
   ]
  },
  {
   "cell_type": "markdown",
   "metadata": {},
   "source": [
    "oder aber \n",
    "\n",
    "- den Datentyp mit Hilfe des `dtype` Parameters setzen"
   ]
  },
  {
   "cell_type": "code",
   "execution_count": null,
   "metadata": {},
   "outputs": [],
   "source": [
    "a=np.array([1,2,3], dtype='float')\n",
    "print(a)\n",
    "print(a.dtype)"
   ]
  },
  {
   "cell_type": "markdown",
   "metadata": {},
   "source": [
    "Matrizen können Sie mit verschachtelten Listen erzeugen:"
   ]
  },
  {
   "cell_type": "code",
   "execution_count": null,
   "metadata": {},
   "outputs": [],
   "source": [
    "a2=np.array([[1,2,3], [3,4.5,2], [3,4,21]])\n",
    "print(a2)"
   ]
  },
  {
   "cell_type": "markdown",
   "metadata": {},
   "source": [
    "Hierbei gilt, dass die Dimensionen aller Listen gleich sein müssen. "
   ]
  },
  {
   "cell_type": "markdown",
   "metadata": {},
   "source": [
    "Selbstverständlich können Sie auch `range()`, `tuple` etc. zur Erzeugung von `numpy` Arrays nutzen:"
   ]
  },
  {
   "cell_type": "code",
   "execution_count": null,
   "metadata": {},
   "outputs": [],
   "source": [
    "import numpy as np\n",
    "\n",
    "a3=np.array(range(1,12,3))\n",
    "a4=np.array(range(1,12,3),dtype='float')\n",
    "a5=np.array((1,3,4,5,6,2,1.3))\n",
    "\n",
    "print('a3:')\n",
    "print(a3)\n",
    "print('a4:')\n",
    "print(a4)\n",
    "print('a5:')\n",
    "print(a5)"
   ]
  },
  {
   "cell_type": "markdown",
   "metadata": {},
   "source": [
    "### 2. Die Funktion `linspace()`"
   ]
  },
  {
   "cell_type": "markdown",
   "metadata": {},
   "source": [
    "Die Funktion `linspace()` erzeugt ein Array mit `num` Werten, die in einem gegebenen Intervall gleichverteilt sind, also gleiche Abstände zueinander aufweisen.\n",
    "\n",
    "Die Funktion erhält drei Parameter:\n",
    "\n",
    "- `start`: Anfangswert des Intervalls (inklusive)\n",
    "- `stop`: Endwert des Intervalls (ebenfalls *inklusive*)\n",
    "- `num`: Anzahl der Datenpunkte\n",
    "\n",
    "Das erzeugte Array enthält Elemente vom Typ `float`: \n"
   ]
  },
  {
   "cell_type": "code",
   "execution_count": null,
   "metadata": {},
   "outputs": [],
   "source": [
    "import numpy as np\n",
    "\n",
    "#Beispiel 1\n",
    "a=np.linspace(1,10,10)\n",
    "print(a)"
   ]
  },
  {
   "cell_type": "code",
   "execution_count": null,
   "metadata": {},
   "outputs": [],
   "source": [
    "import numpy as np\n",
    "\n",
    "# Beispiel 2\n",
    "a=np.linspace(1,2,15)\n",
    "print(a)"
   ]
  },
  {
   "cell_type": "markdown",
   "metadata": {},
   "source": [
    "### 3. Die Funktion `empty()` "
   ]
  },
  {
   "cell_type": "markdown",
   "metadata": {},
   "source": [
    "Wie bereits weiter oben erwähnt, ist die Größe eines `numpy` Arrays unveränderlich. Es kann also notwendig sein, von Beginn an ein großes Array zu erzeugen, weil im Laufe einer Berechnung viele Daten in das Array geschrieben werden müssen. Geht es aber nur darum, die Anzahl Elemente zu reservieren, müssen diese nicht mit einem spezifischen Wert initialisiert werden. Diese \"Reservation\" übernimmt die Funktion `empty()`."
   ]
  },
  {
   "cell_type": "markdown",
   "metadata": {},
   "source": [
    "Natürlich ist in einem Speicher nicht wirklich etwas leer (\"empty\"). Die Funktion `empty()` reserviert einfach den Speicherplatz. Die dort befindliche Information wird nicht verändert. Wenn Sie das Array direkt ausgeben, werden die dort stehenden Bitmuster dann als Zahl interpretiert (standardmäßig erzeugt `empty()` Arrays vom Datentyp `float`) und dies kann zufällig *erscheinende* Werte ergeben. Sie dürfen sich auf keinen Fall darauf verlassen, dass ein mit `empty()` erzeugtes Array spezifische Werte hat. Diese sind andererseits auch nicht wirklich zufällig. `empty()`  reserviert einfach nur Speicher und überschreibt die in diesem Speicher stehenden Bits nicht. "
   ]
  },
  {
   "cell_type": "markdown",
   "metadata": {},
   "source": [
    "Für die Erzeugung des Arrays muss die Größe angegeben werden. Die erfolgt als `int` bei einem eindimensionalen Array bzw. als `tuple` bei mehrdimensionalen Arrays."
   ]
  },
  {
   "cell_type": "code",
   "execution_count": null,
   "metadata": {},
   "outputs": [],
   "source": [
    "import numpy as np\n",
    "\n",
    "a=np.empty(3)\n",
    "b=np.empty((3,4))\n",
    "print('a:')\n",
    "print(a)\n",
    "print('b:')\n",
    "print(b)"
   ]
  },
  {
   "cell_type": "markdown",
   "metadata": {},
   "source": [
    "**Hinweis:** Auch falls eines oder beide Arrays, die erzeugt wurden, nur Nullen enthält, dürfen Sie von keinem bestimmten Wert ausgehen."
   ]
  },
  {
   "cell_type": "markdown",
   "metadata": {},
   "source": [
    "Wenn Sie Arrays erzeugen wollen, die nur Nullen enthalten, verwenden Sie bitte die Funktion `zeros()`."
   ]
  },
  {
   "cell_type": "markdown",
   "metadata": {},
   "source": [
    "### 4. Die Funktionen `zeros()` und `ones()`"
   ]
  },
  {
   "cell_type": "markdown",
   "metadata": {},
   "source": [
    "Mit den Funktionen `zeros()` und `ones()` erzeugen Sie Arrays einer gegebenen Größe, die nur Nullen (`zeros()`) bzw. nur Einsen (`ones()`) enthalten.\n",
    "\n",
    "Die Angabe der Größe erfolgt analog zur Angabe in der Funktion `empty()`."
   ]
  },
  {
   "cell_type": "code",
   "execution_count": null,
   "metadata": {},
   "outputs": [],
   "source": [
    "import numpy as np\n",
    "\n",
    "a=np.zeros(4)\n",
    "b=np.zeros((2,6))\n",
    "c=np.ones((3,4))\n",
    "\n",
    "print('a:')\n",
    "print(a)\n",
    "print('b:')\n",
    "print(b)\n",
    "print('c:')\n",
    "print(c)"
   ]
  },
  {
   "cell_type": "markdown",
   "metadata": {},
   "source": [
    "\"Sparse\" nennt man eine Matrix, die fast nur aus Nullen und aus wenigen Elementen ungleich 0 besteht. Diese kann man mit Hilfe von `zeros()` sehr bequem erzeugen."
   ]
  },
  {
   "cell_type": "code",
   "execution_count": null,
   "metadata": {},
   "outputs": [],
   "source": [
    "import numpy as np\n",
    "\n",
    "a=np.zeros((5,8))\n",
    "a[1,3]=-3\n",
    "a[1,5]=15.4\n",
    "a[4,7]=12\n",
    "print(a)"
   ]
  },
  {
   "cell_type": "markdown",
   "metadata": {},
   "source": [
    "### 5. Die Funktion `eye()`"
   ]
  },
  {
   "cell_type": "markdown",
   "metadata": {},
   "source": [
    "Eine wichtige Matrix der Mathematik ist die sogenannte Einheitsmatrix. Es ist eine $N \\times N$ Matrix, deren  Elemente auf der Hauptdiagonalen 1, alle anderen Elemente 0 sind."
   ]
  },
  {
   "cell_type": "markdown",
   "metadata": {},
   "source": [
    "Die Einheitsmatrix können Sie mit `eye()` erzeugen, indem Sie die Größe ($N$) als Parameter übergeben:"
   ]
  },
  {
   "cell_type": "code",
   "execution_count": null,
   "metadata": {},
   "outputs": [],
   "source": [
    "import numpy as np\n",
    "\n",
    "a=np.eye(5)\n",
    "print(a)"
   ]
  },
  {
   "cell_type": "markdown",
   "metadata": {},
   "source": [
    "Python erlaubt es auch, eine $N \\times M$ Matrix mit Nullen zu definieren, die an der Hauptdiagonalen Einsen hat. Natürlich gibt es dann Zeilen (falls $N>M$) oder Spalten (falls $N<M$), die nur aus Nullen bestehen.\n",
    "\n",
    "$M$ wird als zweiter, optionaler, Parameter (d.h. der Parameter hat einen Defaultwert), übergeben:"
   ]
  },
  {
   "cell_type": "code",
   "execution_count": null,
   "metadata": {},
   "outputs": [],
   "source": [
    "import numpy as np\n",
    "\n",
    "a=np.eye(4,5)\n",
    "b=np.eye(5,4)\n",
    "print('a:')\n",
    "print(a)\n",
    "print('b:')\n",
    "print(b)"
   ]
  },
  {
   "cell_type": "markdown",
   "metadata": {},
   "source": [
    "`eye()` hat einen weiteren optionalen Parameter `k`. Mit `k` kann die Diagonale der Einsen verschoben werden. Defaultmäßig hat `k` den Wert 0. Hat `k` einen positiven Wert, wird die Diagonale nach rechts verschoben, ist `k` negativ, wird sie nach unten verschoben."
   ]
  },
  {
   "cell_type": "code",
   "execution_count": null,
   "metadata": {},
   "outputs": [],
   "source": [
    "import numpy as np\n",
    "\n",
    "# k=0\n",
    "a=np.eye(6)\n",
    "print('6x6 Matrix')\n",
    "print(a)"
   ]
  },
  {
   "cell_type": "code",
   "execution_count": null,
   "metadata": {},
   "outputs": [],
   "source": [
    "import numpy as np\n",
    "\n",
    "# k=1\n",
    "a=np.eye(6,k=1)\n",
    "print('6x6 Matrix, Diagonale um 1 nach rechts')\n",
    "print(a)"
   ]
  },
  {
   "cell_type": "code",
   "execution_count": null,
   "metadata": {},
   "outputs": [],
   "source": [
    "import numpy as np\n",
    "\n",
    "# k=3\n",
    "a=np.eye(6,k=3)\n",
    "print('6x6 Matrix, Diagonale um 3 nach rechts')\n",
    "print(a)"
   ]
  },
  {
   "cell_type": "code",
   "execution_count": null,
   "metadata": {},
   "outputs": [],
   "source": [
    "import numpy as np\n",
    "\n",
    "# k=-2\n",
    "a=np.eye(6,k=-2)\n",
    "print('6x6 Matrix, Diagonale um -2 nach unten')\n",
    "print(a)"
   ]
  },
  {
   "cell_type": "markdown",
   "metadata": {},
   "source": [
    "### 6. Die Funktion `diag()` "
   ]
  },
  {
   "cell_type": "markdown",
   "metadata": {},
   "source": [
    "Die Funktion `diag()` erhält ein \"Iterable\" (eindimensionales Array, Liste, Tupel) und erzeugt eine $N \\times N$ Matrix mit diesen Werten an der Hauptdiagonalen und 0en sonst. Die Größe der Matrix ergibt sich durch die Anzahl Elemente im übergebenen Array:"
   ]
  },
  {
   "cell_type": "code",
   "execution_count": null,
   "metadata": {},
   "outputs": [],
   "source": [
    "import numpy as np\n",
    "\n",
    "a=np.diag([1,2,3])\n",
    "print('Laenge der Vektors: 3')\n",
    "print(a)"
   ]
  },
  {
   "cell_type": "code",
   "execution_count": null,
   "metadata": {},
   "outputs": [],
   "source": [
    "import numpy as np\n",
    "\n",
    "a=np.diag(range(1,7))\n",
    "print('Laenge der Vektors: 6')\n",
    "print(a)"
   ]
  },
  {
   "cell_type": "markdown",
   "metadata": {},
   "source": [
    "Wie bei `eye()` gibt es auch hier einen Parameter `k`, der es erlaubt, die Diagonale nach rechts oder unten zu verschieben. Die Größe der Matrix wird in der entsprechenden Dimension angepasst. Es wird also sichergestellt, dass die Matrix alle übergebenen Werte enthält. \n",
    "\n",
    "Wird also die Diagonale nach rechts verschoben, erhält die Matrix zusätzliche Spalten. Wird sie nach unten verschoben, zusätzliche Zeilen."
   ]
  },
  {
   "cell_type": "code",
   "execution_count": null,
   "metadata": {},
   "outputs": [],
   "source": [
    "import numpy as np\n",
    "\n",
    "a=np.diag([1,2,3])\n",
    "b=np.diag([1,2,3],k=-1)\n",
    "c=np.diag([1,2,3],k=2)\n",
    "print('Laenge der Vektors: 3')\n",
    "print(a)\n",
    "print('Laenge der Vektors: 3, k=-1, verschieben nach unten, eine zusaetzliche Zeile')\n",
    "print(b)\n",
    "print('Laenge der Vektors: 3, k=2, verschieben nach rechts, zwei zusaetzliche Spalten')\n",
    "print(c)"
   ]
  },
  {
   "cell_type": "markdown",
   "metadata": {},
   "source": [
    "**Information:** Auch andere Sprachen, wie z.B. die Sprache von Matlab, bieten Funktionen an, um direkt spezifische Arrays / Matrizen zu erzeugen."
   ]
  },
  {
   "cell_type": "markdown",
   "metadata": {},
   "source": [
    "*Ende des Notebooks*"
   ]
  },
  {
   "cell_type": "markdown",
   "metadata": {
    "deletable": false,
    "editable": false
   },
   "source": [
    "<a rel=\"license\" href=\"http://creativecommons.org/licenses/by-nc-nd/4.0/\"><img alt=\"Creative Commons Lizenzvertrag\" style=\"border-width:0\" src=\"https://i.creativecommons.org/l/by-nc-nd/4.0/88x31.png\" /></a><br /><span xmlns:dct=\"http://purl.org/dc/terms/\" property=\"dct:title\">Dieses Notebook wurde von Christina B. Class für die Lehre an der EAH Jena erstellt. Es ist lizenziert unter einer <a rel=\"license\" href=\"http://creativecommons.org/licenses/by-nc-nd/4.0/\">Creative Commons Namensnennung - Nicht kommerziell - Keine Bearbeitungen 4.0 International Lizenz</a>."
   ]
  }
 ],
 "metadata": {
  "kernelspec": {
   "display_name": "Python 3 (ipykernel)",
   "language": "python",
   "name": "python3"
  },
  "language_info": {
   "codemirror_mode": {
    "name": "ipython",
    "version": 3
   },
   "file_extension": ".py",
   "mimetype": "text/x-python",
   "name": "python",
   "nbconvert_exporter": "python",
   "pygments_lexer": "ipython3",
   "version": "3.10.13"
  }
 },
 "nbformat": 4,
 "nbformat_minor": 4
}
