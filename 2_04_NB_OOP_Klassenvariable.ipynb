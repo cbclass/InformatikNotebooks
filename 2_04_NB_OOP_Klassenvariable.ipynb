{
 "cells": [
  {
   "cell_type": "markdown",
   "metadata": {},
   "source": [
    "Notebook zu Python: Objektorientierte Programmierung: Klassenvariable und Klassenmethoden\n",
    "\n",
    "Version 1.2, 12. März 2024, Informatik, EAH Jena\n",
    "\n",
    "(c) Christina B. Class\n"
   ]
  },
  {
   "cell_type": "markdown",
   "metadata": {},
   "source": [
    "**Hinweis:** Hinweis: In diesem Notebook verzichten wir auf Information Hiding, um den Code ohne getter und setter Methoden etwas kürzer zu gestalten. \n"
   ]
  },
  {
   "cell_type": "markdown",
   "metadata": {},
   "source": [
    "\n",
    "# Klassenvariable und Klassenmethode"
   ]
  },
  {
   "cell_type": "markdown",
   "metadata": {},
   "source": [
    "## 1. Attribute"
   ]
  },
  {
   "cell_type": "markdown",
   "metadata": {},
   "source": [
    "Gegeben ist die folgende Klassenimplementation:"
   ]
  },
  {
   "cell_type": "code",
   "execution_count": null,
   "metadata": {},
   "outputs": [],
   "source": [
    "class Beispiel:\n",
    "    def __init__(self,wert):\n",
    "        self.zahl=wert"
   ]
  },
  {
   "cell_type": "markdown",
   "metadata": {},
   "source": [
    "Der folgende Code erzugt ein Ojekt der Klasse `Beispiel` und gibt das Attribut aus."
   ]
  },
  {
   "cell_type": "code",
   "execution_count": null,
   "metadata": {},
   "outputs": [],
   "source": [
    "a=Beispiel(12)\n",
    "print(a.zahl)"
   ]
  },
  {
   "cell_type": "markdown",
   "metadata": {},
   "source": [
    "Wird ein weiteres Objekt erzeugt, kann auch hier der Wert ausgegeben werden:"
   ]
  },
  {
   "cell_type": "code",
   "execution_count": null,
   "metadata": {},
   "outputs": [],
   "source": [
    "b=Beispiel(12)\n",
    "print(b.zahl)"
   ]
  },
  {
   "cell_type": "markdown",
   "metadata": {},
   "source": [
    "Da das Attribut öffentlich ist, kann es direkt verändert werden:"
   ]
  },
  {
   "cell_type": "code",
   "execution_count": null,
   "metadata": {},
   "outputs": [],
   "source": [
    "a.zahl=13\n",
    "print('a:', a.zahl, 'b:',b.zahl)"
   ]
  },
  {
   "cell_type": "markdown",
   "metadata": {},
   "source": [
    "Eine andere Bezeichnung für ein Attribut ist **Instanzvariable**. Es ist also eine Variable, die zu einer Instanz, also einem Objekt gehört. Für jedes Objekt wird eine eigene Instanzvariable angelegt. Objekte können unterschiedliche, individuelle Attributwerte haben."
   ]
  },
  {
   "cell_type": "markdown",
   "metadata": {},
   "source": [
    "## 2. Klassenvariable"
   ]
  },
  {
   "cell_type": "markdown",
   "metadata": {},
   "source": [
    "Eine **Klassenvariable** ist eine Variable, die nicht zu einem Objekt sondern zu einer Klasse gehört. Sie wird **einmal** für die gesamte Klasse angelegt. Sie wird zu Beginn der Klasse **vor** der Methode `__init__()` definiert. "
   ]
  },
  {
   "cell_type": "code",
   "execution_count": null,
   "metadata": {},
   "outputs": [],
   "source": [
    "class Beispiel2:\n",
    "    anzahl=0\n",
    "    \n",
    "    def __init__(self,wert):\n",
    "        self.zahl=wert"
   ]
  },
  {
   "cell_type": "markdown",
   "metadata": {},
   "source": [
    "`anzahl` ist hier eine Klassenvariable.\n",
    "\n",
    "Wir können auf den Wert der Klassenvariable zugreifen (hier direkt weil er öffentlich und nicht privat ist) **bevor** wir ein erstes Objekt der Klasse definiert haben:"
   ]
  },
  {
   "cell_type": "code",
   "execution_count": null,
   "metadata": {},
   "outputs": [],
   "source": [
    "Beispiel2.anzahl"
   ]
  },
  {
   "cell_type": "markdown",
   "metadata": {},
   "source": [
    "Um auf Klassenvariable zuzugreifen, verwenden wir die folgende Syntax:\n",
    "`Klassenname.variablenname`.\n",
    "Um auf ein Attribut zuzugreifen, verwenden wir die Syntax:\n",
    "`self.attributname` (innerhalb der Methoden) bzw. `variablenName.attributname` (sofern das Attribut öffentlich ist oder der Code innerhalb des Codes der Klasse steht)."
   ]
  },
  {
   "cell_type": "markdown",
   "metadata": {},
   "source": [
    "Wir verwenden nun die Klassenvariable, um die Anzahl erzeugter Objekte zu zählen:"
   ]
  },
  {
   "cell_type": "code",
   "execution_count": null,
   "metadata": {},
   "outputs": [],
   "source": [
    "class Beispiel3:\n",
    "    anzahl=0\n",
    "    \n",
    "    def __init__(self,wert):\n",
    "        self.zahl=wert\n",
    "        Beispiel3.anzahl+=1"
   ]
  },
  {
   "cell_type": "markdown",
   "metadata": {},
   "source": [
    "Mit jedem Aufruf der Konstruktors (jedem neu erzeugten Objekt), wird die Klassenvariable erhöht:"
   ]
  },
  {
   "cell_type": "code",
   "execution_count": null,
   "metadata": {},
   "outputs": [],
   "source": [
    "print(\"zu Beginn:\", Beispiel3.anzahl)\n",
    "obj1=Beispiel3(3)\n",
    "print(\"nach obj1:\", Beispiel3.anzahl)\n",
    "obj2=Beispiel3(13)\n",
    "print(\"nach obj2:\", Beispiel3.anzahl)\n",
    "obj3=Beispiel3(23)\n",
    "print(\"nach obj3:\", Beispiel3.anzahl)"
   ]
  },
  {
   "cell_type": "markdown",
   "metadata": {},
   "source": [
    "## 3. Namen"
   ]
  },
  {
   "cell_type": "markdown",
   "metadata": {},
   "source": [
    "Bitte achten Sie genau auf die Namen. Sehen Sie sich folgenden Code an:"
   ]
  },
  {
   "cell_type": "code",
   "execution_count": null,
   "metadata": {},
   "outputs": [],
   "source": [
    "class A:\n",
    "    zahl=12\n",
    "    \n",
    "    def __init__(self,zahl):\n",
    "        self.zahl=zahl+A.zahl"
   ]
  },
  {
   "cell_type": "markdown",
   "metadata": {},
   "source": [
    "Im Konstuktor ist:\n",
    "- `zahl` : der Name des Parameters des Konstruktors\n",
    "- `self.zahl`: der Name des Attributs, das hier definiert wird\n",
    "- `A.zahl`: der Name der Klassenvariable, auf die hier zugegriffen wird"
   ]
  },
  {
   "cell_type": "markdown",
   "metadata": {},
   "source": [
    "**Wichtig**: Bitte gewöhnen Sie sich **unbedingt** an, auf Klassenvariable **immer** über den Klassennamen zuzugreifen.\n",
    "Es ist zwar möglich, sofern Sie **immer nur** lesend zugreifen, auf die Klassenvariable mit `self.` zuzugreifen, aber sobald Sie einen schreibenden Zugriff machen, wird ein Attribut erzeugt! Dies kann verwirrend sein und führt sehr schnell zu Fehlern.\n",
    "\n",
    "Beachten Sie den folgenden Code:\n"
   ]
  },
  {
   "cell_type": "code",
   "execution_count": null,
   "metadata": {},
   "outputs": [],
   "source": [
    "class A:\n",
    "    zahl=12\n",
    "    \n",
    "    def __init__(self):\n",
    "        print('A.zahl:',A.zahl,'- self.zahl:', self.zahl)\n",
    "        self.zahl=4\n",
    "        print('A.zahl:',A.zahl,'- self.zahl:', self.zahl)"
   ]
  },
  {
   "cell_type": "code",
   "execution_count": null,
   "metadata": {},
   "outputs": [],
   "source": [
    "obj=A()"
   ]
  },
  {
   "cell_type": "markdown",
   "metadata": {},
   "source": [
    "## 4. Klassenmethode\n"
   ]
  },
  {
   "cell_type": "markdown",
   "metadata": {},
   "source": [
    "Eine Klassenmethode ist eine Methode, die für eine Klasse definiert ist und für diese aufgerufen wird.\n",
    "\n",
    "- Eine Klassenmethode wird aufgerufen mit `Klassenname.methode()`.\n",
    "\n",
    "- Eine Klassenmethode kann aufgerufen werden, **bevor** das erste Objekt der Klasse erzeugt wurde.\n",
    "\n",
    "- Eine Klassenmethode kann aufgerufen werden, **ohne** die Referenz auf ein Objekt zu haben.\n",
    "\n",
    "- \"Normale\" Methoden, die für ein Objekt aufgerufen werden, können **nicht** aus einer Klassenmethode heraus aufgerufen werden, sofern sie nicht für eine *spezifische Referenz auf ein existierendes Objekt* aufgerufen werden. "
   ]
  },
  {
   "cell_type": "markdown",
   "metadata": {},
   "source": [
    "Die Klassenmethoden erhalten als ersten Parameter eine Referenz auf die Klasse `cls` und nicht auf das Objekt (wie `self`).\n",
    "\n",
    "Sie haben den Dekorator `@classmethod`."
   ]
  },
  {
   "cell_type": "code",
   "execution_count": null,
   "metadata": {},
   "outputs": [],
   "source": [
    "class Beispiel:\n",
    "    anzahl=0\n",
    "    \n",
    "    def __init__(self,name):\n",
    "        self.name=name\n",
    "        Beispiel.anzahl+=1\n",
    "    \n",
    "    def printObjekt(self):\n",
    "        print('Das Objekt',self.name)\n",
    "        \n",
    "    @classmethod\n",
    "    def printKlasse(cls):\n",
    "        print('Die Klasse Beispiel', Beispiel.anzahl)"
   ]
  },
  {
   "cell_type": "markdown",
   "metadata": {},
   "source": [
    "**Aufgabe:**\n",
    "Testen Sie die Klassenmethode:\n",
    "- Rufen Sie die Methode auf, bevor Sie irgendein Objekt erzeugen (zu Beginn dieses Abschnitts steht, wie Sie eine Klassenmethode aufrufen).\n"
   ]
  },
  {
   "cell_type": "code",
   "execution_count": null,
   "metadata": {},
   "outputs": [],
   "source": [
    "# Ihre Loesung"
   ]
  },
  {
   "cell_type": "markdown",
   "metadata": {},
   "source": [
    "- Rufen Sie die Methode `printObjekt()` für die Klasse auf und notieren Sie sich die Fehlermeldung."
   ]
  },
  {
   "cell_type": "code",
   "execution_count": null,
   "metadata": {},
   "outputs": [],
   "source": [
    "# Ihre Loesung"
   ]
  },
  {
   "cell_type": "markdown",
   "metadata": {},
   "source": [
    "- Erzeugen Sie ein Objekt `bspObjekt`und rufen Sie die Methode `printObjekt()` für dieses Objekt auf."
   ]
  },
  {
   "cell_type": "code",
   "execution_count": null,
   "metadata": {},
   "outputs": [],
   "source": [
    "# Ihre Loesung"
   ]
  },
  {
   "cell_type": "markdown",
   "metadata": {},
   "source": [
    "- Rufen Sie nun die Klassenmethode wie folgt auf\n",
    "1. `bspObjekt.printKlasse()`\n",
    "2. `Beispiel.printKlasse()`\n",
    "\n",
    "Gibt es einen Unterschied?\n"
   ]
  },
  {
   "cell_type": "code",
   "execution_count": null,
   "metadata": {},
   "outputs": [],
   "source": [
    "# Ihre Loesung"
   ]
  },
  {
   "cell_type": "markdown",
   "metadata": {},
   "source": [
    "## 5. `None`"
   ]
  },
  {
   "cell_type": "markdown",
   "metadata": {},
   "source": [
    "`None` ist eine Konstante, die die Absenz eines Wertes ausdrückt, also für \"Nichts\" steht. Weist man einer Variablen den Wert `None` zu, ist sie zwar definiert, hat aber keinen Wert. "
   ]
  },
  {
   "cell_type": "markdown",
   "metadata": {},
   "source": [
    "Wir ergänzen nun usere Klasse und merken uns das zuletzt erzeugte Objekt in einer Klassenvariable, die zu Beginn mit `None` initialisiert wird. "
   ]
  },
  {
   "cell_type": "code",
   "execution_count": null,
   "metadata": {},
   "outputs": [],
   "source": [
    "class Beispiel:\n",
    "    anzahl=0\n",
    "    juengstesBeispiel=None\n",
    "    \n",
    "    def __init__(self,name):\n",
    "        self.name=name\n",
    "        Beispiel.anzahl+=1\n",
    "        Beispiel.juengstesBeispiel=self\n",
    "    \n",
    "    def printObjekt(self):\n",
    "        print('Das Objekt',self.name)\n",
    "        \n",
    "    @classmethod\n",
    "    def printKlasse(cls):\n",
    "        print('Die Klasse Beispiel', Beispiel.anzahl)\n",
    "        if Beispiel.juengstesBeispiel is not None:\n",
    "            Beispiel.juengstesBeispiel.printObjekt()"
   ]
  },
  {
   "cell_type": "markdown",
   "metadata": {},
   "source": [
    "**Hinweise:**\n",
    "- Im Konstruktor wird die Klassenvariable `juengstesBeispiel` auf das soeben erzeugte Objekt gesetzt. Die Referenz auf dieses Objekt gibt uns `self`.\n",
    "- In der Klassenmethode `printKlasse()` kann nun für das Objekt `juengstesBeispiel` die Methode `printObjekt()` aufgerufen werden.  "
   ]
  },
  {
   "cell_type": "markdown",
   "metadata": {},
   "source": [
    "**Aufgabe:** Testen Sie obige Klasse:\n",
    "- Lassen Sie den Code laufen.\n",
    "- Rufen Sie die Klassenmethode `printKlasse()` auf.\n",
    "- Erzeugen Sie ein Objekt der Klasse `Beispiel` mit dem Namen `abc`.\n",
    "- Rufen Sie die Klassenmethode `printKlasse()` auf.\n",
    "- Erzeugen Sie ein Objekt der Klasse `Beispiel` mit dem Namen `xyz`.\n",
    "- Rufen Sie die Klassenmethode `printKlasse()` auf."
   ]
  },
  {
   "cell_type": "code",
   "execution_count": null,
   "metadata": {},
   "outputs": [],
   "source": [
    "# Ihre Loesung"
   ]
  },
  {
   "cell_type": "markdown",
   "metadata": {},
   "source": [
    "*Ende des Notebooks*"
   ]
  },
  {
   "cell_type": "markdown",
   "metadata": {
    "deletable": false,
    "editable": false
   },
   "source": [
    "<a rel=\"license\" href=\"http://creativecommons.org/licenses/by-nc-nd/4.0/\"><img alt=\"Creative Commons Lizenzvertrag\" style=\"border-width:0\" src=\"https://i.creativecommons.org/l/by-nc-nd/4.0/88x31.png\" /></a><br /><span xmlns:dct=\"http://purl.org/dc/terms/\" property=\"dct:title\">Dieses Notebook wurde von Christina B. Class für die Lehre an der EAH Jena erstellt. Es ist lizenziert unter einer <a rel=\"license\" href=\"http://creativecommons.org/licenses/by-nc-nd/4.0/\">Creative Commons Namensnennung - Nicht kommerziell - Keine Bearbeitungen 4.0 International Lizenz</a>.\n"
   ]
  }
 ],
 "metadata": {
  "kernelspec": {
   "display_name": "Python 3 (ipykernel)",
   "language": "python",
   "name": "python3"
  },
  "language_info": {
   "codemirror_mode": {
    "name": "ipython",
    "version": 3
   },
   "file_extension": ".py",
   "mimetype": "text/x-python",
   "name": "python",
   "nbconvert_exporter": "python",
   "pygments_lexer": "ipython3",
   "version": "3.10.13"
  }
 },
 "nbformat": 4,
 "nbformat_minor": 4
}
