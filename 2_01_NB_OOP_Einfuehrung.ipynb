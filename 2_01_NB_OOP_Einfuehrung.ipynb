{
 "cells": [
  {
   "cell_type": "markdown",
   "metadata": {},
   "source": [
    "Notebook zu Python: Objektorientierte Programmierung: Einführungsbeispiel: eine Klasse \n",
    "\n",
    "Version 1.1, 8. Mai 2025, Informatik, EAH Jena\n",
    "\n",
    "(c) Christina B. Class\n"
   ]
  },
  {
   "cell_type": "markdown",
   "metadata": {},
   "source": [
    "## Vorbereitung"
   ]
  },
  {
   "cell_type": "markdown",
   "metadata": {},
   "source": [
    "Führen Sie die folgende Zeile aus, um das Modul mit der Klasse `Konto` zu importieren. "
   ]
  },
  {
   "cell_type": "code",
   "execution_count": 1,
   "metadata": {},
   "outputs": [],
   "source": [
    "from modules.Konto import Konto"
   ]
  },
  {
   "cell_type": "markdown",
   "metadata": {},
   "source": [
    "## Lernziel dieses Notebooks\n",
    "\n",
    "In diesem Notebook lernen Sie am Beispiel zweier einfacher Klassen, wie Sie Objekte von Klassen erzeugen und Methoden aufrufen."
   ]
  },
  {
   "cell_type": "markdown",
   "metadata": {},
   "source": [
    "## 1. Die Klasse `Konto`"
   ]
  },
  {
   "cell_type": "markdown",
   "metadata": {},
   "source": [
    "In diesem Notebook verwenden Sie eine Python-Klasse namens `Konto`. "
   ]
  },
  {
   "cell_type": "markdown",
   "metadata": {},
   "source": [
    "Die Darstellung der Klasse ist in UML angegeben."
   ]
  },
  {
   "attachments": {
    "KontoKlein.png": {
     "image/png": "[encoded data removed]"
    }
   },
   "cell_type": "markdown",
   "metadata": {},
   "source": [
    "![KontoKlein.png](attachment:KontoKlein.png)"
   ]
  },
  {
   "cell_type": "markdown",
   "metadata": {},
   "source": [
    "## 2. Erzeugung von Objekten"
   ]
  },
  {
   "cell_type": "markdown",
   "metadata": {},
   "source": [
    "Den Code der Klasse haben wir oben durch die `import` Anweisung geladen. Wir können diese Klasse nun also verwenden. "
   ]
  },
  {
   "cell_type": "markdown",
   "metadata": {},
   "source": [
    "Zuerst erzeugen wir ein Objekt der Klasse `Konto`. Hierfür rufen wir den sogenannten Konstruktor, die `__init__()`-Methode auf. Diese bekommt zwei Parameter:\n",
    "- den Namen des Kontinhabers / der Kontoinhaberin (eine Zeichenkette)\n",
    "- der Anfangsbetrag auf dem Konto (eine Zahl)\n",
    "\n",
    "Wir erzeugen nun also ein Konto-Objekt:"
   ]
  },
  {
   "cell_type": "code",
   "execution_count": 2,
   "metadata": {},
   "outputs": [
    {
     "data": {
      "text/plain": [
       "<modules.Konto.Konto at 0x7de0c15ef9b0>"
      ]
     },
     "execution_count": 2,
     "metadata": {},
     "output_type": "execute_result"
    }
   ],
   "source": [
    "Konto(\"inhaber\",100)"
   ]
  },
  {
   "cell_type": "markdown",
   "metadata": {},
   "source": [
    "Sie werden als Out[] etwas in der Art wie\n",
    "\n",
    "<modules.Konto.Konto at 0x......>"
   ]
  },
  {
   "cell_type": "markdown",
   "metadata": {},
   "source": [
    "sehen. Das Konto-Objekt wurde zwar erzeugt, aber wir haben es \"vergessen\", können also nicht mehr darauf zugreifen, da wir es nicht in einer Variablen gespeichert haben. Ähnliches passiert auch hier:"
   ]
  },
  {
   "cell_type": "code",
   "execution_count": 3,
   "metadata": {},
   "outputs": [
    {
     "data": {
      "text/plain": [
       "[1, 2, 3, 4]"
      ]
     },
     "execution_count": 3,
     "metadata": {},
     "output_type": "execute_result"
    }
   ],
   "source": [
    "list((1,2,3,4))"
   ]
  },
  {
   "cell_type": "markdown",
   "metadata": {},
   "source": [
    "In obigem Code wird eine Liste erzeugt (Listen sind **auch** Objekte), die man allerdings nicht mehr weiter verwenden kann, da sie nicht gespeichert wurde."
   ]
  },
  {
   "cell_type": "markdown",
   "metadata": {},
   "source": [
    "Um das Konto-Objekt nach der Erzeugung auch verwenden zu können, müssen wir es also in einer Variablen abspeichern:\n",
    "\n",
    "<a id='dasKonto'></a>"
   ]
  },
  {
   "cell_type": "code",
   "execution_count": 4,
   "metadata": {},
   "outputs": [],
   "source": [
    "dasKonto=Konto(\"die Inhaberin\",100)"
   ]
  },
  {
   "cell_type": "markdown",
   "metadata": {},
   "source": [
    "Wir können dieses Objekt nun mit `print()` ausgeben. `print()` ruft im Hintergrund die Methode `__str__()` auf."
   ]
  },
  {
   "cell_type": "code",
   "execution_count": 5,
   "metadata": {},
   "outputs": [
    {
     "name": "stdout",
     "output_type": "stream",
     "text": [
      "die949(die Inhaberin): 100 EUR\n"
     ]
    }
   ],
   "source": [
    "print(dasKonto)"
   ]
  },
  {
   "cell_type": "markdown",
   "metadata": {},
   "source": [
    "**Aufgabe:** Erzeugen Sie nun ein Konto-Objekt `dasKonto2` mit einem von Ihnen gewählten Namen und einem Anfangsguthaben und geben Sie es aus."
   ]
  },
  {
   "cell_type": "code",
   "execution_count": 6,
   "metadata": {},
   "outputs": [],
   "source": [
    "# Ihre Loesung"
   ]
  },
  {
   "cell_type": "markdown",
   "metadata": {},
   "source": [
    "**Aufgabe:** Was passiert, wenn Sie das initiale Guthaben auf einen negativen Betrag setzen? Testen Sie es aus!"
   ]
  },
  {
   "cell_type": "code",
   "execution_count": 7,
   "metadata": {},
   "outputs": [],
   "source": [
    "# Ihr Code"
   ]
  },
  {
   "cell_type": "markdown",
   "metadata": {},
   "source": [
    "## 3. Ausgabe des `Konto`-Objekts"
   ]
  },
  {
   "cell_type": "markdown",
   "metadata": {},
   "source": [
    "Wir können dieses Objekt nun verwenden, indem wir seine Methoden aufrufen.\n",
    "\n",
    "Sehen wir uns nun zuerst die Kontoinformationen an:"
   ]
  },
  {
   "cell_type": "code",
   "execution_count": 8,
   "metadata": {},
   "outputs": [
    {
     "data": {
      "text/plain": [
       "'die Inhaberin'"
      ]
     },
     "execution_count": 8,
     "metadata": {},
     "output_type": "execute_result"
    }
   ],
   "source": [
    "dasKonto.getInhaber()"
   ]
  },
  {
   "cell_type": "code",
   "execution_count": 9,
   "metadata": {},
   "outputs": [
    {
     "data": {
      "text/plain": [
       "100"
      ]
     },
     "execution_count": 9,
     "metadata": {},
     "output_type": "execute_result"
    }
   ],
   "source": [
    "dasKonto.getKontostand()"
   ]
  },
  {
   "cell_type": "code",
   "execution_count": 10,
   "metadata": {},
   "outputs": [
    {
     "name": "stdout",
     "output_type": "stream",
     "text": [
      "die949(die Inhaberin): 100 EUR\n"
     ]
    }
   ],
   "source": [
    "print(dasKonto)"
   ]
  },
  {
   "cell_type": "markdown",
   "metadata": {},
   "source": [
    "Die Klasse `Konto` ist so implementiert, dass es nicht möglich ist, auf die Werte der einzelnen Attribute (Eigenschaften) direkt zuzugreifen. Die Klasse verwendet *Information Hiding*. Notieren Sie sich bitte die Fehlermeldung. "
   ]
  },
  {
   "cell_type": "code",
   "execution_count": 11,
   "metadata": {},
   "outputs": [
    {
     "ename": "AttributeError",
     "evalue": "'Konto' object has no attribute 'inhaber'",
     "output_type": "error",
     "traceback": [
      "\u001b[0;31m---------------------------------------------------------------------------\u001b[0m",
      "\u001b[0;31mAttributeError\u001b[0m                            Traceback (most recent call last)",
      "Cell \u001b[0;32mIn[11], line 1\u001b[0m\n\u001b[0;32m----> 1\u001b[0m dasKonto\u001b[38;5;241m.\u001b[39minhaber\n",
      "\u001b[0;31mAttributeError\u001b[0m: 'Konto' object has no attribute 'inhaber'"
     ]
    }
   ],
   "source": [
    "dasKonto.inhaber"
   ]
  },
  {
   "cell_type": "markdown",
   "metadata": {},
   "source": [
    "**Aufgabe:** Verwenden Sie Ihr oben erzeugtes Konto-Objekt `dasKonto2` und geben Sie sich die Informationen mit `print()` sowie `getInhaber()` und `getKontostand()` aus."
   ]
  },
  {
   "cell_type": "code",
   "execution_count": 12,
   "metadata": {},
   "outputs": [],
   "source": [
    "# Ihre Loesung"
   ]
  },
  {
   "cell_type": "markdown",
   "metadata": {},
   "source": [
    "**Aufgabe:** Gibt es irgendeine Möglichkeit, sich die Kontonummer alleine auszugeben? Testen Sie es aus."
   ]
  },
  {
   "cell_type": "code",
   "execution_count": 13,
   "metadata": {},
   "outputs": [],
   "source": [
    "# Ihr Code"
   ]
  },
  {
   "cell_type": "markdown",
   "metadata": {},
   "source": [
    "## 4. Ein- und Auszahlungen"
   ]
  },
  {
   "cell_type": "markdown",
   "metadata": {},
   "source": [
    "Um im Konto etwas ein- bzw. auszuzahlen, werden Methoden verwendet:\n",
    "- `einzahlen()`: diese Methode erhält als Parameter den einzuzahlenden Betrag\n",
    "- `abheben()`: diese Methode erhält als Parameter den auszuzahlenden Betrag"
   ]
  },
  {
   "cell_type": "markdown",
   "metadata": {},
   "source": [
    "Wir verwenden die Methode `einzahlen()`, um einen Betrag einzuzahlen:"
   ]
  },
  {
   "cell_type": "code",
   "execution_count": 14,
   "metadata": {},
   "outputs": [],
   "source": [
    "dasKonto.einzahlen(50)"
   ]
  },
  {
   "cell_type": "markdown",
   "metadata": {},
   "source": [
    "Um zu überprüfen, ob die Einzahlung erfolgreich war, können wir entweder den Kontostand abfragen:"
   ]
  },
  {
   "cell_type": "code",
   "execution_count": 15,
   "metadata": {},
   "outputs": [
    {
     "data": {
      "text/plain": [
       "150"
      ]
     },
     "execution_count": 15,
     "metadata": {},
     "output_type": "execute_result"
    }
   ],
   "source": [
    "dasKonto.getKontostand()"
   ]
  },
  {
   "cell_type": "markdown",
   "metadata": {},
   "source": [
    "oder `print()` verwenden."
   ]
  },
  {
   "cell_type": "code",
   "execution_count": 16,
   "metadata": {},
   "outputs": [
    {
     "name": "stdout",
     "output_type": "stream",
     "text": [
      "die949(die Inhaberin): 150 EUR\n"
     ]
    }
   ],
   "source": [
    "print(dasKonto)"
   ]
  },
  {
   "cell_type": "markdown",
   "metadata": {},
   "source": [
    "**Aufgabe:** Heben Sie vom Konto 25 € ab und lassen Sie sich den neuen Betrag anzeigen."
   ]
  },
  {
   "cell_type": "code",
   "execution_count": 17,
   "metadata": {},
   "outputs": [],
   "source": [
    "# Ihre Loesung"
   ]
  },
  {
   "cell_type": "markdown",
   "metadata": {},
   "source": [
    "**Aufgabe:** Versuchen Sie nun, vom Konto mehr abzuheben, als Guthaben vorhanden ist. Was passiert?"
   ]
  },
  {
   "cell_type": "code",
   "execution_count": 18,
   "metadata": {},
   "outputs": [],
   "source": [
    "# Ihr Code"
   ]
  },
  {
   "cell_type": "markdown",
   "metadata": {},
   "source": [
    "**Aufgabe:** Rufen Sie die verschiedenen Methoden für das von Ihnen erzeugte Objekt `dasKonto2` auf."
   ]
  },
  {
   "cell_type": "code",
   "execution_count": 19,
   "metadata": {},
   "outputs": [],
   "source": [
    "# Ihr Code"
   ]
  },
  {
   "cell_type": "markdown",
   "metadata": {},
   "source": [
    "## 5. Die Klasse `Wortliste`"
   ]
  },
  {
   "cell_type": "markdown",
   "metadata": {},
   "source": [
    "Führen Sie folgende Zeile aus, um die Klasse Wortliste zu importieren."
   ]
  },
  {
   "cell_type": "code",
   "execution_count": 20,
   "metadata": {},
   "outputs": [],
   "source": [
    "from modules.Wortliste import Wortliste"
   ]
  },
  {
   "cell_type": "markdown",
   "metadata": {},
   "source": [
    "Das folgende Diagramm zeigt die Klasse Wortliste mit den Attributen (Eigenschaften) und Methoden (der Funktionalität):"
   ]
  },
  {
   "attachments": {
    "Wortliste.png": {
     "image/png": "[encoded data removed]"
    }
   },
   "cell_type": "markdown",
   "metadata": {},
   "source": [
    "![Wortliste.png](attachment:Wortliste.png)"
   ]
  },
  {
   "cell_type": "markdown",
   "metadata": {},
   "source": [
    "Auch in dieser Klasse verwenden wir das sogenannte *Information Hiding*, d.h. Sie können nicht direkt auf die Eigenschaften `name` und `worte` zugreifen.\n",
    "\n",
    "Verwenden Sie Klasse Wortliste:\n",
    "- Erzeugen Sie ein oder mehrere Objekte der Klasse\n",
    "- Geben Sie die Objekte und die Wortlisten aus\n",
    "- Fügen Sie Worte hinzu und entfernen Sie diese\n",
    "\n",
    "Bitte stellen Sie durch ausreichendes Üben sicher, dass Sie wissen, wie Sie Objekte erzeugen und Methoden aufrufen können."
   ]
  },
  {
   "cell_type": "code",
   "execution_count": 21,
   "metadata": {},
   "outputs": [],
   "source": [
    "# Ihr Code\n"
   ]
  },
  {
   "cell_type": "markdown",
   "metadata": {},
   "source": [
    "--Ende des Notebooks--"
   ]
  },
  {
   "cell_type": "markdown",
   "metadata": {
    "deletable": false,
    "editable": false
   },
   "source": [
    "<a rel=\"license\" href=\"http://creativecommons.org/licenses/by-nc-nd/4.0/\"><img alt=\"Creative Commons Lizenzvertrag\" style=\"border-width:0\" src=\"https://i.creativecommons.org/l/by-nc-nd/4.0/88x31.png\" /></a><br /><span xmlns:dct=\"http://purl.org/dc/terms/\" property=\"dct:title\">Dieses Notebook wurde von Christina B. Class für die Lehre an der EAH Jena erstellt. Es ist lizenziert unter einer <a rel=\"license\" href=\"http://creativecommons.org/licenses/by-nc-nd/4.0/\">Creative Commons Namensnennung - Nicht kommerziell - Keine Bearbeitungen 4.0 International Lizenz</a>."
   ]
  }
 ],
 "metadata": {
  "kernelspec": {
   "display_name": "Python 3 (ipykernel)",
   "language": "python",
   "name": "python3"
  },
  "language_info": {
   "codemirror_mode": {
    "name": "ipython",
    "version": 3
   },
   "file_extension": ".py",
   "mimetype": "text/x-python",
   "name": "python",
   "nbconvert_exporter": "python",
   "pygments_lexer": "ipython3",
   "version": "3.12.2"
  }
 },
 "nbformat": 4,
 "nbformat_minor": 4
}
