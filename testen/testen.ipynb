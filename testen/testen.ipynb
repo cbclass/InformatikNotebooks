{
 "cells": [
  {
   "cell_type": "markdown",
   "id": "e04355c8-6076-474f-8c93-c2b2c7021289",
   "metadata": {},
   "source": [
    "# Das TestNotebok Version 2\n",
    "\n",
    "hier kommt dann etwas Text hin\n",
    "\n",
    "und etwas Code"
   ]
  },
  {
   "cell_type": "markdown",
   "id": "627d0e84-9579-4e65-85f8-0bbae17f0aa1",
   "metadata": {},
   "source": [
    "Test NB 2"
   ]
  },
  {
   "cell_type": "markdown",
   "id": "5cdffce9-afd2-48b9-858a-7f2b1070edf7",
   "metadata": {},
   "source": [
    "Test NB 2 - 2"
   ]
  },
  {
   "cell_type": "markdown",
   "id": "562fd770-2120-451c-a6fa-0619f172ebc2",
   "metadata": {},
   "source": [
    "Test NB 2 - 3"
   ]
  },
  {
   "cell_type": "code",
   "execution_count": null,
   "id": "5bb7851b-3451-4eef-95df-a13bd0a11bd4",
   "metadata": {},
   "outputs": [],
   "source": [
    "print(\"Hallo Welt Code NB1\")"
   ]
  },
  {
   "cell_type": "code",
   "execution_count": null,
   "id": "fb2e609f-8459-4869-b8f5-5286a34ca4cd",
   "metadata": {},
   "outputs": [],
   "source": [
    "print(\"Hallo Welt Code NB1 version 2 Code 2\")"
   ]
  },
  {
   "cell_type": "markdown",
   "id": "14aba103-46f1-46b5-88ec-f37ab701b88f",
   "metadata": {},
   "source": [
    "Test NB 2 - 3"
   ]
  },
  {
   "cell_type": "code",
   "execution_count": null,
   "id": "e8714f71-2954-4ecc-bf15-add059fbd156",
   "metadata": {},
   "outputs": [],
   "source": [
    "print(\"Hallo Welt Code NB1 Code 3\")"
   ]
  },
  {
   "cell_type": "markdown",
   "id": "9c8bd4f8-c456-4b60-b62d-1c655e923858",
   "metadata": {},
   "source": [
    "etc"
   ]
  }
 ],
 "metadata": {
  "kernelspec": {
   "display_name": "Python 3 (ipykernel)",
   "language": "python",
   "name": "python3"
  },
  "language_info": {
   "codemirror_mode": {
    "name": "ipython",
    "version": 3
   },
   "file_extension": ".py",
   "mimetype": "text/x-python",
   "name": "python",
   "nbconvert_exporter": "python",
   "pygments_lexer": "ipython3",
   "version": "3.10.13"
  }
 },
 "nbformat": 4,
 "nbformat_minor": 5
}
