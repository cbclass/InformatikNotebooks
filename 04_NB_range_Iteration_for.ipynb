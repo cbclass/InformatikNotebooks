{
 "cells": [
  {
   "cell_type": "markdown",
   "metadata": {},
   "source": [
    "Notebook zu Python: range() und Iteration mit for\n",
    "\n",
    "Version 1.3, 5. Mai 2023, Informatik, EAH Jena\n",
    "\n",
    "(c) Christina B. Class"
   ]
  },
  {
   "cell_type": "markdown",
   "metadata": {},
   "source": [
    "# `range()` und `for` Schleife "
   ]
  },
  {
   "cell_type": "markdown",
   "metadata": {},
   "source": [
    "## 1. `range()`"
   ]
  },
  {
   "cell_type": "markdown",
   "metadata": {},
   "source": [
    "`range()` ist eine Funktion, die ein sogenanntes **Iterable** erzeugt, genauer gesagt erzeugt `range()` eine Zahlenfolge, deren **ganzzahligen** Werte der Reihe nach, zum Beispiel in einer Schleife, betrachtet werden können.\n",
    "\n",
    "Die durch `range()` erzeugte Zahlenfolge $r_0... r_n$ wird durch die folgenden ganzzahligen Werte spezifiziert:\n",
    "- **Startwert** $s$: dieser Wert ist *optional* und gibt den *ersten* Wert $r_0$  der Folge an. Ist kein Startwert angegeben, beginnt die Folge bei $r_0=0$.\n",
    "- **Endwert** $e$: dieser Wert *muss angegeben* werden. Der Endwert ist *nicht* mehr Teil der Zahlenfolge.\n",
    "- **Schrittweite** $d$: dieser konstante Wert beschreibt die Differenz der einzelnen Folgenelemente ($d=r_{i+1} - r_i$). Der Wert ist *optional*. Ist die Schrittweite nicht angegeben, beträgt sie 1."
   ]
  },
  {
   "cell_type": "markdown",
   "metadata": {},
   "source": [
    "**Hinweis**: Da es nicht möglich ist, die durch `range()` erzeugte Folge direkt anzusehen, werden wir diese im Folgenden mit `list()` in eine Liste umwandeln."
   ]
  },
  {
   "cell_type": "markdown",
   "metadata": {},
   "source": [
    "### 1.1 Angabe des Endwerts"
   ]
  },
  {
   "cell_type": "markdown",
   "metadata": {},
   "source": [
    "Wird nur der Endwert $e$ angegeben, beträgt der Startwert 0 und die Schrittweite 1.\n",
    "\n",
    "`range(8)` erzeugt also eine Folge ganzer Zahlen aus dem rechts offenen Intervall $[$0,8) (oder $[$0,8$[$), d.h. die Folge 0,1,2,3,4,5,6,7.\n",
    "\n",
    "Um diese anzusehen, verwenden wir, wie oben erwähnt, `list()`: "
   ]
  },
  {
   "cell_type": "code",
   "execution_count": null,
   "metadata": {},
   "outputs": [],
   "source": [
    "list(range(8))"
   ]
  },
  {
   "cell_type": "markdown",
   "metadata": {},
   "source": [
    "Ist der Endwert $\\le$ 0 wird die leere Folge erzeugt. Testen Sie."
   ]
  },
  {
   "cell_type": "code",
   "execution_count": null,
   "metadata": {},
   "outputs": [],
   "source": [
    "list(range(0))"
   ]
  },
  {
   "cell_type": "code",
   "execution_count": null,
   "metadata": {},
   "outputs": [],
   "source": [
    "list(range(-1))"
   ]
  },
  {
   "cell_type": "markdown",
   "metadata": {},
   "source": [
    "### 1.2 Angabe des Startwerts"
   ]
  },
  {
   "cell_type": "markdown",
   "metadata": {},
   "source": [
    "Wird zusätzlich zum Endwert $e$ ein Startwert $s$ angegeben, enthält die Folge die Werte aus dem Intervall $[s,e)$ bzw. $[s,e[$.\n",
    "\n",
    "`range(1,5)` erzeugt zum Beispiel die Folge 1,2,3,4,\n",
    "\n",
    "`range(-5,0)` die Folge -5,-4,-3,-2,-1.\n",
    "\n",
    "Testen Sie:"
   ]
  },
  {
   "cell_type": "code",
   "execution_count": null,
   "metadata": {},
   "outputs": [],
   "source": [
    "list(range(1,5))"
   ]
  },
  {
   "cell_type": "code",
   "execution_count": null,
   "metadata": {},
   "outputs": [],
   "source": [
    "list(range(-5,0))"
   ]
  },
  {
   "cell_type": "markdown",
   "metadata": {},
   "source": [
    "Wenn der Startwert größer oder gleich dem Endwert ist ($s \\ge e$ bzw. $e \\le s$) ist die erzeugte Folge leer. Testen Sie:"
   ]
  },
  {
   "cell_type": "code",
   "execution_count": null,
   "metadata": {},
   "outputs": [],
   "source": [
    "list(range(3,3))"
   ]
  },
  {
   "cell_type": "code",
   "execution_count": null,
   "metadata": {},
   "outputs": [],
   "source": [
    "list(range(4,3))"
   ]
  },
  {
   "cell_type": "markdown",
   "metadata": {},
   "source": [
    "### 1.3 Angabe der Schrittweite"
   ]
  },
  {
   "cell_type": "markdown",
   "metadata": {},
   "source": [
    "Zusätzlich zum Startwert $s$ und dem Endwert $e$ kann eine Schrittweite $d$ angegeben werden. "
   ]
  },
  {
   "cell_type": "markdown",
   "metadata": {},
   "source": [
    "**A. Positive Schrittweite**"
   ]
  },
  {
   "cell_type": "markdown",
   "metadata": {},
   "source": [
    "`range(1,6,2)` definiert die Schrittweite $d$=2 und beschreibt folgende Folge:\n",
    "\n",
    "1, 1+2(=3), 3+2(=5)\n",
    "\n",
    "der nächste Wert wäre 7(=5+2) und ist nicht mehr Teil der Folge, da  $7 \\ge e$ also größer gleich dem Endwert 6 ist.\n",
    "\n",
    "Testen Sie:"
   ]
  },
  {
   "cell_type": "code",
   "execution_count": null,
   "metadata": {},
   "outputs": [],
   "source": [
    "list(range(1,6,2))"
   ]
  },
  {
   "cell_type": "code",
   "execution_count": null,
   "metadata": {},
   "outputs": [],
   "source": [
    "list(range(1,7,2))"
   ]
  },
  {
   "cell_type": "markdown",
   "metadata": {},
   "source": [
    "Ist die Schrittweite positiv und ist der Startwert größer oder gleich dem Endwert ($s \\ge e$ bzw. $e \\le s$), ist die erzeugte Folge leer. Testen Sie:"
   ]
  },
  {
   "cell_type": "code",
   "execution_count": null,
   "metadata": {},
   "outputs": [],
   "source": [
    "list(range(4,4,2))"
   ]
  },
  {
   "cell_type": "code",
   "execution_count": null,
   "metadata": {},
   "outputs": [],
   "source": [
    "list(range(4,3,2))"
   ]
  },
  {
   "cell_type": "markdown",
   "metadata": {},
   "source": [
    "**B. Negative Schrittweite**"
   ]
  },
  {
   "cell_type": "markdown",
   "metadata": {},
   "source": [
    "In analoger Weise erzeugt eine negative Schrittweite eine Folge von absteigenden Zahlen. \n",
    "Testen Sie."
   ]
  },
  {
   "cell_type": "code",
   "execution_count": null,
   "metadata": {},
   "outputs": [],
   "source": [
    "list(range(10,0,-1))"
   ]
  },
  {
   "cell_type": "code",
   "execution_count": null,
   "metadata": {},
   "outputs": [],
   "source": [
    "list(range(10,0,-2))"
   ]
  },
  {
   "cell_type": "markdown",
   "metadata": {},
   "source": [
    "Ist die Schrittweite negativ und ist der Startwert kleiner oder gleich dem Endwert ($s \\le e$ bzw. $e \\ge s$), ist die erzeugte Folge leer. Testen Sie:"
   ]
  },
  {
   "cell_type": "code",
   "execution_count": null,
   "metadata": {},
   "outputs": [],
   "source": [
    "list(range(3,5,-1))"
   ]
  },
  {
   "cell_type": "code",
   "execution_count": null,
   "metadata": {},
   "outputs": [],
   "source": [
    "list(range(7,7,-3))"
   ]
  },
  {
   "cell_type": "markdown",
   "metadata": {},
   "source": [
    "Die Schrittweite darf nicht 0 sein. Sehen Sie sich hierzu folgende Fehlermeldung an:"
   ]
  },
  {
   "cell_type": "code",
   "execution_count": null,
   "metadata": {},
   "outputs": [],
   "source": [
    "list(range(1,8,0))"
   ]
  },
  {
   "cell_type": "markdown",
   "metadata": {},
   "source": [
    "**Aufgabe**\n",
    "\n",
    "Erzeugen Sie mit Hilfe von `range()` die folgenden Folgen. Schreiben Sie den `range()` Ausdruck jeweils in die Klammern von `list()`."
   ]
  },
  {
   "cell_type": "markdown",
   "metadata": {},
   "source": [
    "- 1,4,7,10:"
   ]
  },
  {
   "cell_type": "code",
   "execution_count": null,
   "metadata": {},
   "outputs": [],
   "source": [
    "list()"
   ]
  },
  {
   "cell_type": "markdown",
   "metadata": {},
   "source": [
    "- -1,-4,-7,-10:"
   ]
  },
  {
   "cell_type": "code",
   "execution_count": null,
   "metadata": {},
   "outputs": [],
   "source": [
    "list()"
   ]
  },
  {
   "cell_type": "markdown",
   "metadata": {},
   "source": [
    "- alle geraden Zahlen von -10 bis 10:"
   ]
  },
  {
   "cell_type": "code",
   "execution_count": null,
   "metadata": {},
   "outputs": [],
   "source": [
    "list()"
   ]
  },
  {
   "cell_type": "markdown",
   "metadata": {},
   "source": [
    "- die Folge, die nur die Zahl 3 enthält:"
   ]
  },
  {
   "cell_type": "code",
   "execution_count": null,
   "metadata": {},
   "outputs": [],
   "source": [
    "list()"
   ]
  },
  {
   "cell_type": "markdown",
   "metadata": {},
   "source": [
    "## 2. `for` Schleife"
   ]
  },
  {
   "cell_type": "markdown",
   "metadata": {},
   "source": [
    "Die `for` Schleife sieht folgendermaßen aus:\n",
    "\n",
    "```python\n",
    "for variable in object:\n",
    "    Anweisungen\n",
    "```"
   ]
  },
  {
   "cell_type": "markdown",
   "metadata": {},
   "source": [
    "`variable` ist hier der Name der Variablen, die in der `for` Schleife verwendet werden kann, und `object` ist ein sogenanntes Iterable, zum Beispiel `range()`."
   ]
  },
  {
   "cell_type": "markdown",
   "metadata": {},
   "source": [
    "**Beispiel**: Die folgende `for` Schleife gibt alle Zahlen von 1 bis 5 aus:"
   ]
  },
  {
   "cell_type": "code",
   "execution_count": null,
   "metadata": {},
   "outputs": [],
   "source": [
    "for zahl in range(1,6):\n",
    "    print(zahl)"
   ]
  },
  {
   "cell_type": "markdown",
   "metadata": {},
   "source": [
    "**Beispiel**: Die folgende `for` Schleife gibt alle Zahlen von 0 bis -5 aus."
   ]
  },
  {
   "cell_type": "code",
   "execution_count": null,
   "metadata": {},
   "outputs": [],
   "source": [
    "for zahl in range(0,-6,-1):\n",
    "    print(zahl)"
   ]
  },
  {
   "cell_type": "markdown",
   "metadata": {},
   "source": [
    "Ist die durch `range()` erzeugte Folge leer, werden die Anweisungen in der `for` Schleife nicht ausgeführt:"
   ]
  },
  {
   "cell_type": "code",
   "execution_count": null,
   "metadata": {},
   "outputs": [],
   "source": [
    "for zahl in range(0):\n",
    "    print('in der Schleife')\n",
    "print('nach der Schleife')"
   ]
  },
  {
   "cell_type": "markdown",
   "metadata": {},
   "source": [
    "Manchmal wird die `for` Schleife auch dazu verwendet, um etwas *genau* x-mal durchzuführen. Dann kommt es auf die Werte der Folge nicht an, sondern nur auf die Anzahl Elemente in der Folge. \n",
    "\n",
    "Im einfachsten Fall verwendet man `range(x)`, wenn man die Schleife x-mal ausführen möchte, die erzeugten x Werte gehen dann von 0,1,2,...,x-1."
   ]
  },
  {
   "cell_type": "code",
   "execution_count": null,
   "metadata": {},
   "outputs": [],
   "source": [
    "print('Gib 5 mal hallo aus')\n",
    "for i in range(5):\n",
    "    print('hallo')"
   ]
  },
  {
   "cell_type": "markdown",
   "metadata": {},
   "source": [
    "**Hinweis**: Die folgenden zwei Aufgaben sind ähnlich der beiden Aufgaben zu *3.1 Beispiel 1: Addieren von eingegebenen Zahlen* des Notebooks zur Iteration mit `while`. \n",
    "\n",
    "Während die `while` Schleife durch eine Bedingung kontrolliert wird (Abbruch, wenn die eingegebene Zahl $\\leq 0$ ist), wird hier bei der `for` Schleife eine feste Anzahl von Zahlen eingelesen."
   ]
  },
  {
   "cell_type": "markdown",
   "metadata": {},
   "source": [
    "**Aufgabe**: Lesen Sie mit Hilfe einer `for` Schleife fünf ganze Zahlen ein und geben Sie diese direkt wieder aus."
   ]
  },
  {
   "cell_type": "code",
   "execution_count": null,
   "metadata": {},
   "outputs": [],
   "source": [
    "# Ihre Loesung"
   ]
  },
  {
   "cell_type": "markdown",
   "metadata": {},
   "source": [
    "**Aufgabe:** Lesen Sie mit Hilfe einer `for` Schleife fünf ganze Zahlen ein, berechnen Sie die Summe dieser Zahlen und geben Sie die Summe aus."
   ]
  },
  {
   "cell_type": "code",
   "execution_count": null,
   "metadata": {},
   "outputs": [],
   "source": [
    "# Ihre Loesung"
   ]
  },
  {
   "cell_type": "markdown",
   "metadata": {},
   "source": [
    "## 3. Zur Laufvariable"
   ]
  },
  {
   "cell_type": "markdown",
   "metadata": {},
   "source": [
    "Die Variable der `for` Schleife nimmt nacheinander alle Werte des Iterables an. Sie können diese zwar in der Schleife verändern und mit dem geänderten Wert *innerhalb der Schleife* weiterarbeiten. Für den nächsten Schleifendurchlauf erhält die Variable aber *unverändert* den nächsten Wert des Iterables."
   ]
  },
  {
   "cell_type": "markdown",
   "metadata": {},
   "source": [
    "Um alle ungeraden Zahlen von 1 bis 9 auszugeben kann man entweder die Schrittweite verwenden:"
   ]
  },
  {
   "cell_type": "code",
   "execution_count": null,
   "metadata": {},
   "outputs": [],
   "source": [
    "for zahl in range(1,10,2):\n",
    "    print(zahl)"
   ]
  },
  {
   "cell_type": "markdown",
   "metadata": {},
   "source": [
    "Oder die Selektion mit dem Restwertoperator `%`:"
   ]
  },
  {
   "cell_type": "code",
   "execution_count": null,
   "metadata": {},
   "outputs": [],
   "source": [
    "for zahl in range(1,10):\n",
    "    if zahl%2==1:\n",
    "        print(zahl)"
   ]
  },
  {
   "cell_type": "markdown",
   "metadata": {},
   "source": [
    "Folgendes hat **nicht** den gewünschten Effekt:"
   ]
  },
  {
   "cell_type": "code",
   "execution_count": null,
   "metadata": {},
   "outputs": [],
   "source": [
    "for zahl in range(1,10):\n",
    "    print('zu Beginn der Schleife: zahl=',zahl)\n",
    "    zahl+=2\n",
    "    print('Ausgabe (nach zahl+2)',zahl)\n",
    "print(\"nach Ende der Schleife: zahl=\",zahl)\n",
    "    "
   ]
  },
  {
   "cell_type": "markdown",
   "metadata": {},
   "source": [
    "Wie Sie oben beobachten konnten, wurde die Schleife trotzdem für **alle** Zahlen von 1 bis 9 ausgeführt."
   ]
  },
  {
   "cell_type": "markdown",
   "metadata": {},
   "source": [
    "*Ende des Notebooks*"
   ]
  },
  {
   "cell_type": "markdown",
   "metadata": {
    "deletable": false,
    "editable": false
   },
   "source": [
    "<a rel=\"license\" href=\"http://creativecommons.org/licenses/by-nc-nd/4.0/\"><img alt=\"Creative Commons Lizenzvertrag\" style=\"border-width:0\" src=\"https://i.creativecommons.org/l/by-nc-nd/4.0/88x31.png\" /></a><br /><span xmlns:dct=\"http://purl.org/dc/terms/\" property=\"dct:title\">Dieses Notebook wurde von Christina B. Class für die Lehre an der EAH Jena erstellt. Es ist lizenziert unter einer <a rel=\"license\" href=\"http://creativecommons.org/licenses/by-nc-nd/4.0/\">Creative Commons Namensnennung - Nicht kommerziell - Keine Bearbeitungen 4.0 International Lizenz</a>."
   ]
  }
 ],
 "metadata": {
  "kernelspec": {
   "display_name": "Python 3 (ipykernel)",
   "language": "python",
   "name": "python3"
  },
  "language_info": {
   "codemirror_mode": {
    "name": "ipython",
    "version": 3
   },
   "file_extension": ".py",
   "mimetype": "text/x-python",
   "name": "python",
   "nbconvert_exporter": "python",
   "pygments_lexer": "ipython3",
   "version": "3.10.13"
  }
 },
 "nbformat": 4,
 "nbformat_minor": 4
}
