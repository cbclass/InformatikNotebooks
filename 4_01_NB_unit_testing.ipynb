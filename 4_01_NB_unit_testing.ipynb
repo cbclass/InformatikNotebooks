{
 "cells": [
  {
   "cell_type": "markdown",
   "metadata": {},
   "source": [
    "Notebook zu Unit Testing mit Python\n",
    "\n",
    "Version 1.2, 9. Juni 2023, Informatik, EAH Jena\n",
    "\n",
    "(c) Christina B. Class\n"
   ]
  },
  {
   "cell_type": "markdown",
   "metadata": {},
   "source": [
    "Unittests können nicht direkt in einem Jupyter Notebook implementiert werden. Wir verwenden eine Extension namens `ipython_unittest`.\n",
    "Wie `jdc` ist diese nicht standardmäßig in Python enthalten und müsste extra installiert werden, um Notebooks lokal laufen zu lassen.\n",
    "Die folgende Zeile aktiviert diese Extensions für das vorliegende Notebook"
   ]
  },
  {
   "cell_type": "code",
   "execution_count": null,
   "metadata": {},
   "outputs": [],
   "source": [
    "%reload_ext ipython_unittest"
   ]
  },
  {
   "cell_type": "markdown",
   "metadata": {},
   "source": [
    "Wir verwenden dann die sogenannte *Cell Magic* `%%unittest_main`, um den Unittest in einer Zelle zu definieren und gleichzeitig auszuführen.\n",
    "\n",
    "Der Python Code, um einen Unittest laufen zu lassen, den Sie für die Implementation in Spyder benötigen, sieht etwas anders aus. Konzentrtieren Sie sich in diesem Notebook daher darauf, wie **einzelne Testmethoden** implementiert werden."
   ]
  },
  {
   "cell_type": "markdown",
   "metadata": {},
   "source": [
    "# 1. Beispiel: Testen der Klasse `Student`"
   ]
  },
  {
   "cell_type": "markdown",
   "metadata": {},
   "source": [
    "Als erstes Beispiel implementieren wir einen Test für die Klasse `Student`:"
   ]
  },
  {
   "attachments": {
    "Student.png": {
     "image/png": "[encoded data removed]"
    }
   },
   "cell_type": "markdown",
   "metadata": {},
   "source": [
    "![Student.png](attachment:Student.png)"
   ]
  },
  {
   "cell_type": "markdown",
   "metadata": {},
   "source": [
    "die hier implementiert ist: "
   ]
  },
  {
   "cell_type": "code",
   "execution_count": null,
   "metadata": {},
   "outputs": [],
   "source": [
    "class Student():\n",
    "    def __init__(self, number, name, fach):\n",
    "        self.__number=number\n",
    "        self.__name=name\n",
    "        self.__major=fach\n",
    "        \n",
    "    def getMatNummer(self):\n",
    "        return self.__number\n",
    "        \n",
    "    def getName(self):\n",
    "        return self.__name\n",
    "    \n",
    "    def getStudiengang(self):\n",
    "        return self.__major\n",
    "    \n",
    "    def setStudiengang(self,neuesFach):\n",
    "        self.__major=neuesFach\n",
    "    \n",
    "    def __str__(self):\n",
    "        return self.__name+\" (Matr. Nr.: \"+str(self.__number)+\"): studiert \"\\\n",
    "                +self.__major"
   ]
  },
  {
   "cell_type": "markdown",
   "metadata": {},
   "source": [
    "## 1.1 Definition der Test Klasse und Test Fixture"
   ]
  },
  {
   "cell_type": "markdown",
   "metadata": {},
   "source": [
    "Wir definieren zuerst die Testklasse als Subklasse von `unittest.TestCase`. "
   ]
  },
  {
   "cell_type": "markdown",
   "metadata": {},
   "source": [
    "Um die Methoden der Klasse `Student` zu testen, benötigen wir ein Studierendenobjekt. Dieses erzeugen wir am Besten in der `setUp()` Methode als Teil des **Test Fixture**. Wir speichern das Objekt in einem Attribut, so dass wir aus den Testmethoden darauf zugreifen können. "
   ]
  },
  {
   "cell_type": "code",
   "execution_count": null,
   "metadata": {},
   "outputs": [],
   "source": [
    "%%unittest_main\n",
    "class TestKlasse1(unittest.TestCase):\n",
    "    def setUp(self):\n",
    "        self.student=Student(4711,\"test student\",\"Informatik\")"
   ]
  },
  {
   "cell_type": "markdown",
   "metadata": {},
   "source": [
    "Durch die Test Fixture haben wir noch keinen Test definiert, das sehen Sie auch daran, dass 0 Tests ausgeführt wurden. Diese müssen wir nun hinzufügen."
   ]
  },
  {
   "cell_type": "markdown",
   "metadata": {},
   "source": [
    "## 1.2 Test der getter Methoden"
   ]
  },
  {
   "cell_type": "markdown",
   "metadata": {},
   "source": [
    "Basierend auf der Spezifikation der Klasse existieren drei *getter* Methoden für die drei Attribute. Wir spezifizieren also drei Tests, um diese Methoden zu testen. Den Rückgabewert vergleichen wir dann mit den Daten des Objektes der Klasse `Student`, das in der Test Fixture definiert wird. "
   ]
  },
  {
   "cell_type": "markdown",
   "metadata": {},
   "source": [
    "|Methodenaufruf|erwarteter Rückgabewert|pass/fail|\n",
    "|---------------------|----------------------|-----------|\n",
    "|`getMatNummer()`| 4711|pass|\n",
    "|`getName()`|test student |pass|\n",
    "|`getStudiengang()`|Informatik|pass|"
   ]
  },
  {
   "cell_type": "markdown",
   "metadata": {},
   "source": [
    "Wir schreiben nun eine Testklasse, um die Methode `getMatNummer()` zu testen:"
   ]
  },
  {
   "cell_type": "code",
   "execution_count": null,
   "metadata": {},
   "outputs": [],
   "source": [
    "%%unittest_main\n",
    "class TestKlasse1(unittest.TestCase):\n",
    "    def setUp(self):\n",
    "        self.student=Student(4711,\"test student\",\"Informatik\")\n",
    "        \n",
    "    def testMatNr(self):\n",
    "        self.assertEqual(self.student.getMatNummer(),4711)"
   ]
  },
  {
   "cell_type": "markdown",
   "metadata": {},
   "source": [
    "Es wurde ein Test erfolgreich durchgeführt.\n",
    "\n",
    "**Aufgabe:** Ändern Sie in obigem Code den Namen der Testmethode zu `TestMatNr()` und testen Sie den Code erneut."
   ]
  },
  {
   "cell_type": "markdown",
   "metadata": {},
   "source": [
    "**Hinweis:** Wie Sie in obiger Aufgabe beobachten konnten, wurde kein Test ausgeführt. Bei Unit Tests alle Methoden ausgeführt, deren Namen mit `test` beginnen. Methoden, deren Namen anders beginnen, werden nicht ausgeführt."
   ]
  },
  {
   "cell_type": "markdown",
   "metadata": {},
   "source": [
    "**Aussagekraft des Tests:** Wir haben einen erfolgreichen Test für die getter Methode ausgeführt. \n",
    "- Um sicherzugehen, dass der Test wirklich funktioniert, sollten wir diesen immer für verschiedene Objekte aufrufen. Nur so können wir sicherstellen, dass die Methode nicht vielleicht einen konstanten Wert zurückgibt, also z.B. immer die 4711 egal welche Matrikelnummer ein Studentenobjekt hat.\n",
    "- Ist der Test nicht erfolgreich, können wir daraus nicht schließen, dass der Fehler in der getter Methode liegt. Es wäre ja möglich, dass die `__init__()` Methode falsch implementiert ist. In der vorliegenden Spezifikation steht, dass die Matrikelnummer eine ganze Zahl ist. Wird sie als Zeichenkette abgespeichert, wäre der Test nicht bestanden, auch wenn die getter Methode richtig implementiert ist. Unser Test testet also eigenlich sowohl einen Teil der `__init__()` als auch einen Teil der getter Methode. Wäre nicht spezifiziert, ob die Nummer als ganze Zahl oder Zeichenkette abgespeichert wird, müsste der Test auf verschiedene mögliche Rückgabewerte testen:\n",
    "`self.assertIn(self.student.getMatNummer(),[4711,'4711'])`"
   ]
  },
  {
   "cell_type": "markdown",
   "metadata": {},
   "source": [
    "**Aufgabe:** Ergänzen Sie die Testklasse um zwei Methoden, um die getter Methoden für den Namen und den Studiengang zu testen."
   ]
  },
  {
   "cell_type": "code",
   "execution_count": null,
   "metadata": {},
   "outputs": [],
   "source": [
    "%%unittest_main\n",
    "class TestKlasse1(unittest.TestCase):\n",
    "    def setUp(self):\n",
    "        self.student=Student(4711,\"test student\",\"Informatik\")\n",
    "        \n",
    "    def testMatNr(self):\n",
    "        self.assertEqual(self.student.getMatNummer(),4711)\n",
    "        \n",
    "    # Ihr Code"
   ]
  },
  {
   "cell_type": "markdown",
   "metadata": {},
   "source": [
    "## 1.3 Test der setter Methode"
   ]
  },
  {
   "cell_type": "markdown",
   "metadata": {},
   "source": [
    "Eine setter Methode wie `setStudiengang()` hat keinen Rückgabewert und kann daher nicht direkt getestet werden. Sie hat ja keinen Rückgabewert, den wir mit einem erwarteten Wert vergleichen können. Für den Test rufen wir daher nach der setter Methode die getter Methode aus, um den Rückgabewert mit dem neuen Studiengang vergleichen zu können."
   ]
  },
  {
   "cell_type": "code",
   "execution_count": null,
   "metadata": {},
   "outputs": [],
   "source": [
    "%%unittest_main\n",
    "class TestKlasse1(unittest.TestCase):\n",
    "    def setUp(self):\n",
    "        self.student=Student(4711,\"test student\",\"Informatik\")\n",
    "        \n",
    "    def testMatNr(self):\n",
    "        self.assertEqual(self.student.getMatNummer(),4711)\n",
    "        \n",
    "    def testSetStudiengang(self):\n",
    "        self.student.setStudiengang(\"CS\")\n",
    "        self.assertEqual(self.student.getStudiengang(),\"CS\")"
   ]
  },
  {
   "cell_type": "markdown",
   "metadata": {},
   "source": [
    "**Aussagekraft des Tests**: Hier gilt, wie oben diskutiert, dass der Test nicht nur die setter Methode testet, da wir ja die getter Methode aufrufen müssen, um zu einem Testurteil zu gelangen. Nur wenn die getter Methode erfolgreich getestet wurde, sind Aussagen in Bezug auf die setter Methode möglich."
   ]
  },
  {
   "cell_type": "markdown",
   "metadata": {},
   "source": [
    "## 1.4 Test der `__str__()` Methode"
   ]
  },
  {
   "cell_type": "markdown",
   "metadata": {},
   "source": [
    "Die `__str__()` Methode gibt eine Zeichenkette zurück. In unserer Spezifikation ist angegeben, welche Elemente die Zeichenkette enthalten muss und wie sie aussieht. Man könnte jetzt natürlich mit `assertEqual()` genau auf diese Zeichenkette überprüfen. Die Zeichenkette muss dann aber exakt der in `assertEqual()` angegebenen Zeichenkette(n) entsprechen. Der Test wäre z.B. nicht bestanden, wenn es eine unterschiedliche Anzahl von Leerzeichen gibt: "
   ]
  },
  {
   "cell_type": "code",
   "execution_count": null,
   "metadata": {},
   "outputs": [],
   "source": [
    "'hallo welt' == 'hallo  welt'"
   ]
  },
  {
   "cell_type": "markdown",
   "metadata": {},
   "source": [
    "Muss die Zeichenkette exakt so aussehen, einschl. der gleichen Anzahl von Leerzeichen, würde man natürlich `assertEqual()` verwenden. \n",
    "\n",
    "**Zur Information:** Es gibt mit **regulären Ausdrücken** die Möglichkeit, Zeichenketten ungefähr zu beschreiben, also gewisse Freiheiten offenzulassen (z.B.: Die Zeichenkette besteht aus 'hallo' gefolgt von mindestens einem Leerzeichen, gefolgt von 'welt'). Wir werden hier nicht näher darauf eingehen.   "
   ]
  },
  {
   "cell_type": "markdown",
   "metadata": {},
   "source": [
    "Eine andere Möglichkeit ist, zu überprpüfen, ob die wesentlichen Elemente (Matrikelnummer, Name und Stundiengang) in der Zeichenkette enthalten sind, ist die Verwendung von `assertIn()`:"
   ]
  },
  {
   "cell_type": "code",
   "execution_count": null,
   "metadata": {},
   "outputs": [],
   "source": [
    "%%unittest_main\n",
    "class TestKlasse1(unittest.TestCase):\n",
    "    def setUp(self):\n",
    "        self.student=Student(4711,\"test student\",\"Informatik\")\n",
    "        \n",
    "    def testMatNr(self):\n",
    "        print('testMatNr...')\n",
    "        self.assertEqual(self.student.getMatNummer(),4711)\n",
    "        \n",
    "    def testSetStudiengang(self):\n",
    "        print('testSetStudiengang...')\n",
    "        self.student.setStudiengang(\"CS\")\n",
    "        self.assertEqual(self.student.getStudiengang(),\"CS\")\n",
    "        \n",
    "    def testStr(self):\n",
    "        print('testStr...')\n",
    "        s=str(self.student)\n",
    "        self.assertIn('Informatik',s)\n",
    "        self.assertIn(\"4711\",s)\n",
    "        self.assertIn(\"test student\",s)    "
   ]
  },
  {
   "cell_type": "markdown",
   "metadata": {},
   "source": [
    "**Hinweis:** Wie Sie obigem Output entnehmen können, werden die Testmethoden von oben nach unten aufgerufen. `testStr()` wird also **nach** `testSetStudiengang()` aufgerufen. Dennoch müssen wir überprüfen, ob das Wort Informatik und nicht CS im zurückgegebenen String ist. Denn die **Test Fixture** also `setUp()`, wir **zu Beginn jeder Test Methode erneut aufgerufen**: "
   ]
  },
  {
   "cell_type": "code",
   "execution_count": null,
   "metadata": {},
   "outputs": [],
   "source": [
    "%%unittest_main\n",
    "class TestKlasse1(unittest.TestCase):\n",
    "    def setUp(self):\n",
    "        print('setUp....................................')\n",
    "        self.student=Student(4711,\"test student\",\"Informatik\")\n",
    "        \n",
    "    def testMatNr(self):\n",
    "        print('testMatNr...')\n",
    "        self.assertEqual(self.student.getMatNummer(),4711)\n",
    "        \n",
    "    def testSetStudiengang(self):\n",
    "        print('testSetStudiengang...')\n",
    "        self.student.setStudiengang(\"CS\")\n",
    "        self.assertEqual(self.student.getStudiengang(),\"CS\")\n",
    "        \n",
    "    def testStr(self):\n",
    "        print('testStr...')\n",
    "        s=str(self.student)\n",
    "        self.assertIn('Informatik',s)\n",
    "        self.assertIn(\"4711\",s)\n",
    "        self.assertIn(\"test student\",s)    "
   ]
  },
  {
   "cell_type": "markdown",
   "metadata": {},
   "source": [
    "# 2. Testen einer  Funktion `quotient()` "
   ]
  },
  {
   "cell_type": "markdown",
   "metadata": {},
   "source": [
    "Wir schreiben eine Funktion `quotient()`, die den Quotienten zweier Parameter berechnet und zurück gibt. Basierend auf Parameterwerten löst die Funktion zwei mögliche Ausnahmen aus:  "
   ]
  },
  {
   "cell_type": "code",
   "execution_count": null,
   "metadata": {},
   "outputs": [],
   "source": [
    "def quotient(a,b):\n",
    "    try:\n",
    "        c=a/b\n",
    "        return c\n",
    "    except TypeError:\n",
    "        raise TypeError('Falscher Datentyp')\n",
    "    except ZeroDivisionError:\n",
    "        raise ZeroDivisionError('Division durch Null')"
   ]
  },
  {
   "cell_type": "markdown",
   "metadata": {},
   "source": [
    "Die deutsche Fehlerinformation finden Sie am Ende der Informationen zur Ausnahme. Sehen Sie sich das an einem Beispiel an:"
   ]
  },
  {
   "cell_type": "code",
   "execution_count": null,
   "metadata": {},
   "outputs": [],
   "source": [
    "#TypeError\n",
    "erg=quotient(1,'hallo')"
   ]
  },
  {
   "cell_type": "code",
   "execution_count": null,
   "metadata": {},
   "outputs": [],
   "source": [
    "#ZeroDivisionError\n",
    "erg=quotient(1,0)"
   ]
  },
  {
   "cell_type": "markdown",
   "metadata": {},
   "source": [
    "## 2.1  Testen von `float` Werten"
   ]
  },
  {
   "cell_type": "markdown",
   "metadata": {},
   "source": [
    "Wir können diese Funktion nun testen, indem wir die Funktion direkt aufrufen. Wir können also auf den Test Fixture, und damit die Methode `setUp()`, verzichten."
   ]
  },
  {
   "cell_type": "markdown",
   "metadata": {},
   "source": [
    "Ein erster Versuch lautet wie folgt:"
   ]
  },
  {
   "cell_type": "code",
   "execution_count": null,
   "metadata": {},
   "outputs": [],
   "source": [
    "%%unittest_main\n",
    "class TestKlasse1(unittest.TestCase):\n",
    "    def testRechnung(self):\n",
    "        self.assertEqual(quotient(4,2),2)"
   ]
  },
  {
   "cell_type": "markdown",
   "metadata": {},
   "source": [
    "Fügen wir eine weitere Rechnung ein:"
   ]
  },
  {
   "cell_type": "code",
   "execution_count": null,
   "metadata": {},
   "outputs": [],
   "source": [
    "%%unittest_main\n",
    "class TestKlasse1(unittest.TestCase):\n",
    "    def testRechnung(self):\n",
    "        self.assertEqual(quotient(4,2),2)\n",
    "        self.assertEqual(quotient(7,3),2.33333)"
   ]
  },
  {
   "cell_type": "markdown",
   "metadata": {},
   "source": [
    "Das Ergebnis des Vergleichs von  Kommazahlen hängt von der Anzahl der verwendeten Nachkommstellen ab. `7/3` kann nicht exakt dargestellt werden. Wenn nicht spezifiziert wird, wieviele Nachkommastellen eine Zahl in diesem Fall haben soll, verwenden wir die Methode `assertAlmostEqual()` für den Vergleich."
   ]
  },
  {
   "cell_type": "code",
   "execution_count": null,
   "metadata": {},
   "outputs": [],
   "source": [
    "%%unittest_main\n",
    "class TestKlasse1(unittest.TestCase):\n",
    "    def testRechnung(self):\n",
    "        self.assertEqual(quotient(4,2),2.0)\n",
    "        self.assertAlmostEqual(quotient(7,3),2.33333)"
   ]
  },
  {
   "cell_type": "markdown",
   "metadata": {},
   "source": [
    "Auch dieser Test ist falsch, weil wir zu wenig Nachkommastellen angegeben haben. Python vergleicht sieben Stellen. Entweder wir geben mehr Stellen an oder aber wir reduzieren die Anzahl betrachteter Nachkommastellen mit dem optionalen Parameter `places`: "
   ]
  },
  {
   "cell_type": "code",
   "execution_count": null,
   "metadata": {},
   "outputs": [],
   "source": [
    "%%unittest_main\n",
    "class TestKlasse1(unittest.TestCase):\n",
    "    def testRechnung(self):\n",
    "        self.assertEqual(quotient(4,2),2.0)\n",
    "        self.assertAlmostEqual(quotient(7,3),2.33333, places=5)\n",
    "        self.assertAlmostEqual(quotient(7,3),2.3333333)"
   ]
  },
  {
   "cell_type": "markdown",
   "metadata": {},
   "source": [
    "## 2.2 Testen von Ausnahmen"
   ]
  },
  {
   "cell_type": "markdown",
   "metadata": {},
   "source": [
    "Die Funktion `quotient()` hat zwei mögliche Ausnahmen. Ausnahmen werden mit Hilfe der Methode `assertRaises()` gestestet. Diese hat die folgenden Parameter:\n",
    "- die **Ausnahme**\n",
    "- der Name der **Funktion / Methode**\n",
    "- die **Positionsparamter**, durch Kommata getrennt, die beim Funktionsaufruf übergeben werden\n",
    "- die **Schlüsselwortparamter**, durch Kommata getrennt, die beim Funktionsaufruf übergeben werden"
   ]
  },
  {
   "cell_type": "markdown",
   "metadata": {},
   "source": [
    "Wir fügen nun eine neue Methode hinzu, um die `TypeError` Ausnahme zu testen:"
   ]
  },
  {
   "cell_type": "code",
   "execution_count": null,
   "metadata": {},
   "outputs": [],
   "source": [
    "%%unittest_main\n",
    "class TestKlasse1(unittest.TestCase):\n",
    "    def testRechnung(self):\n",
    "        self.assertEqual(quotient(4,2),2.0)\n",
    "        self.assertAlmostEqual(quotient(7,3),2.33333, places=5)\n",
    "        self.assertAlmostEqual(quotient(7,3),2.3333333)\n",
    "        \n",
    "    def testTypeError(self):\n",
    "        # der getestete Funktionsaufruf lautet:\n",
    "        # quotient(1,'1')\n",
    "        # Postitionsparameter\n",
    "        self.assertRaises(TypeError,quotient,1,'1')\n",
    "        # der TypeError kann ja bei beiden Paramtern auftreten\n",
    "        # der getestete Funktionsaufruf lautet:\n",
    "        # quotient(b=1,a='a')\n",
    "        # Schluesselwortparameter\n",
    "        self.assertRaises(TypeError,quotient,b=1,a='1')"
   ]
  },
  {
   "cell_type": "markdown",
   "metadata": {},
   "source": [
    "**Aufgabe** Fügen Sie eine Testmethode hinzu, um zu überprüfen, ob die `ZeroDivisionError` Ausnahme ausgelöst wird. "
   ]
  },
  {
   "cell_type": "code",
   "execution_count": null,
   "metadata": {},
   "outputs": [],
   "source": [
    "%%unittest_main\n",
    "class TestKlasse1(unittest.TestCase):\n",
    "    def testRechnung(self):\n",
    "        self.assertEqual(quotient(4,2),2.0)\n",
    "        self.assertAlmostEqual(quotient(7,3),2.33333, places=5)\n",
    "        self.assertAlmostEqual(quotient(7,3),2.3333333)\n",
    "        \n",
    "    def testTypeError(self):\n",
    "        # der getestete Funktionsaufruf lautet:\n",
    "        # quotient(1,'1')\n",
    "        # Postitionsparameter\n",
    "        self.assertRaises(TypeError,quotient,1,'1')\n",
    "        # der TypeError kann ja bei beiden Paramtern auftreten\n",
    "        # der getestete Funktionsaufruf lautet:\n",
    "        # quotient('1',1)\n",
    "        # Schluesselwortparameter\n",
    "        self.assertRaises(TypeError,quotient,b=1,a='1')\n",
    "        \n",
    "    # Ihr Code"
   ]
  },
  {
   "cell_type": "markdown",
   "metadata": {},
   "source": [
    "*Ende des Notebooks*"
   ]
  },
  {
   "cell_type": "markdown",
   "metadata": {
    "deletable": false,
    "editable": false
   },
   "source": [
    "<a rel=\"license\" href=\"http://creativecommons.org/licenses/by-nc-nd/4.0/\"><img alt=\"Creative Commons Lizenzvertrag\" style=\"border-width:0\" src=\"https://i.creativecommons.org/l/by-nc-nd/4.0/88x31.png\" /></a><br /><span xmlns:dct=\"http://purl.org/dc/terms/\" property=\"dct:title\">Dieses Notebook wurde von Christina B. Class für die Lehre an der EAH Jena erstellt. Es ist lizenziert unter einer <a rel=\"license\" href=\"http://creativecommons.org/licenses/by-nc-nd/4.0/\">Creative Commons Namensnennung - Nicht kommerziell - Keine Bearbeitungen 4.0 International Lizenz</a>."
   ]
  }
 ],
 "metadata": {
  "kernelspec": {
   "display_name": "Python 3 (ipykernel)",
   "language": "python",
   "name": "python3"
  },
  "language_info": {
   "codemirror_mode": {
    "name": "ipython",
    "version": 3
   },
   "file_extension": ".py",
   "mimetype": "text/x-python",
   "name": "python",
   "nbconvert_exporter": "python",
   "pygments_lexer": "ipython3",
   "version": "3.10.13"
  }
 },
 "nbformat": 4,
 "nbformat_minor": 4
}
