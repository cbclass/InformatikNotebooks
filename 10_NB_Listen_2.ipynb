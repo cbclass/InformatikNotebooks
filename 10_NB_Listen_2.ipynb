{
 "cells": [
  {
   "cell_type": "markdown",
   "metadata": {},
   "source": [
    "Notebook zu Listen: Teil 2\n",
    "\n",
    "Version 1.2, 13. Mai 2022, Informatik, EAH Jena\n",
    "\n",
    "(c) Christina B. Class"
   ]
  },
  {
   "cell_type": "markdown",
   "metadata": {},
   "source": [
    "# Listen (2)"
   ]
  },
  {
   "cell_type": "markdown",
   "metadata": {},
   "source": [
    "Listen sind ein veränderlicher sequentieller Datentyp. Daher können Elemente ersetzt und gelöscht, sowie die Liste erweitert werden. "
   ]
  },
  {
   "cell_type": "markdown",
   "metadata": {},
   "source": [
    "## 1. Ersetzen von Werten"
   ]
  },
  {
   "cell_type": "markdown",
   "metadata": {},
   "source": [
    "Das Ersetzen von Werten in Listen erfolgt durch Zugriff mittels des `[]` Operators und einer Zuweisung (`=`)."
   ]
  },
  {
   "cell_type": "markdown",
   "metadata": {},
   "source": [
    "Im einfachsten Fall wird genau ein Wert ersetzt."
   ]
  },
  {
   "cell_type": "code",
   "execution_count": null,
   "metadata": {},
   "outputs": [],
   "source": [
    "dieListe=list(range(1,6))\n",
    "print(dieListe)\n",
    "dieListe[1]=99\n",
    "print(dieListe)"
   ]
  },
  {
   "cell_type": "markdown",
   "metadata": {},
   "source": [
    "Man kann mit **Slicing** auch auf *mehrere* Werte zugreifen, die ersetzt werden sollen. Hierbei müssen die Werte, die alte Listenwerte ersetzen, in Form eines *Iterable*  angegeben werden."
   ]
  },
  {
   "cell_type": "code",
   "execution_count": null,
   "metadata": {},
   "outputs": [],
   "source": [
    "dieListe=list(range(1,6))\n",
    "print(dieListe)\n",
    "dieListe[1:3]=[99,111]\n",
    "print(dieListe)"
   ]
  },
  {
   "cell_type": "markdown",
   "metadata": {},
   "source": [
    "Enthält das Iterable weniger oder mehr Werte als Werte zu ersetzen sind, wird die Liste entsprechend kleiner oder größer:"
   ]
  },
  {
   "cell_type": "code",
   "execution_count": null,
   "metadata": {},
   "outputs": [],
   "source": [
    "dieListe=list(range(1,6))\n",
    "print(dieListe)\n",
    "dieListe[1:3]=[99,111,-1,-3,-4]\n",
    "print('die groessere Liste')\n",
    "print(dieListe)"
   ]
  },
  {
   "cell_type": "code",
   "execution_count": null,
   "metadata": {},
   "outputs": [],
   "source": [
    "dieListe=list(range(1,11))\n",
    "print(dieListe)\n",
    "dieListe[1:7]=[99,111]\n",
    "print('die kleinere Liste')\n",
    "print(dieListe)"
   ]
  },
  {
   "cell_type": "markdown",
   "metadata": {},
   "source": [
    "Wichtig ist einzig, dass die Werte in Form eines Iterable angeben werden. Eine Zeichenkette ist ein sequentieller Datentyp und somit auch ein Iterable:"
   ]
  },
  {
   "cell_type": "code",
   "execution_count": null,
   "metadata": {},
   "outputs": [],
   "source": [
    "dieListe=[1,2,3]\n",
    "dieListe[1:2]='hallo'\n",
    "print(dieListe)"
   ]
  },
  {
   "cell_type": "markdown",
   "metadata": {},
   "source": [
    "Auch für die Ersetzung kann eine Schrittweite angegeben werden"
   ]
  },
  {
   "cell_type": "code",
   "execution_count": null,
   "metadata": {},
   "outputs": [],
   "source": [
    "dieListe=list(range(1,11))\n",
    "dieListe[1:10:2]=[99,99,99,99,99]\n",
    "print(dieListe)"
   ]
  },
  {
   "cell_type": "markdown",
   "metadata": {},
   "source": [
    "Hierbei **muss** die Anzahl neuen Elemente zwingend **genauso groß** sein wie die Anzahl der zu ersetzenden Elemente, sonst bekommen Sie die `ValueError` Ausnahme, wie z.B. hier:"
   ]
  },
  {
   "cell_type": "code",
   "execution_count": null,
   "metadata": {},
   "outputs": [],
   "source": [
    "dieListe=list(range(1,11))\n",
    "dieListe[1:10:2]=[99,99,99,99]\n",
    "print(dieListe)"
   ]
  },
  {
   "cell_type": "markdown",
   "metadata": {},
   "source": [
    "## 2. Löschen von Werten"
   ]
  },
  {
   "cell_type": "markdown",
   "metadata": {},
   "source": [
    "Mit `del` können Sie Werte an angegebenen Indices löschen. Sie können einen einzelnen Index direkt angeben oder mehrere Indices mit Hilfe von Slicing.\n",
    "\n",
    "Bitte beachten Sie, `del` ist ein Operator. Sie können ihn mit oder ohne Klammern aufrufen."
   ]
  },
  {
   "cell_type": "code",
   "execution_count": null,
   "metadata": {},
   "outputs": [],
   "source": [
    "dieListe1=[1,2,3,4,5]\n",
    "print(dieListe1)\n",
    "del dieListe1[2]\n",
    "print(\"nach Löschen:\", dieListe1)\n",
    "\n",
    "dieListe2=[11,12,13,14,15]\n",
    "print(dieListe2)\n",
    "del(dieListe2[2])\n",
    "print(\"nach Löschen:\",dieListe2)"
   ]
  },
  {
   "cell_type": "code",
   "execution_count": null,
   "metadata": {},
   "outputs": [],
   "source": [
    "dieListe=list(range(1,11))\n",
    "print(dieListe)\n",
    "del dieListe[1:10:2]\n",
    "print(\"nach Löschen:\", dieListe)"
   ]
  },
  {
   "cell_type": "markdown",
   "metadata": {},
   "source": [
    "Sie können Werte auch mit Hilfe der Methode `pop()` löschen. Der Index des zu löschenden Elements wird als Parameter angegeben. Wird kein Parameter angegeben, wird das letzte Element gelöscht. "
   ]
  },
  {
   "cell_type": "code",
   "execution_count": null,
   "metadata": {},
   "outputs": [],
   "source": [
    "dieListe=list(range(1,11))\n",
    "# loesche Wert an Index 3 (d.h. die 4)\n",
    "dieListe.pop(3)\n",
    "print(dieListe)\n",
    "# loesche den letzten Wert (d.h. die 10)\n",
    "dieListe.pop()\n",
    "print(dieListe)"
   ]
  },
  {
   "cell_type": "markdown",
   "metadata": {},
   "source": [
    "Mit der Methode `remove()` löschen Sie einen bestimmten Wert aus der Liste. Kommt dieser Wert mehrfach vor, wird das erste Vorkommen gelöscht. Ist der Wert nicht in der Liste, wird die Ausnahme `ValueError` erzeugt."
   ]
  },
  {
   "cell_type": "code",
   "execution_count": null,
   "metadata": {},
   "outputs": [],
   "source": [
    "liste=list('Zeichenkette')\n",
    "print(liste)\n",
    "liste.remove('e')\n",
    "print(liste)"
   ]
  },
  {
   "cell_type": "markdown",
   "metadata": {},
   "source": [
    "Um alle Elemente mit einem bestimmten Wert zu löschen, hat man verschiedene Möglichkeiten."
   ]
  },
  {
   "cell_type": "markdown",
   "metadata": {},
   "source": [
    "**Variante 1**: Zählen der vorkommenden Werte mit `count()` und `for` Schleife"
   ]
  },
  {
   "cell_type": "code",
   "execution_count": null,
   "metadata": {},
   "outputs": [],
   "source": [
    "liste=list('Zeichenkette')\n",
    "print(liste)\n",
    "anz=liste.count('e')\n",
    "for i in range(anz):\n",
    "    liste.remove('e')\n",
    "print(liste)"
   ]
  },
  {
   "cell_type": "markdown",
   "metadata": {},
   "source": [
    "**Variante 2**: Verwendung von `in` und `while` Schleife "
   ]
  },
  {
   "cell_type": "code",
   "execution_count": null,
   "metadata": {},
   "outputs": [],
   "source": [
    "liste=list('Zeichenkette')\n",
    "print(liste)\n",
    "while 'e' in liste:\n",
    "    liste.remove('e')\n",
    "print(liste)"
   ]
  },
  {
   "cell_type": "markdown",
   "metadata": {},
   "source": [
    "**Variante 3:** Abfangen der Ausnahme und Verwendung der `while` Schleife (Ausnahmen werden wir später diskutieren)"
   ]
  },
  {
   "cell_type": "code",
   "execution_count": null,
   "metadata": {},
   "outputs": [],
   "source": [
    "liste=list('Zeichenkette')\n",
    "print(liste)\n",
    "try: \n",
    "    while True:\n",
    "        liste.remove('e')\n",
    "except ValueError:\n",
    "    pass\n",
    "print(liste)"
   ]
  },
  {
   "cell_type": "markdown",
   "metadata": {},
   "source": [
    "Für den `except` Block müssen ein oder mehrere Anweisungen spezifiziert werden. `pass` ist eine \"leere\" Anweisung, also eine Anweisung, bei der nichts passiert."
   ]
  },
  {
   "cell_type": "markdown",
   "metadata": {},
   "source": [
    "## 3. Einfügen neuer Elemente"
   ]
  },
  {
   "cell_type": "markdown",
   "metadata": {},
   "source": [
    "Eine Liste kann auch erweitert werden, indem neue Elemente eingefügt werden."
   ]
  },
  {
   "cell_type": "markdown",
   "metadata": {},
   "source": [
    "Mit der Methode `insert()` kann ein Element an einem spezifischen Index `ind` eingefügt werden. Die Liste wird dann länger und alle Elemente beginnend mit dem Index `ind` werden um eins nach rechts verschoben.  "
   ]
  },
  {
   "cell_type": "code",
   "execution_count": null,
   "metadata": {},
   "outputs": [],
   "source": [
    "dieListe=[1,2,3,4]\n",
    "print(dieListe)\n",
    "dieListe.insert(1,0)\n",
    "print(dieListe)"
   ]
  },
  {
   "cell_type": "markdown",
   "metadata": {},
   "source": [
    "Mit der Methode `append()` können Sie ein Element an die Liste anhängen:"
   ]
  },
  {
   "cell_type": "code",
   "execution_count": null,
   "metadata": {},
   "outputs": [],
   "source": [
    "dieListe=[1,2,3,4]\n",
    "print(dieListe)\n",
    "dieListe.append(5)\n",
    "print(dieListe)"
   ]
  },
  {
   "cell_type": "markdown",
   "metadata": {},
   "source": [
    "Wird ein Iterable, zum Beispiel eine Liste übergeben, wird dieses als **ein** Listenelement angehängt:"
   ]
  },
  {
   "cell_type": "code",
   "execution_count": null,
   "metadata": {},
   "outputs": [],
   "source": [
    "dieListe=[1,2,3,4]\n",
    "print(dieListe)\n",
    "dieListe.append([5,6])\n",
    "print(dieListe)\n",
    "print(len(dieListe))\n",
    "print(dieListe[4])"
   ]
  },
  {
   "cell_type": "markdown",
   "metadata": {},
   "source": [
    "Mit `extend()` erweitern Sie die Liste. `extend()` erhält als Parameter ein Iterable. Die Elemente des Iterable werden einzeln an die Liste angehängt."
   ]
  },
  {
   "cell_type": "code",
   "execution_count": null,
   "metadata": {},
   "outputs": [],
   "source": [
    "dieListe1=[1,2,3,4]\n",
    "dieListe1.extend([5,6])\n",
    "print(dieListe1)"
   ]
  },
  {
   "cell_type": "markdown",
   "metadata": {},
   "source": [
    "Zur Erinnerung: Zeichenketten sind Iterable:"
   ]
  },
  {
   "cell_type": "code",
   "execution_count": null,
   "metadata": {},
   "outputs": [],
   "source": [
    "dieListe1=[1,2]\n",
    "dieListe2=[1,2]\n",
    "dieListe1.append('Hallo')\n",
    "dieListe2.extend('Hallo')\n",
    "print(\"dieListe1.append('hallo')\")\n",
    "print('dieListe1:', dieListe1)\n",
    "print('len(dieListe1):',len(dieListe1))\n",
    "print(\"\\ndieListe2.extend('hallo')\")\n",
    "print('dieListe2:', dieListe2)\n",
    "print('len(dieListe2):',len(dieListe2))"
   ]
  },
  {
   "cell_type": "markdown",
   "metadata": {},
   "source": [
    "**Hinweis:** \n",
    "Für die Methoden `reverse()` und `sort()` einschl. des Parameters `reverse` sehen Sie bitte die Beispiele der Vorlesungsfolien an."
   ]
  },
  {
   "cell_type": "markdown",
   "metadata": {},
   "source": [
    "*Ende des Notebooks*"
   ]
  },
  {
   "cell_type": "markdown",
   "metadata": {
    "deletable": false,
    "editable": false
   },
   "source": [
    "<a rel=\"license\" href=\"http://creativecommons.org/licenses/by-nc-nd/4.0/\"><img alt=\"Creative Commons Lizenzvertrag\" style=\"border-width:0\" src=\"https://i.creativecommons.org/l/by-nc-nd/4.0/88x31.png\" /></a><br /><span xmlns:dct=\"http://purl.org/dc/terms/\" property=\"dct:title\">Dieses Notebook wurde von Christina B. Class für die Lehre an der EAH Jena erstellt. Es ist lizenziert unter einer <a rel=\"license\" href=\"http://creativecommons.org/licenses/by-nc-nd/4.0/\">Creative Commons Namensnennung - Nicht kommerziell - Keine Bearbeitungen 4.0 International Lizenz</a>.\n"
   ]
  }
 ],
 "metadata": {
  "kernelspec": {
   "display_name": "Python 3 (ipykernel)",
   "language": "python",
   "name": "python3"
  },
  "language_info": {
   "codemirror_mode": {
    "name": "ipython",
    "version": 3
   },
   "file_extension": ".py",
   "mimetype": "text/x-python",
   "name": "python",
   "nbconvert_exporter": "python",
   "pygments_lexer": "ipython3",
   "version": "3.10.13"
  }
 },
 "nbformat": 4,
 "nbformat_minor": 4
}
