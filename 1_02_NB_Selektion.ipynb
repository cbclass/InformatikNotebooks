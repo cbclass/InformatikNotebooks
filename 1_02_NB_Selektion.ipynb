{
 "cells": [
  {
   "cell_type": "markdown",
   "metadata": {},
   "source": [
    "Notebook zu Programmieren in Python: Selektion \n",
    "\n",
    "Version 1.2b, 9. April 2025, Informatik, EAH Jena\n",
    "\n",
    "(c) Christina B. Class\n"
   ]
  },
  {
   "cell_type": "markdown",
   "metadata": {},
   "source": [
    "**Hinweis:** In diesem Notebook müssen Sie immer wieder Werte eingeben. Vergessen Sie nicht, die Eingabe durch Drücken der Enter Taste abzuschliessen. \n",
    "Erscheint in einer Zelle kein Eingabefeld, sondern statt einer Zahl ein `*` in der eckigen Klammer hinter `In[]` liegt das meist daran, dass Sie in einer vorher ausgeführten Zelle die Eingabe nicht abgeschlossen haben. Dies erkennen Sie daran, dass das Eingabefeld noch sichtbar ist.\n",
    "Sollten Sie hier irgendwie Probleme bekommen, starten Sie den Kernel neu (Kernel -> Restart). Unter Umständen müssen Sie dann vorherige Zellen erneut ausführen."
   ]
  },
  {
   "cell_type": "markdown",
   "metadata": {},
   "source": [
    "# Selektion in Python"
   ]
  },
  {
   "cell_type": "markdown",
   "metadata": {},
   "source": [
    "## 1. Nachtrag zu `input()`"
   ]
  },
  {
   "cell_type": "markdown",
   "metadata": {},
   "source": [
    "Eine ganze Zahl lesen Sie in Python wie folgt ein und speichern sie als ganze Zahl ab:"
   ]
  },
  {
   "cell_type": "code",
   "execution_count": null,
   "metadata": {},
   "outputs": [],
   "source": [
    "zahl=int(input())\n",
    "print('zahl=',zahl)"
   ]
  },
  {
   "cell_type": "markdown",
   "metadata": {},
   "source": [
    "Sie können dann auf die eingelesene Zahl über die Variable `zahl` zugreifen."
   ]
  },
  {
   "cell_type": "markdown",
   "metadata": {},
   "source": [
    "In einem Programm ist es immer sinnvoll, den Benutzer darüber zu informieren, dass er etwas eingeben soll, und was er eingeben soll."
   ]
  },
  {
   "cell_type": "code",
   "execution_count": 1,
   "metadata": {},
   "outputs": [
    {
     "name": "stdout",
     "output_type": "stream",
     "text": [
      "Bitte geben Sie eine Zahl ein.\n",
      "7\n",
      "zahl= 7\n"
     ]
    }
   ],
   "source": [
    "print('Bitte geben Sie eine Zahl ein.')\n",
    "zahl=int(input())\n",
    "print('zahl=',zahl)"
   ]
  },
  {
   "cell_type": "markdown",
   "metadata": {},
   "source": [
    "In manchen Versionen der Notebooks wird die Eingabezeile jeweils oberhalb des `print()` dargestellt. Dies ist verwirrend. Daher werden für die Notebooks die Informationen betreffend der Eingabe in die `input()` Anweisung selber hineingeschrieben, auch wenn Sie dies nicht aktiv verwenden müssen. "
   ]
  },
  {
   "cell_type": "code",
   "execution_count": null,
   "metadata": {},
   "outputs": [],
   "source": [
    "zahl=int(input('Bitte geben Sie eine Zahl ein. '))\n",
    "print('zahl=',zahl)"
   ]
  },
  {
   "cell_type": "markdown",
   "metadata": {},
   "source": [
    "## 2. Selektion mit `if`"
   ]
  },
  {
   "cell_type": "markdown",
   "metadata": {},
   "source": [
    "Der einfachste Fall der Selektion liegt vor, wenn eine oder mehrere Anweisungen ausgeführt werden, falls eine Bedingung erfüllt ist. Für den Fall, dass die Bedingung nicht erfüllt ist, wird keine spezifische Anweisung ausgeführt:"
   ]
  },
  {
   "cell_type": "code",
   "execution_count": null,
   "metadata": {},
   "outputs": [],
   "source": [
    "zahl=int(input('zahl: '))\n",
    "if zahl!=0:\n",
    "    print('Der Kehrwert ist',1/zahl)\n",
    "print('Ende des Codes')"
   ]
  },
  {
   "cell_type": "markdown",
   "metadata": {},
   "source": [
    "**Aufgabe**: Testen Sie obigen Code für die Eingaben -3, 0 und 3."
   ]
  },
  {
   "cell_type": "markdown",
   "metadata": {},
   "source": [
    "**Aufgabe**: Betrachten Sie folgenden Code:\n",
    "- Stellen Sie eine Vermutung an, was dieser Code beschreibt, und notieren Sie diese.\n",
    "- Testen Sie den Code für die gleichen Eingaben wie oben.\n",
    "- Was ist der Unterschied? Was können Sie daraus schließen?"
   ]
  },
  {
   "cell_type": "code",
   "execution_count": null,
   "metadata": {},
   "outputs": [],
   "source": [
    "zahl=int(input('zahl: '))\n",
    "if zahl!=0:\n",
    "    print('Der Kehrwert ist',1/zahl)\n",
    "    print('Ende des Codes')"
   ]
  },
  {
   "cell_type": "markdown",
   "metadata": {},
   "source": [
    "**Aufgabe:** Schreiben Sie Python Code, der zwei ganze Zahlen `zahl1` und `zahl2` einliest. Wenn die erste Zahl größer ist, soll `groesser`ausgegeben werden.\n",
    "Am Ende des Codes wird `Auf Wiedersehen` ausgegeben.\n",
    "Testen Sie Ihren Code mit verschiedenen Eingaben."
   ]
  },
  {
   "cell_type": "code",
   "execution_count": null,
   "metadata": {},
   "outputs": [],
   "source": [
    "# Ihre Loesung"
   ]
  },
  {
   "cell_type": "markdown",
   "metadata": {},
   "source": [
    "## 3. Hinweis und hilfreicher Tipp"
   ]
  },
  {
   "cell_type": "markdown",
   "metadata": {},
   "source": [
    "Bitte **beachten** Sie: \n",
    "\n",
    "In der Bedingung verwenden wir Vergleichsoperatoren. Um zwei Zahlen zu vergleichen lautet der Operator: `==`."
   ]
  },
  {
   "cell_type": "code",
   "execution_count": null,
   "metadata": {},
   "outputs": [],
   "source": [
    "zahl=int(input('zahl: '))\n",
    "if zahl==0:\n",
    "    print(\"Die eingegebene Zahl ist 0.\")\n",
    "print('Ende des Code Segments')"
   ]
  },
  {
   "cell_type": "markdown",
   "metadata": {},
   "source": [
    "Es ist gerade zu Beginn ein häufiger Fehler, `=` zu schreiben statt `==`.\n",
    "Bitte probieren Sie das folgende (fehlerhafte) Codesegment aus und notieren Sie sich die Fehlermeldung."
   ]
  },
  {
   "cell_type": "code",
   "execution_count": null,
   "metadata": {},
   "outputs": [],
   "source": [
    "zahl=int(input('zahl: '))\n",
    "if zahl=0:\n",
    "    print(\"Die eingegebene Zahl ist 0.\")\n",
    "print('Ende des Code Segments')"
   ]
  },
  {
   "cell_type": "markdown",
   "metadata": {},
   "source": [
    "Ich würde Ihnen den **Tipp** geben, ein Merkblatt mit Fehlermeldungen zu beginnen, auf der Sie dann auch regelmäßige Fehler notieren. Eine solche Liste kann als Erinnerung nützlich sein, um Fehler zu beheben. "
   ]
  },
  {
   "cell_type": "markdown",
   "metadata": {},
   "source": [
    "## 4. `if` und `else`"
   ]
  },
  {
   "cell_type": "markdown",
   "metadata": {},
   "source": [
    "Sehr häufig wird in einer Selektion auch spezifiziert, welche Anweisung(en) ausführt werden soll(en), falls die Bedingung nicht erfüllt ist. Dies wird in `else` spezifiziert."
   ]
  },
  {
   "cell_type": "code",
   "execution_count": null,
   "metadata": {},
   "outputs": [],
   "source": [
    "zahl=int(input('zahl: '))\n",
    "if zahl!=0:\n",
    "    print('Der Kehrwert ist',1/zahl)\n",
    "else:\n",
    "    print('Es kann kein Kehrwert gebildet werden.')\n",
    "print('Ende des Codes')"
   ]
  },
  {
   "cell_type": "markdown",
   "metadata": {},
   "source": [
    "**Aufgabe**: Testen Sie obigen Code wieder mit verschiedenen Werten aus."
   ]
  },
  {
   "cell_type": "markdown",
   "metadata": {},
   "source": [
    "**Hinweis**: Bitte beachten Sie die Einrückungen. `else` muss auf derselben Einrückungstiefe stehen wie `if`. \n",
    "Testen Sie folgenden Code und notieren Sie sich die Fehlermeldung."
   ]
  },
  {
   "cell_type": "code",
   "execution_count": null,
   "metadata": {},
   "outputs": [],
   "source": [
    "zahl=int(input('zahl: '))\n",
    "if zahl!=0:\n",
    "    print('Der Kehrwert ist',1/zahl)\n",
    " else:\n",
    "    print('Es kann kein Kehrwert gebildet werden.')\n",
    "print('Ende des Codes')"
   ]
  },
  {
   "cell_type": "markdown",
   "metadata": {},
   "source": [
    "Da `else` alle anderen Fälle abdeckt (es bedeutet sowas wie \"andernfalls\"), kann es nur ein `else` geben. Sehen Sie sich die Fehlermeldung in folgendem Beispiel an:"
   ]
  },
  {
   "cell_type": "code",
   "execution_count": null,
   "metadata": {},
   "outputs": [],
   "source": [
    "zahl=int(input('zahl: '))\n",
    "if zahl!=0:\n",
    "    print('Der Kehrwert ist',1/zahl)\n",
    "else:\n",
    "    print('Es kann kein Kehrwert gebildet werden.')\n",
    "else:\n",
    "    print(\"Und noch ein anderes else\")\n",
    "print('Ende des Codes')"
   ]
  },
  {
   "cell_type": "markdown",
   "metadata": {},
   "source": [
    "**Aufgabe:** Schreiben Sie Python Code, der zwei ganze Zahlen `zahl1` und `zahl2` einliest. Wenn die erste Zahl größer ist, soll `groesser`, andernfalls `nicht groesser` ausgegeben werden.\n",
    "Am Ende des Codes wird `Auf Wiedersehen` ausgegeben.\n",
    "Testen Sie Ihren Code mit verschiedenen Eingaben.\n",
    "**Hinweis:** In dieser Aufgabe benötigen Sie den Operator `>` für größer. "
   ]
  },
  {
   "cell_type": "code",
   "execution_count": null,
   "metadata": {},
   "outputs": [],
   "source": [
    "# Ihre Loesung"
   ]
  },
  {
   "cell_type": "markdown",
   "metadata": {},
   "source": [
    "## 5. Bedingung mit `>`"
   ]
  },
  {
   "cell_type": "markdown",
   "metadata": {},
   "source": [
    "Das folgende Programm testet, ob eine eingegebene Zahl `>0` ist:"
   ]
  },
  {
   "cell_type": "code",
   "execution_count": null,
   "metadata": {},
   "outputs": [],
   "source": [
    "zahl=int(input('zahl: '))\n",
    "if zahl>0:\n",
    "    print('zahl ist größer 0')\n",
    "else:\n",
    "    print('zahl ist nicht größer 0')   \n",
    "    "
   ]
  },
  {
   "cell_type": "markdown",
   "metadata": {},
   "source": [
    "**Aufgabe:** Testen Sie obigen Code für -1, 0 und 1."
   ]
  },
  {
   "cell_type": "markdown",
   "metadata": {},
   "source": [
    "Gegeben ist nun folgende \"Variante\" des obigen Programms."
   ]
  },
  {
   "cell_type": "code",
   "execution_count": null,
   "metadata": {},
   "outputs": [],
   "source": [
    "zahl=int(input('zahl: '))\n",
    "if zahl<0:\n",
    "    print('zahl ist nicht größer 0')\n",
    "else:\n",
    "    print('zahl ist größer 0')  "
   ]
  },
  {
   "cell_type": "markdown",
   "metadata": {},
   "source": [
    "**Aufgabe:** Sehen Sie sich obige Variante an und schreiben Sie auf einem Papier auf, was die Ausgabe sein wird für die Eingabe -1, 0, 1. Überpüfen Sie Ihre Vermutung, indem Sie obigen Code testen."
   ]
  },
  {
   "cell_type": "markdown",
   "metadata": {},
   "source": [
    "**Aufgabe:** Ergänzen Sie folgende Tabelle. \n",
    "\n",
    "| Bedingung im `if` | dann gilt im `else`|\n",
    "|-------------------|--------------------|\n",
    "|    `zahl > 0`     |                    |\n",
    "|    `zahl == 0`    |                    |\n",
    "|    `zahl < 0`     |                    |"
   ]
  },
  {
   "cell_type": "markdown",
   "metadata": {},
   "source": [
    "## 6. `elif`"
   ]
  },
  {
   "cell_type": "markdown",
   "metadata": {},
   "source": [
    "Mit `elif` kann man weitere Fälle, also weitere Bedingungen, testen. Eine Selektion kann kein, ein oder mehrere `elif` haben. Neben den `elif` kann es kein oder ein `else` geben."
   ]
  },
  {
   "cell_type": "markdown",
   "metadata": {},
   "source": [
    "Im folgenden Beispiel wird überprüft, ob eine Zahl größer, kleiner oder gleich Null ist. Testen Sie den Code mit verschiedenen Werten."
   ]
  },
  {
   "cell_type": "code",
   "execution_count": null,
   "metadata": {},
   "outputs": [],
   "source": [
    "zahl=int(input('zahl: '))\n",
    "if zahl<0:\n",
    "    print(zahl,'ist kleiner 0')\n",
    "elif zahl==0:  # elif 1\n",
    "    print(zahl,'hat den Wert 0')\n",
    "elif zahl>0:   # elif 2\n",
    "    print(zahl,'ist groesser 0')"
   ]
  },
  {
   "cell_type": "markdown",
   "metadata": {},
   "source": [
    "In obigem Code können wir Folgendes feststellen:\n",
    "\n",
    "Eine Zahl ist *entweder* kleiner, gleich oder größer 0. Eine andere Möglichkeit kann es nicht geben. Wir wissen: wenn die Bedingung des `if` (ob die Zahl < 0 ist) nicht erfüllt ist, dann, und nur dann, wird die Bedinung von `elif 1` überprüft (ob die Zahl 0 ist). Wenn diese Bedingung nicht erfüllt ist, dann und nur dann, wird die Bedingung in `elif 2`  (ob die Zahl > 0 ist) überpüft. Diese Bedingung ist aber in jedem Fall erfüllt, da die Bedingung des `if` (< 0) und des `elif 1`  (gleich 0) nicht erfüllt sind und es ja keine andere Möglichkeit geben kann. Daher können wir obigen Code auch schreiben als:"
   ]
  },
  {
   "cell_type": "code",
   "execution_count": null,
   "metadata": {},
   "outputs": [],
   "source": [
    "zahl=int(input('zahl: '))\n",
    "if zahl<0:\n",
    "    print(zahl,'ist kleiner 0')\n",
    "elif zahl==0:  # elif 1\n",
    "    print(zahl,'hat den Wert 0')\n",
    "else:\n",
    "    print(zahl,'ist groesser 0')"
   ]
  },
  {
   "cell_type": "markdown",
   "metadata": {},
   "source": [
    "Bitte beachten Sie, dass `else:` nach allen `elif...:` kommen muss."
   ]
  },
  {
   "cell_type": "markdown",
   "metadata": {},
   "source": [
    "**Aufgabe:** Testen Sie folgenden Code und notieren Sie die Fehlermeldung."
   ]
  },
  {
   "cell_type": "code",
   "execution_count": null,
   "metadata": {},
   "outputs": [],
   "source": [
    "zahl=int(input('zahl: '))\n",
    "if zahl<0:\n",
    "    print(zahl,'ist kleiner 0')\n",
    "else:\n",
    "    print(zahl,'ist groesser 0')\n",
    "elif zahl==0:  # elif 1\n",
    "    print(zahl,'hat den Wert 0')\n"
   ]
  },
  {
   "cell_type": "markdown",
   "metadata": {},
   "source": [
    "Sie können so viele `elif` verwenden, wie Sie benötigen. Achten Sie hier bitte auf die Reihenfolge, in der sie ausgewertet werden. "
   ]
  },
  {
   "cell_type": "code",
   "execution_count": 1,
   "metadata": {},
   "outputs": [
    {
     "name": "stdout",
     "output_type": "stream",
     "text": [
      "zahl: 10\n",
      "10 ist <20\n"
     ]
    }
   ],
   "source": [
    "zahl=int(input('zahl: '))\n",
    "if zahl<0:\n",
    "    print(zahl , 'ist <0')\n",
    "elif zahl==0: \n",
    "    print(zahl , 'ist 0')\n",
    "elif zahl==2: \n",
    "    print(zahl , 'ist 2')\n",
    "elif zahl==4: \n",
    "    print(zahl , 'ist 4')\n",
    "elif zahl<20: \n",
    "    print(zahl , 'ist <20')\n",
    "else:\n",
    "    print(zahl, \"ist >=20\")"
   ]
  },
  {
   "cell_type": "markdown",
   "metadata": {},
   "source": [
    "**Aufgabe**: Testen Sie obigen Code mit den Werten -1,0,2,4,10,20."
   ]
  },
  {
   "cell_type": "markdown",
   "metadata": {},
   "source": [
    "**Aufgabe**: Gegeben ist folgender, etwas veränderter Code. Was wird die Ausgabe sein, wenn Sie auch hier die Werte -1,0,2,4,10,20 eingeben? \n",
    "1. Stellen Sie eine Vermutung auf und halten Sie diese schriftlich fest.\n",
    "2. Überprüfen Sie die Vermutung, in dem Sie den Code mit den angegebenen Eingaben laufen lassen. "
   ]
  },
  {
   "cell_type": "code",
   "execution_count": null,
   "metadata": {},
   "outputs": [],
   "source": [
    "zahl=int(input('zahl: '))\n",
    "if zahl<0:\n",
    "    print(zahl , 'ist <0')\n",
    "elif zahl==0: \n",
    "    print(zahl , 'ist 0')\n",
    "elif zahl<20: \n",
    "    print(zahl , 'ist <20')\n",
    "elif zahl==2: \n",
    "    print(zahl , 'ist 2')\n",
    "elif zahl==4: \n",
    "    print(zahl , 'ist 4')\n",
    "else:\n",
    "    print(zahl, \"ist >=20\")"
   ]
  },
  {
   "cell_type": "markdown",
   "metadata": {},
   "source": [
    "**Aufgabe:** Schreiben Sie Python Code, der zwei ganze Zahlen `zahl1` und `zahl2` einliest. Geben Sie aus, ob die erste Zahl größer, gleich groß oder kleiner ist.\n",
    "Am Ende des Codes wird `Auf Wiedersehen` ausgegeben.\n",
    "Testen Sie Ihren Code mit verschiedenen Eingaben."
   ]
  },
  {
   "cell_type": "code",
   "execution_count": null,
   "metadata": {},
   "outputs": [],
   "source": [
    "# Ihre Loesung"
   ]
  },
  {
   "cell_type": "markdown",
   "metadata": {},
   "source": [
    "## 7. Verschachtelte `if` Anweisungen"
   ]
  },
  {
   "cell_type": "markdown",
   "metadata": {},
   "source": [
    "In obigen Beispielen haben wir in `if`, `elif` und `else` immer nur eine einzelne `print()` Anweisung verwendet. Selbstverständich können dort mehrere Anweisungen stehen. Es können auch Selektionen stehen. Ein `if` in einem `if` nennt man ein \"verschachteltes `if`\". Hier muss man beim Algorithmenentwurf sorgfältig darauf achten, welche Bedingungen gelten. "
   ]
  },
  {
   "cell_type": "code",
   "execution_count": null,
   "metadata": {},
   "outputs": [],
   "source": [
    "zahl1=int(input('zahl1: '))\n",
    "zahl2=int(input('zahl2: '))\n",
    "if zahl1>0:\n",
    "    print('zahl1 >0')\n",
    "    if zahl2==0:\n",
    "        print('zahl1 >0 und zahl2 ==0')\n",
    "    else:\n",
    "        print('zahl1 >0 und zahl2 !=0')\n",
    "else:\n",
    "    print('zahl1 <=0')\n",
    "    if zahl2==1:\n",
    "        print('zahl1 <=0 und zahl2 ==1')\n",
    "    elif zahl2==2:\n",
    "        print('zahl1 <=0 und zahl2 ==2')\n",
    "    else:\n",
    "        print('zahl1 <=0 und zahl2 ist weder 1 noch 2')"
   ]
  },
  {
   "cell_type": "markdown",
   "metadata": {},
   "source": [
    "Bitte beachten Sie, dass die Einrückungstiefe des `else` entscheidet, zu welchem `if` es gehört. \n",
    "\n",
    "**Aufgabe**: Vergleichen Sie hierzu die beiden folgenden Codesegmente mit verschiedenen Eingaben."
   ]
  },
  {
   "cell_type": "code",
   "execution_count": null,
   "metadata": {},
   "outputs": [],
   "source": [
    "# Codesegment 1, das else gehört zum inneren if\n",
    "zahl1=int(input('zahl1: '))\n",
    "zahl2=int(input('zahl2: '))\n",
    "if zahl1>0:\n",
    "    if zahl2>0:\n",
    "        print('zahl1 und zahl2 > 0')\n",
    "    else:\n",
    "        print('zahl1 > 0 und zahl2 <= 0')\n",
    "print(\"Ende des Codesegments\")"
   ]
  },
  {
   "cell_type": "code",
   "execution_count": null,
   "metadata": {},
   "outputs": [],
   "source": [
    "# Codesegment 2, das else gehört zum aeusseren if\n",
    "zahl1=int(input('zahl1: '))\n",
    "zahl2=int(input('zahl2: '))\n",
    "if zahl1>0:\n",
    "    if zahl2>0:\n",
    "        print('beide, zahl1 und zahl2 > 0')\n",
    "else:\n",
    "    print('zahl1 <= 0, ueber zahl2 wissen wir nichts')\n",
    "print(\"Ende des Codesegments\")"
   ]
  },
  {
   "cell_type": "markdown",
   "metadata": {},
   "source": [
    "**Hinweis:** Durch verschachtelte `if` können wir Bedingungen formulieren wie \"a ist größer 0 und b ist durch 3 teilbar\". Es gibt in Python auch logische Operatoren (Boole'sche Operatoren), um \"und\", \"oder\" und \"nicht\" auszudrücken. Diese werden später eingeführt. Bitte verwenden Sie diese **noch nicht**."
   ]
  },
  {
   "cell_type": "markdown",
   "metadata": {},
   "source": [
    "*Ende des Notebooks*"
   ]
  },
  {
   "cell_type": "markdown",
   "metadata": {
    "deletable": false,
    "editable": false
   },
   "source": [
    "<a rel=\"license\" href=\"http://creativecommons.org/licenses/by-nc-nd/4.0/\"><img alt=\"Creative Commons Lizenzvertrag\" style=\"border-width:0\" src=\"https://i.creativecommons.org/l/by-nc-nd/4.0/88x31.png\" /></a><br /><span xmlns:dct=\"http://purl.org/dc/terms/\" property=\"dct:title\">Dieses Notebook wurde von Christina B. Class für die Lehre an der EAH Jena erstellt. Es ist lizenziert unter einer <a rel=\"license\" href=\"http://creativecommons.org/licenses/by-nc-nd/4.0/\">Creative Commons Namensnennung - Nicht kommerziell - Keine Bearbeitungen 4.0 International Lizenz</a>."
   ]
  }
 ],
 "metadata": {
  "kernelspec": {
   "display_name": "Python 3 (ipykernel)",
   "language": "python",
   "name": "python3"
  },
  "language_info": {
   "codemirror_mode": {
    "name": "ipython",
    "version": 3
   },
   "file_extension": ".py",
   "mimetype": "text/x-python",
   "name": "python",
   "nbconvert_exporter": "python",
   "pygments_lexer": "ipython3",
   "version": "3.10.13"
  }
 },
 "nbformat": 4,
 "nbformat_minor": 4
}
