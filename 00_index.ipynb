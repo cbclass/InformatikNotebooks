{
 "cells": [
  {
   "cell_type": "markdown",
   "metadata": {},
   "source": [
    "Notebooks zu Python: Informatik, EAH Jena\n",
    "\n",
    "(c) Christina B. Class\n"
   ]
  },
  {
   "cell_type": "markdown",
   "metadata": {},
   "source": [
    "# Notebooks\n",
    "\n",
    "## 1. Python Grundlagen\n",
    "\n",
    "### 1.1 Grundlagen und Kontrollstrukturen\n",
    "\n",
    "1. [Erste Schritte mit Python](1_01_NB_Erste_Schritte.ipynb)\n",
    "2. [Selektion mit `if`](1_02_NB_Selektion.ipynb)\n",
    "3. [Iteration mit `while`](1_03_NB_Iteration_whilev1.1.ipynb)\n",
    "4. [`range()` und Iteration mit `for`](1_04_NB_range_Iteration_for.ipynb)\n",
    "5. [Listen (Teil 1)](1_05_NB_Listen_1.ipynb)\n",
    "\n",
    "### 1.2 Funktionen\n",
    "\n",
    "1. [Funktionen (Teil 1)](1_06_NB_Funktionen_1.ipynb)\n",
    "2. [Funktionen (Teil 2)](1_07_NB_Funktionen_2.ipynb)\n",
    "\n",
    "### 1.3 Datentypen\n",
    "\n",
    "**1.3.1 Sequentielle Datentypen**\n",
    "\n",
    "1. [Stringformatierung](1_08_NB_Stringformatierung.ipynb)\n",
    "2. [Sequentielle Datentypen](1_09_NB_Sequentielle_Datentypen.ipynb)\n",
    "3. [Listen (Teil 2)](1_10_NB_Listen_2.ipynb)\n",
    "\n",
    "**1.3.2 Andere Datentypen**\n",
    "\n",
    "4. [Sets und Dictionaries](1_12_NB_set_dictionary.ipynb)\n",
    "\n",
    "### 1.4 Dateiverwaltung \n",
    "\n",
    "1. [Dateiverwaltung](1_11_NB_Dateiverwaltung.ipynb)\n",
    "\n",
    "## 2. Objektorientierte Programmierung\n",
    "\n",
    "1. [Objektorientierte Programmierung: Einführungsbeispiel: eine Klasse](2_01_NB_OOP_Einfuehrung.ipynb)\n",
    "2. [Objektorientierte Programmierung: Einführung: Klassen verwenden](2_02_NB_OOP_Klassen_verwenden.ipynb)\n",
    "3. [Objektorientierte Programmierung: Klassen implementieren](2_03_NB_OOP_Klassen_implementieren.ipynb)\n",
    "4. [Objektorientierte Programmierung: Information Hiding](2_04_NB_OOP_Information_Hiding.ipynb)\n",
    "5. [Objektorientierte Programmierung: Klassenvariable](2_05_NB_OOP_Klassenvariable.ipynb)\n",
    "6. [Objektorientierte Programmierung: Assoziationen](2_06_NB_OOP_Assoziationen.ipynb)\n",
    "7. [Objektorientierte Programmierung: Vererbung](2_07_NB_OOP_Vererbung.ipynb)\n",
    "8. [Zur Information: Objektorientierte Programmierung: Überschreiben der Methode `eq()`](2_08_NB_OOP_equals.ipynb)\n",
    "\n",
    "## 3. Plotten und Wissenschaftliches Rechnen \n",
    "\n",
    "1. [Plots](3_01_NB_Plots_ohne_numpy.ipynb)\n",
    "2. [numpy: Erzeugung von Arrays](3_02_NB_numpyArrays_Erzeugung.ipynb)\n",
    "3. [numpy: Verwendung von Arrays](3_03_NB_numpyArrays_Verwendung.ipynb)\n",
    "4. [Plots: Verwendung von Schleifen und Funktionen](3_04_NB_Plots_Schleifen_Funktionen.ipynb)\n",
    "5. [Beispiel: EAH Klimastation](3_05_NB_Klimastation.ipynb)\n",
    "6. [Korrelationen und Curve Fitting (Die Methode der kleinsten Quadrate)](3_06_NB_curve_fitting.ipynb)\n",
    "\n",
    "## 4. Software Engineering: Unit Tests\n",
    "\n",
    "1. [Unit Testing](4_01_NB_unit_testing.ipynb)\n",
    "\n",
    "\n",
    "---\n"
   ]
  },
  {
   "cell_type": "markdown",
   "metadata": {},
   "source": [
    "# Notebooks aus dem Wintersemester 2023/24\n",
    "\n",
    "Damit Studierende den Code aus den bearbeiteten Notebooks des Wintersemerster 2023/24 nicht verlieren (da waren sie anders benannt und die Seite war anders aufgebaut), finden Sie hier auch die Notebooks des Wintersemesters:\n",
    "\n",
    "\n",
    "\n",
    "1. [Erste Schritte mit Python](01_NB_Erste_Schritte.ipynb)\n",
    "2. [Selektion mit `if`](02_NB_Selektion.ipynb)\n",
    "3. [Iteration mit `while`](03_NB_Iteration_whilev1.1.ipynb)\n",
    "4. [`range()` und Iteration mit `for`](04_NB_range_Iteration_for.ipynb)\n",
    "5. [Listen (Teil 1)](05_NB_Listen_1.ipynb)\n",
    "6. [Funktionen (Teil 1)](06_NB_Funktionen_1.ipynb)\n",
    "7. [Funktionen (Teil 2)](07_NB_Funktionen_2.ipynb)\n",
    "8. [Stringformatierung](08_NB_Stringformatierung.ipynb)\n",
    "9. [Sequentielle Datentypen](09_NB_Sequentielle_Datentypen.ipynb)\n",
    "10. [Listen (Teil 2)](10_NB_Listen_2.ipynb)\n",
    "11. [Dateiverwaltung](11_NB_Dateiverwaltung.ipynb)\n",
    "12. [Plots](12_NB_Plots_ohne_numpy.ipynb)\n",
    "\n",
    "\n",
    "Die folgenden Notebooks sind für das Modul **Informatik im Studiengang Werkstofftechnik**:\n",
    "\n",
    "13. [Sets und Dictionaries](13_NB_set_dictionary.ipynb)\n",
    "14. [numpy: Erzeugung von Arrays](14_NB_numpyArrays_Erzeugung.ipynb)\n",
    "15. [numpy: Verwendung von Arrays](15_NB_numpyArrays_Verwendung.ipynb)\n"
   ]
  },
  {
   "cell_type": "markdown",
   "metadata": {
    "deletable": false,
    "editable": false,
    "tags": []
   },
   "source": [
    "<a rel=\"license\" href=\"http://creativecommons.org/licenses/by-nc-nd/4.0/\"><img alt=\"Creative Commons Lizenzvertrag\" style=\"border-width:0\" src=\"https://i.creativecommons.org/l/by-nc-nd/4.0/88x31.png\" /></a><br /><span xmlns:dct=\"http://purl.org/dc/terms/\" property=\"dct:title\">Die Notebooks wurden von Christina B. Class für die Lehre an der EAH Jena erstellt. Sie sind lizenziert unter einer <a rel=\"license\" href=\"http://creativecommons.org/licenses/by-nc-nd/4.0/\">Creative Commons Namensnennung - Nicht kommerziell - Keine Bearbeitungen 4.0 International Lizenz</a>."
   ]
  }
 ],
 "metadata": {
  "kernelspec": {
   "display_name": "Python 3 (ipykernel)",
   "language": "python",
   "name": "python3"
  },
  "language_info": {
   "codemirror_mode": {
    "name": "ipython",
    "version": 3
   },
   "file_extension": ".py",
   "mimetype": "text/x-python",
   "name": "python",
   "nbconvert_exporter": "python",
   "pygments_lexer": "ipython3",
   "version": "3.10.13"
  }
 },
 "nbformat": 4,
 "nbformat_minor": 4
}
