{
 "cells": [
  {
   "cell_type": "markdown",
   "metadata": {},
   "source": [
    "Notebooks zu Python: Informatik, EAH Jena\n",
    "\n",
    "(c) Christina B. Class\n"
   ]
  },
  {
   "cell_type": "markdown",
   "metadata": {},
   "source": [
    "# Notebooks\n",
    "\n",
    "1. [Erste Schritte mit Python](01_NB_Erste_Schritte.ipynb)\n",
    "2. [Selektion mit `if`](02_NB_Selektion.ipynb)\n",
    "3. [Iteration mit `while`](03_NB_Iteration_whilev1.1.ipynb)\n",
    "4. [`range()` und Iteration mit `for`](04_NB_range_Iteration_for.ipynb)\n",
    "5. [Listen (Teil 1)](05_NB_Listen_1.ipynb)\n",
    "6. [Funktionen (Teil 1)](06_NB_Funktionen_1.ipynb)\n",
    "7. [Funktionen (Teil 2)](07_NB_Funktionen_2.ipynb)\n",
    "8. [Stringformatierung](08_NB_Stringformatierung.ipynb)\n",
    "9. [Sequentielle Datentypen](09_NB_Sequentielle_Datentypen.ipynb)\n",
    "10. [Listen (Teil 2)](10_NB_Listen_2.ipynb)\n",
    "11. [Dateiverwaltung](11_NB_Dateiverwaltung.ipynb)\n",
    "12. [Plots](12_NB_Plots_ohne_numpy.ipynb)\n",
    "\n",
    "\n",
    "Die folgenden Notebooks sind für das Modul **Informatik im Studiengang Werkstofftechnik**:\n",
    "\n",
    "13. [Sets und Dictionaries](13_NB_set_dictionary.ipynb)\n",
    "14. [numpy: Erzeugung von Arrays](14_NB_numpyArrays_Erzeugung.ipynb)\n",
    "15. [numpy: Verwendung von Arrays](15_NB_numpyArrays_Verwendung.ipynb)"
   ]
  },
  {
   "cell_type": "markdown",
   "metadata": {},
   "source": []
  },
  {
   "cell_type": "markdown",
   "metadata": {
    "deletable": false,
    "editable": false,
    "tags": []
   },
   "source": [
    "<a rel=\"license\" href=\"http://creativecommons.org/licenses/by-nc-nd/4.0/\"><img alt=\"Creative Commons Lizenzvertrag\" style=\"border-width:0\" src=\"https://i.creativecommons.org/l/by-nc-nd/4.0/88x31.png\" /></a><br /><span xmlns:dct=\"http://purl.org/dc/terms/\" property=\"dct:title\">Die Notebooks wurden von Christina B. Class für die Lehre an der EAH Jena erstellt. Sie sind lizenziert unter einer <a rel=\"license\" href=\"http://creativecommons.org/licenses/by-nc-nd/4.0/\">Creative Commons Namensnennung - Nicht kommerziell - Keine Bearbeitungen 4.0 International Lizenz</a>."
   ]
  }
 ],
 "metadata": {
  "kernelspec": {
   "display_name": "Python 3 (ipykernel)",
   "language": "python",
   "name": "python3"
  },
  "language_info": {
   "codemirror_mode": {
    "name": "ipython",
    "version": 3
   },
   "file_extension": ".py",
   "mimetype": "text/x-python",
   "name": "python",
   "nbconvert_exporter": "python",
   "pygments_lexer": "ipython3",
   "version": "3.10.13"
  }
 },
 "nbformat": 4,
 "nbformat_minor": 4
}
