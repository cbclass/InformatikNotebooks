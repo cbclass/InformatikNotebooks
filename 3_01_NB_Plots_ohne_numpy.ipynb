{
 "cells": [
  {
   "cell_type": "markdown",
   "metadata": {},
   "source": [
    "**Notebook zu Python: Plots mit matplotlib (ohne numpy)**\n",
    "\n",
    "Version 1.2, 30. Juni 2023, Informatik, EAH Jena\n",
    "\n",
    "(c) Christina B. Class\n"
   ]
  },
  {
   "cell_type": "markdown",
   "metadata": {},
   "source": [
    "Um zu plotten werden wir Funktionen aus dem Modul `matplotlib.pyplot` verwenden. Dieses Modul importieren wir mit der folgenden Zeile:"
   ]
  },
  {
   "cell_type": "code",
   "execution_count": null,
   "metadata": {},
   "outputs": [],
   "source": [
    "import  matplotlib.pyplot as plt"
   ]
  },
  {
   "cell_type": "markdown",
   "metadata": {},
   "source": [
    "# Plots"
   ]
  },
  {
   "cell_type": "markdown",
   "metadata": {},
   "source": [
    "## 1. Daten"
   ]
  },
  {
   "cell_type": "markdown",
   "metadata": {},
   "source": [
    "Um Daten zu plotten benötigen wir die $x$ und $y$-Werte der einzelnen Datenpunkte. Python erhält zwei Listen (oder listenähnliche Objekte) mit den $x$ und den $y$-Werten. Beide Listen müssen dieselbe Länge haben.\n",
    "\n",
    "Wir können Listen mit Hilfe von List Comprehensions erzeugen."
   ]
  },
  {
   "cell_type": "markdown",
   "metadata": {},
   "source": [
    "Wir erzeugen nun eine Liste mit $x$-Werten aus dem Intervall $[0,3]$. Wir verwenden die Funktion `range()`. Um nicht nur ganzzahlige Werte zu erzeugen, sondern auch Zwischenwerte, wählen wir ein größeres Intervall und dividieren die Werte. In unserem Fall erzeugen wir $x$-Werte mit dem Abstand von 0.1, und dividieren die Werte daher durch 10.\n",
    "\n",
    "**Hinweis:** Zur Erzeugung der Listen verwenden wir hier sogenannte *List Comprehensions*. Falls Sie zu der Gruppe gehören, die diese noch nicht besprochen hat, nehmen Sie den Code bitte im Moment einfach so hin. Wir werden diese in einer Vorlesung und Übung noch einmal genauer betrachten.  Es geht hier darum, dass wir Werte brauch, die wir dann entsprechen plotten können."
   ]
  },
  {
   "cell_type": "code",
   "execution_count": null,
   "metadata": {},
   "outputs": [],
   "source": [
    "xWerte=[i/10 for i in range(0,31)]\n",
    "print(xWerte)"
   ]
  },
  {
   "cell_type": "markdown",
   "metadata": {},
   "source": [
    "Wie wollen nun drei Funktionen definieren, die wir plotten. \n",
    "- $f_1(x)=2\\cdot x$\n",
    "- $f_2(x)=x^2$\n",
    "- $f_3(x)=x^2+2*x$\n",
    "\n",
    "Auch hierzu verwenden wir List Comprehensions."
   ]
  },
  {
   "cell_type": "code",
   "execution_count": null,
   "metadata": {},
   "outputs": [],
   "source": [
    "y1Werte=[2*i for i in xWerte]\n",
    "y2Werte=[i**2 for i in xWerte]\n",
    "y3Werte=[i**2+2*i for i in xWerte]"
   ]
  },
  {
   "cell_type": "markdown",
   "metadata": {},
   "source": [
    "Im Folgenden geben wir die Werte einfach mal aus, um die Listen anzusehen. Mit `round()` runden wir hierfür die Werte auf 2 Stellen nach dem Komma (das ist notwendig wegen der internen Darstellung von `float`Zahlen, sonst erhalten wir Ausgaben wir z.B. 0.010000000000000002 für `0.1**2`):"
   ]
  },
  {
   "cell_type": "code",
   "execution_count": null,
   "metadata": {},
   "outputs": [],
   "source": [
    "print('x    --  2*x  --  x**2  --  x**2+2*x')\n",
    "for i in range(len(xWerte)):\n",
    "    print(round(xWerte[i],2),' -- ',round(y1Werte[i],2),' -- ',round(y2Werte[i],2),' -- ',round(y3Werte[i],2))"
   ]
  },
  {
   "cell_type": "markdown",
   "metadata": {},
   "source": [
    "## 2. Der einfache Plot"
   ]
  },
  {
   "cell_type": "markdown",
   "metadata": {},
   "source": [
    "Im einfachsten Fall plotten wir eine einzelne Funktion. Hierzu nehmen wir die Funktion `plot()` und übergeben ihr die $x$-Werte und die $y$-Werte jeweils in einer Liste. "
   ]
  },
  {
   "cell_type": "code",
   "execution_count": null,
   "metadata": {},
   "outputs": [],
   "source": [
    "plt.plot(xWerte,y1Werte)"
   ]
  },
  {
   "cell_type": "markdown",
   "metadata": {},
   "source": [
    "Und schon haben Sie Ihren ersten Plot!\n",
    "\n",
    "Die Angabe der $x$-Werte ist optional. Wenn Sie diese nicht angeben, werden die $y$-Werte den Indices als $x$-Werten (also von 0 bis $n-1$ (bei $n$ $y$-Werten)) zugeordnet. Da dies in der Regel nicht korrekt ist, empfehle ich dringend, **immer** die $x$-Werte anzugeben.\n",
    "\n",
    "Vergleichen Sie die $x$-Werte in der folgenden Abbildung mit den $x$-Werten in obiger Abbildung."
   ]
  },
  {
   "cell_type": "code",
   "execution_count": null,
   "metadata": {},
   "outputs": [],
   "source": [
    "plt.plot(y1Werte)"
   ]
  },
  {
   "cell_type": "markdown",
   "metadata": {},
   "source": [
    "Mit der Funktion `title()` können wir dem Plot einen Titel geben und mit `xlabel()` und `ylabel()` die $x$- und $y$-Achsenbeschriftung setzen."
   ]
  },
  {
   "cell_type": "code",
   "execution_count": null,
   "metadata": {},
   "outputs": [],
   "source": [
    "plt.plot(xWerte, y1Werte)\n",
    "plt.title(\"Mein erster Plot\")\n",
    "plt.xlabel('Die x Werte')\n",
    "plt.ylabel('y Achse')"
   ]
  },
  {
   "cell_type": "markdown",
   "metadata": {},
   "source": [
    "Nach den $y$-Werten kann man in einer Zeichenkette angeben, welche Farben und welche Symbole zur Darstellung des Plots genutzt werden sollen:"
   ]
  },
  {
   "cell_type": "code",
   "execution_count": null,
   "metadata": {},
   "outputs": [],
   "source": [
    "plt.plot(xWerte, y1Werte,'g')\n",
    "plt.title(\"Mein erster Plot: Farbe Gruen\")\n",
    "plt.xlabel('Die x Werte')\n",
    "plt.ylabel('y Achse')"
   ]
  },
  {
   "cell_type": "code",
   "execution_count": null,
   "metadata": {},
   "outputs": [],
   "source": [
    "plt.plot(xWerte, y1Werte,':')\n",
    "plt.title(\"Mein erster Plot: gepunktete Linie\")\n",
    "plt.xlabel('Die x Werte')\n",
    "plt.ylabel('y Achse')"
   ]
  },
  {
   "cell_type": "code",
   "execution_count": null,
   "metadata": {},
   "outputs": [],
   "source": [
    "plt.plot(xWerte, y1Werte,'--m')\n",
    "plt.title(\"Mein erster Plot: Farbe Magenta, gestrichelte Linie\")\n",
    "plt.xlabel('Die x Werte')\n",
    "plt.ylabel('y Achse')"
   ]
  },
  {
   "cell_type": "markdown",
   "metadata": {},
   "source": [
    "Einige Elemente für den Stil finden Sie in den folgenden Tabellen:"
   ]
  },
  {
   "cell_type": "markdown",
   "metadata": {},
   "source": [
    "Farben:\n",
    "\n",
    "| Symbol|Bedeutung|\n",
    "|-------|--------------|\n",
    "|  'b'  | blau |\n",
    "|  'g'  | grün |\n",
    "|  'r'  | rot |\n",
    "|  'm'  | magenta |\n",
    "|  'k'  | schwarz |"
   ]
  },
  {
   "cell_type": "markdown",
   "metadata": {},
   "source": [
    "(Verbindungs)Linien:\n",
    "\n",
    "| Symbol|Bedeutung|\n",
    "|-------|--------------|\n",
    "| '-' | durchgezogen|\n",
    "| '--' | gestrichelt|\n",
    "| ':' | gepunktet|"
   ]
  },
  {
   "cell_type": "markdown",
   "metadata": {},
   "source": [
    "Darstellung der einzelnen Werte:\n",
    "\n",
    "| Symbol|Bedeutung|\n",
    "|-------|--------------|\n",
    "| '.' | Punkte |\n",
    "| 'o' | größere Punkte |\n",
    "| '*' |  Sterne|\n",
    "| '+' |  Kreuze|\n",
    "| '^' |  Dreiecke|"
   ]
  },
  {
   "cell_type": "markdown",
   "metadata": {},
   "source": [
    "Der Stil einer Linie ergibt sich aus **einer** Zeichenkette, die maximal ein Element der oberen Tabellen enthält. Also z.B. `'.:k'` stellt die Messwerte als Punkte dar, die durch eine gepunktete Linie verbunden werden. Die Farbe ist schwarz.\n",
    "`'*'` stellt nur die Messwerte als Punkte da, diese werden nicht verbunden. Die Farbe wird durch Python festgelegt."
   ]
  },
  {
   "cell_type": "markdown",
   "metadata": {},
   "source": [
    "**Aufgabe:**\n",
    "Plotten Sie die Quadratfunktion ($x$-Werte in der Liste `xWerte`, $y$-Werte in der Liste `y2Werte`). Geben Sie Ihrem Plot einen Titel. Experimentieren Sie mit verschiedenen Stilen."
   ]
  },
  {
   "cell_type": "code",
   "execution_count": null,
   "metadata": {},
   "outputs": [],
   "source": [
    "# Ihre Loesung"
   ]
  },
  {
   "cell_type": "markdown",
   "metadata": {},
   "source": [
    "## 3. Verschiedene Fuktionen in einem Plot"
   ]
  },
  {
   "cell_type": "markdown",
   "metadata": {},
   "source": [
    "Man kann in Python einfach mehrere Funktionen in dem gleichen Plot darstellen: "
   ]
  },
  {
   "cell_type": "code",
   "execution_count": null,
   "metadata": {},
   "outputs": [],
   "source": [
    "plt.plot(xWerte,y1Werte)\n",
    "plt.plot(xWerte,y2Werte)"
   ]
  },
  {
   "cell_type": "markdown",
   "metadata": {},
   "source": [
    "Beide Funktionen werden von Python automatisch mit verschiedenen Farben dargestellt. Stile, Achsenbeschriftungen und Titel können Sie analog zu Abschnitt 2 setzen."
   ]
  },
  {
   "cell_type": "code",
   "execution_count": null,
   "metadata": {},
   "outputs": [],
   "source": [
    "plt.plot(xWerte,y1Werte,'.-g')\n",
    "plt.plot(xWerte,y2Werte,':m')\n",
    "plt.title('Meine Abbildung')\n",
    "plt.xlabel('x Achse')\n",
    "plt.ylabel('y Achse')"
   ]
  },
  {
   "cell_type": "markdown",
   "metadata": {},
   "source": [
    "Python kann auch eine Legende erzeugen (`plt.legend()`), damit man weiß, welche Funktion durch welchen Graphen dargestellt wird. Für die Legende braucht Python Information zu den einzelnen Graphen. Diese wird mit dem optionalen Parameter `label` als Schlüsselwortparameter übergeben, der den Text, der in der Legende angegeben wird, enthält: "
   ]
  },
  {
   "cell_type": "code",
   "execution_count": null,
   "metadata": {},
   "outputs": [],
   "source": [
    "plt.plot(xWerte,y1Werte,'.-g',label='lineare Funktion')\n",
    "plt.plot(xWerte,y2Werte,':m',label='Quadratfunktion')\n",
    "plt.title('Meine Abbildung')\n",
    "plt.xlabel('x Achse')\n",
    "plt.ylabel('y Achse')\n",
    "plt.legend()"
   ]
  },
  {
   "cell_type": "markdown",
   "metadata": {},
   "source": [
    "Die Legende enthält genau die Information zu den Graphen, die mit einem Aufurf von `plot()`, das ein `label` definiert habt, erzeugt wurden. Im folgenden Beispiel werden drei Funktionen geplottet, die Legende enthält jedoch nur Informationn zu zwei Funktionen:"
   ]
  },
  {
   "cell_type": "code",
   "execution_count": null,
   "metadata": {},
   "outputs": [],
   "source": [
    "plt.plot(xWerte,y3Werte)\n",
    "plt.plot(xWerte,y1Werte,'.-g',label='lineare Funktion')\n",
    "plt.plot(xWerte,y2Werte,':m',label='Quadratfunktion')\n",
    "plt.title('Meine Abbildung')\n",
    "plt.xlabel('x Achse')\n",
    "plt.ylabel('y Achse')\n",
    "plt.legend()"
   ]
  },
  {
   "cell_type": "markdown",
   "metadata": {},
   "source": [
    "**Aufgabe**:\n",
    "Stellen Sie alle drei Funktionen in einem Plot dar. Die Legende soll Informationen für alle Funktionen erhalten. Verwenden Sie verschiedene Stile für die Funktionen:"
   ]
  },
  {
   "cell_type": "code",
   "execution_count": null,
   "metadata": {},
   "outputs": [],
   "source": [
    "# Ihre Loesung"
   ]
  },
  {
   "cell_type": "markdown",
   "metadata": {},
   "source": [
    "## 4. Verschiedene Teilabbildungen"
   ]
  },
  {
   "cell_type": "markdown",
   "metadata": {},
   "source": [
    "Die Funktion `subplot()` ermöglicht es, Teilabbildungen zu erzeugen. Hierzu muss der entsprechende Subplot angegeben werden. `subplots()` werden in einer Matrix angeordndet. Das heißt, wir spezifizieren die Anzahl Zeilen, die Anzahl Spalten und dann eine Laufnummer. Diese Nummer beginnt bei 1 und die Plots werden zeilenweise durchgezählt. Diese Information kann entweder in Form von drei einzenen, durch Kommata getrennten Werten oder als eine dreistellige Zahl angegeben werden. "
   ]
  },
  {
   "attachments": {
    "plots.png": {
     "image/png": "[encoded data removed]"
    }
   },
   "cell_type": "markdown",
   "metadata": {},
   "source": [
    "![plots.png](attachment:plots.png)"
   ]
  },
  {
   "cell_type": "markdown",
   "metadata": {},
   "source": [
    "Wir plotten nun zwei Plots nebeneinander. D.h. unsere Matrix hat eine Zeile, zwei Spalten und die Plots die Nummern 1 und 2:"
   ]
  },
  {
   "cell_type": "code",
   "execution_count": null,
   "metadata": {},
   "outputs": [],
   "source": [
    "plt.subplot(121)\n",
    "plt.plot(xWerte,y1Werte,'.-g')\n",
    "plt.subplot(1,2,2)\n",
    "plt.plot(xWerte,y2Werte,':m')"
   ]
  },
  {
   "cell_type": "markdown",
   "metadata": {},
   "source": [
    "Die mit obigen Funktionen spezifizierten Informationen zu Titel, Legende und Achsenbeschriftungen beziehen sich auf eine **einzelne** Teilabbildung: "
   ]
  },
  {
   "cell_type": "code",
   "execution_count": null,
   "metadata": {},
   "outputs": [],
   "source": [
    "plt.subplot(121)\n",
    "plt.plot(xWerte,y1Werte,'.-g')\n",
    "plt.title('Die Lineare Funktion')\n",
    "plt.subplot(1,2,2)\n",
    "plt.plot(xWerte,y2Werte,':m')\n",
    "plt.xlabel('x Achse')\n",
    "plt.ylabel('y Achse')"
   ]
  },
  {
   "cell_type": "markdown",
   "metadata": {},
   "source": [
    "Wir können auch Platz für drei Subplots reservieren und dann einen Plot leerlassen:"
   ]
  },
  {
   "cell_type": "code",
   "execution_count": null,
   "metadata": {},
   "outputs": [],
   "source": [
    "plt.subplot(131)\n",
    "plt.plot(xWerte,y1Werte,'.-g')\n",
    "plt.title('Die Lineare Funktion')\n",
    "plt.subplot(1,3,3)\n",
    "plt.title('Die Quadratfunktion')\n",
    "plt.plot(xWerte,y2Werte,':m')"
   ]
  },
  {
   "cell_type": "markdown",
   "metadata": {},
   "source": [
    "Die Funktion `suptitle()` definiert den Titel für die **gesamte** Abbildung:"
   ]
  },
  {
   "cell_type": "code",
   "execution_count": null,
   "metadata": {},
   "outputs": [],
   "source": [
    "plt.suptitle('Alle Plots')\n",
    "plt.subplot(131)\n",
    "plt.plot(xWerte,y1Werte,'.-g')\n",
    "plt.title('Die Lineare Funktion')\n",
    "plt.subplot(1,3,3)\n",
    "plt.plot(xWerte,y2Werte,':m')\n",
    "plt.title('Die Qudaratfunktion')"
   ]
  },
  {
   "cell_type": "markdown",
   "metadata": {},
   "source": [
    "In gleicher Weise kann man auch Abbildungen übereinandersetzen:"
   ]
  },
  {
   "cell_type": "code",
   "execution_count": null,
   "metadata": {},
   "outputs": [],
   "source": [
    "plt.subplot(211)\n",
    "plt.plot(xWerte,y1Werte,'.-g')\n",
    "plt.title('Die Lineare Funktion')\n",
    "plt.subplot(212)\n",
    "plt.plot(xWerte,y2Werte,':m')\n",
    "plt.title('Die Quadrat')"
   ]
  },
  {
   "cell_type": "markdown",
   "metadata": {},
   "source": [
    "Allerdings wird nur genügend Abstand für die Achsenbeschriftung gelassen. Für den zusätzlich Titel einer Abbildung ist dieser Abstand nicht ausreichend, wie Sie oben sehen. Der Abstand zwischen den Plots der ersten und der zweiten Zeile ist zu gering. Zusätzlichen Abstand definiert man mit der Funktion `plt.subplots_adjust()`:"
   ]
  },
  {
   "cell_type": "code",
   "execution_count": null,
   "metadata": {},
   "outputs": [],
   "source": [
    "plt.subplot(211)\n",
    "plt.plot(xWerte,y1Werte,'.-g')\n",
    "plt.title('Die Lineare Funktion')\n",
    "plt.subplot(212)\n",
    "plt.plot(xWerte,y2Werte,':m')\n",
    "plt.title('Die Quadrat')\n",
    "plt.subplots_adjust(hspace=0.5)"
   ]
  },
  {
   "attachments": {
    "alleFunktionen.png": {
     "image/png": "[encoded data removed]"
    }
   },
   "cell_type": "markdown",
   "metadata": {},
   "source": [
    "**Aufgabe:**\n",
    "Erzeugen Sie folgende Abbildung.\n",
    "\n",
    "![alleFunktionen.png](attachment:alleFunktionen.png)"
   ]
  },
  {
   "cell_type": "code",
   "execution_count": null,
   "metadata": {},
   "outputs": [],
   "source": [
    "#Ihre Loesung"
   ]
  },
  {
   "cell_type": "markdown",
   "metadata": {},
   "source": [
    "**Hinweis: Zwei nützliche Funktionen**:\n",
    "\n",
    "- die Funktion `plt.savefig()` speichert den aktuellen Plot in einer Datei ab. Als ersten Parameter übergeben Sie den Dateinamen. Der Typ der Bilddatei (z.B. `png`) wird aus der Endung des Dateinamens abgeleitet.  In einem optionalen Parameter namens `dpi` können Sie die Auflösung spezifizieren, z.B. `plt.savefig('dieAbb.png',dpi=600)`. Die Standardauflösung ist zu gering für Präsentationen oder Berichte.\n",
    "\n",
    "- die Funktion `plt.clf()` beginnt einen Plot von neuem. Jeder Aufruf von `plot()` fügt einen Funktionsplot derselben Abbildung hinzu. Möchten Sie eine neue Abbildung beginnen, verwenden Sie bitte `plt.clf()`. Hier im Notebook wird pro Zelle ein neuer Plot erzeugt, einem Python Programm werden Sie diese Funktion häufiger nutzen."
   ]
  },
  {
   "cell_type": "markdown",
   "metadata": {},
   "source": [
    "*Ende des Notebooks*"
   ]
  },
  {
   "cell_type": "markdown",
   "metadata": {
    "deletable": false,
    "editable": false
   },
   "source": [
    "<a rel=\"license\" href=\"http://creativecommons.org/licenses/by-nc-nd/4.0/\"><img alt=\"Creative Commons Lizenzvertrag\" style=\"border-width:0\" src=\"https://i.creativecommons.org/l/by-nc-nd/4.0/88x31.png\" /></a><br /><span xmlns:dct=\"http://purl.org/dc/terms/\" property=\"dct:title\">Dieses Notebook wurde von Christina B. Class für die Lehre an der EAH Jena erstellt. Es ist lizenziert unter einer <a rel=\"license\" href=\"http://creativecommons.org/licenses/by-nc-nd/4.0/\">Creative Commons Namensnennung - Nicht kommerziell - Keine Bearbeitungen 4.0 International Lizenz</a>.\n"
   ]
  }
 ],
 "metadata": {
  "kernelspec": {
   "display_name": "Python 3 (ipykernel)",
   "language": "python",
   "name": "python3"
  },
  "language_info": {
   "codemirror_mode": {
    "name": "ipython",
    "version": 3
   },
   "file_extension": ".py",
   "mimetype": "text/x-python",
   "name": "python",
   "nbconvert_exporter": "python",
   "pygments_lexer": "ipython3",
   "version": "3.10.13"
  }
 },
 "nbformat": 4,
 "nbformat_minor": 4
}
