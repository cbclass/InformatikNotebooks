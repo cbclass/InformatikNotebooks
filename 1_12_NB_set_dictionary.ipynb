{
 "cells": [
  {
   "cell_type": "markdown",
   "metadata": {},
   "source": [
    "Notebook zu Datentypen: Set und Dictionary\n",
    "\n",
    "Version 1.2, 5. Januar 2024, Informatik, EAH Jena\n",
    "\n",
    "(c) Christina B. Class\n"
   ]
  },
  {
   "cell_type": "markdown",
   "metadata": {},
   "source": [
    "# 1. Datentypen: Die Menge `set`"
   ]
  },
  {
   "cell_type": "markdown",
   "metadata": {},
   "source": [
    "`set` ist der Python Datentyp, der eine Menge abbildet. Eine Menge ist veränderbar. Wie auch in der Mathematik, kann in einer Menge ein bestimmtes Element nur einmal vorkommen:"
   ]
  },
  {
   "cell_type": "markdown",
   "metadata": {},
   "source": [
    "$\\mathbb{N} \\cup \\{1\\} = \\mathbb{N}$ "
   ]
  },
  {
   "cell_type": "markdown",
   "metadata": {},
   "source": [
    "Die Elemente in einem Set haben keine Reihenfolge, daher kann auf ein bestimmtes Element nicht direkt zugegriffen werden z.B. über einen Index oder einen Schlüssel. In Mengen ist \"nur\" möglich, zu testen, ob bestimmte Werte Element der Menge sind oder nicht. Hierzu werden die Operatoren `in` und `not in` genutzt."
   ]
  },
  {
   "cell_type": "markdown",
   "metadata": {},
   "source": [
    "## 1.1 Erzeugung von Mengen"
   ]
  },
  {
   "cell_type": "markdown",
   "metadata": {},
   "source": [
    "Eine **leere Menge** wird über `set()` erzeugt. Eine Erzeugung durch Angabe der Mengen-Klammern alleine funktioniert nicht."
   ]
  },
  {
   "cell_type": "code",
   "execution_count": null,
   "metadata": {},
   "outputs": [],
   "source": [
    "s=set()\n",
    "d={}\n",
    "\n",
    "print(type(s))\n",
    "print(type(d))"
   ]
  },
  {
   "cell_type": "markdown",
   "metadata": {},
   "source": [
    "Mit `{}` wird ein leeres Dictionary erzeugt."
   ]
  },
  {
   "cell_type": "markdown",
   "metadata": {},
   "source": [
    "Eine Menge mit existierenden Elementen kann direkt oder über den Konstruktor `set()` erzeugt werden:"
   ]
  },
  {
   "cell_type": "code",
   "execution_count": null,
   "metadata": {},
   "outputs": [],
   "source": [
    "bsp1={1,2,3,4}\n",
    "bsp2=set((1,2,3,4))\n",
    "bsp3=set(range(1,10))\n",
    "\n",
    "print(bsp1)\n",
    "print(bsp2)\n",
    "print(bsp3)"
   ]
  },
  {
   "cell_type": "markdown",
   "metadata": {},
   "source": [
    "Bitte beachten Sie, dass der Konstruktor ein Iterable als Parameter erhält. Eine einelementige Menge können Sie nicht erzeugen, wenn Sie das Element einfach direkt als Parameter übergeben:  "
   ]
  },
  {
   "cell_type": "code",
   "execution_count": null,
   "metadata": {},
   "outputs": [],
   "source": [
    "bsp1={1}\n",
    "bsp2=set((1,))\n",
    "bsp3=set([1])\n",
    "\n",
    "print(bsp1)\n",
    "print(bsp2)\n",
    "print(bsp3)"
   ]
  },
  {
   "cell_type": "markdown",
   "metadata": {},
   "source": [
    "Folgender Aufruf führt zu einem Fehler:"
   ]
  },
  {
   "cell_type": "code",
   "execution_count": null,
   "metadata": {},
   "outputs": [],
   "source": [
    "bsp=set(1)"
   ]
  },
  {
   "cell_type": "markdown",
   "metadata": {},
   "source": [
    "Genauso wie auch:"
   ]
  },
  {
   "cell_type": "code",
   "execution_count": null,
   "metadata": {},
   "outputs": [],
   "source": [
    "bsp=set((1))"
   ]
  },
  {
   "cell_type": "markdown",
   "metadata": {},
   "source": [
    "Erinnerung: `(1)` ist ein `int` und `(1,)` ist ein einelementiges `tuple`."
   ]
  },
  {
   "cell_type": "markdown",
   "metadata": {},
   "source": [
    "## 1.2 Erzeugung von Mengen mit List Comprehensions"
   ]
  },
  {
   "cell_type": "markdown",
   "metadata": {},
   "source": [
    "List Comprehensions können auch zur Erzeugung von Mengen verwendet werden. Hierbei werden die äußeren `[]` durch die Mengenklammern `{}` ersetzt."
   ]
  },
  {
   "cell_type": "markdown",
   "metadata": {},
   "source": [
    "Alles andere ist unverändert:"
   ]
  },
  {
   "cell_type": "markdown",
   "metadata": {},
   "source": [
    "**Beispiel 1**"
   ]
  },
  {
   "cell_type": "code",
   "execution_count": null,
   "metadata": {},
   "outputs": [],
   "source": [
    "liste=[i**2 for i in range(1,6)]\n",
    "menge={i**2 for i in range(1,6)}\n",
    "\n",
    "print(liste)\n",
    "print(menge)"
   ]
  },
  {
   "cell_type": "markdown",
   "metadata": {},
   "source": [
    "**Beispiel 2:**"
   ]
  },
  {
   "cell_type": "code",
   "execution_count": null,
   "metadata": {},
   "outputs": [],
   "source": [
    "liste=[(i,i**2) for i in range(1,6) if i%2!=0]\n",
    "menge={(i,i**2) for i in range(1,6) if i%2!=0}\n",
    "\n",
    "print(liste)\n",
    "print(menge)"
   ]
  },
  {
   "attachments": {
    "menge.png": {
     "image/png": "[encoded data removed]"
    }
   },
   "cell_type": "markdown",
   "metadata": {},
   "source": [
    "**Hinweis**\n",
    "\n",
    "Die Ausgabe in obigem Beispiel 2 sieht bei mir folgendermaßen aus:\n",
    "\n",
    "![menge.png](attachment:menge.png)\n",
    "\n",
    "Bei Ihnen mag es anders aussehen.\n",
    "\n",
    "Die Elemente in einer Menge haben, wie oben bereits erwähnt, keine definierte Reihenfolge. Daher sind die Mengen `{1,2,3}` und `{1,3,2}` gleich."
   ]
  },
  {
   "cell_type": "code",
   "execution_count": null,
   "metadata": {},
   "outputs": [],
   "source": [
    "liste1=[1,2,3,4]\n",
    "liste2=[4,3,2,1]\n",
    "print(liste1)\n",
    "print(liste2)\n",
    "print('gleich?',liste1==liste2)"
   ]
  },
  {
   "cell_type": "code",
   "execution_count": null,
   "metadata": {},
   "outputs": [],
   "source": [
    "menge1={1,2,3,4}\n",
    "menge2={4,3,2,1}\n",
    "print(menge1)\n",
    "print(menge2)\n",
    "print('gleich?',menge1==menge2)"
   ]
  },
  {
   "cell_type": "markdown",
   "metadata": {},
   "source": [
    "## 1.3 Verwendung der Menge"
   ]
  },
  {
   "cell_type": "markdown",
   "metadata": {},
   "source": [
    "### Bekannte Funktionen und Operatoren"
   ]
  },
  {
   "cell_type": "markdown",
   "metadata": {},
   "source": [
    "Die Funktion `len()` ist für Mengen definiert und gibt an, wieviele Elemente eine Menge hat."
   ]
  },
  {
   "cell_type": "markdown",
   "metadata": {},
   "source": [
    "Wie bereits mehrfach erwähnt, definiert eine Menge keine Reihenfolge der Elemente. Die Operatoren `in` und `not in` geben, wie für Listen, Tuple und Zeichenketten, an, ob ein bestimmter Wert in der Menge enthalten ist.  "
   ]
  },
  {
   "cell_type": "code",
   "execution_count": null,
   "metadata": {},
   "outputs": [],
   "source": [
    "meineMenge={1,4,6,12,54}\n",
    "\n",
    "print(meineMenge)\n",
    "print('Anzahl Elemente:',len(meineMenge))\n",
    "print('6 vorhanden?', 6 in meineMenge)\n",
    "print('10 nicht vorhanden?', 10 not in meineMenge)"
   ]
  },
  {
   "cell_type": "markdown",
   "metadata": {},
   "source": [
    "## 1.4 Ausgabe der Menge"
   ]
  },
  {
   "cell_type": "markdown",
   "metadata": {},
   "source": [
    "Eine Menge ist ein Iterable und kann somit mit der `for` Schleife direkt ausgegeben werden. Da es keinen Index für den Zugriff gibt, kann eine Menge nicht mit einer `while` Schleife ausgegeben werden. "
   ]
  },
  {
   "cell_type": "code",
   "execution_count": null,
   "metadata": {},
   "outputs": [],
   "source": [
    "meineMenge={1,4,6,12,54}\n",
    "\n",
    "for el in meineMenge:\n",
    "    print(el)"
   ]
  },
  {
   "cell_type": "markdown",
   "metadata": {},
   "source": [
    "## 1.5 Veränderung der Menge"
   ]
  },
  {
   "cell_type": "markdown",
   "metadata": {},
   "source": [
    "Da es keine Reihenfolge gibt, gibt es **nicht** die Möglichkeit, einen Wert  anzuhängen (`append()`), ein Element an einer bestimmten Position einzufügen (`insert()`)  oder um eine andere Menge zu erweitern (`extend()`), also deren Elemente anzuhängen. \n",
    "\n",
    "Um ein neues Element in die Menge hinzuzufügen gibt es die Methode `add()`. Die Methode `union()` erzeugt die Vereingungsmenge zweier Mengen."
   ]
  },
  {
   "cell_type": "code",
   "execution_count": null,
   "metadata": {},
   "outputs": [],
   "source": [
    "meineListe=[1,2]\n",
    "meineMenge={1,2}\n",
    "\n",
    "meineListe.append(3)\n",
    "meineMenge.add(3)\n",
    "print(meineListe, meineMenge)\n",
    "meineListe.insert(2,5)\n",
    "meineMenge.add(5)\n",
    "print(meineListe, meineMenge)\n",
    "meineListe.append(3)\n",
    "meineMenge.add(3)\n",
    "print(meineListe, meineMenge)"
   ]
  },
  {
   "cell_type": "code",
   "execution_count": null,
   "metadata": {},
   "outputs": [],
   "source": [
    "menge1={1,2,3}\n",
    "menge2={1,4,5}\n",
    "liste1=[1,2,3]\n",
    "liste2=[1,4,5]\n",
    "print('extend:',liste1,liste2, end=' ')\n",
    "liste1.extend(liste2)\n",
    "print(liste1)\n",
    "print('union: ',menge1,menge2, end=' ')\n",
    "menge3=menge1.union(menge2)\n",
    "print(menge3)"
   ]
  },
  {
   "cell_type": "markdown",
   "metadata": {},
   "source": [
    "Beachten Sie in obigem Beispiel, dass in einer Menge, im Gegensatz zu einer Liste, ein Element nur einmal vorkommen kann.\n",
    "\n",
    "Elemente werden mit der Methode `discard()` bzw. `remove()` gelöscht. `remove()` kennen Sie auch schon von Listen, wo diese Methode das erste Vorkommen eines Wertes löscht. Da in Mengen jeder Wert nur einmal vorkommen kann, wird der Wert durch `remove()` komplett gelöscht."
   ]
  },
  {
   "cell_type": "markdown",
   "metadata": {},
   "source": [
    "Python bietet verschiedene Mengenoperationen an, die Sie auch aus der Mathematik kennen."
   ]
  },
  {
   "cell_type": "markdown",
   "metadata": {},
   "source": [
    "**Beispiel 1: Schnittmenge**"
   ]
  },
  {
   "cell_type": "markdown",
   "metadata": {},
   "source": [
    "$\\{1,2,3,4,5,6,7,8,9,10\\} \\cap \\{3,6,9\\} = \\{3,6,9\\}$ "
   ]
  },
  {
   "cell_type": "code",
   "execution_count": null,
   "metadata": {},
   "outputs": [],
   "source": [
    "menge1=set(range(1,11))\n",
    "menge2={3,6,9}\n",
    "\n",
    "print('Schnittmenge:', menge1.intersection(menge2))"
   ]
  },
  {
   "cell_type": "markdown",
   "metadata": {},
   "source": [
    "**Beispiel 2: Mengendifferenz**"
   ]
  },
  {
   "cell_type": "markdown",
   "metadata": {},
   "source": [
    "$\\{1,2,3,4,5,6,7,8,9,10\\} - \\{3,6,9\\} = \\{1,2,4,5,7,8,10\\}$ "
   ]
  },
  {
   "cell_type": "code",
   "execution_count": null,
   "metadata": {},
   "outputs": [],
   "source": [
    "menge1=set(range(1,11))\n",
    "menge2={3,6,9}\n",
    "\n",
    "print('Mengendifferenz:', menge1.difference(menge2))"
   ]
  },
  {
   "cell_type": "markdown",
   "metadata": {},
   "source": [
    "# 2. Datentypen: Das Dictionary `dict`"
   ]
  },
  {
   "cell_type": "markdown",
   "metadata": {},
   "source": [
    "Ein Dictionary, in manchen Programmiersprachen auch Map genannt, erlaubt es, Schlüssel-Wert-Paare abzuspeichern. Die **Schlüssel** müssen hierbei **eindeutig** sein. "
   ]
  },
  {
   "cell_type": "markdown",
   "metadata": {},
   "source": [
    "## 3.1 Definition eines Dictionary"
   ]
  },
  {
   "cell_type": "markdown",
   "metadata": {},
   "source": [
    "Ein leeres Dictionary wird mit den leeren geschweiften Klammern `{}` oder `dict()` definiert."
   ]
  },
  {
   "cell_type": "code",
   "execution_count": null,
   "metadata": {},
   "outputs": [],
   "source": [
    "d1={}\n",
    "d2=dict()\n",
    "\n",
    "print(type(d1))\n",
    "print(type(d2))"
   ]
  },
  {
   "cell_type": "markdown",
   "metadata": {},
   "source": [
    "Bei der Definition eines Dictionary mit Elementen müssen die Schlüssel-Wert-Paare übergeben werden. Beim Aufruf des Konstruktors übergeben Sie daher ein Iterable als Parameter, das diese Paare als Tupel enthält:"
   ]
  },
  {
   "cell_type": "code",
   "execution_count": null,
   "metadata": {},
   "outputs": [],
   "source": [
    "d1=dict([(1,2),(3,4)])\n",
    "# oder z.B.\n",
    "d2=dict(((1,2),(3,4)))\n",
    "\n",
    "print(d1)\n",
    "print(d2)"
   ]
  },
  {
   "cell_type": "markdown",
   "metadata": {},
   "source": [
    "Werden die Schlüssel-Werte-Paare bei der Erzeugung in die geschweiften Klammern geschrieben, werden Sie folgendermaßen spezifiziert: `s:w`, wobei `s` der Schlüssel und `w` der Wert ist. "
   ]
  },
  {
   "cell_type": "code",
   "execution_count": null,
   "metadata": {},
   "outputs": [],
   "source": [
    "d3={1:2,3:4}\n",
    "print(d3)"
   ]
  },
  {
   "cell_type": "markdown",
   "metadata": {},
   "source": [
    "## 2.2 Zugriff auf das Dictionary"
   ]
  },
  {
   "cell_type": "markdown",
   "metadata": {},
   "source": [
    "Gegeben ist folgendes Dictionary:"
   ]
  },
  {
   "cell_type": "code",
   "execution_count": null,
   "metadata": {},
   "outputs": [],
   "source": [
    "beispiel={1:12,'s1':13,'text':17,-4:12,3.4:\"8\"}\n",
    "print(beispiel)"
   ]
  },
  {
   "cell_type": "code",
   "execution_count": null,
   "metadata": {},
   "outputs": [],
   "source": []
  },
  {
   "cell_type": "markdown",
   "metadata": {},
   "source": [
    "Wie Sie sehen können, können sowohl Schlüssel als auch Werte unterschiedliche Datentypen haben."
   ]
  },
  {
   "cell_type": "markdown",
   "metadata": {},
   "source": [
    "Der Zugriff auf Elemente des Dictionary erfolgt über den Schlüssel. Als Operator dienen, wie auch bei sequentiellen Datentypen, die `[]`:"
   ]
  },
  {
   "cell_type": "code",
   "execution_count": null,
   "metadata": {},
   "outputs": [],
   "source": [
    "print('Wert an Schlüssel s1:',beispiel['s1'])\n",
    "print('Wert an Schlüssel 1:',beispiel[1])\n",
    "print('Wert an Schlüssel 3.4:',beispiel[0.34e+1])"
   ]
  },
  {
   "cell_type": "markdown",
   "metadata": {},
   "source": [
    "Ein Dictionary ist ein veränderbarer (mutable) Datentyp. Mit Hilfe des Zugriffs über den Schlüssel kann der dazugehörige Wert durch eine Zuweisung verändert werden. "
   ]
  },
  {
   "cell_type": "code",
   "execution_count": null,
   "metadata": {},
   "outputs": [],
   "source": [
    "beispiel['s1']=17"
   ]
  },
  {
   "cell_type": "markdown",
   "metadata": {},
   "source": [
    "Existiert der Schlüssel nicht im Dictionary, wird durch die Zuweisung ein Wert mit diesem Schlüssel angelegt, also ein neues Schlüssel-Wert-Paar definiert."
   ]
  },
  {
   "cell_type": "code",
   "execution_count": null,
   "metadata": {},
   "outputs": [],
   "source": [
    "print(beispiel)\n",
    "beispiel[2]=123\n",
    "print(beispiel)"
   ]
  },
  {
   "cell_type": "markdown",
   "metadata": {},
   "source": [
    "Der Operator `in` ermöglicht es Ihnen, zu testen, ob ein bestimmter Schlüssel im Dictionary vorhanden ist. Sie können hiermit nicht die Existenz von Werten überprüfen. "
   ]
  },
  {
   "cell_type": "code",
   "execution_count": null,
   "metadata": {},
   "outputs": [],
   "source": [
    "print(beispiel)\n",
    "print(\"in 'text':\",'text' in beispiel)\n",
    "print(\"in '8':\",'8' in beispiel)"
   ]
  },
  {
   "cell_type": "markdown",
   "metadata": {},
   "source": [
    "Oben wurde erwähnt, dass die Anweisung `beispiel[s]=w` einen existierenden Wert an Schlüssel `s` mit `w` überschreibt.\n",
    "Dies gilt auch, wenn Sie bei der Erzeugung des Dictionary mehrere Schlüssel-Wert-Paare mit dem gleichen Schlüssel übergeben. Der  zuletzt definierte Wert wird dann dem Schlüssel zugewiesen:"
   ]
  },
  {
   "cell_type": "code",
   "execution_count": null,
   "metadata": {},
   "outputs": [],
   "source": [
    "d1={1:2,2:3,1:3,3:5,1:6}\n",
    "print(d1)"
   ]
  },
  {
   "cell_type": "markdown",
   "metadata": {},
   "source": [
    "## 2.3 Ausgabe des Dictionary"
   ]
  },
  {
   "cell_type": "markdown",
   "metadata": {},
   "source": [
    "Auch das Dictionary kann mit einer `for` Schleife ausgegeben werden. Allerdings benötigt die `for` Schleife ein Iterable. Es gibt drei Methoden, um ein Iterable aus einem Dictionary zu erzeugen:\n",
    "1. `items()`: erzeugt ein Iterable aller Schlüssel-Wert-Paare\n",
    "2. `keys()`: erzeugt ein Iterable aller Schlüssel\n",
    "3. `values()`: erzeugt ein Iterable aller Werte"
   ]
  },
  {
   "cell_type": "markdown",
   "metadata": {},
   "source": [
    "Bitte beachten Sie, dass ein Dictionary kein sequentieller Datentyp ist. Die Reihenfolge der Ausgabe der Werte wurde ursprünglich nicht festgelegt. Mit dem Python Standard 3.7 wurde definiert, dass die Schüssel-Wert-Paare in der Reihenfolge in einem Dictionary angespeichert werden, in der sie definiert wurden. Für frühere Python Versionen, gibt es keine solche Festlegung und über die Reihenfolge keine Aussage getroffen werden."
   ]
  },
  {
   "cell_type": "markdown",
   "metadata": {},
   "source": [
    "**Ausgabe mit `keys()`**"
   ]
  },
  {
   "cell_type": "markdown",
   "metadata": {},
   "source": [
    "`keys()` erzeugt ein Iterable aller Schlüssel. Diese können dann ausgegeben werden:"
   ]
  },
  {
   "cell_type": "code",
   "execution_count": null,
   "metadata": {},
   "outputs": [],
   "source": [
    "beispiel={1:12,'s1':13,'text':17,-4:12,3.4:\"8\"}\n",
    "for k in beispiel.keys():\n",
    "    print(k)"
   ]
  },
  {
   "cell_type": "markdown",
   "metadata": {},
   "source": [
    "Über den Schlüssel kann man auch den Wert ausgeben:"
   ]
  },
  {
   "cell_type": "code",
   "execution_count": null,
   "metadata": {},
   "outputs": [],
   "source": [
    "beispiel={1:12,'s1':13,'text':17,-4:12,3.4:\"8\"}\n",
    "for k in beispiel.keys():\n",
    "    print('Schlüssel',k,'mit dem Wert',beispiel[k])"
   ]
  },
  {
   "cell_type": "markdown",
   "metadata": {},
   "source": [
    "**Ausgabe mit `items()`**"
   ]
  },
  {
   "cell_type": "markdown",
   "metadata": {},
   "source": [
    "Möchte man die Schlüssel-Wert-Paare ausgeben, kann man auch direkt die Methode `items()` verwenden:"
   ]
  },
  {
   "cell_type": "code",
   "execution_count": null,
   "metadata": {},
   "outputs": [],
   "source": [
    "beispiel={1:12,'s1':13,'text':17,-4:12,3.4:\"8\"}\n",
    "for i in beispiel.items():\n",
    "    print(i)"
   ]
  },
  {
   "cell_type": "markdown",
   "metadata": {},
   "source": [
    "`items()` gibt ein Tupel zurück, das man dann entpacken kann:"
   ]
  },
  {
   "cell_type": "code",
   "execution_count": null,
   "metadata": {},
   "outputs": [],
   "source": [
    "beispiel={1:12,'s1':13,'text':17,-4:12,3.4:\"8\"}\n",
    "for s,w in beispiel.items():\n",
    "    print(s,'ist der Schluessel und',w,'ist der Wert')"
   ]
  },
  {
   "cell_type": "markdown",
   "metadata": {},
   "source": [
    "**Ausgabe mit `values()`**"
   ]
  },
  {
   "cell_type": "markdown",
   "metadata": {},
   "source": [
    "Eine letzte Möglichkeit, das Dictionary auszugeben, ist mit der Methode `values()`."
   ]
  },
  {
   "cell_type": "code",
   "execution_count": null,
   "metadata": {},
   "outputs": [],
   "source": [
    "beispiel={1:12,'s1':13,'text':17,-4:12,3.4:\"8\"}\n",
    "for v in beispiel.values():\n",
    "    print(v)"
   ]
  },
  {
   "cell_type": "markdown",
   "metadata": {},
   "source": [
    "**Bitte beachten Sie:** das Dictionary bietet **keine** Möglichkeit, den Schlüssel eines Werte zu finden (derselbe Wert könnte ja mit mehreren Schlüsseln eingetragen sein). Mit `items()` und mit `keys()` haben Sie die Möglichkeit, die Schlüssel-Werte-Paare zu erhalten, mit `values()` bekommen Sie **nur** die Werte.   "
   ]
  },
  {
   "cell_type": "markdown",
   "metadata": {},
   "source": [
    "*Ende des Notebooks*"
   ]
  },
  {
   "cell_type": "markdown",
   "metadata": {
    "deletable": false,
    "editable": false
   },
   "source": [
    "<a rel=\"license\" href=\"http://creativecommons.org/licenses/by-nc-nd/4.0/\"><img alt=\"Creative Commons Lizenzvertrag\" style=\"border-width:0\" src=\"https://i.creativecommons.org/l/by-nc-nd/4.0/88x31.png\" /></a><br /><span xmlns:dct=\"http://purl.org/dc/terms/\" property=\"dct:title\">Dieses Notebook wurde von Christina B. Class für die Lehre an der EAH Jena erstellt. Es ist lizenziert unter einer <a rel=\"license\" href=\"http://creativecommons.org/licenses/by-nc-nd/4.0/\">Creative Commons Namensnennung - Nicht kommerziell - Keine Bearbeitungen 4.0 International Lizenz</a>.\n"
   ]
  }
 ],
 "metadata": {
  "kernelspec": {
   "display_name": "Python 3 (ipykernel)",
   "language": "python",
   "name": "python3"
  },
  "language_info": {
   "codemirror_mode": {
    "name": "ipython",
    "version": 3
   },
   "file_extension": ".py",
   "mimetype": "text/x-python",
   "name": "python",
   "nbconvert_exporter": "python",
   "pygments_lexer": "ipython3",
   "version": "3.12.2"
  }
 },
 "nbformat": 4,
 "nbformat_minor": 4
}
