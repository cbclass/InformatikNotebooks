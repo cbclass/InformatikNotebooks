{
 "cells": [
  {
   "cell_type": "markdown",
   "metadata": {},
   "source": [
    "Notebook zu Stringformatierung\n",
    "\n",
    "Version 1.1, 5. November 2021, Informatik, EAH Jena\n",
    "\n",
    "(c) Christina B. Class"
   ]
  },
  {
   "cell_type": "markdown",
   "metadata": {},
   "source": [
    "# String Formatierung"
   ]
  },
  {
   "cell_type": "markdown",
   "metadata": {},
   "source": [
    "## 1. Platzhalter"
   ]
  },
  {
   "cell_type": "markdown",
   "metadata": {},
   "source": [
    "Gegeben ist die Zeichenkette `'{} + {} = {}'`.\n",
    "\n",
    "In dieser Zeichenkette dienen die `{}` als Platzhalter. Mit der Methode `format()` werden den Platzhaltern Werte zugewiesen:"
   ]
  },
  {
   "cell_type": "code",
   "execution_count": null,
   "metadata": {},
   "outputs": [],
   "source": [
    "s='{} + {} = {}'\n",
    "s1=s.format(3,4,7)\n",
    "print(s1)"
   ]
  },
  {
   "cell_type": "markdown",
   "metadata": {},
   "source": [
    "Hierbei müssen mindestens so viele Werte übergeben werden, wie Platzhalter vorhanden sind. Werden zu wenig Werte übergeben, wird ein Fehler (eine `IndexError` Ausnahme) erzeugt."
   ]
  },
  {
   "cell_type": "code",
   "execution_count": null,
   "metadata": {},
   "outputs": [],
   "source": [
    "s='{} + {} = {}'\n",
    "s1=s.format(3,4)\n",
    "print(s1)"
   ]
  },
  {
   "cell_type": "markdown",
   "metadata": {},
   "source": [
    "Zu viel übergebene Werte werden ignoriert:"
   ]
  },
  {
   "cell_type": "code",
   "execution_count": null,
   "metadata": {},
   "outputs": [],
   "source": [
    "s='{} + {} = {}'\n",
    "s1=s.format(3,4,5,6)\n",
    "print(s1)"
   ]
  },
  {
   "cell_type": "markdown",
   "metadata": {},
   "source": [
    "Die Werte, die als Parameter der Methode  `format()` übergeben werden, haben implizit eine Nummerierung beginnend bei 0. Auf diese kann in den Platzhaltern verwiesen werden. "
   ]
  },
  {
   "cell_type": "code",
   "execution_count": null,
   "metadata": {},
   "outputs": [],
   "source": [
    "s='{1} + {2} = {0}'\n",
    "s1=s.format(7,3,4)\n",
    "print(s1)"
   ]
  },
  {
   "cell_type": "markdown",
   "metadata": {},
   "source": [
    "So kann derselbe Wert auch mehrfach verwendet werden:"
   ]
  },
  {
   "cell_type": "code",
   "execution_count": null,
   "metadata": {},
   "outputs": [],
   "source": [
    "s='{0} + {0} = {1}'\n",
    "s1=s.format(3,6)\n",
    "print(s1)"
   ]
  },
  {
   "cell_type": "markdown",
   "metadata": {},
   "source": [
    "Durch die explizite Nummerierung in den Platzhaltern oben, erwartet `format()` zwei Werte. "
   ]
  },
  {
   "cell_type": "markdown",
   "metadata": {},
   "source": [
    "Anstelle der Nummerierung, kann man auch Bezeichner verwenden, um auf die entsprechenden Werte hinzuweisen. Dies ist in der Regel einfacher zu verstehen als die implizite Nummerierung und daher zu empfehlen:"
   ]
  },
  {
   "cell_type": "code",
   "execution_count": null,
   "metadata": {},
   "outputs": [],
   "source": [
    "s='{s1} + {s2} = {e}'\n",
    "s1=s.format(s1=3,s2=4,e=7)\n",
    "print(s1)"
   ]
  },
  {
   "cell_type": "markdown",
   "metadata": {},
   "source": [
    "und"
   ]
  },
  {
   "cell_type": "code",
   "execution_count": null,
   "metadata": {},
   "outputs": [],
   "source": [
    "s='{s} + {s} = {e}'\n",
    "s1=s.format(s=3,e=6)\n",
    "print(s1)"
   ]
  },
  {
   "cell_type": "markdown",
   "metadata": {},
   "source": [
    "Werden in den Platzhaltern Bezeichner verwendet, müssen diese auch im Aufruf von `format()` verwendet werden, sonst gibt es einen Fehler (es wird die `KeyError` Ausnahme erzeugt). "
   ]
  },
  {
   "cell_type": "code",
   "execution_count": null,
   "metadata": {},
   "outputs": [],
   "source": [
    "s='{s1} + {s2} = {e}'\n",
    "s1=s.format(3,4,7)\n",
    "print(s1)"
   ]
  },
  {
   "cell_type": "markdown",
   "metadata": {},
   "source": [
    "## 2. Formatierung"
   ]
  },
  {
   "cell_type": "markdown",
   "metadata": {},
   "source": [
    "In den Platzhaltern kann spezifiert werden, wie die entsprechenden Werte zu formatieren sind.\n",
    "\n",
    "Wie in der Vorlesung angegeben, kann der Formatierungsstring viele optionale Angaben enthalten:\n",
    "\n",
    "`[[fill]align][sign][#][0][width][,][.precision][type]`"
   ]
  },
  {
   "cell_type": "markdown",
   "metadata": {},
   "source": [
    "Wir werden in diesem Modul nur eine Auswahl der Angaben betrachten."
   ]
  },
  {
   "cell_type": "markdown",
   "metadata": {},
   "source": [
    "Formatierungsangaben werden durch einen Doppelpunkt `:` in den Platzhaltern `{}` eingeleitet. Vor dem Doppelpunkt können wie oben erläutert Zahlen oder Bezeichner stehen, müssen aber nicht."
   ]
  },
  {
   "cell_type": "markdown",
   "metadata": {},
   "source": [
    "## 2.1  Width: minimale Darstellungsbreite"
   ]
  },
  {
   "cell_type": "markdown",
   "metadata": {},
   "source": [
    "Die Angabe einer minimalen Darstellungsbreite erfolgt durch eine ganze Zahl. Sie eignet sich insbeondere, um tabellarische Darstellungen zu erzielen. Bei Angabe der minimalen Darstellungsbreite werden Zahlen rechtsbündig dargestellt."
   ]
  },
  {
   "cell_type": "code",
   "execution_count": null,
   "metadata": {},
   "outputs": [],
   "source": [
    "werte=[1,10,100,1000]\n",
    "s='Wert: {:4}'\n",
    "for w in werte:\n",
    "    ausgabe=s.format(w)\n",
    "    print(ausgabe)"
   ]
  },
  {
   "cell_type": "markdown",
   "metadata": {},
   "source": [
    "Reicht die Angabe der minimalen Darstellungsbreite nicht aus, wird der Wert natürlich trotzdem richtig dargestellt:"
   ]
  },
  {
   "cell_type": "code",
   "execution_count": null,
   "metadata": {},
   "outputs": [],
   "source": [
    "werte=[1,10,100,1000]\n",
    "s='Wert: {:3}'\n",
    "for w in werte:\n",
    "    ausgabe=s.format(w)\n",
    "    print(ausgabe)"
   ]
  },
  {
   "cell_type": "markdown",
   "metadata": {},
   "source": [
    "Das Vorzeichen muss bei der Bestimmung der minimalen Darstellungsbreite bedacht werden: "
   ]
  },
  {
   "cell_type": "code",
   "execution_count": null,
   "metadata": {},
   "outputs": [],
   "source": [
    "werte=[1,10,100,-1000]\n",
    "s='Wert: {:4}'\n",
    "for w in werte:\n",
    "    ausgabe=s.format(w)\n",
    "    print(ausgabe)"
   ]
  },
  {
   "cell_type": "markdown",
   "metadata": {},
   "source": [
    "Die minimale Darstellungsbreite wird auch auf Zeichenketten angewandt. Diese werden linksbündig angeordnet."
   ]
  },
  {
   "cell_type": "code",
   "execution_count": null,
   "metadata": {},
   "outputs": [],
   "source": [
    "worte=['Guten','Tag','und','herzlich','willkommen']\n",
    "s='{:10} ist das Wort'\n",
    "for w in worte:\n",
    "    ausgabe=s.format(w)\n",
    "    print(ausgabe)"
   ]
  },
  {
   "cell_type": "markdown",
   "metadata": {},
   "source": [
    "Auch hier gilt natürlich, dass das ganze Wort ausgegeben wird, auch wenn die minimale Darstellungsbreite zu klein ist."
   ]
  },
  {
   "cell_type": "code",
   "execution_count": null,
   "metadata": {},
   "outputs": [],
   "source": [
    "worte=['Guten','Tag','und','herzlich','willkommen']\n",
    "s='{:6} ist das Wort'\n",
    "for w in worte:\n",
    "    ausgabe=s.format(w)\n",
    "    print(ausgabe)"
   ]
  },
  {
   "cell_type": "markdown",
   "metadata": {},
   "source": [
    "**Aufgabe:**\n",
    "\n",
    "Gegeben ist die folgende Liste von Zahlen. Geben Sie diese rechtsbündig aus."
   ]
  },
  {
   "cell_type": "code",
   "execution_count": null,
   "metadata": {},
   "outputs": [],
   "source": [
    "dieListe=[-13,12,4,19,102,-99]\n",
    "\n",
    "# Ihre Loesung"
   ]
  },
  {
   "cell_type": "markdown",
   "metadata": {},
   "source": [
    "## 2.2 Anzahl Nachkommastellen"
   ]
  },
  {
   "cell_type": "markdown",
   "metadata": {},
   "source": [
    "Sie können die Ausgabe der Nachkommastellen auf eine bestimmte Anzahl beschränken. Dies ist natürlich  nur dann sinnvoll, wenn Sie die Zahl mit Nachkommastellen ausgeben. Hierzu wird dann `f` zur Formatierung der Zahl (Angabe von `type`) verwendet. "
   ]
  },
  {
   "cell_type": "markdown",
   "metadata": {},
   "source": [
    "Die Angabe der Nachkommastellen wird mit einem Punkt `.` eingeleitet. Sie steht *nach* der Angabe der minimalen Darstellungsbreite und *vor* der Angabe des Typs."
   ]
  },
  {
   "cell_type": "code",
   "execution_count": null,
   "metadata": {},
   "outputs": [],
   "source": [
    "zahlen=[1.0,1.34,12532.432,9.3,7.123141]\n",
    "ausgabe='{:.2f}'\n",
    "for z in zahlen:\n",
    "    print(ausgabe.format(z))"
   ]
  },
  {
   "cell_type": "markdown",
   "metadata": {},
   "source": [
    "Ohne Angabe des Typs `f` wird  eine Nachkommastelle weniger angezeigt. Auch wird eine große Zahl in der wissenschaftlichen Darstellungsform ausgegeben."
   ]
  },
  {
   "cell_type": "code",
   "execution_count": null,
   "metadata": {},
   "outputs": [],
   "source": [
    "zahlen=[1.0,1.34,12532.432,9.3,7.123141]\n",
    "ausgabe='{:.2}'\n",
    "for z in zahlen:\n",
    "    print(ausgabe.format(z))"
   ]
  },
  {
   "cell_type": "markdown",
   "metadata": {},
   "source": [
    "Stehen in Ihrer Liste ganze Zahlen, erhalten Sie einen Fehler (die `ValueError` Ausnahme), wenn Sie die Anzahl Nachkommastellen angeben, *ohne* den Typ für die Ausgabe zu spezifizieren."
   ]
  },
  {
   "cell_type": "code",
   "execution_count": null,
   "metadata": {},
   "outputs": [],
   "source": [
    "zahlen=[1,1.34,12532.432,9.3,7.123141]\n",
    "ausgabe='{:.2}'\n",
    "for z in zahlen:\n",
    "    print(ausgabe.format(z))"
   ]
  },
  {
   "cell_type": "markdown",
   "metadata": {},
   "source": [
    "Sie können die minimale Darstellungsbreite mit der Angabe der Nachkommastellen verbinden. Vergessen Sie nicht, für das Komma (also den `.`) eine Stelle freizuhalten:"
   ]
  },
  {
   "cell_type": "code",
   "execution_count": null,
   "metadata": {},
   "outputs": [],
   "source": [
    "zahlen=[1,1.34,12532.432,9.3,7.123141]\n",
    "ausgabe='{:8.2f}'\n",
    "for z in zahlen:\n",
    "    print(ausgabe.format(z))"
   ]
  },
  {
   "cell_type": "markdown",
   "metadata": {},
   "source": [
    "Durch Angabe eines `+` wird das **Vorzeichen** auch bei positiven Zahlen angezeigt:"
   ]
  },
  {
   "cell_type": "code",
   "execution_count": null,
   "metadata": {},
   "outputs": [],
   "source": [
    "zahlen=[13.231,-3.12,45,3.2134]\n",
    "ausgabe='{:+8.2f}'\n",
    "for z in zahlen:\n",
    "    print(ausgabe.format(z))"
   ]
  },
  {
   "cell_type": "markdown",
   "metadata": {},
   "source": [
    "**Aufgabe:** Geben Sie folgende Liste rechtsbündig mit 1 Nachkommastelle aus."
   ]
  },
  {
   "cell_type": "code",
   "execution_count": null,
   "metadata": {},
   "outputs": [],
   "source": [
    "dieListe=[1,3.123,-13.2,5.321]\n",
    "\n",
    "# Ihre Loesung"
   ]
  },
  {
   "cell_type": "markdown",
   "metadata": {},
   "source": [
    "*Ende des Notebooks*"
   ]
  },
  {
   "cell_type": "markdown",
   "metadata": {
    "deletable": false,
    "editable": false
   },
   "source": [
    "<a rel=\"license\" href=\"http://creativecommons.org/licenses/by-nc-nd/4.0/\"><img alt=\"Creative Commons Lizenzvertrag\" style=\"border-width:0\" src=\"https://i.creativecommons.org/l/by-nc-nd/4.0/88x31.png\" /></a><br /><span xmlns:dct=\"http://purl.org/dc/terms/\" property=\"dct:title\">Dieses Notebook wurde von Christina B. Class für die Lehre an der EAH Jena erstellt. Es ist lizenziert unter einer <a rel=\"license\" href=\"http://creativecommons.org/licenses/by-nc-nd/4.0/\">Creative Commons Namensnennung - Nicht kommerziell - Keine Bearbeitungen 4.0 International Lizenz</a>.\n",
    "\n"
   ]
  }
 ],
 "metadata": {
  "kernelspec": {
   "display_name": "Python 3 (ipykernel)",
   "language": "python",
   "name": "python3"
  },
  "language_info": {
   "codemirror_mode": {
    "name": "ipython",
    "version": 3
   },
   "file_extension": ".py",
   "mimetype": "text/x-python",
   "name": "python",
   "nbconvert_exporter": "python",
   "pygments_lexer": "ipython3",
   "version": "3.10.13"
  }
 },
 "nbformat": 4,
 "nbformat_minor": 4
}
