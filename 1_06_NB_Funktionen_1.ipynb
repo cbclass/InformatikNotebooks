{
 "cells": [
  {
   "cell_type": "markdown",
   "metadata": {},
   "source": [
    "Notebook zu Funktionen: Teil 1\n",
    "\n",
    "Version 1.2b, 10. Dez 2024, Informatik, EAH Jena\n",
    "\n",
    "(c) Christina B. Class\n"
   ]
  },
  {
   "cell_type": "markdown",
   "metadata": {},
   "source": [
    "# Funktionen"
   ]
  },
  {
   "cell_type": "markdown",
   "metadata": {},
   "source": [
    "**Erinnerung:**\n",
    "\n",
    "In einer Funktion wird Programmcode **definiert**. Dieser wird allerdings erst dann ausgeführt, wenn die Funktion **aufgerufen** wird. Deswegen muss zwischen der Funktion selber und dem Funktionsaufruf unterschieden werden. \n",
    "\n",
    "Sie funktionieren nur **zusammen**: der Funktionsaufruf bewirkt letzten Endes, dass der Code der Funktion auch wirklich ausgeführt wird."
   ]
  },
  {
   "cell_type": "markdown",
   "metadata": {},
   "source": [
    "## 1. Einfache Funktionen"
   ]
  },
  {
   "cell_type": "markdown",
   "metadata": {},
   "source": [
    "Die einfache Funktion wird folgendermaßen **definiert**:\n",
    "\n",
    "```python\n",
    "def funktionname():\n",
    "    Anweisungen\n",
    "```\n"
   ]
  },
  {
   "cell_type": "markdown",
   "metadata": {},
   "source": [
    "Die Definition wird durch das Schlüsselwort `def` eingeleitet. Für den Funktionsnamen gelten die gleichen Regeln wie für Variablennamen. Alle Anweisungen der Funktion werden, wie auch beim `if`, `while` und `for` eingerückt.\n",
    "\n",
    "Die `()` sind wesentlich und zeigen an, dass eine Funktion definiert wird. "
   ]
  },
  {
   "cell_type": "markdown",
   "metadata": {},
   "source": [
    "Die folgende Funktion gibt einen Text auf dem Bildschirm aus:"
   ]
  },
  {
   "cell_type": "code",
   "execution_count": null,
   "metadata": {},
   "outputs": [],
   "source": [
    "# Beispiel 1\n",
    "def beispiel1():\n",
    "    print('Das ist eine Beispielfunktion')"
   ]
  },
  {
   "cell_type": "markdown",
   "metadata": {},
   "source": [
    "Wenn Sie obigen Code laufen lassen, werden Sie nichts beobachten. Einzig in den `[]` Klammern neben dem `In` erscheint eine Zahl (oder verändert sich)."
   ]
  },
  {
   "cell_type": "markdown",
   "metadata": {},
   "source": [
    "Dadurch, dass Sie den Code haben laufen lassen, kennt Python jetzt die Definition der Funktion `beispiel1()`:"
   ]
  },
  {
   "cell_type": "code",
   "execution_count": null,
   "metadata": {},
   "outputs": [],
   "source": [
    "type(beispiel1)"
   ]
  },
  {
   "cell_type": "markdown",
   "metadata": {},
   "source": [
    "Der Typ (`type`) von `beispiel1` ist `function`, also eine Funktion."
   ]
  },
  {
   "cell_type": "markdown",
   "metadata": {},
   "source": [
    "Damit der Code der Funktion ausgeführt wird, muss die Funktion aufgerufen werden. Dies erfolgt durch `funktionsname()` bzw. in unserem Fall durch:"
   ]
  },
  {
   "cell_type": "code",
   "execution_count": null,
   "metadata": {},
   "outputs": [],
   "source": [
    "beispiel1()"
   ]
  },
  {
   "cell_type": "markdown",
   "metadata": {},
   "source": [
    "**Hinweis:**  Es ist gerade am Anfang ein häufiger Fehler, dass man eine Funktion definiert und sich wundert, warum nichts \"passiert\". Dies liegt oft daran, dass man vergisst, die Funktion auch effektiv aufzurufen!"
   ]
  },
  {
   "cell_type": "markdown",
   "metadata": {},
   "source": [
    "**Hinweis:** Die Klammern `()` sind Teil des Funktionsaufrufes. Werden sie vergessen, erhalten Sie Information über die Funktion, sie wird jedoch **nicht** aufgerufen."
   ]
  },
  {
   "cell_type": "code",
   "execution_count": null,
   "metadata": {},
   "outputs": [],
   "source": [
    "beispiel1"
   ]
  },
  {
   "cell_type": "markdown",
   "metadata": {},
   "source": [
    "**Aufgabe:** \n",
    "\n",
    "- Schreiben Sie eine Funktion, die Ihren Namen auf dem Bildschirm ausgibt."
   ]
  },
  {
   "cell_type": "code",
   "execution_count": null,
   "metadata": {},
   "outputs": [],
   "source": [
    "# Ihre Loesung"
   ]
  },
  {
   "cell_type": "markdown",
   "metadata": {},
   "source": [
    "- Rufen Sie Ihre Funktion auf:"
   ]
  },
  {
   "cell_type": "code",
   "execution_count": null,
   "metadata": {},
   "outputs": [],
   "source": [
    "# Ihre Loesung"
   ]
  },
  {
   "cell_type": "markdown",
   "metadata": {},
   "source": [
    "In einer Funktion können Sie alle Codeelemente verwenden, die wir bisher kennengelernt haben. Sie können z.Bsp. auch Schleifen verwenden. Sie können auch Variable definieren. Variable in einer Funktion nennt man **lokale Variable**. Man kann nur innerhalb der Funktion auf diese Variable zugreifen. Auch existieren sie nur so lange, wie die Funktion ausgeführt wird. "
   ]
  },
  {
   "cell_type": "markdown",
   "metadata": {},
   "source": [
    "**Aufgabe:**\n",
    "\n",
    "- Schreiben Sie eine Funktion, die alle Zahlen von 1 bis 10 ausgibt. Verwenden Sie hierfür eine `for` Schleife."
   ]
  },
  {
   "cell_type": "code",
   "execution_count": null,
   "metadata": {},
   "outputs": [],
   "source": [
    "# Ihre Loesung"
   ]
  },
  {
   "cell_type": "markdown",
   "metadata": {},
   "source": [
    "- Rufen Sie Ihre Funktion auf."
   ]
  },
  {
   "cell_type": "code",
   "execution_count": null,
   "metadata": {},
   "outputs": [],
   "source": [
    "# Ihre Loesung"
   ]
  },
  {
   "cell_type": "markdown",
   "metadata": {},
   "source": [
    "## 2. Parameter"
   ]
  },
  {
   "cell_type": "markdown",
   "metadata": {},
   "source": [
    "**Parameter** erlauben es, dass Informationen von der aufrufenden Stelle an die Funktion übergeben werden. Funktionen mit Paramertern werden folgendermaßen definiert:\n",
    "\n",
    "```python\n",
    "def funktionsname(Parameterlist):\n",
    "    Anweisungen\n",
    "```"
   ]
  },
  {
   "cell_type": "markdown",
   "metadata": {},
   "source": [
    "Die **Parameterliste** enthält die Namen aller Parameter. Diese werden durch Kommata `,` getrennt."
   ]
  },
  {
   "cell_type": "markdown",
   "metadata": {},
   "source": [
    "Beispiel für eine Funktion mit einem Parameter:"
   ]
  },
  {
   "cell_type": "code",
   "execution_count": null,
   "metadata": {},
   "outputs": [],
   "source": [
    "def beispiel2(a):\n",
    "    print('der Parameter hat den Wert',a)"
   ]
  },
  {
   "cell_type": "markdown",
   "metadata": {},
   "source": [
    "Die Parameter, die bei der Funktionsdefinition in der Paramterliste definiert werden, heißen **formale Parameter**. Es ist formal definiert, dass diese Parameter existieren."
   ]
  },
  {
   "cell_type": "markdown",
   "metadata": {},
   "source": [
    "Für die Ausführung der Funktion werden dann aber konkrete Werte für die Parameter benötigt, die der Funktion übergeben werden müssen. Diese Werte gelten für die aktuelle Ausführung der Funktion und heißen daher **aktuelle Parameter**."
   ]
  },
  {
   "cell_type": "markdown",
   "metadata": {},
   "source": [
    "Wenn eine Funktion einen formalen Paramter hat, muss beim Funktionaufruf ein Wert für den Parameter, also ein aktueller Parameter, übergeben werden: "
   ]
  },
  {
   "cell_type": "code",
   "execution_count": null,
   "metadata": {},
   "outputs": [],
   "source": [
    "beispiel2(12)"
   ]
  },
  {
   "cell_type": "markdown",
   "metadata": {},
   "source": [
    "Ein aktueller Paramter kann als konkreter Wert übergeben werden, wie in obigem Beispiel. Sie können aber auch eine Variable übergeben."
   ]
  },
  {
   "cell_type": "code",
   "execution_count": null,
   "metadata": {},
   "outputs": [],
   "source": [
    "zahl=12\n",
    "beispiel2(zahl)"
   ]
  },
  {
   "cell_type": "markdown",
   "metadata": {},
   "source": [
    "Wird kein Wert übergeben, ist der Aufruf fehlerhaft. Bitte notieren Sie sich die Fehlermeldung:"
   ]
  },
  {
   "cell_type": "code",
   "execution_count": null,
   "metadata": {},
   "outputs": [],
   "source": [
    "beispiel2()"
   ]
  },
  {
   "cell_type": "markdown",
   "metadata": {},
   "source": [
    "Eine Funktion kann mehrere Parameter haben:"
   ]
  },
  {
   "cell_type": "code",
   "execution_count": null,
   "metadata": {},
   "outputs": [],
   "source": [
    "def beispiel3(a,b,c):\n",
    "    print('die drei Paramterwerte sind:',a,b,c)"
   ]
  },
  {
   "cell_type": "markdown",
   "metadata": {},
   "source": [
    "`beispiel3()` hat drei formale Parameter. Daher müssen beim Aufruf drei aktuelle Parameter übergeben werden. "
   ]
  },
  {
   "cell_type": "code",
   "execution_count": null,
   "metadata": {},
   "outputs": [],
   "source": [
    "beispiel3(1,2,3)"
   ]
  },
  {
   "cell_type": "markdown",
   "metadata": {},
   "source": [
    "Dies gilt auch, wenn alle aktuellen Paramter den gleichen Wert haben:"
   ]
  },
  {
   "cell_type": "code",
   "execution_count": null,
   "metadata": {},
   "outputs": [],
   "source": [
    "beispiel3(1,1,1)"
   ]
  },
  {
   "cell_type": "markdown",
   "metadata": {},
   "source": [
    "Wenn Sie weniger Parameter übergeben, erhalten Sie einen Fehler:"
   ]
  },
  {
   "cell_type": "code",
   "execution_count": null,
   "metadata": {},
   "outputs": [],
   "source": [
    "beispiel3(1)"
   ]
  },
  {
   "cell_type": "markdown",
   "metadata": {},
   "source": [
    "Dies gilt auch, wenn Sie zu viele Parameter übergeben:"
   ]
  },
  {
   "cell_type": "code",
   "execution_count": null,
   "metadata": {},
   "outputs": [],
   "source": [
    "beispiel3(1,1,2,3)"
   ]
  },
  {
   "cell_type": "markdown",
   "metadata": {},
   "source": [
    "**Regel:** Beim Funktionsaufruf müssen genauso viele aktuelle Parameterwerte übergeben werden, wie formale Parameter definiert sind."
   ]
  },
  {
   "cell_type": "markdown",
   "metadata": {},
   "source": [
    "### 2. 1 Positions- und Schlüsselwortparameter"
   ]
  },
  {
   "cell_type": "markdown",
   "metadata": {},
   "source": [
    "Gegeben ist die folgende Funktion mit drei Parametern:"
   ]
  },
  {
   "cell_type": "code",
   "execution_count": null,
   "metadata": {},
   "outputs": [],
   "source": [
    "def beispiel4(a,b,c):\n",
    "    print('a=',a,'b=',b,'c=',c)"
   ]
  },
  {
   "cell_type": "markdown",
   "metadata": {},
   "source": [
    "Und der folgende Funktionsaufruf:"
   ]
  },
  {
   "cell_type": "code",
   "execution_count": null,
   "metadata": {},
   "outputs": [],
   "source": [
    "beispiel4(1,2,3)"
   ]
  },
  {
   "cell_type": "markdown",
   "metadata": {},
   "source": [
    "Wie Sie sehen können, werden die Werte der aktuellen Parameter den formalen Parametern der Reihe nach zugewiesen. Ob die 2 dem Parameter `a`, `b` oder `c` zugeordnet wird, hängt von der Position der 2 in der Parameterliste beim Aufruf ab. Da die 2 an 2. Stelle steht, wird `b` zu 2. Stünde die 2 an dritter Stelle, bekäme `c` den Wert 2:"
   ]
  },
  {
   "cell_type": "code",
   "execution_count": null,
   "metadata": {},
   "outputs": [],
   "source": [
    "beispiel4(1,1,2)"
   ]
  },
  {
   "cell_type": "markdown",
   "metadata": {},
   "source": [
    "Aus diesem Grund nennt man Parameter, die nur mit dem Wert übergeben werden, auch **Positionsparameter** (**positional argument**)."
   ]
  },
  {
   "cell_type": "markdown",
   "metadata": {},
   "source": [
    "Python bietet auch die Möglichkeit, beim Aufruf einer Funktion zu spezifizieren, welcher Parameter welchen Wert haben soll. Dies erfolgt durch Angabe des Parameternamens und dem `=`:"
   ]
  },
  {
   "cell_type": "code",
   "execution_count": null,
   "metadata": {},
   "outputs": [],
   "source": [
    "beispiel4(a=1,b=2,c=3)"
   ]
  },
  {
   "cell_type": "markdown",
   "metadata": {},
   "source": [
    "Solche aktuellen Parameter nennt man **Schlüsselwortparameter** (**keyword arguments**).\n",
    "\n",
    "Positions- und Schlüsselwortparameter sind also *Eigenschaften* der *aktuellen Parameter* und hängen vom *Funktionsaufruf* ab. "
   ]
  },
  {
   "cell_type": "markdown",
   "metadata": {},
   "source": [
    "Wenn Sie Schlüsselwortparameter übergeben, ergibt sich die Zuordnung  durch den Parameternamen, nicht die Position. Sie können die Parameter also in einer anderen Reihenfolge übergeben:"
   ]
  },
  {
   "cell_type": "code",
   "execution_count": null,
   "metadata": {},
   "outputs": [],
   "source": [
    "beispiel4(c=3,b=2,a=1)"
   ]
  },
  {
   "cell_type": "markdown",
   "metadata": {},
   "source": [
    "und im Vergleich dazu:"
   ]
  },
  {
   "cell_type": "code",
   "execution_count": null,
   "metadata": {},
   "outputs": [],
   "source": [
    "beispiel4(3,2,1)"
   ]
  },
  {
   "cell_type": "markdown",
   "metadata": {},
   "source": [
    "In einem Funktionsaufruf können Sie sowohl Positions- als auch Schlüsselwortparameter übergeben:"
   ]
  },
  {
   "cell_type": "code",
   "execution_count": null,
   "metadata": {},
   "outputs": [],
   "source": [
    "beispiel4(1,b=2,c=3)"
   ]
  },
  {
   "cell_type": "markdown",
   "metadata": {},
   "source": [
    "Hierbei darf nach Angabe eines Schlüsselwortparameters kein Positionsparameter mehr übergeben werden:"
   ]
  },
  {
   "cell_type": "code",
   "execution_count": null,
   "metadata": {},
   "outputs": [],
   "source": [
    "beispiel4(1,b=2,3)"
   ]
  },
  {
   "cell_type": "markdown",
   "metadata": {},
   "source": [
    "Achten Sie auch darauf, dass jeder Parameter genau einen Wert übergeben bekommt:"
   ]
  },
  {
   "cell_type": "code",
   "execution_count": null,
   "metadata": {},
   "outputs": [],
   "source": [
    "beispiel4(1,b=2,a=3)"
   ]
  },
  {
   "cell_type": "markdown",
   "metadata": {},
   "source": [
    "### 2.2 Parameter mit Default Werten"
   ]
  },
  {
   "cell_type": "markdown",
   "metadata": {},
   "source": [
    "Weiter oben haben wir folgende Regel formuliert:"
   ]
  },
  {
   "cell_type": "markdown",
   "metadata": {},
   "source": [
    "**Regel:** Beim Funktionsaufruf müssen genauso viele aktuelle Parameterwerte übergeben werden, wie formale Parameter definiert sind."
   ]
  },
  {
   "cell_type": "markdown",
   "metadata": {},
   "source": [
    "Diese Regel ist nicht ganz präzise. Es gibt in Python die Möglichkeit, **Defaultwerte** zu bestimmen. Das sind Werte, die Parameter haben sollen, *sofern* beim Aufruf kein aktueller Parameter übergeben wird. Defaultwerte werden mit einem `=` hinter dem Paramternamen spezifiziert."
   ]
  },
  {
   "cell_type": "markdown",
   "metadata": {},
   "source": [
    "Die folgende Funktion hat einen Parameter mit Defaultwert:"
   ]
  },
  {
   "cell_type": "code",
   "execution_count": null,
   "metadata": {},
   "outputs": [],
   "source": [
    "def beispiel5(a=1):\n",
    "    print('a=',a)"
   ]
  },
  {
   "cell_type": "markdown",
   "metadata": {},
   "source": [
    "Wird `beispiel5()` aufgerufen ohne einen aktuellen Parameterwert für `a` zu übergeben, wird der Wert 1 genommen."
   ]
  },
  {
   "cell_type": "code",
   "execution_count": null,
   "metadata": {},
   "outputs": [],
   "source": [
    "beispiel5()"
   ]
  },
  {
   "cell_type": "markdown",
   "metadata": {},
   "source": [
    "Wird beim Aufruf von `beispiel5()` ein Wert für den Parameter übergeben, erhält `a` diesen Wert:"
   ]
  },
  {
   "cell_type": "code",
   "execution_count": null,
   "metadata": {},
   "outputs": [],
   "source": [
    "beispiel5(3)"
   ]
  },
  {
   "cell_type": "markdown",
   "metadata": {},
   "source": [
    "Selbstverständlich kann eine Funktion Parameter mit und ohne Defaultwerte haben: In der Parameterliste müssen **alle** Parameter ohne Defaultwerte vor den Parametern mit Defaultwerten stehen."
   ]
  },
  {
   "cell_type": "code",
   "execution_count": null,
   "metadata": {},
   "outputs": [],
   "source": [
    "def beispiel6(a,b,c='c',d='d'):\n",
    "    print('die Werte sind:',a,b,c,d)"
   ]
  },
  {
   "cell_type": "markdown",
   "metadata": {},
   "source": [
    "Folgende Aufrufe sind dann möglich:"
   ]
  },
  {
   "cell_type": "code",
   "execution_count": null,
   "metadata": {},
   "outputs": [],
   "source": [
    "beispiel6(1,2)\n",
    "beispiel6(1,2,3)\n",
    "beispiel6(1,2,3,4)"
   ]
  },
  {
   "cell_type": "markdown",
   "metadata": {},
   "source": [
    "In Verbindung mit Schlüsselwortparametern kann man *selektiv* nur manchen der Defaultparameter Werte übergeben: "
   ]
  },
  {
   "cell_type": "code",
   "execution_count": null,
   "metadata": {},
   "outputs": [],
   "source": [
    "def beispiel7(a='a',b='b',c='c',d='d'):\n",
    "    print('a=',a,'b=',b,'c=',c,'d=',d)"
   ]
  },
  {
   "cell_type": "markdown",
   "metadata": {},
   "source": [
    "Beispiele:"
   ]
  },
  {
   "cell_type": "code",
   "execution_count": null,
   "metadata": {},
   "outputs": [],
   "source": [
    "beispiel7(a=10)\n",
    "beispiel7(b=10)\n",
    "beispiel7(a=10,c=10)\n",
    "beispiel7(10,20,d=30)"
   ]
  },
  {
   "cell_type": "markdown",
   "metadata": {},
   "source": [
    "Oben formulierte Regel können wir also folgendermaßen anpassen:"
   ]
  },
  {
   "cell_type": "markdown",
   "metadata": {},
   "source": [
    "**Regel:** Beim Funktionsaufruf muss mindestens für jeden Parameter, der keinen Defaultwert hat, ein aktueller Parameterwert übergeben werden."
   ]
  },
  {
   "cell_type": "markdown",
   "metadata": {},
   "source": [
    "Oben wurde spezifiziert, dass **alle** Parameter ohne Defaultwerte vor den Parametern mit Defaultwerten stehen müssen."
   ]
  },
  {
   "cell_type": "markdown",
   "metadata": {},
   "source": [
    "Bitte notieren Sie sich die Fehlermeldung, wenn dies nicht der Fall ist:"
   ]
  },
  {
   "cell_type": "code",
   "execution_count": null,
   "metadata": {},
   "outputs": [],
   "source": [
    "def beispiel8(a,b,c='c',d):\n",
    "    print('die Werte sind:',a,b,c,d)"
   ]
  },
  {
   "cell_type": "markdown",
   "metadata": {},
   "source": [
    "**Aufgabe**:\n",
    "\n",
    "- Schreiben Sie eine Funktion wie folgt: Die Funktion erhält zwei Parameter `a` und `b`, berechnet $a^b$ und gibt das Ergebnis aus. "
   ]
  },
  {
   "cell_type": "code",
   "execution_count": null,
   "metadata": {},
   "outputs": [],
   "source": [
    "# Ihre Loesung"
   ]
  },
  {
   "cell_type": "markdown",
   "metadata": {},
   "source": [
    "- Rufen Sie Ihre Funktion auf."
   ]
  },
  {
   "cell_type": "code",
   "execution_count": null,
   "metadata": {},
   "outputs": [],
   "source": [
    "# Ihre Loesung"
   ]
  },
  {
   "cell_type": "markdown",
   "metadata": {},
   "source": [
    "**Aufgabe**:\n",
    "\n",
    "- Schreiben Sie eine Funktion wie folgt: Die Funktion erhält zwei Parameter `a` und `b`, berechnet $a^b$ und gibt das Ergebnis aus. Wird kein Wert für `b` angegeben, berechnet die Funktion $a^2$ und gibt das Ergebnis aus. `b` hat also den Defaultwert 2."
   ]
  },
  {
   "cell_type": "code",
   "execution_count": null,
   "metadata": {},
   "outputs": [],
   "source": [
    "# Ihre Loesung"
   ]
  },
  {
   "cell_type": "markdown",
   "metadata": {},
   "source": [
    "- Rufen Sie Ihre Funktion auf. Übergeben Sie hierbei \n",
    "    - nur einen Wert für den Parameter `a`\n",
    "    - einen Wert für Parameter `a` und `b`."
   ]
  },
  {
   "cell_type": "code",
   "execution_count": null,
   "metadata": {},
   "outputs": [],
   "source": [
    "# Ihre Loesung"
   ]
  },
  {
   "cell_type": "markdown",
   "metadata": {},
   "source": [
    "### 2. 3 Exkurs: Die \"unhöfliche\" Funktion und unnütze Parameter"
   ]
  },
  {
   "cell_type": "markdown",
   "metadata": {},
   "source": [
    "In Praktika sehe ich häufiger solchen Code:"
   ]
  },
  {
   "cell_type": "code",
   "execution_count": null,
   "metadata": {},
   "outputs": [],
   "source": [
    "def unhoeflich(a):\n",
    "    a=int(input())\n",
    "    print(2*a)"
   ]
  },
  {
   "cell_type": "markdown",
   "metadata": {},
   "source": [
    "Ich sage Studierenden, die solche Funktionen schreiben, dann immer scherzhaft: \"Ihre Funktion ist aber unhöflich\".\n",
    "\n",
    "Haben Sie ein Idee, warum ich das sage? \n",
    "\n",
    "Die Funktion hat einen formalen Parameter. Man kann sie also nur aufrufen, wenn man ihr einen Wert übergibt. Als allererstes überschreibt die Funktion allerdings den ihr übergebenen Wert. Das ist so als würde ich Sie bitten, mir  ein Formular auszufüllen und mitzunehmen, wenn Sie in die Sprechstunde kommen. Aber dann werfe ich noch nicht einmal einen Blick darauf, sondern werfe ich es gleich weg. Sehen Sie, was ich meine?\n",
    "\n",
    "Parameter sollten nur dann verwendet werden, wenn die Funktion zumindest in bestimmten Fällen lesend darauf zugreift, bevor sie den Wert u.U. verändert. Sonst braucht es diesen Parameter einfach nicht."
   ]
  },
  {
   "cell_type": "markdown",
   "metadata": {},
   "source": [
    "##  3. Rückgabewerte"
   ]
  },
  {
   "cell_type": "markdown",
   "metadata": {},
   "source": [
    "Ein **Rückgabewert** erlaubt es der Funktion, Informationen an die aufrufende Stelle zurückzugeben. Es ist dann am Code, der die Funktion aufruft, ob diese Information verwendet  (also z.B. ausgegeben oder in einer Variablen gespeichert) wird oder nicht. "
   ]
  },
  {
   "cell_type": "markdown",
   "metadata": {},
   "source": [
    "Die Rückgabe erfolgt mit der **Anweisung** `return`."
   ]
  },
  {
   "cell_type": "markdown",
   "metadata": {},
   "source": [
    "Der Funktionsdefinitionszeile kann nicht angesehen werden, ob eine Funktion einen Rückgabewert hat oder nicht. Hierzu muss man den Code der Funktion betrachten und feststellen, ob ein `return` vorliegt oder nicht."
   ]
  },
  {
   "cell_type": "markdown",
   "metadata": {},
   "source": [
    "### 3.1 Ein Rückgabewert"
   ]
  },
  {
   "cell_type": "markdown",
   "metadata": {},
   "source": [
    "Beispiel für eine Funktion mit einem Parameter und Rückgabewert:"
   ]
  },
  {
   "cell_type": "code",
   "execution_count": null,
   "metadata": {},
   "outputs": [],
   "source": [
    "def beispiel9(a):\n",
    "    return 2*a"
   ]
  },
  {
   "cell_type": "markdown",
   "metadata": {},
   "source": [
    "Aufruf der Funktion:"
   ]
  },
  {
   "cell_type": "code",
   "execution_count": null,
   "metadata": {},
   "outputs": [],
   "source": [
    "beispiel9(12)"
   ]
  },
  {
   "cell_type": "markdown",
   "metadata": {},
   "source": [
    "Das Jupyter Notebook basiert of IPython / der IPython Console, die Sie auch in Spyder verwenden. In der IPython Console würden Sie nach Aufruf einer Funktion mit einem Rückgabewert, ohne diesen zu speichern, den Wert ebenfalls in der mit `Out[]` beginnenden Zeile sehen. Wenn Sie diesen Aufruf allerdings in ein Python Skript (eine .py Datei, im Editor Fenster) schreiben, sehen Sie nichts. \n",
    "\n",
    "Das ist analog zur Anweisung `3+4` in der IPython Console (`Out[]` zeigt dann das Ergebnis an) und einem Python Skript im Editor Fenster (dort würden Sie nichts sehen).\n",
    "\n",
    "Bitte achten Sie darauf, wenn Sie im Praktikum mit Spyder arbeiten.\n",
    "\n",
    "In der Vorlesung habe ich es \"vergessen\" genannt, wenn man nichts mit dem Rückgabewert macht. Der Rückgabewert der Funktion in obigem Beispiel wird also vergessen."
   ]
  },
  {
   "cell_type": "markdown",
   "metadata": {},
   "source": [
    "Man kann den Rückgabewert natürlich direkt ausgeben:"
   ]
  },
  {
   "cell_type": "code",
   "execution_count": null,
   "metadata": {},
   "outputs": [],
   "source": [
    "print(beispiel9(12))"
   ]
  },
  {
   "cell_type": "markdown",
   "metadata": {},
   "source": [
    "oder in einer Variablen speichern, um ihn dann später zu verwenden:"
   ]
  },
  {
   "cell_type": "code",
   "execution_count": null,
   "metadata": {},
   "outputs": [],
   "source": [
    "ergebnis=beispiel9(12)\n",
    "print('der Rueckgabewert war:',ergebnis)"
   ]
  },
  {
   "cell_type": "markdown",
   "metadata": {},
   "source": [
    "### 3.2 Hinweise "
   ]
  },
  {
   "cell_type": "markdown",
   "metadata": {},
   "source": [
    "**Hinweis:** Die Anweisung `return` beendet die Ausführung der Funktion. Anweisungen, die nach einem `return` stehen, werden nicht ausgeführt."
   ]
  },
  {
   "cell_type": "code",
   "execution_count": null,
   "metadata": {},
   "outputs": [],
   "source": [
    "def beispiel10():\n",
    "    print('vor return')\n",
    "    return 12\n",
    "    print('nach return')"
   ]
  },
  {
   "cell_type": "code",
   "execution_count": null,
   "metadata": {},
   "outputs": [],
   "source": [
    "beispiel10()"
   ]
  },
  {
   "cell_type": "markdown",
   "metadata": {},
   "source": [
    "Es gibt Programmiersprachen, die erlauben nicht, dass Sie solchen Code schreiben. In Python müssen Sie als Programmierer:in selber darauf achten, dass Sie keinen Code schreiben, der nicht ausgeführt werden kann."
   ]
  },
  {
   "cell_type": "markdown",
   "metadata": {},
   "source": [
    "**Hinweis:** Python überprüft nicht, ob immer ein Wert zurückgegeben wird. Als Progammierer:in müssen Sie also selber darauf achten, dass die Rückgabe definiert ist. Dies kann insbesondere auftreten, wenn Sie die Selektion verwenden. "
   ]
  },
  {
   "cell_type": "code",
   "execution_count": null,
   "metadata": {},
   "outputs": [],
   "source": [
    "def beispiel11():\n",
    "    eingabe=int(input())\n",
    "    if eingabe!=0:\n",
    "        return 1/eingabe\n",
    "    else:\n",
    "        print('Division durch 0 ist nicht definiert.')"
   ]
  },
  {
   "cell_type": "markdown",
   "metadata": {},
   "source": [
    "Testen Sie den folgenden Code, indem Sie einmal die 2 und einmal  die 0 eingeben:"
   ]
  },
  {
   "cell_type": "code",
   "execution_count": null,
   "metadata": {},
   "outputs": [],
   "source": [
    "erg=beispiel11()\n",
    "print('das Quadrat des Kehrwertes ist:',erg**2)"
   ]
  },
  {
   "cell_type": "markdown",
   "metadata": {},
   "source": [
    "In der Fehlermeldung steht \"TypeError: unsupported operand type(s) for ** or pow(): 'NoneType' and 'int'\". Da die Funktion, wenn 0 eingegeben wird, keine Rückgabe definiert hat, ist dieser `None`. `None` ist so etwas wie \"nichts\". Und mit \"nichts\" kann man natürlich nicht rechnen. Dieser Fehler tritt aber nur auf, wenn die Eingabe 0 ist."
   ]
  },
  {
   "cell_type": "markdown",
   "metadata": {},
   "source": [
    "**Aufgabe:** \n",
    "\n",
    "- Schreiben Sie eine Funktion. Die Funktion erhält zwei Parameter `a` und `b`, berechnet die Summe und gibt diese zurück. "
   ]
  },
  {
   "cell_type": "code",
   "execution_count": null,
   "metadata": {},
   "outputs": [],
   "source": [
    "# Ihre Loesung"
   ]
  },
  {
   "cell_type": "markdown",
   "metadata": {},
   "source": [
    "- Rufen Sie Ihre Funktion auf. Speichern Sie den Rückgabewert in einer Variablen und geben Sie diese aus."
   ]
  },
  {
   "cell_type": "code",
   "execution_count": null,
   "metadata": {},
   "outputs": [],
   "source": [
    "# Ihre Loesung"
   ]
  },
  {
   "cell_type": "markdown",
   "metadata": {},
   "source": [
    "### 3.3 Mehrere Rückgabewerte"
   ]
  },
  {
   "cell_type": "markdown",
   "metadata": {},
   "source": [
    "Eine Funktion kann mehr als einen Rückgabewert haben. Diese werden alle in **einer einzelnen** `return` Anweisung durch Kommata `,` getrennt, zurückgegeben. "
   ]
  },
  {
   "cell_type": "code",
   "execution_count": null,
   "metadata": {},
   "outputs": [],
   "source": [
    "def beispiel12(a):\n",
    "    hoch2=a**2\n",
    "    hoch3=a**3\n",
    "    return hoch2,hoch3"
   ]
  },
  {
   "cell_type": "markdown",
   "metadata": {},
   "source": [
    "Man kann natürlich auch mehrere Rückgabewerte \"vergessen\":"
   ]
  },
  {
   "cell_type": "code",
   "execution_count": null,
   "metadata": {},
   "outputs": [],
   "source": [
    "beispiel12(2)"
   ]
  },
  {
   "cell_type": "markdown",
   "metadata": {},
   "source": [
    "Wie Sie an der Zeile mit dem `Out[]` erkennen können, werden die Rückgabewerte in Klammern zurückgegeben: `(4,8)`. Hierbei handelt es sich um einen Wert des Typs `tuple`. Diese Datenstruktur werden wir später kennenlernen. Bis dahin geben Sie bei mehreren Rückgabewerten aktuell bitte für jeden Rückgabewert eine Variable an, in die der Wert gespeichert werden soll:"
   ]
  },
  {
   "cell_type": "code",
   "execution_count": null,
   "metadata": {},
   "outputs": [],
   "source": [
    "erg1,erg2=beispiel12(2)\n",
    "print('erg1=',erg1,'erg2=',erg2)"
   ]
  },
  {
   "cell_type": "markdown",
   "metadata": {},
   "source": [
    "Die Angabe von mehr oder weniger Variablen (sofern es nicht nur eine Variable ist) als Rückgabewerte erzeugt Fehler: "
   ]
  },
  {
   "cell_type": "code",
   "execution_count": null,
   "metadata": {},
   "outputs": [],
   "source": [
    "def beispiel13(a):\n",
    "    return a,a**2,a**3"
   ]
  },
  {
   "cell_type": "markdown",
   "metadata": {},
   "source": [
    "- eine Variable: `tuple`"
   ]
  },
  {
   "cell_type": "code",
   "execution_count": null,
   "metadata": {},
   "outputs": [],
   "source": [
    "erg=beispiel13(2)\n",
    "print(erg)"
   ]
  },
  {
   "cell_type": "markdown",
   "metadata": {},
   "source": [
    "- drei Variable, da es sich um drei Rückgabewerte handelt"
   ]
  },
  {
   "cell_type": "code",
   "execution_count": null,
   "metadata": {},
   "outputs": [],
   "source": [
    "a,b,c=beispiel13(2)\n",
    "print(a,b,c)"
   ]
  },
  {
   "cell_type": "markdown",
   "metadata": {},
   "source": [
    "- zu wenig Variable. Bitte notieren Sie sich die Fehlermeldung."
   ]
  },
  {
   "cell_type": "code",
   "execution_count": null,
   "metadata": {},
   "outputs": [],
   "source": [
    "a,b=beispiel13(2)"
   ]
  },
  {
   "cell_type": "markdown",
   "metadata": {},
   "source": [
    "- zu viele Variable. Bitte notieren Sie sich die Fehlermeldung."
   ]
  },
  {
   "cell_type": "code",
   "execution_count": null,
   "metadata": {},
   "outputs": [],
   "source": [
    "a,b,c,d=beispiel13(2)"
   ]
  },
  {
   "cell_type": "markdown",
   "metadata": {},
   "source": [
    "**Aufgabe:**\n",
    "\n",
    "- Schreiben Sie eine Funktion, die 2 Parameter `a` und `b` erhält. Sie berechnet die Summe und die Differenz der beiden Parameter und gibt beide zurück."
   ]
  },
  {
   "cell_type": "code",
   "execution_count": null,
   "metadata": {},
   "outputs": [],
   "source": [
    "# Ihre Loesung"
   ]
  },
  {
   "cell_type": "markdown",
   "metadata": {},
   "source": [
    "- Rufen Sie Ihre Funktion auf. Speichern Sie die Rückgabewerte in zwei Variable und geben Sie diese aus."
   ]
  },
  {
   "cell_type": "code",
   "execution_count": null,
   "metadata": {},
   "outputs": [],
   "source": [
    "# Ihre Loesung"
   ]
  },
  {
   "cell_type": "markdown",
   "metadata": {},
   "source": [
    "*Ende des Notebooks*"
   ]
  },
  {
   "cell_type": "markdown",
   "metadata": {
    "deletable": false,
    "editable": false
   },
   "source": [
    "<a rel=\"license\" href=\"http://creativecommons.org/licenses/by-nc-nd/4.0/\"><img alt=\"Creative Commons Lizenzvertrag\" style=\"border-width:0\" src=\"https://i.creativecommons.org/l/by-nc-nd/4.0/88x31.png\" /></a><br /><span xmlns:dct=\"http://purl.org/dc/terms/\" property=\"dct:title\">Dieses Notebook wurde von Christina B. Class für die Lehre an der EAH Jena erstellt. Es ist lizenziert unter einer <a rel=\"license\" href=\"http://creativecommons.org/licenses/by-nc-nd/4.0/\">Creative Commons Namensnennung - Nicht kommerziell - Keine Bearbeitungen 4.0 International Lizenz</a>."
   ]
  }
 ],
 "metadata": {
  "kernelspec": {
   "display_name": "Python 3 (ipykernel)",
   "language": "python",
   "name": "python3"
  },
  "language_info": {
   "codemirror_mode": {
    "name": "ipython",
    "version": 3
   },
   "file_extension": ".py",
   "mimetype": "text/x-python",
   "name": "python",
   "nbconvert_exporter": "python",
   "pygments_lexer": "ipython3",
   "version": "3.10.13"
  }
 },
 "nbformat": 4,
 "nbformat_minor": 4
}
