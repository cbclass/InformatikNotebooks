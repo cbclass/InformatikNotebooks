{
 "cells": [
  {
   "cell_type": "markdown",
   "metadata": {},
   "source": [
    "Notebook zu Python: Dateiverwaltung\n",
    "\n",
    "Version 1.2, 18. Dezember 2024, Informatik, EAH Jena\n",
    "\n",
    "(c) Christina B. Class\n"
   ]
  },
  {
   "cell_type": "markdown",
   "metadata": {},
   "source": [
    "Die Dateien, die wir in diesem Notebook erzeugen werden, werden in einem Unterordner namens `Dateien` abgelegt. Daher wird vor dem Dateinamen jeweilse `Dateien/` vorangestellt.\n",
    "\n",
    "**Information:** In Programmiersprachen wird in der Regel das `/` als Trennzeichen zwischen Ordnernamen und Ordnernamen und Dateinamen verwendet, nicht das `\\` wie in Windows.\n",
    "\n",
    "**Hinweis:** Bitte stellen Sie sicher, dass sich in dem Ordner `Dateien` **keine**  Dateien namens `beispielNB1.txt`, `beispielNB2.txt`, `beispielNB3.txt` und `beispielNB4.txt` befinden. Gehen Sie in den Ordner und lÖschen Sie die Dateien, sofern sie vorhanden sind.\n",
    "\n",
    "**Hinweis 2:** Bitte arbeiten Sie das Notebook der Reihe nach durch. In Abschnitt 2 werden Dateien gelesen, die in Abschnitt 1 erzeugt wurden."
   ]
  },
  {
   "cell_type": "markdown",
   "metadata": {},
   "source": [
    "# Dateiverwaltung"
   ]
  },
  {
   "cell_type": "markdown",
   "metadata": {},
   "source": [
    "# 1. Schreiben von Dateien"
   ]
  },
  {
   "cell_type": "markdown",
   "metadata": {},
   "source": [
    "Um mit Dateien zu arbeiten, sind folgende Schritte notwendig:\n",
    "1. Öffnen der Datei\n",
    "2. Arbeiten mit der Datei\n",
    "3. Schließen der Datei"
   ]
  },
  {
   "cell_type": "markdown",
   "metadata": {},
   "source": [
    "Beim Öffnen einer Datei muss angegeben werden, was wir mit der Datei tun werden. Hierzu dient der **Dateimodus**. `'w'` zeigt an, dass wir eine Datei zum Schreiben öffnen. Diese wird dann überschrieben (sofern sie schon existiert) bzw. erstellt. Wir öffnen eine Datei mit der Funktion `open()`. "
   ]
  },
  {
   "cell_type": "markdown",
   "metadata": {},
   "source": [
    "Nach Beendigung der Arbeit mit einer Datei, wird diese mit der Methode `close()` geschlossen. In den folgenden Zellen werden wir am Ende die geöffnete(n) Datei(en) immer schließen."
   ]
  },
  {
   "cell_type": "markdown",
   "metadata": {},
   "source": [
    "Der folgende Code öffnet eine Datei namens `beispielNB1.txt` zum Schreiben."
   ]
  },
  {
   "cell_type": "code",
   "execution_count": 6,
   "metadata": {},
   "outputs": [],
   "source": [
    "meinDateiHandle=open('Dateien/beispielNB1.txt','w')\n",
    "meinDateiHandle.close()"
   ]
  },
  {
   "cell_type": "markdown",
   "metadata": {},
   "source": [
    "Wenn Sie nun in den Ordner `Dateien` gehen, werden Sie feststellen, dass die Datei `beispielNB1.txt` erzeugt wurde. Sie ist leer."
   ]
  },
  {
   "cell_type": "markdown",
   "metadata": {},
   "source": [
    "Mit `write()` schreiben wir eine einzelne Zeichenkette in die Datei. Führen Sie folgenden Code aus und sehen Sie sich danach die Datei an. \n",
    "\n",
    "**Hinweis:** Wenn Sie an Ihrem Rechner sind, können Sie direkt in den Ordner gehen, und sich die Datei ansehen. Wenn Sie das Notebook über den Server starten, klicken Sie bitte auf die entsprechende Datei, die Sie in der Übersicht links sehen."
   ]
  },
  {
   "cell_type": "code",
   "execution_count": 7,
   "metadata": {},
   "outputs": [],
   "source": [
    "meinDateiHandle=open('Dateien/beispielNB1.txt','w')\n",
    "meinDateiHandle.write('Hallo Welt!')\n",
    "meinDateiHandle.close()"
   ]
  },
  {
   "cell_type": "markdown",
   "metadata": {},
   "source": [
    "Bitte beachten Sie, dass die Methode `write()` keinen Zeilenumbruch oder Leerzeichen an das Ende des geschriebenen Zeichenkette einfügt. Führen Sie folgenden Code aus und sehen Sie sich danach die Datei an:"
   ]
  },
  {
   "cell_type": "code",
   "execution_count": 8,
   "metadata": {},
   "outputs": [],
   "source": [
    "meinDateiHandle=open('Dateien/beispielNB1.txt','w')\n",
    "meinDateiHandle.write('Hallo')\n",
    "meinDateiHandle.write('Welt!')\n",
    "meinDateiHandle.write(\"Wie geht's?\")\n",
    "meinDateiHandle.close()"
   ]
  },
  {
   "cell_type": "markdown",
   "metadata": {},
   "source": [
    "Leerzeichen und Zeilenumbrüche müssen Sie selber in die Datei schreiben. Hierbei ist `\\n` das Zeichen für den Zeilenumbruch. Man sollte am Ende des letzen Eintrags in einer Datei auch immer den Zeilenumbruch hinzufügen. Führen Sie folgenden Code aus und sehen Sie sich danach die Datei an:"
   ]
  },
  {
   "cell_type": "code",
   "execution_count": 9,
   "metadata": {},
   "outputs": [],
   "source": [
    "meinDateiHandle=open('Dateien/beispielNB1.txt','w')\n",
    "meinDateiHandle.write('Hallo ')\n",
    "meinDateiHandle.write('Welt!\\n')\n",
    "meinDateiHandle.write(\"Wie geht's?\\n\")\n",
    "meinDateiHandle.close()"
   ]
  },
  {
   "cell_type": "markdown",
   "metadata": {},
   "source": [
    "Wenn man die einzelnen Zeichenketten, die mit `write()` in die Datei geschrieben werden sollen, in eine Liste schreibt, kann man auch die Methode `writelines()` verwenden. Führen Sie folgenden Code aus und sehen Sie sich danach die Datei an:"
   ]
  },
  {
   "cell_type": "code",
   "execution_count": 10,
   "metadata": {},
   "outputs": [],
   "source": [
    "worte=['Hallo ','Welt!\\n',\"Wie geht's?\\n\"]\n",
    "meinDateiHandle=open('Dateien/beispielNB1.txt','w')\n",
    "meinDateiHandle.writelines(worte)\n",
    "meinDateiHandle.close()"
   ]
  },
  {
   "cell_type": "markdown",
   "metadata": {},
   "source": [
    "**Aufgabe:** Schreiben Sie Ihren Namen und Ihre Adresse in eine Datei namens `beispielNB2.txt`. Denken Sie daran, `Dateien/` zu Beginn des Dateinamnens zu schreiben, damit die Datei im Ordner `Dateien` erzeugt wird.\n",
    "Formatieren Sie die Adresse in mehreren Zeilen."
   ]
  },
  {
   "cell_type": "code",
   "execution_count": 11,
   "metadata": {},
   "outputs": [],
   "source": [
    "# Ihr Code"
   ]
  },
  {
   "cell_type": "markdown",
   "metadata": {},
   "source": [
    "# 2. Lesen von Dateien"
   ]
  },
  {
   "cell_type": "markdown",
   "metadata": {},
   "source": [
    "`'r'` bezeichnet den Dateimodus, um eine Datei zum Lesen zu öffnen. "
   ]
  },
  {
   "cell_type": "markdown",
   "metadata": {},
   "source": [
    "Die Methode `read()` liest den Inhalt einer ganzen Datei und speichert ihn in einer Zeichenkette ab.\n",
    "Führen Sie folgenden Code aus. (Dieser funktioniert nur, wenn Sie den Code aus Abschnitt 1 ausgeführt haben und somit die Datei `beispielNB1.txt` erzeugt haben.)"
   ]
  },
  {
   "cell_type": "code",
   "execution_count": 12,
   "metadata": {},
   "outputs": [],
   "source": [
    "meinDateiHandle=open('Dateien/beispielNB1.txt','r')\n",
    "inhalt=meinDateiHandle.read()\n",
    "meinDateiHandle.close()"
   ]
  },
  {
   "cell_type": "markdown",
   "metadata": {},
   "source": [
    "Sehen Sie sich nun zum einem den String direkt an (einschliesslich der Sonderzeichen für die Zeilenumbrüche):"
   ]
  },
  {
   "cell_type": "code",
   "execution_count": 13,
   "metadata": {},
   "outputs": [
    {
     "data": {
      "text/plain": [
       "\"Hallo Welt!\\nWie geht's?\\n\""
      ]
     },
     "execution_count": 13,
     "metadata": {},
     "output_type": "execute_result"
    }
   ],
   "source": [
    "inhalt"
   ]
  },
  {
   "cell_type": "markdown",
   "metadata": {},
   "source": [
    "Und einmal als Ausgabe mit `print()`:"
   ]
  },
  {
   "cell_type": "code",
   "execution_count": 14,
   "metadata": {},
   "outputs": [
    {
     "name": "stdout",
     "output_type": "stream",
     "text": [
      "Hallo Welt!\n",
      "Wie geht's?\n",
      "\n"
     ]
    }
   ],
   "source": [
    "print(inhalt)"
   ]
  },
  {
   "cell_type": "markdown",
   "metadata": {},
   "source": [
    "Mit `readlines()` wird die gesamte Datei gelesen und der Inhalt zeilenweise in eine Liste gescrhieben:"
   ]
  },
  {
   "cell_type": "code",
   "execution_count": 15,
   "metadata": {},
   "outputs": [],
   "source": [
    "meinDateiHandle=open('Dateien/beispielNB1.txt','r')\n",
    "inhaltAlsListe=meinDateiHandle.readlines()\n",
    "meinDateiHandle.close()"
   ]
  },
  {
   "cell_type": "markdown",
   "metadata": {},
   "source": [
    "Diesen können wir dann ansehen:"
   ]
  },
  {
   "cell_type": "code",
   "execution_count": 16,
   "metadata": {},
   "outputs": [
    {
     "data": {
      "text/plain": [
       "['Hallo Welt!\\n', \"Wie geht's?\\n\"]"
      ]
     },
     "execution_count": 16,
     "metadata": {},
     "output_type": "execute_result"
    }
   ],
   "source": [
    "inhaltAlsListe"
   ]
  },
  {
   "cell_type": "markdown",
   "metadata": {},
   "source": [
    "Oder mit einer Schleife ausgeben:"
   ]
  },
  {
   "cell_type": "code",
   "execution_count": 17,
   "metadata": {},
   "outputs": [
    {
     "name": "stdout",
     "output_type": "stream",
     "text": [
      "Zeile: Hallo Welt!\n",
      "\n",
      "Zeile: Wie geht's?\n",
      "\n"
     ]
    }
   ],
   "source": [
    "for z in inhaltAlsListe:\n",
    "    print('Zeile:',z)"
   ]
  },
  {
   "cell_type": "markdown",
   "metadata": {},
   "source": [
    "Hier sehen Sie, dass zwischen jeder Ausgabe eine Leerzeile vorhanden ist. Dies liegt daran, dass Sie in der Datei den Zeilenumbruch abspeichern und `print()` nach jeder Ausgabe auch einen Zeilenumbruch hinzufügt."
   ]
  },
  {
   "cell_type": "markdown",
   "metadata": {},
   "source": [
    "Die Methode `rstrip()` von `str` entfernt (ohne Angabe optionaler Parameter) Leerzeichen und Zeilenumbrüche am Ende eines Strings. Wir können die in der Datei vorhandenen Zeilenumbrüche also entfernen, bevor wir die Zeichenketten weiter verarbeiten:"
   ]
  },
  {
   "cell_type": "code",
   "execution_count": 18,
   "metadata": {},
   "outputs": [
    {
     "name": "stdout",
     "output_type": "stream",
     "text": [
      "Zeile: Hallo Welt!\n",
      "Zeile: Wie geht's?\n"
     ]
    }
   ],
   "source": [
    "for z in inhaltAlsListe:\n",
    "    zOhneZeilenumbruch=z.rstrip()\n",
    "    print('Zeile:',zOhneZeilenumbruch)"
   ]
  },
  {
   "cell_type": "markdown",
   "metadata": {},
   "source": [
    "Die Methode `readline()` liest jeweils eine Zeile der Datei und gibt diese zurück. Wenn die Datei am Ende ist, gibt sie den leeren String zurück (`''`). Lesen der Datei mit `readline()` und Ausgabe des Inhaltes:"
   ]
  },
  {
   "cell_type": "code",
   "execution_count": 19,
   "metadata": {},
   "outputs": [
    {
     "name": "stdout",
     "output_type": "stream",
     "text": [
      "Hallo Welt!\n",
      "\n",
      "Wie geht's?\n",
      "\n"
     ]
    }
   ],
   "source": [
    "fp=open('Dateien/beispielNB1.txt','r')\n",
    "line=fp.readline()\n",
    "while (line!=''):\n",
    "    print(line)\n",
    "    line=fp.readline()\n",
    "fp.close()"
   ]
  },
  {
   "cell_type": "markdown",
   "metadata": {},
   "source": [
    "**Aufgabe:** Öffnen Sie die Datei `beispielNB2.txt` mit Ihrer Adresse und geben Sie die Adresse auf dem Bildschirm aus."
   ]
  },
  {
   "cell_type": "code",
   "execution_count": 20,
   "metadata": {},
   "outputs": [],
   "source": [
    "# Ihr Code"
   ]
  },
  {
   "cell_type": "markdown",
   "metadata": {},
   "source": [
    "# 3. Verwendung von mehreren Dateien"
   ]
  },
  {
   "cell_type": "markdown",
   "metadata": {},
   "source": [
    "Wir können in einem Codesegment natürlich mehrere Dateien gleichzeitig öffnen. Im folgenden Codesegment öffnen wir die Datei `beispielNB1.txt` und schreiben den Inhalt in die Datei `beispielNB3.txt`. Führen Sie folgenden Code aus und sehen Sie sich die Datei `beispielNB3.txt` an."
   ]
  },
  {
   "cell_type": "code",
   "execution_count": 21,
   "metadata": {},
   "outputs": [],
   "source": [
    "leseDatei=open('Dateien/beispielNB1.txt','r')\n",
    "inhalt=leseDatei.read()\n",
    "leseDatei.close()\n",
    "schreibDatei=open('Dateien/beispielNB3.txt','w')\n",
    "schreibDatei.write(inhalt)\n",
    "schreibDatei.close()"
   ]
  },
  {
   "cell_type": "markdown",
   "metadata": {},
   "source": [
    "In folgendem Code kopieren wir den Inhalt der Datei und schreiben zu Beginn jeder Zeile die Zeilennummer gefolgt von einem Doppelpunkt und einem Leerzeichen:"
   ]
  },
  {
   "cell_type": "code",
   "execution_count": 22,
   "metadata": {},
   "outputs": [],
   "source": [
    "leseDatei=open('Dateien/beispielNB1.txt','r')\n",
    "inhalt=leseDatei.readlines()\n",
    "leseDatei.close()\n",
    "schreibDatei=open('Dateien/beispielNB3.txt','w')\n",
    "zeile=1\n",
    "for z in inhalt:\n",
    "    schreibDatei.write(str(zeile)+': '+z)\n",
    "    zeile+=1\n",
    "schreibDatei.close()"
   ]
  },
  {
   "cell_type": "markdown",
   "metadata": {},
   "source": [
    "In einer Zeile stehen mehrere Worte. Wir können diese einzelnen Worte mit der `str` Methode `split()` trennen, die eine Liste zurückgibt. Defaultmässig verwendet `split()` Leerzeichen (einschl. Zeilenumbrüchen) zum Trennen. Die Zeichen selber werden entfernt."
   ]
  },
  {
   "cell_type": "code",
   "execution_count": 23,
   "metadata": {},
   "outputs": [
    {
     "name": "stdout",
     "output_type": "stream",
     "text": [
      "['mein', 'Name', 'ist', 'Hase']\n"
     ]
    }
   ],
   "source": [
    "liste='mein Name ist Hase'.split()\n",
    "print(liste)"
   ]
  },
  {
   "cell_type": "markdown",
   "metadata": {},
   "source": [
    "Hier trenne ich z.B. an den `'n'`:"
   ]
  },
  {
   "cell_type": "code",
   "execution_count": 24,
   "metadata": {},
   "outputs": [
    {
     "name": "stdout",
     "output_type": "stream",
     "text": [
      "['Ei', 'e', ' Satz a', ' de', ' ', ' zu tre', '', 'e', ' ergibt ei', 'e', ' seltsame', ' Effekt.']\n"
     ]
    }
   ],
   "source": [
    "liste='Einen Satz an den n zu trennen ergibt einen seltsamen Effekt.'.split(sep='n')\n",
    "print(liste)"
   ]
  },
  {
   "cell_type": "markdown",
   "metadata": {},
   "source": [
    "Der folgende Code kopiert die einzelnen Worte (einschl. Satzzeichen) zeilenweise in die zweite Datei:"
   ]
  },
  {
   "cell_type": "code",
   "execution_count": 25,
   "metadata": {},
   "outputs": [],
   "source": [
    "leseDatei=open('Dateien/beispielNB1.txt','r')\n",
    "inhalt=leseDatei.readlines()\n",
    "leseDatei.close()\n",
    "schreibDatei=open('Dateien/beispielNB3.txt','w')\n",
    "for z in inhalt:\n",
    "    worte=z.split()\n",
    "    for w in worte:\n",
    "        schreibDatei.write(w+'\\n')\n",
    "schreibDatei.close()"
   ]
  },
  {
   "cell_type": "markdown",
   "metadata": {},
   "source": [
    "**Aufgabe:** Kopieren Sie Ihre Adresse aus der Datei `beispielNB2.txt` in die Datei `beispielNB4.txt`. Verändern Sie ruhig die Information, indem Sie z.B. einzelne Zeilennummern angeben."
   ]
  },
  {
   "cell_type": "code",
   "execution_count": 26,
   "metadata": {},
   "outputs": [],
   "source": [
    "# Ihr Code"
   ]
  },
  {
   "cell_type": "markdown",
   "metadata": {},
   "source": [
    "# 4. `with` "
   ]
  },
  {
   "cell_type": "markdown",
   "metadata": {},
   "source": [
    "Mit `with` wird ein **Kontext** definiert, in dem bestimmte Bedingungen gelten. Aus einer Datei kann zum Beispiel nur gelesen werden, wenn diese zuvor geöffnet wurde. Auch gilt, dass die Datei nach Ende des Lesens geschlossen werden sollte. Dateien sind sogenannte Kontextobjekte, die definieren, wie der notwendige Kontext hergestelt wird (`open()`) und beendet wird (`close()`). \n",
    "\n",
    "Alle Anweisungen, die innerhalb eines Kontexts ausgeführt werden, werden eingerückt. "
   ]
  },
  {
   "cell_type": "markdown",
   "metadata": {},
   "source": [
    "`with` wird gerade im Zusammenhang mit Dateien oft verwendet, da der Code etwas kompakter ist, und sichergestellt wird, dass die Datei am Ende geschlossen wird."
   ]
  },
  {
   "cell_type": "code",
   "execution_count": 27,
   "metadata": {},
   "outputs": [
    {
     "name": "stdout",
     "output_type": "stream",
     "text": [
      "Zeile: Hallo Welt!\n",
      "Zeile: Wie geht's?\n"
     ]
    }
   ],
   "source": [
    "# Code ohne with\n",
    "meinDateiHandle=open('Dateien/beispielNB1.txt','r')\n",
    "inhaltAlsListe=meinDateiHandle.readlines()\n",
    "# die Datei muss explizit geschlossen werden\n",
    "meinDateiHandle.close()\n",
    "for z in inhaltAlsListe:\n",
    "    zOhneZeilenumbruch=z.rstrip()\n",
    "    print('Zeile:',zOhneZeilenumbruch)"
   ]
  },
  {
   "cell_type": "code",
   "execution_count": 28,
   "metadata": {},
   "outputs": [
    {
     "name": "stdout",
     "output_type": "stream",
     "text": [
      "Zeile: Hallo Welt!\n",
      "Zeile: Wie geht's?\n"
     ]
    }
   ],
   "source": [
    "# Code mit with\n",
    "with open('Dateien/beispielNB1.txt','r') as meinDateiHandle:\n",
    "    inhaltAlsListe=meinDateiHandle.readlines()\n",
    "# hier existiert die Variable meinDateiHandle noch, verweist aber auf eine\n",
    "# geschlossene Datei\n",
    "for z in inhaltAlsListe:\n",
    "    zOhneZeilenumbruch=z.rstrip()\n",
    "    print('Zeile:',zOhneZeilenumbruch)"
   ]
  },
  {
   "cell_type": "markdown",
   "metadata": {},
   "source": [
    "*Ende des Notebooks*"
   ]
  },
  {
   "cell_type": "markdown",
   "metadata": {
    "deletable": false,
    "editable": false
   },
   "source": [
    "<a rel=\"license\" href=\"http://creativecommons.org/licenses/by-nc-nd/4.0/\"><img alt=\"Creative Commons Lizenzvertrag\" style=\"border-width:0\" src=\"https://i.creativecommons.org/l/by-nc-nd/4.0/88x31.png\" /></a><br /><span xmlns:dct=\"http://purl.org/dc/terms/\" property=\"dct:title\">Dieses Notebook wurde von Christina B. Class für die Lehre an der EAH Jena erstellt. Es ist lizenziert unter einer <a rel=\"license\" href=\"http://creativecommons.org/licenses/by-nc-nd/4.0/\">Creative Commons Namensnennung - Nicht kommerziell - Keine Bearbeitungen 4.0 International Lizenz</a>.\n"
   ]
  }
 ],
 "metadata": {
  "kernelspec": {
   "display_name": "Python 3 (ipykernel)",
   "language": "python",
   "name": "python3"
  },
  "language_info": {
   "codemirror_mode": {
    "name": "ipython",
    "version": 3
   },
   "file_extension": ".py",
   "mimetype": "text/x-python",
   "name": "python",
   "nbconvert_exporter": "python",
   "pygments_lexer": "ipython3",
   "version": "3.10.10"
  }
 },
 "nbformat": 4,
 "nbformat_minor": 4
}
